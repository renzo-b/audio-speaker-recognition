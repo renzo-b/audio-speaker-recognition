{
  "cells": [
    {
      "cell_type": "markdown",
      "id": "lgjxGVel_uOL",
      "metadata": {
        "id": "lgjxGVel_uOL"
      },
      "source": [
        "Use python 3.10 in google colab"
      ]
    },
    {
      "cell_type": "code",
      "execution_count": 69,
      "id": "lV9KgPCs_gIS",
      "metadata": {
        "colab": {
          "base_uri": "https://localhost:8080/"
        },
        "id": "lV9KgPCs_gIS",
        "outputId": "2b121714-1639-45aa-a7e9-427dfff9bb9d"
      },
      "outputs": [
        {
          "name": "stderr",
          "output_type": "stream",
          "text": [
            "'wget' is not recognized as an internal or external command,\n",
            "operable program or batch file.\n",
            "'bash' is not recognized as an internal or external command,\n",
            "operable program or batch file.\n"
          ]
        },
        {
          "name": "stdout",
          "output_type": "stream",
          "text": [
            "Installed kernelspec py310 in C:\\Users\\William Hazen\\AppData\\Roaming\\jupyter\\kernels\\py310\n"
          ]
        }
      ],
      "source": [
        "!wget https://github.com/korakot/kora/releases/download/v0.10/py310.sh\n",
        "!bash ./py310.sh -b -f -p /usr/local\n",
        "!python -m ipykernel install --name \"py310\" --user"
      ]
    },
    {
      "cell_type": "code",
      "execution_count": 1,
      "id": "ec6e5067-2050-4ba3-a4b1-a0d9122bc44c",
      "metadata": {
        "id": "ec6e5067-2050-4ba3-a4b1-a0d9122bc44c"
      },
      "outputs": [
        {
          "name": "stderr",
          "output_type": "stream",
          "text": [
            "c:\\Users\\David\\anaconda3\\envs\\speaker-recon\\lib\\site-packages\\tqdm\\auto.py:22: TqdmWarning: IProgress not found. Please update jupyter and ipywidgets. See https://ipywidgets.readthedocs.io/en/stable/user_install.html\n",
            "  from .autonotebook import tqdm as notebook_tqdm\n"
          ]
        }
      ],
      "source": [
        "import copy\n",
        "\n",
        "import librosa\n",
        "import matplotlib.pyplot as plt\n",
        "import numpy as np\n",
        "import pandas as pd\n",
        "import torch\n",
        "import torch.nn as nn\n",
        "import torch.nn.functional as F\n",
        "from torchsummary import summary\n",
        "from typing import Union\n",
        "from torch.utils.data import Subset\n",
        "import time\n",
        "from tqdm import tqdm\n",
        "from torchvision import transforms, models\n",
        "from PIL import Image\n",
        "\n",
        "from sklearn.model_selection import train_test_split\n",
        "from torch.utils.data import DataLoader, Dataset"
      ]
    },
    {
      "cell_type": "markdown",
      "id": "czsFW4P890us",
      "metadata": {
        "id": "czsFW4P890us"
      },
      "source": [
        "## SRC: datasets\n",
        "\n"
      ]
    },
    {
      "cell_type": "code",
      "execution_count": 2,
      "id": "ie2tb_P--OrQ",
      "metadata": {
        "id": "ie2tb_P--OrQ"
      },
      "outputs": [],
      "source": [
        "import os\n",
        "import torchaudio\n",
        "\n",
        "def get_dataset(dataset_name, url = None, subset = None):\n",
        "    \"\"\"\n",
        "    Retrieves a dataset and downloads it locally if needed.\n",
        "        \n",
        "    Inputs\n",
        "    ------\n",
        "    dataset_name : str\n",
        "        Name of the dataset to download. Allowed dataset names: \"librispeech\", \"librilightlimited\", \"tedlium\"\n",
        "    \n",
        "    url : (str, optional)\n",
        "        Optional argument for some datasets \n",
        "    \n",
        "    subset : (str, optional)\n",
        "        Optional argument for some datasets \n",
        "    \n",
        "    Returns\n",
        "    -------\n",
        "    dataset :\n",
        "        A torchaudio.dataset\n",
        "    \n",
        "    \"\"\"\n",
        "    _SAMPLE_DIR = \"_assets\"\n",
        "    dataset_name = dataset_name.lower()\n",
        "    dataset_path = os.path.join(_SAMPLE_DIR, dataset_name)\n",
        "    os.makedirs(dataset_path, exist_ok=True)\n",
        "        \n",
        "    if dataset_name == \"librispeech\":\n",
        "        url = url if url else \"dev-clean\"\n",
        "        print(f\"You're about to download librispeech with url {url}\")\n",
        "        dataset = torchaudio.datasets.LIBRISPEECH(dataset_path, download=True, url=url)\n",
        "    \n",
        "    elif dataset_name == \"librilightlimited\":\n",
        "        subset = subset if subset else \"10min\"\n",
        "        print(f\"You're about to download librispeech with subset {subset}\")\n",
        "        dataset = torchaudio.datasets.LibriLightLimited(dataset_path, download=True, subset=subset)\n",
        "        \n",
        "    elif dataset_name == \"tedlium\":\n",
        "        subset = subset if subset else \"train\"\n",
        "        print(f\"You're about to download Tedlium with subset {subset}\")\n",
        "        dataset = torchaudio.datasets.TEDLIUM(dataset_path, download=True, subset=subset)\n",
        "    \n",
        "    else:\n",
        "        raise ValueError(f\"The dataset you passed '{dataset_name}' is not in the list of datasets\")\n",
        "    \n",
        "    print(\"\\n Done downloading\")\n",
        "    return dataset "
      ]
    },
    {
      "cell_type": "markdown",
      "id": "O85UbzGv91O1",
      "metadata": {
        "id": "O85UbzGv91O1"
      },
      "source": [
        "## SRC: Visualization\n",
        "\n"
      ]
    },
    {
      "cell_type": "code",
      "execution_count": 3,
      "id": "pe5oWUQx-PGo",
      "metadata": {
        "id": "pe5oWUQx-PGo"
      },
      "outputs": [],
      "source": [
        "#import os\n",
        "from random import randint\n",
        "\n",
        "import librosa\n",
        "import librosa.display\n",
        "import matplotlib.pyplot as plt\n",
        "import numpy as np\n",
        "import pandas as pd\n",
        "import torch\n",
        "#import torchaudio\n",
        "from IPython.display import Audio, display\n",
        "\n",
        "\n",
        "#Get a random video clip from dataset\n",
        "def get_random_sample(dataset):\n",
        "    \"\"\"\n",
        "    Takes a random sample in the dataset and return its waveform and sample rate\n",
        "    \"\"\"\n",
        "    dataset_length = dataset.__len__()\n",
        "    # get a random sample in the dataset\n",
        "    sample_id = randint(0, dataset_length)\n",
        "    (waveform, sample_rate, transcript, speaker_id, chapter_id, utterance_id) = dataset.__getitem__(sample_id)\n",
        "    \n",
        "    return waveform, sample_rate\n",
        "    \n",
        "def plot_mfccs(waveform, sample_rate):\n",
        "    wv_processed = waveform.numpy().flatten()\n",
        "    mfccs = librosa.feature.mfcc(y=wv_processed, n_mfcc=13, sr=sample_rate)\n",
        "    plt.figure(figsize=(15, 8))\n",
        "    librosa.display.specshow(mfccs, x_axis=\"time\", sr=sample_rate)\n",
        "    #plt.colorbar(format=\"%+2.f\")\n",
        "    plt.show()\n",
        "    \n",
        "    \n",
        "    \n",
        "def play_audio(waveform : torch.Tensor, sample_rate : int) -> None:\n",
        "    \"\"\"\n",
        "    Plays audio given a waveform and sample rate\n",
        "    \n",
        "    \"\"\"\n",
        "    waveform = waveform.numpy()\n",
        "\n",
        "    num_channels, num_frames = waveform.shape\n",
        "    if num_channels == 1:\n",
        "        display(Audio(waveform[0], rate=sample_rate))\n",
        "    elif num_channels == 2:\n",
        "        display(Audio((waveform[0], waveform[1]), rate=sample_rate))\n",
        "    else:\n",
        "        raise ValueError(\"Waveform with more than 2 channels are not supported.\")\n",
        "        \n",
        "def plot_specgram(waveform : torch.Tensor, sample_rate : int , title : str =\"Spectrogram\", xlim=None) -> None:\n",
        "    \"\"\"\n",
        "    Plots a spectogram of audio given a waveform and sample rate\n",
        "    \"\"\"\n",
        "    waveform = waveform.numpy()\n",
        "\n",
        "    num_channels, num_frames = waveform.shape\n",
        "\n",
        "    figure, axes = plt.subplots(num_channels, 1)\n",
        "    if num_channels == 1:\n",
        "        axes = [axes]\n",
        "    for c in range(num_channels):\n",
        "        axes[c].specgram(waveform[c], Fs=sample_rate)\n",
        "        if num_channels > 1:\n",
        "            axes[c].set_ylabel(f\"Channel {c+1}\")\n",
        "        if xlim:\n",
        "            axes[c].set_xlim(xlim)\n",
        "    figure.suptitle(title)\n",
        "    plt.show(block=False)\n",
        "    \n",
        "def plot_waveform(waveform, sample_rate, title = \"Waveform\", xlim = None, ylim = None):\n",
        "    \"\"\"\n",
        "    Plots the waveform of an audio sample\n",
        "    \"\"\"\n",
        "    waveform = waveform.numpy()\n",
        "\n",
        "    num_channels, num_frames = waveform.shape\n",
        "    time_axis = torch.arange(0, num_frames) / sample_rate\n",
        "\n",
        "    figure, axes = plt.subplots(num_channels, 1)\n",
        "    if num_channels == 1:\n",
        "        axes = [axes]\n",
        "    for c in range(num_channels):\n",
        "        axes[c].plot(time_axis, waveform[c], linewidth=1)\n",
        "        axes[c].grid(True)\n",
        "    if num_channels > 1:\n",
        "        axes[c].set_ylabel(f'Channel {c+1}')\n",
        "    if xlim:\n",
        "        axes[c].set_xlim(xlim)\n",
        "    if ylim:\n",
        "        axes[c].set_ylim(ylim)\n",
        "    figure.suptitle(title)\n",
        "    plt.show(block=False)\n",
        "    \n",
        "def visualize_random_sample(dataset, play_waveform = True, plot_wave = False, plot_spectogram = False):\n",
        "    \"\"\"\n",
        "    Takes a random sample in the dataset and displays relevant metrics\n",
        "    \"\"\"\n",
        "    dataset_length = dataset.__len__()\n",
        "    # get a random sample in the dataset\n",
        "    sample_id = randint(0, dataset_length)\n",
        "    (waveform, sample_rate, transcript, speaker_id, chapter_id, utterance_id) = dataset.__getitem__(sample_id)\n",
        "    print('waveform: ', waveform)\n",
        "    print('sample_rate: ', sample_rate)\n",
        "    print('transcript: ', transcript)\n",
        "    print('speaker_id: ', speaker_id)\n",
        "    \n",
        "    if play_waveform:\n",
        "        play_audio(waveform, sample_rate)\n",
        "        \n",
        "    if plot_wave:\n",
        "        plot_waveform(waveform, sample_rate)\n",
        "    \n",
        "    if plot_spectogram:\n",
        "        plot_specgram(waveform, sample_rate, title=f\"Sample {sample_id}, Speaker_id {speaker_id}\")\n",
        "        \n",
        "def calculate_statistics(dataset) -> pd.DataFrame:\n",
        "    \"\"\"\n",
        "    Calculates and plots statistics about the dataset\n",
        "    \n",
        "    Inputs\n",
        "    ------\n",
        "    dataset :\n",
        "        The dataset to calculate statistics for\n",
        "        \n",
        "    verbose : bool\n",
        "        If true, it will print the statistics\n",
        "        \n",
        "    Returns\n",
        "    -------\n",
        "    df_info : pd.DataFrame\n",
        "        A dataframe with statistics about the dataset. Can be used to make your own statistics\n",
        "    \"\"\"\n",
        "    print(f\"Dataset has {dataset.__len__()} samples\")\n",
        "    print(f\"Random samples has shape: {dataset.__getitem__(0)[0].shape}\")\n",
        "    \n",
        "    waveform_lengths = []\n",
        "    sample_rates = []\n",
        "    transcript_lengths = []\n",
        "    speaker_ids = []\n",
        "    audio_durations = []    \n",
        "    \n",
        "    for i in range(dataset.__len__()):\n",
        "        (waveform, sample_rate, transcript, speaker_id, chapter_id, utterance_id) = dataset.__getitem__(i)\n",
        "        waveform_lengths.append(waveform[0].shape[0])\n",
        "        sample_rates.append(sample_rate)\n",
        "        transcript_lengths.append(len(transcript))\n",
        "        speaker_ids.append(speaker_id)\n",
        "        \n",
        "        num_channels, num_frames = waveform.shape\n",
        "        duration = num_frames / sample_rate\n",
        "        audio_durations.append(duration)\n",
        "        \n",
        "    dataset_stats = pd.DataFrame.from_dict(\n",
        "    {\n",
        "        \"waveform_lengths\" : waveform_lengths,\n",
        "        \"sample_rates\" : sample_rates,\n",
        "        \"transcript_lengths\" : transcript_lengths,\n",
        "        \"audio_durations\" : audio_durations,\n",
        "    }\n",
        "    )\n",
        "    \n",
        "    print(f\"Unique speaker ids: {len(np.unique(speaker_ids))}\")\n",
        "    display(dataset_stats.describe().loc[[\"min\",\"std\",\"min\",\"max\"]].round())\n",
        "    print(\"\\n\")\n",
        "    \n",
        "    # plotting:\n",
        "    fig, ax = plt.subplots(1, dataset_stats.shape[1], figsize=(12, 6))\n",
        "    for i, col in enumerate(dataset_stats.columns):\n",
        "        ax[i].boxplot(dataset_stats[col])\n",
        "        ax[i].set_title(col)\n",
        "    plt.tight_layout()\n",
        "    \n",
        "    plt.figure(figsize=(6, 6))\n",
        "    plt.scatter(dataset_stats[\"waveform_lengths\"], dataset_stats[\"transcript_lengths\"])\n",
        "    plt.xlabel(\"waveform_lengths\")\n",
        "    plt.ylabel(\"transcript_lengths\")\n",
        "    \n",
        "    return dataset_stats"
      ]
    },
    {
      "cell_type": "markdown",
      "id": "SdjUDCCV91Ag",
      "metadata": {
        "id": "SdjUDCCV91Ag"
      },
      "source": [
        "## SRC: Audio_utils\n",
        "\n",
        "\n",
        "\n"
      ]
    },
    {
      "cell_type": "code",
      "execution_count": 4,
      "id": "uz1zYArU-Pf2",
      "metadata": {
        "id": "uz1zYArU-Pf2"
      },
      "outputs": [],
      "source": [
        "from typing import Union\n",
        "\n",
        "import numpy as np\n",
        "import numpy.typing as npt\n",
        "import pandas as pd\n",
        "from tqdm import tqdm\n",
        "\n",
        "\n",
        "def split_waveform(waveform, window_size):\n",
        "    \"\"\"\n",
        "    Takes an original waveform and reduce to chunks of smaller intervals using a sliding window\n",
        "    \n",
        "    waveform : nd.array\n",
        "    \n",
        "    window_size : int\n",
        "        window size in seconds\n",
        "    \n",
        "    Returns\n",
        "    -------\n",
        "    splitted_waveform : list[nd.array]\n",
        "        list of waveforms\n",
        "    \n",
        "    \"\"\"\n",
        "    splitted_waveform = []\n",
        "    \n",
        "    for i in range(0, len(waveform), window_size):\n",
        "        split = waveform[i:i+window_size]\n",
        "        if len(split) == window_size:\n",
        "            splitted_waveform.append(split)\n",
        "\n",
        "    return splitted_waveform\n",
        "\n",
        "class CepstralNormalization:\n",
        "    def __init__(self, number_spectral_coefficients : int):\n",
        "        \"\"\"\n",
        "        Class for Cepstral Normalization. Cepstral normalization performs normalization\n",
        "        by channels/coefficients\n",
        "        \"\"\"\n",
        "        self.number_spectral_coefficients = number_spectral_coefficients\n",
        "        self.mfcc_mean : list[float] = []\n",
        "        self.mfcc_std : list[float] = []\n",
        "    \n",
        "    def fit(self, mfcc_ids, mfcc_channel_db):\n",
        "        \"\"\"\n",
        "        Calculates the mean and standard deviation of each channel of the MFCCs\n",
        "        \n",
        "        Inputs\n",
        "        ------\n",
        "        mfcc_ids : list[int]\n",
        "            list of the mfcc ids to use for fitting\n",
        "\n",
        "        mfcc_channel_db : pd.DataFrame\n",
        "            A dataframe of the following shape\n",
        "\n",
        "                    channel_1 | channel 2 | channel 3 | ...\n",
        "            mfcc_id\n",
        "\n",
        "        Returns\n",
        "        -------\n",
        "        mfcc_mean : list[float]\n",
        "            A list with the mean value of each channel\n",
        "        \n",
        "        mfcc_std : list[float]\n",
        "            A list with the standard deviation value of each channel\n",
        "\n",
        "        \"\"\"\n",
        "        mfcc_mean = []\n",
        "        mfcc_std = []\n",
        "        \n",
        "        print('Normalizing...')\n",
        "        for channel in tqdm(range(self.number_spectral_coefficients)):\n",
        "            channel_data = mfcc_channel_db.loc[mfcc_ids][f\"channel_{channel}\"].values\n",
        "            channel_data_list = []\n",
        "            for x in channel_data:\n",
        "                channel_data_list.extend(x.flatten().tolist())\n",
        "            \n",
        "            mfcc_mean.append(np.mean(channel_data_list))\n",
        "            mfcc_std.append(np.std(channel_data_list))\n",
        "\n",
        "        self.mfcc_mean, self.mfcc_std = mfcc_mean, mfcc_std\n",
        "        \n",
        "        return self.mfcc_mean, self.mfcc_std\n",
        "    \n",
        "    def transform(self, mfcc_ids, mfcc_channel_db):\n",
        "        \"\"\"\n",
        "        Normalizes MFCCs\n",
        "\n",
        "        Inputs\n",
        "        ------\n",
        "        mfcc_ids : list[int]\n",
        "            list of the mfcc ids to normalize\n",
        "\n",
        "        mfcc_channel_db : pd.DataFrame\n",
        "            A dataframe of the following shape\n",
        "\n",
        "                    channel_1 | channel 2 | channel 3 | ...\n",
        "            mfcc_id\n",
        "\n",
        "        Returns\n",
        "        -------\n",
        "        mfcc_channel_db : pd.DataFrame\n",
        "            normalized dataframe\n",
        "\n",
        "        \"\"\"                \n",
        "        normalized_mfcc_channel_db = pd.DataFrame(data=mfcc_ids, columns=['mfcc_id']).set_index('mfcc_id')\n",
        "\n",
        "        for channel in range(self.number_spectral_coefficients):\n",
        "            channel_data = mfcc_channel_db.loc[mfcc_ids][f\"channel_{channel}\"].values\n",
        "            channel_data = (channel_data - self.mfcc_mean[channel]) / self.mfcc_std[channel]\n",
        "            normalized_mfcc_channel_db[f\"channel_{channel}\"] = channel_data\n",
        "            \n",
        "        return normalized_mfcc_channel_db\n",
        "\n",
        "    def inverse_transform(self):\n",
        "        #TODO\n",
        "        raise NotImplementedError"
      ]
    },
    {
      "cell_type": "markdown",
      "id": "c20ea269-4993-4d42-a4b5-9e041fab18da",
      "metadata": {
        "id": "c20ea269-4993-4d42-a4b5-9e041fab18da"
      },
      "source": [
        "## Problem Definition: Speaker Classification"
      ]
    },
    {
      "cell_type": "markdown",
      "id": "c405211b-7381-4c6b-8261-64c19a6d522d",
      "metadata": {
        "id": "c405211b-7381-4c6b-8261-64c19a6d522d"
      },
      "source": [
        "Our project consists of identifying a speaker based on recorded audio samples. The model is trained from multiple audio samples for many speakers. Given a new audio sample, the model should identify which of the speakers it belongs to.  "
      ]
    },
    {
      "cell_type": "markdown",
      "id": "39e7d548-240c-460e-8d2f-f83dabc4a55d",
      "metadata": {
        "id": "39e7d548-240c-460e-8d2f-f83dabc4a55d"
      },
      "source": [
        "![Screen Shot 2022-11-18 at 7.51.26 PM.png](data:image/png;base64,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)"
      ]
    },
    {
      "cell_type": "markdown",
      "id": "d4024e60-7357-430f-87a4-d8430e9f2802",
      "metadata": {
        "id": "d4024e60-7357-430f-87a4-d8430e9f2802"
      },
      "source": [
        "## Dataset\n",
        "There are multiple datasets that include speaker_id and audio samples. Up to this point, we decided to start with Librispeech as it provides hours of recorded audio samples in relatively noise-free environments. \n",
        "\n",
        "LIBRISPEECH\n",
        "LibriSpeech is a corpus of approximately 1000 hours of 16kHz read English speech, prepared by Vassil Panayotov with the assistance of Daniel Povey. The data is derived from read audiobooks from the LibriVox project, and has been carefully segmented and aligned.\n",
        "\n",
        "There are multiple sizes of the dataset. In this notebook we are using **dev-clean** which is the development dataset. In other notebooks, we will use a version with more samples "
      ]
    },
    {
      "cell_type": "code",
      "execution_count": 5,
      "id": "5c8fede5-1e69-493a-9726-81a848a1629a",
      "metadata": {
        "colab": {
          "base_uri": "https://localhost:8080/"
        },
        "id": "5c8fede5-1e69-493a-9726-81a848a1629a",
        "outputId": "5b1626bc-64ec-49f9-e712-496364712ace",
        "tags": []
      },
      "outputs": [
        {
          "name": "stdout",
          "output_type": "stream",
          "text": [
            "You're about to download librispeech with url train-clean-100\n",
            "\n",
            " Done downloading\n"
          ]
        }
      ],
      "source": [
        "dataset_name = \"librispeech\"\n",
        "url = 'train-clean-100'\n",
        "dataset = get_dataset(dataset_name, url=url)"
      ]
    },
    {
      "cell_type": "markdown",
      "id": "94bbe421-b9bb-43cb-8a74-53c90e137499",
      "metadata": {
        "id": "94bbe421-b9bb-43cb-8a74-53c90e137499"
      },
      "source": [
        "# Data Visualization"
      ]
    },
    {
      "cell_type": "markdown",
      "id": "0e9e2c05-5a8d-489c-afa1-05fa636f9b43",
      "metadata": {
        "id": "0e9e2c05-5a8d-489c-afa1-05fa636f9b43"
      },
      "source": [
        "The data extract from librispeech includes audio samples recorded as waveforms. In audio processing algorithm, it is standard practice to extract data by transforming the waveforms into a spectrogram or a varation of a spectrogram called a Mel-frequency cepstrum (MFC). This is done to remove unnecessary data from the waveforms and keep important information such as time, frequency, and amplitude.   "
      ]
    },
    {
      "cell_type": "markdown",
      "id": "40f7d76b-aa2e-48ea-b90a-794d4249a39e",
      "metadata": {
        "id": "40f7d76b-aa2e-48ea-b90a-794d4249a39e"
      },
      "source": [
        "Visualizing data in random sample from the dataset"
      ]
    },
    {
      "cell_type": "code",
      "execution_count": 75,
      "id": "96c48bf2-281d-4c6c-9c1c-cb1691c02402",
      "metadata": {
        "colab": {
          "base_uri": "https://localhost:8080/",
          "height": 698
        },
        "id": "96c48bf2-281d-4c6c-9c1c-cb1691c02402",
        "outputId": "54605565-b93b-43f5-ec40-e4c90d26f456"
      },
      "outputs": [],
      "source": [
        "# visualize_random_sample(dataset, plot_wave=True, plot_spectogram=True)"
      ]
    },
    {
      "cell_type": "markdown",
      "id": "3b15b323-e456-4cd8-bc33-314c9d944827",
      "metadata": {
        "id": "3b15b323-e456-4cd8-bc33-314c9d944827"
      },
      "source": [
        "#### Calculate statistics in dataset"
      ]
    },
    {
      "cell_type": "code",
      "execution_count": 76,
      "id": "d2fa38e5-1325-4499-989f-5d8e18bdcef3",
      "metadata": {
        "colab": {
          "base_uri": "https://localhost:8080/"
        },
        "id": "d2fa38e5-1325-4499-989f-5d8e18bdcef3",
        "outputId": "e5fedeb9-97c3-4f49-8400-490c5949af6c"
      },
      "outputs": [],
      "source": [
        "# waveform_lengths = []\n",
        "# sample_rates = []\n",
        "# transcript_lengths = []\n",
        "# speaker_ids = []\n",
        "# audio_durations = []\n",
        "# waveforms = []\n",
        "# transcripts = []\n",
        "\n",
        "# for i in tqdm(range(dataset.__len__())):\n",
        "#     (waveform, sample_rate, transcript, speaker_id, chapter_id, utterance_id) = dataset.__getitem__(i)\n",
        "#     speaker_ids.append(speaker_id)\n",
        "\n",
        "#     waveform_lengths.append(waveform[0].shape[0])\n",
        "#     sample_rates.append(sample_rate)\n",
        "#     transcript_lengths.append(len(transcript))\n",
        "#     waveforms.append(waveform[0].numpy())\n",
        "#     transcripts.append(transcript)\n",
        "#     num_channels, num_frames = waveform.shape\n",
        "#     duration = num_frames / sample_rate\n",
        "#     audio_durations.append(duration)\n",
        "\n",
        "# dataset_stats = pd.DataFrame.from_dict(\n",
        "# {\n",
        "#     \"waveform_lengths\" : waveform_lengths,\n",
        "#     \"sample_rates\" : sample_rates,\n",
        "#     \"transcript_lengths\" : transcript_lengths,\n",
        "#     \"audio_durations\" : audio_durations,\n",
        "# }\n",
        "#     )"
      ]
    },
    {
      "cell_type": "code",
      "execution_count": 77,
      "id": "54059c1d-2ca5-4faf-8e82-4e3f7609397e",
      "metadata": {
        "colab": {
          "base_uri": "https://localhost:8080/",
          "height": 1000
        },
        "id": "54059c1d-2ca5-4faf-8e82-4e3f7609397e",
        "outputId": "59c9c498-23e1-47d0-f9bb-8b19bb8ce23e"
      },
      "outputs": [],
      "source": [
        "# df = calculate_statistics(dataset)"
      ]
    },
    {
      "cell_type": "markdown",
      "id": "6a7b4b6b-9471-4965-8ac7-2f0074a2ead1",
      "metadata": {
        "id": "6a7b4b6b-9471-4965-8ac7-2f0074a2ead1"
      },
      "source": [
        "We can see from the above charts that there is a lot of variance in the audio duration. Our model needs to take consistent sizes of audio."
      ]
    },
    {
      "cell_type": "code",
      "execution_count": 78,
      "id": "120913c7-7f1a-4ce8-bd79-561b11d6a1bd",
      "metadata": {
        "colab": {
          "base_uri": "https://localhost:8080/",
          "height": 200
        },
        "id": "120913c7-7f1a-4ce8-bd79-561b11d6a1bd",
        "outputId": "ec7d9a84-a9fa-4dd0-f0bc-ac0938f50e22",
        "tags": []
      },
      "outputs": [],
      "source": [
        "# df_spkr = pd.DataFrame(columns=['speaker_id', 'duration'])\n",
        "# df_spkr['speaker_id'] = speaker_ids\n",
        "# df_spkr['duration'] = audio_durations"
      ]
    },
    {
      "cell_type": "code",
      "execution_count": 13,
      "id": "a361612f-aa53-4c27-8aae-3e2d05826802",
      "metadata": {
        "id": "a361612f-aa53-4c27-8aae-3e2d05826802"
      },
      "outputs": [],
      "source": [
        "#df_spkr.to_csv('df_speaker_ids.csv')\n",
        "df_spkr = pd.read_csv('df_speaker_ids.csv')"
      ]
    },
    {
      "cell_type": "code",
      "execution_count": 80,
      "id": "1df5bcb5-42a8-49fd-a128-4e420d36d0e6",
      "metadata": {
        "colab": {
          "base_uri": "https://localhost:8080/",
          "height": 311
        },
        "id": "1df5bcb5-42a8-49fd-a128-4e420d36d0e6",
        "outputId": "5f6f12e2-3b55-476b-82ac-e33d80367ca3"
      },
      "outputs": [],
      "source": [
        "# df_spkr.groupby('speaker_id').mean().sort_values(by='duration', ascending=True)"
      ]
    },
    {
      "cell_type": "markdown",
      "id": "725378d9-e42c-4aca-9c6d-33ba8fd655ed",
      "metadata": {
        "id": "725378d9-e42c-4aca-9c6d-33ba8fd655ed"
      },
      "source": [
        "Because on average the duration of each speaker is 4.8 or higher, we decided to use a window_size of 4 seconds. Samples shorter than 4 seconds will be removed from the dataset."
      ]
    },
    {
      "cell_type": "markdown",
      "id": "2243e5db-e8c0-47be-9771-308c91fbfdc0",
      "metadata": {
        "id": "2243e5db-e8c0-47be-9771-308c91fbfdc0"
      },
      "source": [
        "Number of samples for each speaker"
      ]
    },
    {
      "cell_type": "code",
      "execution_count": 81,
      "id": "290a11a7-a729-4914-910d-3fcaadab4d53",
      "metadata": {
        "colab": {
          "base_uri": "https://localhost:8080/"
        },
        "id": "290a11a7-a729-4914-910d-3fcaadab4d53",
        "outputId": "0a80ba90-c50a-4e42-f78a-feed95a822ea"
      },
      "outputs": [],
      "source": [
        "# df_spkr.groupby('speaker_id').size().sort_values()"
      ]
    },
    {
      "cell_type": "markdown",
      "id": "ebb033e3-5d86-4bbe-8a65-337d99774b44",
      "metadata": {
        "id": "ebb033e3-5d86-4bbe-8a65-337d99774b44"
      },
      "source": [
        "We can see than in this dataset, some speakers have 36 samples only. This could potentially be little data to train a model. "
      ]
    },
    {
      "cell_type": "markdown",
      "id": "102617ee-b8f3-4dfa-aba7-9e628739de08",
      "metadata": {
        "id": "102617ee-b8f3-4dfa-aba7-9e628739de08"
      },
      "source": [
        "Unique speaker ids"
      ]
    },
    {
      "cell_type": "code",
      "execution_count": 82,
      "id": "a3bdd051-5a4a-4ea9-8f2c-e2b4632bbfbb",
      "metadata": {
        "colab": {
          "base_uri": "https://localhost:8080/"
        },
        "id": "a3bdd051-5a4a-4ea9-8f2c-e2b4632bbfbb",
        "outputId": "f42eb412-4609-42aa-c617-1cd36d3341ce"
      },
      "outputs": [],
      "source": [
        "# np.unique(df_spkr['speaker_id'])"
      ]
    },
    {
      "cell_type": "markdown",
      "id": "47e13cbb-4888-4b39-b147-bd79a407cbcf",
      "metadata": {
        "id": "47e13cbb-4888-4b39-b147-bd79a407cbcf"
      },
      "source": [
        "Visualize spectrograms"
      ]
    },
    {
      "cell_type": "code",
      "execution_count": 83,
      "id": "368b4960-7c18-4ac9-b856-2e0fcf2e4be7",
      "metadata": {
        "colab": {
          "base_uri": "https://localhost:8080/",
          "height": 217
        },
        "id": "368b4960-7c18-4ac9-b856-2e0fcf2e4be7",
        "outputId": "7c85f0f3-f30b-436d-a046-27f70e8c5330"
      },
      "outputs": [],
      "source": [
        "# df_speaker_waveform = pd.DataFrame(columns=['speaker_id', 'waveform', 'transcript'])\n",
        "# df_speaker_waveform['speaker_id'] = speaker_ids\n",
        "# df_speaker_waveform['waveform'] = waveforms\n",
        "# df_speaker_waveform['transcript'] = transcripts"
      ]
    },
    {
      "cell_type": "code",
      "execution_count": 84,
      "id": "f1460052-4def-4d19-8cff-15142743e306",
      "metadata": {
        "colab": {
          "base_uri": "https://localhost:8080/",
          "height": 49
        },
        "id": "f1460052-4def-4d19-8cff-15142743e306",
        "outputId": "1a1dbdb2-461c-433c-ffb2-e811c9209c41"
      },
      "outputs": [],
      "source": [
        "# df_speaker_waveform[df_speaker_waveform['speaker_id']==84].head()"
      ]
    },
    {
      "cell_type": "code",
      "execution_count": 85,
      "id": "a747ea29-ed46-4d1c-b66b-ae092e53d8a6",
      "metadata": {
        "id": "a747ea29-ed46-4d1c-b66b-ae092e53d8a6"
      },
      "outputs": [],
      "source": [
        "# num_cols = 3\n",
        "# for speaker_id in np.unique(df_speaker_waveform['speaker_id'])[:8]:\n",
        "#     fig, ax = plt.subplots(1, num_cols, figsize=(12, 3))\n",
        "#     waves = df_speaker_waveform[df_speaker_waveform['speaker_id']==speaker_id]['waveform'].values\n",
        "#     idx = df_speaker_waveform[df_speaker_waveform['speaker_id']==speaker_id]['waveform'].index\n",
        "#     for j, wave in enumerate(waves[:num_cols]):\n",
        "#         ax[j].specgram(wave, Fs=sample_rate)\n",
        "#         ax[j].set_title(f'speaker {speaker_id}, df.index: {idx[j]}')\n",
        "\n",
        "#         plt.tight_layout()"
      ]
    },
    {
      "cell_type": "markdown",
      "id": "96f6eaa1-4cc4-41dc-a552-b05a9635e7eb",
      "metadata": {
        "id": "96f6eaa1-4cc4-41dc-a552-b05a9635e7eb"
      },
      "source": [
        "Visualize MFCC spectrograms"
      ]
    },
    {
      "cell_type": "code",
      "execution_count": 86,
      "id": "384cfced-73d2-4b13-9196-87266d078061",
      "metadata": {
        "id": "384cfced-73d2-4b13-9196-87266d078061"
      },
      "outputs": [],
      "source": [
        "# num_cols = 3\n",
        "# for speaker_id in np.unique(df_speaker_waveform['speaker_id'])[:8]:\n",
        "#     fig, ax = plt.subplots(1, num_cols, figsize=(12, 3))\n",
        "#     waves = df_speaker_waveform[df_speaker_waveform['speaker_id']==speaker_id]['waveform'].values\n",
        "#     idx = df_speaker_waveform[df_speaker_waveform['speaker_id']==speaker_id]['waveform'].index\n",
        "#     for j, wave in enumerate(waves[:num_cols]):\n",
        "#         mfccs = librosa.feature.mfcc(y=wave.flatten(), n_mfcc=13, sr=sample_rate)\n",
        "#         img = librosa.display.specshow(mfccs, x_axis=\"time\", sr=sample_rate, ax=ax[j])\n",
        "#         ax[j].set_title(f'speaker: {speaker_id}, df.index: {idx[j]}')\n",
        "#         fig.colorbar(img, ax=ax[j], format=\"%+2.f dB\")\n",
        "#     plt.tight_layout()"
      ]
    },
    {
      "cell_type": "markdown",
      "id": "7fd8cf23-8f0e-42e2-a1f3-7d97b5efb9ee",
      "metadata": {
        "id": "7fd8cf23-8f0e-42e2-a1f3-7d97b5efb9ee"
      },
      "source": [
        "Visualization of each channel in MFCC"
      ]
    },
    {
      "cell_type": "code",
      "execution_count": 87,
      "id": "b7f639d2-a5c3-4b77-9263-33dc1a23cb6d",
      "metadata": {
        "colab": {
          "base_uri": "https://localhost:8080/",
          "height": 235
        },
        "id": "b7f639d2-a5c3-4b77-9263-33dc1a23cb6d",
        "outputId": "230a5bad-c2f3-4f72-8423-3c22539d2f5b"
      },
      "outputs": [],
      "source": [
        "# plt.figure(figsize=(12, 8))\n",
        "# for i in range(mfccs.shape[0]):\n",
        "#     plt.plot(mfccs[i,:], label=f\"channel_{i}\")\n",
        "# plt.legend()"
      ]
    },
    {
      "cell_type": "markdown",
      "id": "89f20275-84b6-443b-b502-49132582cd5f",
      "metadata": {
        "id": "89f20275-84b6-443b-b502-49132582cd5f"
      },
      "source": [
        "## Preprocessing"
      ]
    },
    {
      "cell_type": "markdown",
      "id": "0f1a2592-3b1b-43e1-8c42-ffd8824d36ae",
      "metadata": {
        "id": "0f1a2592-3b1b-43e1-8c42-ffd8824d36ae"
      },
      "source": [
        "<center><img src=\"images/preprocessing.png\" height=\"400\"></center>"
      ]
    },
    {
      "cell_type": "markdown",
      "id": "fa7ee405-979a-4127-abc8-0eb860777612",
      "metadata": {
        "id": "fa7ee405-979a-4127-abc8-0eb860777612"
      },
      "source": [
        "The preprocessing pipeline consists of the following steps:\n",
        "1. Transform waveforms to MFCC\n",
        "2. (optional) Perform Cepstral Normalization on the MFCC\n",
        "3. Transform MFCC (2D-array) to a greyscale image"
      ]
    },
    {
      "cell_type": "markdown",
      "id": "753b56e4-a9ac-45b2-83b1-61797cda9b22",
      "metadata": {
        "id": "753b56e4-a9ac-45b2-83b1-61797cda9b22"
      },
      "source": [
        "**Cepstral normalization** is the process of normalizing the MFCCs at every channel. The first channels of the MFCC carry the most important features; therefore, channels should not be mixed during normalization. At every channel, the values are normalized by subtracting the mean and dividing by the standard deviation: \n",
        "$$(X_{channel} - \\mu_{channel})/\\sigma_{channel} $$"
      ]
    },
    {
      "cell_type": "markdown",
      "id": "428faa11-d1ba-4abc-838e-95c38c96b59d",
      "metadata": {
        "id": "428faa11-d1ba-4abc-838e-95c38c96b59d"
      },
      "source": [
        "Special consideration had to be taken during splitting of the data into train, validation, and test as well as during normalization. \n",
        "\n",
        "1. To ensure that each speaker_id is represent in each set, before splitting the audio samples were grouped by speaker id. Then the samples in each speaker_id are splitted in x% train, y% validation, z% test\n",
        "\n",
        "2. To ensure there is no data leakage between training and other sets during normalization, **the Cepstral Normalizer only uses MFCCs from the training set during fitting.**"
      ]
    },
    {
      "cell_type": "code",
      "execution_count": 6,
      "id": "17dc9537-d8e0-4e9f-930a-757f8841af94",
      "metadata": {
        "id": "17dc9537-d8e0-4e9f-930a-757f8841af94"
      },
      "outputs": [],
      "source": [
        "class MFCCData(Dataset):\n",
        "    def __init__(self, speaker_mfcc_db, mfcc_channel_db, transform=None):\n",
        "        \"\"\"\n",
        "        Creates a dataset of spectrograms from a dataset of waveforms\n",
        "        \n",
        "        Inputs\n",
        "        ------\n",
        "        speaker_mfcc_db : pd.DataFrame\n",
        "            dataframe of (index, speaker_id, mfcc_id)\n",
        "            \n",
        "        mfcc_channel_db : pd.DataFrame\n",
        "            dataframe of (mfcc_id, channel_1, channel_2, ...)\n",
        "            \n",
        "        transform : optional \n",
        "            transformations to perform on the MFCCs\n",
        "        \"\"\"\n",
        "        self.speaker_mfcc_db = speaker_mfcc_db\n",
        "        self.mfcc_channel_db = mfcc_channel_db        \n",
        "        self.transform = transform\n",
        "            \n",
        "    def __len__(self):\n",
        "        return len(self.speaker_mfcc_db)\n",
        "\n",
        "    def __getitem__(self, idx):\n",
        "        speaker_id = self.speaker_mfcc_db.iloc[idx]['speaker_id']\n",
        "        mfcc_id = self.speaker_mfcc_db.iloc[idx]['mfcc_id']\n",
        "        \n",
        "        mfcc = []\n",
        "        for i, col in enumerate(self.mfcc_channel_db.columns):\n",
        "            mfcc_channel_i = self.mfcc_channel_db.loc[mfcc_id, f'channel_{i}']\n",
        "            mfcc.append(mfcc_channel_i)\n",
        "            \n",
        "        mfcc = np.asarray(mfcc)\n",
        "        mfcc = mfcc.reshape(len(self.mfcc_channel_db.columns), -1)\n",
        "        \n",
        "        if self.transform:\n",
        "            mfcc = mfcc.reshape(1, mfcc.shape[0], mfcc.shape[1])\n",
        "            mfcc = np.transpose(mfcc, [1, 2, 0])\n",
        "            mfcc = self.transform(mfcc)\n",
        "            \n",
        "        else:\n",
        "            mfcc = mfcc.reshape(1, mfcc.shape[0], mfcc.shape[1])\n",
        "            \n",
        "        speaker_id = torch.tensor(speaker_id) \n",
        "        mfcc = torch.tensor(mfcc) \n",
        "            \n",
        "        if torch.cuda.is_available():\n",
        "            speaker_id = speaker_id.to('cuda')\n",
        "            mfcc = mfcc.to('cuda')\n",
        "            \n",
        "        return mfcc, speaker_id"
      ]
    },
    {
      "cell_type": "code",
      "execution_count": 7,
      "id": "bdaf1a83-d532-4f75-8292-42b21b582c95",
      "metadata": {
        "id": "bdaf1a83-d532-4f75-8292-42b21b582c95"
      },
      "outputs": [],
      "source": [
        "def speaker_encoder(speaker_ids):\n",
        "    \"\"\"\n",
        "    Creates a dictionary of (speaker_id, encoded_id) pairs\n",
        "    \"\"\"\n",
        "    speaker_dict = {}\n",
        "    for i, speaker_id in enumerate(speaker_ids):\n",
        "        speaker_dict[speaker_id] = i\n",
        "    return speaker_dict"
      ]
    },
    {
      "cell_type": "code",
      "execution_count": 8,
      "id": "0fbd8797-35b1-4a7c-abc3-c5d54a977290",
      "metadata": {
        "id": "0fbd8797-35b1-4a7c-abc3-c5d54a977290"
      },
      "outputs": [],
      "source": [
        "def create_mfcc_databases(dataset, window_size, sample_rate, speaker_dict, number_spectral_coefficients):\n",
        "    \"\"\"\n",
        "    Creates two databases from an audio dataset e.g. librispeech\n",
        "    \n",
        "    Inputs\n",
        "    -----\n",
        "    \n",
        "    base_dataset : \n",
        "        A pytorch audio dataset like librispeech\n",
        "    \n",
        "    window_size : int\n",
        "        window size to be used to consistently split waveforms\n",
        "\n",
        "    sample_rate : int\n",
        "        sample rate in kHz    \n",
        "    \n",
        "    speaker_dict : dict\n",
        "        dictionary of {'speaker_id':encoded_id} pairs          \n",
        "\n",
        "    number_spectral_coefficients : int\n",
        "        number of spectral coefficients to keep for the MFCC calculation\n",
        "        \n",
        "    Returns\n",
        "    -------\n",
        "    speaker_mfcc_db : pd.DataFrame \n",
        "        df with shape (index_id, speaker_id, mfcc_id)\n",
        "    \n",
        "    mfcc_channel_db : pd.DataFrame\n",
        "        df with shape (mfcc_id, channel_id)\n",
        "    \n",
        "    \"\"\"\n",
        "    try:\n",
        "        speaker_mfcc_db = pd.read_pickle(f'speaker_mfcc_db_{window_size}_{sample_rate}_{number_spectral_coefficients}.pkl')\n",
        "        mfcc_channel_db = pd.read_pickle(f'mfcc_channel_db_{window_size}_{sample_rate}_{number_spectral_coefficients}.pkl')\n",
        "    \n",
        "    except FileNotFoundError:\n",
        "        speaker_mfcc_db = pd.DataFrame(columns=[\"speaker_id\", \"mfcc_id\"])\n",
        "        mfcc_channel_db = pd.DataFrame(columns=[\"mfcc_id\"]+[f\"channel_{i}\" for i in range(number_spectral_coefficients)]).set_index('mfcc_id')\n",
        "\n",
        "        idx = 0\n",
        "\n",
        "        print('Creating a database. Hold tight...')\n",
        "        for i in tqdm(range(dataset.__len__())):\n",
        "            (waveform, sample_rate, transcript, speaker_id, chapter_id, utterance_id) = dataset.__getitem__(i)\n",
        "            waveform_arr = waveform.numpy().flatten()\n",
        "            splitted_waveform = split_waveform(waveform_arr, window_size) # split waveforms into consistent chunks\n",
        "\n",
        "            for chunk in splitted_waveform: # transform waveforms into MFCC spectrograms\n",
        "                mfccs = librosa.feature.mfcc(y=chunk.flatten(), n_mfcc=13, sr=sample_rate)\n",
        "\n",
        "                speaker_mfcc_db.loc[idx, \"speaker_id\"] = speaker_dict[speaker_id]\n",
        "                speaker_mfcc_db.loc[idx, \"mfcc_id\"] = idx\n",
        "\n",
        "                for j in range(number_spectral_coefficients):\n",
        "                    mfcc_channel_db.loc[idx, f\"channel_{j}\"] = 1\n",
        "                    mfcc_channel_db.at[idx, f\"channel_{j}\"] = mfccs[j, :]\n",
        "                \n",
        "                idx += 1\n",
        "\n",
        "        speaker_mfcc_db.to_pickle(f'speaker_mfcc_db_{window_size}_{sample_rate}_{number_spectral_coefficients}.pkl')\n",
        "        mfcc_channel_db.to_pickle(f'mfcc_channel_db_{window_size}_{sample_rate}_{number_spectral_coefficients}.pkl')\n",
        "\n",
        "    return speaker_mfcc_db, mfcc_channel_db"
      ]
    },
    {
      "cell_type": "code",
      "execution_count": 9,
      "id": "c1935d22-d922-4834-a2d5-3b9c3c41ba9c",
      "metadata": {
        "id": "c1935d22-d922-4834-a2d5-3b9c3c41ba9c"
      },
      "outputs": [],
      "source": [
        "def split_train_test_val(speaker_mfcc_db, train_pct, val_pct, \n",
        "                         test_pct):\n",
        "    \"\"\"\n",
        "    Splits the dataset into train, validation, and test. This function returns the indices of the dataframe corresponding\n",
        "    to each set\n",
        "    \"\"\"\n",
        "    train_ids = []\n",
        "    val_ids = []\n",
        "    test_ids = []\n",
        "    \n",
        "    for speaker_id in np.unique(speaker_mfcc_db[\"speaker_id\"].values):\n",
        "        mfcc_ids = speaker_mfcc_db[speaker_mfcc_db[\"speaker_id\"]==speaker_id][\"mfcc_id\"].sample(frac=1).tolist()\n",
        "        len_ids = len(mfcc_ids)\n",
        "        \n",
        "        train_ids.extend(mfcc_ids[:int(len_ids * train_pct)])\n",
        "        val_ids.extend(mfcc_ids[int(len_ids * train_pct):int(len_ids * (train_pct + val_pct))])\n",
        "        test_ids.extend(mfcc_ids[int(len_ids * (train_pct + val_pct)):])\n",
        "    \n",
        "    return train_ids, val_ids, test_ids"
      ]
    },
    {
      "cell_type": "code",
      "execution_count": 14,
      "id": "c4a64272-d461-413c-81ac-ec7485fe353b",
      "metadata": {
        "id": "c4a64272-d461-413c-81ac-ec7485fe353b"
      },
      "outputs": [],
      "source": [
        "def get_datasets(base_dataset, speaker_dict, window_size, sample_rate , train_pct , \n",
        "                 val_pct , test_pct , number_spectral_coefficients , cepstral_normalize , \n",
        "                 transform=None):\n",
        "    \"\"\"\n",
        "    Wrapper around other functions to create datasets\n",
        "    \n",
        "    Inputs\n",
        "    -----\n",
        "    \n",
        "    base_dataset : \n",
        "        A pytorch audio dataset like librispeech\n",
        "    \n",
        "    speaker_dict : dict\n",
        "        dictionary of {'speaker_id':encoded_id} pairs          \n",
        "\n",
        "    window_size : int\n",
        "        window size to be used to consistently split waveforms\n",
        "\n",
        "    sample_rate : int\n",
        "        sample rate in kHz\n",
        "\n",
        "    train_pct : float\n",
        "        train percentage\n",
        "    \n",
        "    val_pct : float\n",
        "        validation percentage\n",
        "\n",
        "    test_pct : float\n",
        "        Test percentage\n",
        "\n",
        "    number_spectral_coefficients : int\n",
        "        number of spectral coefficients to keep for the MFCC calculation\n",
        "        \n",
        "    normalize : bool\n",
        "        whether to apply cepstral normalization\n",
        "        \n",
        "    transform : \n",
        "        a custom transformation to apply to the dataset\n",
        "        \n",
        "    Returns\n",
        "    -------\n",
        "    \n",
        "    mfcc_dataset_train, mfcc_dataset_val, mfcc_dataset_test\n",
        "    \n",
        "    \"\"\"\n",
        "    speaker_mfcc_db, mfcc_channel_db = create_mfcc_databases(base_dataset, window_size=window_size, sample_rate=sample_rate, speaker_dict=speaker_dict, number_spectral_coefficients=number_spectral_coefficients)\n",
        "\n",
        "    train_ids, val_ids, test_ids = split_train_test_val(speaker_mfcc_db, train_pct, val_pct, test_pct)\n",
        "    \n",
        "    speaker_mfcc_db_train = speaker_mfcc_db.loc[train_ids]\n",
        "    speaker_mfcc_db_val = speaker_mfcc_db.loc[val_ids]\n",
        "    speaker_mfcc_db_test = speaker_mfcc_db.loc[test_ids]\n",
        "    \n",
        "    if cepstral_normalize:\n",
        "        cepstral_normalization = CepstralNormalization(number_spectral_coefficients)\n",
        "        cepstral_normalization.fit(speaker_mfcc_db_train['mfcc_id'].values, mfcc_channel_db)\n",
        "        normalized_mfcc_channel_db_train = cepstral_normalization.transform(speaker_mfcc_db_train['mfcc_id'].values, mfcc_channel_db)\n",
        "        normalized_mfcc_channel_db_val = cepstral_normalization.transform(speaker_mfcc_db_val['mfcc_id'].values, mfcc_channel_db)\n",
        "        normalized_mfcc_channel_db_test = cepstral_normalization.transform(speaker_mfcc_db_test['mfcc_id'].values, mfcc_channel_db)\n",
        "        mfcc_channel_db = pd.concat([normalized_mfcc_channel_db_train, normalized_mfcc_channel_db_val, normalized_mfcc_channel_db_test])\n",
        "        \n",
        "    mfcc_channel_db_train = mfcc_channel_db.loc[speaker_mfcc_db_train['mfcc_id'].values]\n",
        "    mfcc_channel_db_val = mfcc_channel_db.loc[speaker_mfcc_db_val['mfcc_id'].values]\n",
        "    mfcc_channel_db_test = mfcc_channel_db.loc[speaker_mfcc_db_test['mfcc_id'].values]\n",
        "    \n",
        "    mfcc_dataset_train = MFCCData(speaker_mfcc_db_train, mfcc_channel_db_train, transform=transform)\n",
        "    mfcc_dataset_val = MFCCData(speaker_mfcc_db_val, mfcc_channel_db_val, transform=transform)\n",
        "    mfcc_dataset_test = MFCCData(speaker_mfcc_db_test, mfcc_channel_db_test, transform=transform)\n",
        "\n",
        "    return mfcc_dataset_train, mfcc_dataset_val, mfcc_dataset_test"
      ]
    },
    {
      "cell_type": "code",
      "execution_count": 11,
      "id": "402724bf-ba8a-49a4-b9fe-9369a0c0db5f",
      "metadata": {
        "id": "402724bf-ba8a-49a4-b9fe-9369a0c0db5f"
      },
      "outputs": [],
      "source": [
        "# preprocessing parameters\n",
        "sample_rate = 16000 # 16kHz\n",
        "window_size = 4 * sample_rate # 1 second has 16000 samples, window_size is 4 seconds\n",
        "\n",
        "batch_size = 10\n",
        "\n",
        "train_pct = 0.60\n",
        "val_pct = 0.20\n",
        "test_pct = 0.20\n",
        "number_spectral_coefficients = 13\n",
        "cepstral_normalize = True\n",
        "\n",
        "transform = transforms.Compose([transforms.ToTensor(), transforms.Resize(size=(224, 224))]) "
      ]
    },
    {
      "cell_type": "code",
      "execution_count": 15,
      "id": "a9b3bf8b-81aa-48fd-a117-65c414aa0bac",
      "metadata": {
        "colab": {
          "base_uri": "https://localhost:8080/",
          "height": 363
        },
        "id": "a9b3bf8b-81aa-48fd-a117-65c414aa0bac",
        "outputId": "377e084e-0154-4e9c-e396-0e3fd9b32de2"
      },
      "outputs": [
        {
          "name": "stdout",
          "output_type": "stream",
          "text": [
            "Normalizing...\n"
          ]
        },
        {
          "name": "stderr",
          "output_type": "stream",
          "text": [
            "100%|██████████| 13/13 [00:08<00:00,  1.57it/s]\n"
          ]
        }
      ],
      "source": [
        "speaker_dict = speaker_encoder(np.unique(df_spkr['speaker_id']))\n",
        "mfcc_dataset_train, mfcc_dataset_val, mfcc_dataset_test = get_datasets(dataset, \n",
        "                                                speaker_dict=speaker_dict,\n",
        "                                                window_size=window_size, \n",
        "                                                sample_rate=sample_rate, \n",
        "                                                train_pct=train_pct,\n",
        "                                                val_pct=val_pct,\n",
        "                                                test_pct=test_pct,\n",
        "                                                number_spectral_coefficients=number_spectral_coefficients,\n",
        "                                                cepstral_normalize=cepstral_normalize,\n",
        "                                                transform=transform,\n",
        "                                                )"
      ]
    },
    {
      "cell_type": "code",
      "execution_count": 95,
      "id": "2b8e6f70",
      "metadata": {},
      "outputs": [],
      "source": [
        "# import pickle\n",
        "# with open(r'C:\\Users\\William Hazen\\Documents\\UofT\\Term 1 (F)\\MIE 1517\\MIE 1517 Projects\\audio-speaker-recognition\\mfcc_dataset_train.pkl', 'rb') as f:\n",
        "#     mfcc_dataset_train = pickle.load(f)\n",
        "\n",
        "# with open(r'C:\\Users\\William Hazen\\Documents\\UofT\\Term 1 (F)\\MIE 1517\\MIE 1517 Projects\\audio-speaker-recognition\\mfcc_dataset_val.pkl', 'rb') as f:\n",
        "#     mfcc_dataset_val = pickle.load(f)\n",
        "    \n",
        "# with open(r'C:\\Users\\William Hazen\\Documents\\UofT\\Term 1 (F)\\MIE 1517\\MIE 1517 Projects\\audio-speaker-recognition\\mfcc_dataset_test.pkl', 'rb') as f:\n",
        "#     mfcc_dataset_test = pickle.load(f)"
      ]
    },
    {
      "cell_type": "code",
      "execution_count": 28,
      "id": "d391f144-4a2c-4c50-ba19-ebcead2b4b8f",
      "metadata": {
        "colab": {
          "base_uri": "https://localhost:8080/",
          "height": 183
        },
        "id": "d391f144-4a2c-4c50-ba19-ebcead2b4b8f",
        "outputId": "cf250409-efe8-4811-e3fb-d67945083ad8"
      },
      "outputs": [],
      "source": [
        "train_set = Subset(mfcc_dataset_train, range(0, mfcc_dataset_train.__len__(), 10))\n",
        "val_set = Subset(mfcc_dataset_val, range(0, mfcc_dataset_val.__len__(), 10))"
      ]
    },
    {
      "cell_type": "code",
      "execution_count": null,
      "id": "75c21f55",
      "metadata": {},
      "outputs": [],
      "source": []
    },
    {
      "cell_type": "code",
      "execution_count": 16,
      "id": "8a550cd0-2ec1-4f8b-82f4-5b726ac174d1",
      "metadata": {
        "colab": {
          "base_uri": "https://localhost:8080/",
          "height": 200
        },
        "id": "8a550cd0-2ec1-4f8b-82f4-5b726ac174d1",
        "outputId": "0e29dc3e-5beb-4c34-b919-78af4bee7b75"
      },
      "outputs": [],
      "source": [
        "train_loader = DataLoader(mfcc_dataset_train, batch_size=batch_size, shuffle=True)\n",
        "val_loader = DataLoader(mfcc_dataset_val, batch_size=batch_size, shuffle=True)\n",
        "test_loader = DataLoader(mfcc_dataset_test, batch_size=batch_size, shuffle=False)"
      ]
    },
    {
      "cell_type": "code",
      "execution_count": 17,
      "id": "fe68cbb3-45eb-4a43-9ffb-7ff343d5a759",
      "metadata": {
        "colab": {
          "base_uri": "https://localhost:8080/",
          "height": 165
        },
        "id": "fe68cbb3-45eb-4a43-9ffb-7ff343d5a759",
        "outputId": "4e5ffb6a-3a38-4ade-8242-49e24db3f46c"
      },
      "outputs": [
        {
          "data": {
            "text/plain": [
              "(44653, 14917, 15020)"
            ]
          },
          "execution_count": 17,
          "metadata": {},
          "output_type": "execute_result"
        }
      ],
      "source": [
        "mfcc_dataset_train.__len__(), mfcc_dataset_val.__len__(), mfcc_dataset_test.__len__(), "
      ]
    },
    {
      "cell_type": "code",
      "execution_count": 18,
      "id": "3e3b7508-dff7-4475-a4f2-fd3fd1617aa9",
      "metadata": {
        "id": "3e3b7508-dff7-4475-a4f2-fd3fd1617aa9"
      },
      "outputs": [
        {
          "data": {
            "text/plain": [
              "(4466, 1492)"
            ]
          },
          "execution_count": 18,
          "metadata": {},
          "output_type": "execute_result"
        }
      ],
      "source": [
        "train_loader.__len__(), val_loader.__len__()"
      ]
    },
    {
      "cell_type": "code",
      "execution_count": 100,
      "id": "f038081d-e1c9-4090-8bc2-fdd5d94aaa88",
      "metadata": {
        "id": "f038081d-e1c9-4090-8bc2-fdd5d94aaa88"
      },
      "outputs": [],
      "source": [
        "# for a, b in train_loader:\n",
        "#     break\n",
        "# print(a.shape)"
      ]
    },
    {
      "cell_type": "code",
      "execution_count": 101,
      "id": "dd5bc548-2473-4786-8ae1-f675ee014be1",
      "metadata": {
        "id": "dd5bc548-2473-4786-8ae1-f675ee014be1"
      },
      "outputs": [],
      "source": [
        "# plt.imshow(np.transpose(a[0].to('cpu').numpy(), [1, 2, 0]))"
      ]
    },
    {
      "cell_type": "markdown",
      "id": "2844ee30-2e7e-497c-8ff6-027601e5ac1a",
      "metadata": {
        "id": "2844ee30-2e7e-497c-8ff6-027601e5ac1a"
      },
      "source": [
        "Visualize a random sample from the dataloader to verify it looks as expected"
      ]
    },
    {
      "cell_type": "code",
      "execution_count": 102,
      "id": "34fccb02-5bf8-47db-868f-95a73feb0c66",
      "metadata": {
        "colab": {
          "base_uri": "https://localhost:8080/",
          "height": 235
        },
        "id": "34fccb02-5bf8-47db-868f-95a73feb0c66",
        "outputId": "e37e0a24-ece4-495d-e762-53c88862f295"
      },
      "outputs": [],
      "source": [
        "# random_sample = np.random.randint(0, 2300)\n",
        "# sample_mfcc, sample_speaker = mfcc_dataset_train.__getitem__(random_sample)\n",
        "\n",
        "# print(sample_mfcc.shape, sample_speaker.shape)\n",
        "\n",
        "# mfcc_arr = sample_mfcc.to('cpu').numpy().reshape(224, 224)\n",
        "# plt.figure()\n",
        "# plt.imshow(mfcc_arr)\n",
        "# plt.figure(figsize=(12, 8))\n",
        "# for i in range(mfcc_arr.shape[0]):\n",
        "#     plt.plot(mfcc_arr[i,:], label=f\"channel_{i}\")\n",
        "# plt.legend()"
      ]
    },
    {
      "cell_type": "markdown",
      "id": "6955efff-b90a-40d9-9187-9f7577752e1c",
      "metadata": {
        "id": "6955efff-b90a-40d9-9187-9f7577752e1c"
      },
      "source": [
        "## Model Training"
      ]
    },
    {
      "cell_type": "code",
      "execution_count": 103,
      "id": "5c9bd128-f7db-4644-b0bc-ea4d8d735a31",
      "metadata": {
        "id": "5c9bd128-f7db-4644-b0bc-ea4d8d735a31"
      },
      "outputs": [],
      "source": [
        "def evaluate(model, loader, criterion):\n",
        "    \"\"\" Evaluate the network on the validation set.\n",
        "\n",
        "     Args:\n",
        "         net: PyTorch neural network object\n",
        "         loader: PyTorch data loader for the validation set\n",
        "         criterion: The loss function\n",
        "     Returns:\n",
        "         err: A scalar for the avg classification error over the validation set\n",
        "         loss: A scalar for the average loss function over the validation set\n",
        "     \"\"\"\n",
        "    total_loss = 0.0\n",
        "    total_epoch = 0\n",
        "    val_acc = []\n",
        "\n",
        "    model.eval()\n",
        "    with torch.no_grad():\n",
        "        for i, data in enumerate(loader, 0):\n",
        "            mfcc, speakers = data\n",
        "            outputs = model(mfcc)\n",
        "\n",
        "            loss = criterion(outputs, speakers)\n",
        "            total_loss += loss.item()\n",
        "            total_epoch += len(speakers)\n",
        "            val_acc.append(get_accuracy(model, loader))\n",
        "\n",
        "        loss = float(total_loss) / (i + 1)\n",
        "        val_acc = np.mean(val_acc)\n",
        "    return loss, val_acc\n",
        "\n",
        "def get_accuracy(model, dataloader):\n",
        "    #select index with maximum prediction score\n",
        "    correct = 0\n",
        "    total = 0\n",
        "    for data in dataloader:\n",
        "        mfcc, labels = data\n",
        "        output = model(mfcc)\n",
        "        pred = output.max(1, keepdim=True)[1]\n",
        "        correct += pred.eq(labels.view_as(pred)).sum().item()\n",
        "        total += labels.shape[0]\n",
        "    return correct / total\n",
        "\n",
        "def train_model(model, train_loader, val_loader, batch_size, num_epochs, criterion, optimizer, print_every=2, plot_loss=True):\n",
        "    train_loss = np.zeros(num_epochs)\n",
        "    val_loss = np.zeros(num_epochs)\n",
        "    train_acc = np.zeros(num_epochs)\n",
        "    val_acc = np.zeros(num_epochs)\n",
        "        \n",
        "    if torch.cuda.is_available():\n",
        "        model = model.to(torch.device('cuda:0'))\n",
        "    \n",
        "    for epoch in tqdm(range(num_epochs)): \n",
        "        total_train_loss = 0.0\n",
        "        total_epoch = 0\n",
        "        total_train_acc = []\n",
        "        correct = 0.0\n",
        "        total = 0.0\n",
        "        \n",
        "        model.train()\n",
        "        \n",
        "        for i, data in enumerate(train_loader):\n",
        "            mfcc, speakers = data\n",
        "                        \n",
        "            # zero the parameter gradients\n",
        "            optimizer.zero_grad()\n",
        "            \n",
        "            # Forward pass, backward pass, and optimize\n",
        "            outputs = model(mfcc)\n",
        "            loss = criterion(outputs, speakers)\n",
        "            loss.backward()\n",
        "            optimizer.step()\n",
        "            \n",
        "            # Calculate the statistics\n",
        "            total_train_loss += loss.item()\n",
        "            total_epoch += len(speakers)\n",
        "            total_train_acc.append(get_accuracy(model, train_loader))\n",
        "            \n",
        "        model.eval()\n",
        "        train_loss[epoch] = float(total_train_loss) / (i+1)\n",
        "        train_acc[epoch] = np.mean(total_train_acc)        \n",
        "        val_loss[epoch], val_acc[epoch] = evaluate(model, val_loader, criterion)\n",
        "        \n",
        "        if epoch % print_every == 0:    \n",
        "            print(f\"Epoch {epoch}: \\n \\\n",
        "            Train loss {train_loss[epoch]:.3f} | Val loss {val_loss[epoch]:.3f} \\n \\\n",
        "            Train acc {train_acc[epoch]:.3f} | Val acc {val_acc[epoch]:.3f} \\n\")\n",
        "            \n",
        "            \n",
        "    if plot_loss:\n",
        "        n = len(train_loss) # number of epochs\n",
        "        plt.figure()\n",
        "        plt.title(\"Train vs Validation Loss\")\n",
        "        plt.plot(range(1,n+1), train_loss, label=\"Train\")\n",
        "        plt.plot(range(1,n+1), val_loss, label=\"Validation\")\n",
        "        plt.xlabel(\"Epoch\")\n",
        "        plt.ylabel(\"Loss\")\n",
        "        plt.legend(loc='best')\n",
        "\n",
        "        plt.figure()\n",
        "        plt.title(\"Train vs Validation Accuracy\")\n",
        "        plt.plot(range(1,n+1), train_acc, label=\"Train\")\n",
        "        plt.plot(range(1,n+1), val_acc, label=\"Validation\")\n",
        "        plt.xlabel(\"Epoch\")\n",
        "        plt.ylabel(\"Accuracy\")\n",
        "        plt.legend(loc='best')   "
      ]
    },
    {
      "cell_type": "code",
      "execution_count": 104,
      "id": "735bfed3-71b5-444b-94e6-8cb2f8c68be7",
      "metadata": {
        "id": "735bfed3-71b5-444b-94e6-8cb2f8c68be7"
      },
      "outputs": [],
      "source": [
        "class FCN(nn.Module):\n",
        "    def __init__(self, input_layers, hidden_layers, output_size):\n",
        "        super(FCN, self).__init__()\n",
        "\n",
        "        self.fc1 = nn.Linear(3 * 11 * 124, hidden_layers)\n",
        "        self.fc2 = nn.Linear(hidden_layers, output_size)\n",
        "\n",
        "    def forward(self, x):\n",
        "        x = x.float()\n",
        "        x = x.view(-1, 13 * 126)\n",
        "        x = F.relu(self.fc1(x))\n",
        "        x = self.fc2(x)\n",
        "        return x"
      ]
    },
    {
      "cell_type": "code",
      "execution_count": 105,
      "id": "c2955d4c-317d-4f04-a91e-653456210aa4",
      "metadata": {
        "id": "c2955d4c-317d-4f04-a91e-653456210aa4"
      },
      "outputs": [],
      "source": [
        "class CNN(nn.Module):\n",
        "    def __init__(self, hidden_layers, output_size):\n",
        "        super(CNN, self).__init__()\n",
        "\n",
        "        self.conv1 = nn.Conv2d(in_channels=1, out_channels=1, kernel_size=1, padding=0)\n",
        "        self.conv2 = nn.Conv2d(in_channels=1, out_channels=1, kernel_size=1, padding=0)\n",
        "        self.conv3 = nn.Conv2d(in_channels=1, out_channels=1, kernel_size=3, padding=1)\n",
        "        self.fc1 = nn.Linear(1 * 224 * 224, hidden_layers)\n",
        "        self.fc2 = nn.Linear(hidden_layers, output_size)\n",
        "\n",
        "    def forward(self, x):\n",
        "        x = x.float()\n",
        "        x = F.leaky_relu(self.conv1(x))\n",
        "        x = F.leaky_relu(self.conv2(x))\n",
        "        x = F.leaky_relu(self.conv3(x))\n",
        "        x = x.view(-1, 1 * 224 * 224)\n",
        "        x = F.relu(self.fc1(x))\n",
        "        x = self.fc2(x)\n",
        "        return x"
      ]
    },
    {
      "cell_type": "code",
      "execution_count": 106,
      "id": "461aa166-0a56-4ef4-b121-36e3d14812b3",
      "metadata": {
        "id": "461aa166-0a56-4ef4-b121-36e3d14812b3"
      },
      "outputs": [],
      "source": [
        "# model hyperparameters\n",
        "hidden_layers = 300\n",
        "output_size = len(np.unique(df_spkr['speaker_id']))\n",
        "lr = 0.01\n",
        "momentum = 0.9\n",
        "num_epochs = 30\n",
        "\n",
        "model = CNN(hidden_layers=hidden_layers, output_size=output_size)\n",
        "criterion = nn.CrossEntropyLoss()\n",
        "optimizer = torch.optim.Adam(model.parameters(), lr=lr)#, momentum=momentum)\n",
        "num_epochs = num_epochs"
      ]
    },
    {
      "cell_type": "code",
      "execution_count": null,
      "id": "LNkDZL-BVKsp",
      "metadata": {
        "id": "LNkDZL-BVKsp"
      },
      "outputs": [],
      "source": []
    },
    {
      "cell_type": "code",
      "execution_count": 107,
      "id": "UX6IBOdSVips",
      "metadata": {
        "id": "UX6IBOdSVips",
        "outputId": "c1408134-9987-4164-e78c-be665ac82922"
      },
      "outputs": [],
      "source": [
        "# # CNN model 1\n",
        "# train_model(model, train_loader, val_loader, batch_size, num_epochs, criterion, optimizer, print_every=1)"
      ]
    },
    {
      "cell_type": "code",
      "execution_count": 108,
      "id": "4b9c309a",
      "metadata": {
        "id": "4b9c309a",
        "outputId": "99980a9b-8c85-4053-a83e-2e2e4d98c218"
      },
      "outputs": [],
      "source": [
        "# # CNN 2\n",
        "\n",
        "# # model hyperparameters\n",
        "# hidden_layers = 500\n",
        "# output_size = len(np.unique(df_spkr['speaker_id']))\n",
        "# lr = 0.05\n",
        "# momentum = 0.9\n",
        "# num_epochs = 30\n",
        "\n",
        "# model = CNN(hidden_layers=hidden_layers, output_size=output_size)\n",
        "# criterion = nn.CrossEntropyLoss()\n",
        "# optimizer = torch.optim.Adam(model.parameters(), lr=lr)#, momentum=momentum)\n",
        "# num_epochs = num_epochs\n",
        "\n",
        "# train_model(model, train_loader, val_loader, batch_size, num_epochs, criterion, optimizer, print_every=1)"
      ]
    },
    {
      "cell_type": "code",
      "execution_count": 109,
      "id": "6319e3d3",
      "metadata": {
        "id": "6319e3d3",
        "outputId": "4d300559-b0b9-4f81-e36f-1519cb77c874"
      },
      "outputs": [],
      "source": [
        "# # CNN 3\n",
        "\n",
        "# # model hyperparameters\n",
        "# hidden_layers = 150\n",
        "# output_size = len(np.unique(df_spkr['speaker_id']))\n",
        "# lr = 0.01\n",
        "# momentum = 0.9\n",
        "# num_epochs = 20\n",
        "\n",
        "# model = CNN(hidden_layers=hidden_layers, output_size=output_size)\n",
        "# criterion = nn.CrossEntropyLoss()\n",
        "# optimizer = torch.optim.Adam(model.parameters(), lr=lr)#, momentum=momentum)\n",
        "# num_epochs = num_epochs\n",
        "\n",
        "# train_model(model, train_loader, val_loader, batch_size, num_epochs, criterion, optimizer, print_every=1)"
      ]
    },
    {
      "cell_type": "markdown",
      "id": "qrhtVfIiVNVy",
      "metadata": {
        "id": "qrhtVfIiVNVy"
      },
      "source": [
        "Note: the test model and the test dataset will be side aside to the end of the project, to evaluate the overall accuracy of the best model. Therefore, the team will not use the test model or test dataset for the progress report. "
      ]
    },
    {
      "cell_type": "code",
      "execution_count": 110,
      "id": "6cc1b155-3e22-4653-a275-d448e73e0048",
      "metadata": {
        "id": "6cc1b155-3e22-4653-a275-d448e73e0048"
      },
      "outputs": [],
      "source": [
        "# def test_model(model, test_loader):\n",
        "#     correct = 0\n",
        "#     total = 0\n",
        "#     with torch.no_grad():\n",
        "#         for data in test_loader:\n",
        "#             mfcc, speakers = data\n",
        "#             outputs = model(mfcc)\n",
        "#             _, predicted = torch.max(outputs.data, 1)\n",
        "#             total += speakers.size(0)\n",
        "#             correct += (predicted == speakers).sum().item()\n",
        "\n",
        "#     print(f'Accuracy: {100 * correct // total} %')"
      ]
    },
    {
      "cell_type": "code",
      "execution_count": 111,
      "id": "7aac5c23-631a-446b-aadb-33205fe653bd",
      "metadata": {
        "id": "7aac5c23-631a-446b-aadb-33205fe653bd"
      },
      "outputs": [],
      "source": [
        "# test_model(model, test_loader)"
      ]
    },
    {
      "cell_type": "code",
      "execution_count": 112,
      "id": "0a256a07-1eec-4835-9384-bf2c52580736",
      "metadata": {
        "id": "0a256a07-1eec-4835-9384-bf2c52580736"
      },
      "outputs": [],
      "source": [
        "# speaker_dict # {original_speaker_id, encoded_speaker_id}"
      ]
    },
    {
      "cell_type": "code",
      "execution_count": 113,
      "id": "aaf007c7-2f74-48cd-af33-c4d9eeaf67c8",
      "metadata": {
        "id": "aaf007c7-2f74-48cd-af33-c4d9eeaf67c8"
      },
      "outputs": [],
      "source": [
        "# classes = [str(speaker_id) for speaker_id in range(len(np.unique(df_spkr['speaker_id'])))]\n",
        "# correct_pred = {classname: 0 for classname in classes}\n",
        "# total_pred = {classname: 0 for classname in classes}\n",
        "\n",
        "# for mfcc, speakers in test_loader:\n",
        "#     outputs = model(mfcc)\n",
        "#     _, predicted = torch.max(outputs.data, 1)\n",
        "#     # print(f\"predicted: {predicted}, actual: {speakers}\")\n",
        "#     for label, prediction in zip(speakers, predicted):\n",
        "#             if label == prediction:\n",
        "#                 correct_pred[classes[label]] += 1\n",
        "#             total_pred[classes[label]] += 1\n",
        "    \n",
        "# for classname, correct_count in correct_pred.items():\n",
        "#     accuracy = 100 * float(correct_count) / total_pred[classname]\n",
        "#     print(f'Accuracy for class: {classname:5s} is {accuracy:.1f} %')"
      ]
    },
    {
      "cell_type": "markdown",
      "id": "02e2eb77-8e8a-43cd-803e-7720e7d0a2df",
      "metadata": {
        "id": "02e2eb77-8e8a-43cd-803e-7720e7d0a2df"
      },
      "source": [
        "## AlexNet"
      ]
    },
    {
      "cell_type": "code",
      "execution_count": 114,
      "id": "7c848ac6-a207-49da-9f3a-b1c555b4191c",
      "metadata": {
        "id": "7c848ac6-a207-49da-9f3a-b1c555b4191c",
        "tags": []
      },
      "outputs": [
        {
          "name": "stderr",
          "output_type": "stream",
          "text": [
            "c:\\Users\\William Hazen\\anaconda3\\envs\\speech_recon_venv\\lib\\site-packages\\torchvision\\models\\_utils.py:208: UserWarning: The parameter 'pretrained' is deprecated since 0.13 and may be removed in the future, please use 'weights' instead.\n",
            "  warnings.warn(\n",
            "c:\\Users\\William Hazen\\anaconda3\\envs\\speech_recon_venv\\lib\\site-packages\\torchvision\\models\\_utils.py:223: UserWarning: Arguments other than a weight enum or `None` for 'weights' are deprecated since 0.13 and may be removed in the future. The current behavior is equivalent to passing `weights=None`.\n",
            "  warnings.warn(msg)\n"
          ]
        }
      ],
      "source": [
        "alexnet = models.alexnet(pretrained=False)"
      ]
    },
    {
      "cell_type": "code",
      "execution_count": 115,
      "id": "94ca0fa3-0aac-4824-88aa-8128c5d5d9aa",
      "metadata": {
        "id": "94ca0fa3-0aac-4824-88aa-8128c5d5d9aa"
      },
      "outputs": [],
      "source": [
        "# Freeze model parameters\n",
        "for param in alexnet.parameters():\n",
        "    param.requires_grad = False"
      ]
    },
    {
      "cell_type": "code",
      "execution_count": 116,
      "id": "9985aa36-5cce-4931-9666-993e928ac94d",
      "metadata": {
        "id": "9985aa36-5cce-4931-9666-993e928ac94d"
      },
      "outputs": [],
      "source": [
        "alexnet.features[0] = nn.Conv2d(1, 64, kernel_size=(1,1))"
      ]
    },
    {
      "cell_type": "code",
      "execution_count": 117,
      "id": "5cb0118b-aeda-4b33-9587-f27fcae31d38",
      "metadata": {
        "id": "5cb0118b-aeda-4b33-9587-f27fcae31d38"
      },
      "outputs": [
        {
          "data": {
            "text/plain": [
              "AlexNet(\n",
              "  (features): Sequential(\n",
              "    (0): Conv2d(1, 64, kernel_size=(1, 1), stride=(1, 1))\n",
              "    (1): ReLU(inplace=True)\n",
              "    (2): MaxPool2d(kernel_size=3, stride=2, padding=0, dilation=1, ceil_mode=False)\n",
              "    (3): Conv2d(64, 192, kernel_size=(5, 5), stride=(1, 1), padding=(2, 2))\n",
              "    (4): ReLU(inplace=True)\n",
              "    (5): MaxPool2d(kernel_size=3, stride=2, padding=0, dilation=1, ceil_mode=False)\n",
              "    (6): Conv2d(192, 384, kernel_size=(3, 3), stride=(1, 1), padding=(1, 1))\n",
              "    (7): ReLU(inplace=True)\n",
              "    (8): Conv2d(384, 256, kernel_size=(3, 3), stride=(1, 1), padding=(1, 1))\n",
              "    (9): ReLU(inplace=True)\n",
              "    (10): Conv2d(256, 256, kernel_size=(3, 3), stride=(1, 1), padding=(1, 1))\n",
              "    (11): ReLU(inplace=True)\n",
              "    (12): MaxPool2d(kernel_size=3, stride=2, padding=0, dilation=1, ceil_mode=False)\n",
              "  )\n",
              "  (avgpool): AdaptiveAvgPool2d(output_size=(6, 6))\n",
              "  (classifier): Sequential(\n",
              "    (0): Dropout(p=0.5, inplace=False)\n",
              "    (1): Linear(in_features=9216, out_features=4096, bias=True)\n",
              "    (2): ReLU(inplace=True)\n",
              "    (3): Dropout(p=0.5, inplace=False)\n",
              "    (4): Linear(in_features=4096, out_features=4096, bias=True)\n",
              "    (5): ReLU(inplace=True)\n",
              "    (6): Linear(in_features=4096, out_features=500, bias=True)\n",
              "    (7): LeakyReLU(negative_slope=0.01)\n",
              "    (8): Linear(in_features=500, out_features=251, bias=True)\n",
              "  )\n",
              ")"
            ]
          },
          "execution_count": 117,
          "metadata": {},
          "output_type": "execute_result"
        }
      ],
      "source": [
        "#Modify the final output layer\n",
        "alexnet.classifier.add_module(\"6\",nn.Linear(4096, 500))\n",
        "alexnet.classifier.add_module(\"7\",nn.LeakyReLU())\n",
        "alexnet.classifier.add_module(\"8\",nn.Linear(500, len(np.unique(df_spkr['speaker_id']))))\n",
        "# alexnet.classifier.add_module(\"9\", nn.LogSoftmax(dim = 1))\n",
        "alexnet"
      ]
    },
    {
      "cell_type": "code",
      "execution_count": 19,
      "id": "21bb9426",
      "metadata": {},
      "outputs": [],
      "source": [
        "subset_train_size, subset_val_size = train_loader.__len__(), val_loader.__len__()"
      ]
    },
    {
      "cell_type": "code",
      "execution_count": 20,
      "id": "33e12550",
      "metadata": {},
      "outputs": [
        {
          "name": "stdout",
          "output_type": "stream",
          "text": [
            "4466\n",
            "1492\n"
          ]
        }
      ],
      "source": [
        "print(subset_train_size)\n",
        "print(subset_val_size)"
      ]
    },
    {
      "cell_type": "code",
      "execution_count": 21,
      "id": "b1788819",
      "metadata": {},
      "outputs": [],
      "source": [
        "# Define Optimizer and Loss Function\n",
        "\n",
        "def train_and_validate(model, epochs=25, batch_size = 10, lr=1e-3):\n",
        "    '''\n",
        "    Function to train and validate\n",
        "    Parameters\n",
        "        :param model: Model to train and validate\n",
        "        :param loss_criterion: Loss Criterion to minimize\n",
        "        :param optimizer: Optimizer for computing gradients\n",
        "        :param epochs: Number of epochs (default=25)\n",
        "  \n",
        "    Returns\n",
        "        model: Trained Model with best validation accuracy\n",
        "        history: (dict object): Having training loss, accuracy and validation loss, accuracy\n",
        "    '''\n",
        "    \n",
        "    start = time.time()\n",
        "    history = []\n",
        "    best_acc = 0.0\n",
        "    loss_criterion = nn.CrossEntropyLoss()\n",
        "    optimizer = torch.optim.Adam(model.parameters(), lr=lr)\n",
        "    \n",
        "    train_loader = DataLoader(train_set, batch_size=batch_size, shuffle=True)\n",
        "    val_loader = DataLoader(val_set, batch_size=batch_size, shuffle=True)\n",
        "    \n",
        "    for epoch in range(epochs):\n",
        "        epoch_start = time.time()\n",
        "        print(\"Epoch: {}/{}\".format(epoch+1, epochs))\n",
        "        \n",
        "        # Set to training mode\n",
        "        model.train()\n",
        "        \n",
        "        # Loss and Accuracy within the epoch\n",
        "        train_loss = 0.0\n",
        "        train_acc = 0.0\n",
        "        \n",
        "        valid_loss = 0.0\n",
        "        valid_acc = 0.0\n",
        "        \n",
        "        for i, (inputs, labels) in enumerate(train_loader):\n",
        "\n",
        "            inputs = inputs.to(device)\n",
        "            labels = labels.to(device)\n",
        "            \n",
        "            # Clean existing gradients\n",
        "            optimizer.zero_grad()\n",
        "            \n",
        "            # Forward pass - compute outputs on input data using the model\n",
        "            outputs = model(inputs)\n",
        "            \n",
        "            # Compute loss\n",
        "            loss = loss_criterion(outputs, labels)\n",
        "            \n",
        "            # Backpropagate the gradients\n",
        "            loss.backward()\n",
        "            \n",
        "            # Update the parameters\n",
        "            optimizer.step()\n",
        "            \n",
        "            # Compute the total loss for the batch and add it to train_loss\n",
        "            train_loss += loss.item() * inputs.size(0)\n",
        "            \n",
        "            # Compute the accuracy\n",
        "            ret, predictions = torch.max(outputs.data, 1)\n",
        "            correct_counts = predictions.eq(labels.data.view_as(predictions))\n",
        "            \n",
        "            # Convert correct_counts to float and then compute the mean\n",
        "            acc = torch.mean(correct_counts.type(torch.FloatTensor))\n",
        "            \n",
        "            # Compute total accuracy in the whole batch and add to train_acc\n",
        "            train_acc += acc.item() * inputs.size(0)\n",
        "            \n",
        "            #print(\"Batch number: {:03d}, Training: Loss: {:.4f}, Accuracy: {:.4f}\".format(i, loss.item(), acc.item()))\n",
        "\n",
        "            \n",
        "        # Validation - No gradient tracking needed\n",
        "        with torch.no_grad():\n",
        "\n",
        "            # Set to evaluation mode\n",
        "            model.eval()\n",
        "\n",
        "            # Validation loop\n",
        "            for j, (inputs, labels) in enumerate(val_loader):\n",
        "                inputs = inputs.to(device)\n",
        "                labels = labels.to(device)\n",
        "\n",
        "                # Forward pass - compute outputs on input data using the model\n",
        "                outputs = model(inputs)\n",
        "                \n",
        "                # Compute loss\n",
        "                loss = loss_criterion(outputs, labels)\n",
        "\n",
        "                # Compute the total loss for the batch and add it to valid_loss\n",
        "                valid_loss += loss.item() * inputs.size(0)\n",
        "\n",
        "                # Calculate validation accuracy\n",
        "                ret, predictions = torch.max(outputs.data, 1)\n",
        "                correct_counts = predictions.eq(labels.data.view_as(predictions))\n",
        "\n",
        "                # Convert correct_counts to float and then compute the mean\n",
        "                acc = torch.mean(correct_counts.type(torch.FloatTensor))\n",
        "\n",
        "                # Compute total accuracy in the whole batch and add to valid_acc\n",
        "                valid_acc += acc.item() * inputs.size(0)\n",
        "\n",
        "                #print(\"Validation Batch number: {:03d}, Validation: Loss: {:.4f}, Accuracy: {:.4f}\".format(j, loss.item(), acc.item()))\n",
        "            \n",
        "        # Find average training loss and training accuracy\n",
        "        avg_train_loss = train_loss/subset_train_size \n",
        "        avg_train_acc = train_acc/subset_train_size\n",
        "\n",
        "        # Find average training loss and training accuracy\n",
        "        avg_valid_loss = valid_loss/subset_val_size \n",
        "        avg_valid_acc = valid_acc/subset_val_size\n",
        "\n",
        "        history.append([avg_train_loss, avg_valid_loss, avg_train_acc, avg_valid_acc])\n",
        "                \n",
        "        epoch_end = time.time()\n",
        "    \n",
        "        print(\"Epoch : {:03d}, Training: Loss: {:.4f}, Accuracy: {:.4f}%, \\n\\t\\tValidation : Loss : {:.4f}, Accuracy: {:.4f}%, Time: {:.4f}s\".format(epoch+1, avg_train_loss, avg_train_acc*100, avg_valid_loss, avg_valid_acc*100, epoch_end-epoch_start))\n",
        "        \n",
        "        # Save if the model has best accuracy till now\n",
        "        #torch.save(model, dataset+'_model_'+str(epoch)+'.pt')\n",
        "            \n",
        "    return model, history"
      ]
    },
    {
      "cell_type": "code",
      "execution_count": 121,
      "id": "86f5df8a-9e0b-4bc8-b2ed-1f7f9504ffe1",
      "metadata": {
        "id": "86f5df8a-9e0b-4bc8-b2ed-1f7f9504ffe1"
      },
      "outputs": [
        {
          "ename": "AssertionError",
          "evalue": "Torch not compiled with CUDA enabled",
          "output_type": "error",
          "traceback": [
            "\u001b[1;31m---------------------------------------------------------------------------\u001b[0m",
            "\u001b[1;31mAssertionError\u001b[0m                            Traceback (most recent call last)",
            "Cell \u001b[1;32mIn [121], line 1\u001b[0m\n\u001b[1;32m----> 1\u001b[0m alexnet \u001b[39m=\u001b[39m alexnet\u001b[39m.\u001b[39;49mto(\u001b[39m'\u001b[39;49m\u001b[39mcuda\u001b[39;49m\u001b[39m'\u001b[39;49m)\n",
            "File \u001b[1;32mc:\\Users\\William Hazen\\anaconda3\\envs\\speech_recon_venv\\lib\\site-packages\\torch\\nn\\modules\\module.py:987\u001b[0m, in \u001b[0;36mModule.to\u001b[1;34m(self, *args, **kwargs)\u001b[0m\n\u001b[0;32m    983\u001b[0m         \u001b[39mreturn\u001b[39;00m t\u001b[39m.\u001b[39mto(device, dtype \u001b[39mif\u001b[39;00m t\u001b[39m.\u001b[39mis_floating_point() \u001b[39mor\u001b[39;00m t\u001b[39m.\u001b[39mis_complex() \u001b[39melse\u001b[39;00m \u001b[39mNone\u001b[39;00m,\n\u001b[0;32m    984\u001b[0m                     non_blocking, memory_format\u001b[39m=\u001b[39mconvert_to_format)\n\u001b[0;32m    985\u001b[0m     \u001b[39mreturn\u001b[39;00m t\u001b[39m.\u001b[39mto(device, dtype \u001b[39mif\u001b[39;00m t\u001b[39m.\u001b[39mis_floating_point() \u001b[39mor\u001b[39;00m t\u001b[39m.\u001b[39mis_complex() \u001b[39melse\u001b[39;00m \u001b[39mNone\u001b[39;00m, non_blocking)\n\u001b[1;32m--> 987\u001b[0m \u001b[39mreturn\u001b[39;00m \u001b[39mself\u001b[39;49m\u001b[39m.\u001b[39;49m_apply(convert)\n",
            "File \u001b[1;32mc:\\Users\\William Hazen\\anaconda3\\envs\\speech_recon_venv\\lib\\site-packages\\torch\\nn\\modules\\module.py:639\u001b[0m, in \u001b[0;36mModule._apply\u001b[1;34m(self, fn)\u001b[0m\n\u001b[0;32m    637\u001b[0m \u001b[39mdef\u001b[39;00m \u001b[39m_apply\u001b[39m(\u001b[39mself\u001b[39m, fn):\n\u001b[0;32m    638\u001b[0m     \u001b[39mfor\u001b[39;00m module \u001b[39min\u001b[39;00m \u001b[39mself\u001b[39m\u001b[39m.\u001b[39mchildren():\n\u001b[1;32m--> 639\u001b[0m         module\u001b[39m.\u001b[39;49m_apply(fn)\n\u001b[0;32m    641\u001b[0m     \u001b[39mdef\u001b[39;00m \u001b[39mcompute_should_use_set_data\u001b[39m(tensor, tensor_applied):\n\u001b[0;32m    642\u001b[0m         \u001b[39mif\u001b[39;00m torch\u001b[39m.\u001b[39m_has_compatible_shallow_copy_type(tensor, tensor_applied):\n\u001b[0;32m    643\u001b[0m             \u001b[39m# If the new tensor has compatible tensor type as the existing tensor,\u001b[39;00m\n\u001b[0;32m    644\u001b[0m             \u001b[39m# the current behavior is to change the tensor in-place using `.data =`,\u001b[39;00m\n\u001b[1;32m   (...)\u001b[0m\n\u001b[0;32m    649\u001b[0m             \u001b[39m# global flag to let the user control whether they want the future\u001b[39;00m\n\u001b[0;32m    650\u001b[0m             \u001b[39m# behavior of overwriting the existing tensor or not.\u001b[39;00m\n",
            "File \u001b[1;32mc:\\Users\\William Hazen\\anaconda3\\envs\\speech_recon_venv\\lib\\site-packages\\torch\\nn\\modules\\module.py:639\u001b[0m, in \u001b[0;36mModule._apply\u001b[1;34m(self, fn)\u001b[0m\n\u001b[0;32m    637\u001b[0m \u001b[39mdef\u001b[39;00m \u001b[39m_apply\u001b[39m(\u001b[39mself\u001b[39m, fn):\n\u001b[0;32m    638\u001b[0m     \u001b[39mfor\u001b[39;00m module \u001b[39min\u001b[39;00m \u001b[39mself\u001b[39m\u001b[39m.\u001b[39mchildren():\n\u001b[1;32m--> 639\u001b[0m         module\u001b[39m.\u001b[39;49m_apply(fn)\n\u001b[0;32m    641\u001b[0m     \u001b[39mdef\u001b[39;00m \u001b[39mcompute_should_use_set_data\u001b[39m(tensor, tensor_applied):\n\u001b[0;32m    642\u001b[0m         \u001b[39mif\u001b[39;00m torch\u001b[39m.\u001b[39m_has_compatible_shallow_copy_type(tensor, tensor_applied):\n\u001b[0;32m    643\u001b[0m             \u001b[39m# If the new tensor has compatible tensor type as the existing tensor,\u001b[39;00m\n\u001b[0;32m    644\u001b[0m             \u001b[39m# the current behavior is to change the tensor in-place using `.data =`,\u001b[39;00m\n\u001b[1;32m   (...)\u001b[0m\n\u001b[0;32m    649\u001b[0m             \u001b[39m# global flag to let the user control whether they want the future\u001b[39;00m\n\u001b[0;32m    650\u001b[0m             \u001b[39m# behavior of overwriting the existing tensor or not.\u001b[39;00m\n",
            "File \u001b[1;32mc:\\Users\\William Hazen\\anaconda3\\envs\\speech_recon_venv\\lib\\site-packages\\torch\\nn\\modules\\module.py:662\u001b[0m, in \u001b[0;36mModule._apply\u001b[1;34m(self, fn)\u001b[0m\n\u001b[0;32m    658\u001b[0m \u001b[39m# Tensors stored in modules are graph leaves, and we don't want to\u001b[39;00m\n\u001b[0;32m    659\u001b[0m \u001b[39m# track autograd history of `param_applied`, so we have to use\u001b[39;00m\n\u001b[0;32m    660\u001b[0m \u001b[39m# `with torch.no_grad():`\u001b[39;00m\n\u001b[0;32m    661\u001b[0m \u001b[39mwith\u001b[39;00m torch\u001b[39m.\u001b[39mno_grad():\n\u001b[1;32m--> 662\u001b[0m     param_applied \u001b[39m=\u001b[39m fn(param)\n\u001b[0;32m    663\u001b[0m should_use_set_data \u001b[39m=\u001b[39m compute_should_use_set_data(param, param_applied)\n\u001b[0;32m    664\u001b[0m \u001b[39mif\u001b[39;00m should_use_set_data:\n",
            "File \u001b[1;32mc:\\Users\\William Hazen\\anaconda3\\envs\\speech_recon_venv\\lib\\site-packages\\torch\\nn\\modules\\module.py:985\u001b[0m, in \u001b[0;36mModule.to.<locals>.convert\u001b[1;34m(t)\u001b[0m\n\u001b[0;32m    982\u001b[0m \u001b[39mif\u001b[39;00m convert_to_format \u001b[39mis\u001b[39;00m \u001b[39mnot\u001b[39;00m \u001b[39mNone\u001b[39;00m \u001b[39mand\u001b[39;00m t\u001b[39m.\u001b[39mdim() \u001b[39min\u001b[39;00m (\u001b[39m4\u001b[39m, \u001b[39m5\u001b[39m):\n\u001b[0;32m    983\u001b[0m     \u001b[39mreturn\u001b[39;00m t\u001b[39m.\u001b[39mto(device, dtype \u001b[39mif\u001b[39;00m t\u001b[39m.\u001b[39mis_floating_point() \u001b[39mor\u001b[39;00m t\u001b[39m.\u001b[39mis_complex() \u001b[39melse\u001b[39;00m \u001b[39mNone\u001b[39;00m,\n\u001b[0;32m    984\u001b[0m                 non_blocking, memory_format\u001b[39m=\u001b[39mconvert_to_format)\n\u001b[1;32m--> 985\u001b[0m \u001b[39mreturn\u001b[39;00m t\u001b[39m.\u001b[39;49mto(device, dtype \u001b[39mif\u001b[39;49;00m t\u001b[39m.\u001b[39;49mis_floating_point() \u001b[39mor\u001b[39;49;00m t\u001b[39m.\u001b[39;49mis_complex() \u001b[39melse\u001b[39;49;00m \u001b[39mNone\u001b[39;49;00m, non_blocking)\n",
            "File \u001b[1;32mc:\\Users\\William Hazen\\anaconda3\\envs\\speech_recon_venv\\lib\\site-packages\\torch\\cuda\\__init__.py:221\u001b[0m, in \u001b[0;36m_lazy_init\u001b[1;34m()\u001b[0m\n\u001b[0;32m    217\u001b[0m     \u001b[39mraise\u001b[39;00m \u001b[39mRuntimeError\u001b[39;00m(\n\u001b[0;32m    218\u001b[0m         \u001b[39m\"\u001b[39m\u001b[39mCannot re-initialize CUDA in forked subprocess. To use CUDA with \u001b[39m\u001b[39m\"\u001b[39m\n\u001b[0;32m    219\u001b[0m         \u001b[39m\"\u001b[39m\u001b[39mmultiprocessing, you must use the \u001b[39m\u001b[39m'\u001b[39m\u001b[39mspawn\u001b[39m\u001b[39m'\u001b[39m\u001b[39m start method\u001b[39m\u001b[39m\"\u001b[39m)\n\u001b[0;32m    220\u001b[0m \u001b[39mif\u001b[39;00m \u001b[39mnot\u001b[39;00m \u001b[39mhasattr\u001b[39m(torch\u001b[39m.\u001b[39m_C, \u001b[39m'\u001b[39m\u001b[39m_cuda_getDeviceCount\u001b[39m\u001b[39m'\u001b[39m):\n\u001b[1;32m--> 221\u001b[0m     \u001b[39mraise\u001b[39;00m \u001b[39mAssertionError\u001b[39;00m(\u001b[39m\"\u001b[39m\u001b[39mTorch not compiled with CUDA enabled\u001b[39m\u001b[39m\"\u001b[39m)\n\u001b[0;32m    222\u001b[0m \u001b[39mif\u001b[39;00m _cudart \u001b[39mis\u001b[39;00m \u001b[39mNone\u001b[39;00m:\n\u001b[0;32m    223\u001b[0m     \u001b[39mraise\u001b[39;00m \u001b[39mAssertionError\u001b[39;00m(\n\u001b[0;32m    224\u001b[0m         \u001b[39m\"\u001b[39m\u001b[39mlibcudart functions unavailable. It looks like you have a broken build?\u001b[39m\u001b[39m\"\u001b[39m)\n",
            "\u001b[1;31mAssertionError\u001b[0m: Torch not compiled with CUDA enabled"
          ]
        }
      ],
      "source": [
        "alexnet = alexnet.to('cuda')"
      ]
    },
    {
      "cell_type": "code",
      "execution_count": null,
      "id": "d9a110df-5646-41b6-87af-b341e5a5c117",
      "metadata": {
        "id": "d9a110df-5646-41b6-87af-b341e5a5c117"
      },
      "outputs": [],
      "source": []
    },
    {
      "cell_type": "code",
      "execution_count": 122,
      "id": "d127a545-4726-41ab-9b0e-c700842cadd9",
      "metadata": {
        "id": "d127a545-4726-41ab-9b0e-c700842cadd9"
      },
      "outputs": [
        {
          "name": "stdout",
          "output_type": "stream",
          "text": [
            "Epoch: 1/25\n"
          ]
        },
        {
          "name": "stderr",
          "output_type": "stream",
          "text": [
            "C:\\Users\\William Hazen\\AppData\\Local\\Temp\\ipykernel_6868\\1364449930.py:45: UserWarning: To copy construct from a tensor, it is recommended to use sourceTensor.clone().detach() or sourceTensor.clone().detach().requires_grad_(True), rather than torch.tensor(sourceTensor).\n",
            "  mfcc = torch.tensor(mfcc)\n"
          ]
        },
        {
          "ename": "KeyboardInterrupt",
          "evalue": "",
          "output_type": "error",
          "traceback": [
            "\u001b[1;31m---------------------------------------------------------------------------\u001b[0m",
            "\u001b[1;31mKeyboardInterrupt\u001b[0m                         Traceback (most recent call last)",
            "Cell \u001b[1;32mIn [122], line 4\u001b[0m\n\u001b[0;32m      1\u001b[0m device \u001b[39m=\u001b[39m torch\u001b[39m.\u001b[39mdevice(\u001b[39m\"\u001b[39m\u001b[39mcuda:0\u001b[39m\u001b[39m\"\u001b[39m \u001b[39mif\u001b[39;00m torch\u001b[39m.\u001b[39mcuda\u001b[39m.\u001b[39mis_available() \u001b[39melse\u001b[39;00m \u001b[39m\"\u001b[39m\u001b[39mcpu\u001b[39m\u001b[39m\"\u001b[39m)\n\u001b[1;32m----> 4\u001b[0m trained_model, history \u001b[39m=\u001b[39m train_and_validate(alexnet, epochs\u001b[39m=\u001b[39;49m\u001b[39m25\u001b[39;49m, batch_size \u001b[39m=\u001b[39;49m \u001b[39m64\u001b[39;49m, lr\u001b[39m=\u001b[39;49m\u001b[39m1e-3\u001b[39;49m)\n",
            "Cell \u001b[1;32mIn [120], line 40\u001b[0m, in \u001b[0;36mtrain_and_validate\u001b[1;34m(model, epochs, batch_size, lr)\u001b[0m\n\u001b[0;32m     37\u001b[0m valid_loss \u001b[39m=\u001b[39m \u001b[39m0.0\u001b[39m\n\u001b[0;32m     38\u001b[0m valid_acc \u001b[39m=\u001b[39m \u001b[39m0.0\u001b[39m\n\u001b[1;32m---> 40\u001b[0m \u001b[39mfor\u001b[39;00m i, (inputs, labels) \u001b[39min\u001b[39;00m \u001b[39menumerate\u001b[39m(train_loader):\n\u001b[0;32m     42\u001b[0m     inputs \u001b[39m=\u001b[39m inputs\u001b[39m.\u001b[39mto(device)\n\u001b[0;32m     43\u001b[0m     labels \u001b[39m=\u001b[39m labels\u001b[39m.\u001b[39mto(device)\n",
            "File \u001b[1;32mc:\\Users\\William Hazen\\anaconda3\\envs\\speech_recon_venv\\lib\\site-packages\\torch\\utils\\data\\dataloader.py:628\u001b[0m, in \u001b[0;36m_BaseDataLoaderIter.__next__\u001b[1;34m(self)\u001b[0m\n\u001b[0;32m    625\u001b[0m \u001b[39mif\u001b[39;00m \u001b[39mself\u001b[39m\u001b[39m.\u001b[39m_sampler_iter \u001b[39mis\u001b[39;00m \u001b[39mNone\u001b[39;00m:\n\u001b[0;32m    626\u001b[0m     \u001b[39m# TODO(https://github.com/pytorch/pytorch/issues/76750)\u001b[39;00m\n\u001b[0;32m    627\u001b[0m     \u001b[39mself\u001b[39m\u001b[39m.\u001b[39m_reset()  \u001b[39m# type: ignore[call-arg]\u001b[39;00m\n\u001b[1;32m--> 628\u001b[0m data \u001b[39m=\u001b[39m \u001b[39mself\u001b[39;49m\u001b[39m.\u001b[39;49m_next_data()\n\u001b[0;32m    629\u001b[0m \u001b[39mself\u001b[39m\u001b[39m.\u001b[39m_num_yielded \u001b[39m+\u001b[39m\u001b[39m=\u001b[39m \u001b[39m1\u001b[39m\n\u001b[0;32m    630\u001b[0m \u001b[39mif\u001b[39;00m \u001b[39mself\u001b[39m\u001b[39m.\u001b[39m_dataset_kind \u001b[39m==\u001b[39m _DatasetKind\u001b[39m.\u001b[39mIterable \u001b[39mand\u001b[39;00m \\\n\u001b[0;32m    631\u001b[0m         \u001b[39mself\u001b[39m\u001b[39m.\u001b[39m_IterableDataset_len_called \u001b[39mis\u001b[39;00m \u001b[39mnot\u001b[39;00m \u001b[39mNone\u001b[39;00m \u001b[39mand\u001b[39;00m \\\n\u001b[0;32m    632\u001b[0m         \u001b[39mself\u001b[39m\u001b[39m.\u001b[39m_num_yielded \u001b[39m>\u001b[39m \u001b[39mself\u001b[39m\u001b[39m.\u001b[39m_IterableDataset_len_called:\n",
            "File \u001b[1;32mc:\\Users\\William Hazen\\anaconda3\\envs\\speech_recon_venv\\lib\\site-packages\\torch\\utils\\data\\dataloader.py:671\u001b[0m, in \u001b[0;36m_SingleProcessDataLoaderIter._next_data\u001b[1;34m(self)\u001b[0m\n\u001b[0;32m    669\u001b[0m \u001b[39mdef\u001b[39;00m \u001b[39m_next_data\u001b[39m(\u001b[39mself\u001b[39m):\n\u001b[0;32m    670\u001b[0m     index \u001b[39m=\u001b[39m \u001b[39mself\u001b[39m\u001b[39m.\u001b[39m_next_index()  \u001b[39m# may raise StopIteration\u001b[39;00m\n\u001b[1;32m--> 671\u001b[0m     data \u001b[39m=\u001b[39m \u001b[39mself\u001b[39;49m\u001b[39m.\u001b[39;49m_dataset_fetcher\u001b[39m.\u001b[39;49mfetch(index)  \u001b[39m# may raise StopIteration\u001b[39;00m\n\u001b[0;32m    672\u001b[0m     \u001b[39mif\u001b[39;00m \u001b[39mself\u001b[39m\u001b[39m.\u001b[39m_pin_memory:\n\u001b[0;32m    673\u001b[0m         data \u001b[39m=\u001b[39m _utils\u001b[39m.\u001b[39mpin_memory\u001b[39m.\u001b[39mpin_memory(data, \u001b[39mself\u001b[39m\u001b[39m.\u001b[39m_pin_memory_device)\n",
            "File \u001b[1;32mc:\\Users\\William Hazen\\anaconda3\\envs\\speech_recon_venv\\lib\\site-packages\\torch\\utils\\data\\_utils\\fetch.py:58\u001b[0m, in \u001b[0;36m_MapDatasetFetcher.fetch\u001b[1;34m(self, possibly_batched_index)\u001b[0m\n\u001b[0;32m     56\u001b[0m         data \u001b[39m=\u001b[39m \u001b[39mself\u001b[39m\u001b[39m.\u001b[39mdataset\u001b[39m.\u001b[39m__getitems__(possibly_batched_index)\n\u001b[0;32m     57\u001b[0m     \u001b[39melse\u001b[39;00m:\n\u001b[1;32m---> 58\u001b[0m         data \u001b[39m=\u001b[39m [\u001b[39mself\u001b[39m\u001b[39m.\u001b[39mdataset[idx] \u001b[39mfor\u001b[39;00m idx \u001b[39min\u001b[39;00m possibly_batched_index]\n\u001b[0;32m     59\u001b[0m \u001b[39melse\u001b[39;00m:\n\u001b[0;32m     60\u001b[0m     data \u001b[39m=\u001b[39m \u001b[39mself\u001b[39m\u001b[39m.\u001b[39mdataset[possibly_batched_index]\n",
            "File \u001b[1;32mc:\\Users\\William Hazen\\anaconda3\\envs\\speech_recon_venv\\lib\\site-packages\\torch\\utils\\data\\_utils\\fetch.py:58\u001b[0m, in \u001b[0;36m<listcomp>\u001b[1;34m(.0)\u001b[0m\n\u001b[0;32m     56\u001b[0m         data \u001b[39m=\u001b[39m \u001b[39mself\u001b[39m\u001b[39m.\u001b[39mdataset\u001b[39m.\u001b[39m__getitems__(possibly_batched_index)\n\u001b[0;32m     57\u001b[0m     \u001b[39melse\u001b[39;00m:\n\u001b[1;32m---> 58\u001b[0m         data \u001b[39m=\u001b[39m [\u001b[39mself\u001b[39;49m\u001b[39m.\u001b[39;49mdataset[idx] \u001b[39mfor\u001b[39;00m idx \u001b[39min\u001b[39;00m possibly_batched_index]\n\u001b[0;32m     59\u001b[0m \u001b[39melse\u001b[39;00m:\n\u001b[0;32m     60\u001b[0m     data \u001b[39m=\u001b[39m \u001b[39mself\u001b[39m\u001b[39m.\u001b[39mdataset[possibly_batched_index]\n",
            "File \u001b[1;32mc:\\Users\\William Hazen\\anaconda3\\envs\\speech_recon_venv\\lib\\site-packages\\torch\\utils\\data\\dataset.py:295\u001b[0m, in \u001b[0;36mSubset.__getitem__\u001b[1;34m(self, idx)\u001b[0m\n\u001b[0;32m    293\u001b[0m \u001b[39mif\u001b[39;00m \u001b[39misinstance\u001b[39m(idx, \u001b[39mlist\u001b[39m):\n\u001b[0;32m    294\u001b[0m     \u001b[39mreturn\u001b[39;00m \u001b[39mself\u001b[39m\u001b[39m.\u001b[39mdataset[[\u001b[39mself\u001b[39m\u001b[39m.\u001b[39mindices[i] \u001b[39mfor\u001b[39;00m i \u001b[39min\u001b[39;00m idx]]\n\u001b[1;32m--> 295\u001b[0m \u001b[39mreturn\u001b[39;00m \u001b[39mself\u001b[39;49m\u001b[39m.\u001b[39;49mdataset[\u001b[39mself\u001b[39;49m\u001b[39m.\u001b[39;49mindices[idx]]\n",
            "Cell \u001b[1;32mIn [88], line 39\u001b[0m, in \u001b[0;36mMFCCData.__getitem__\u001b[1;34m(self, idx)\u001b[0m\n\u001b[0;32m     37\u001b[0m     mfcc \u001b[39m=\u001b[39m mfcc\u001b[39m.\u001b[39mreshape(\u001b[39m1\u001b[39m, mfcc\u001b[39m.\u001b[39mshape[\u001b[39m0\u001b[39m], mfcc\u001b[39m.\u001b[39mshape[\u001b[39m1\u001b[39m])\n\u001b[0;32m     38\u001b[0m     mfcc \u001b[39m=\u001b[39m np\u001b[39m.\u001b[39mtranspose(mfcc, [\u001b[39m1\u001b[39m, \u001b[39m2\u001b[39m, \u001b[39m0\u001b[39m])\n\u001b[1;32m---> 39\u001b[0m     mfcc \u001b[39m=\u001b[39m \u001b[39mself\u001b[39;49m\u001b[39m.\u001b[39;49mtransform(mfcc)\n\u001b[0;32m     41\u001b[0m \u001b[39melse\u001b[39;00m:\n\u001b[0;32m     42\u001b[0m     mfcc \u001b[39m=\u001b[39m mfcc\u001b[39m.\u001b[39mreshape(\u001b[39m1\u001b[39m, mfcc\u001b[39m.\u001b[39mshape[\u001b[39m0\u001b[39m], mfcc\u001b[39m.\u001b[39mshape[\u001b[39m1\u001b[39m])\n",
            "File \u001b[1;32mc:\\Users\\William Hazen\\anaconda3\\envs\\speech_recon_venv\\lib\\site-packages\\torchvision\\transforms\\transforms.py:95\u001b[0m, in \u001b[0;36mCompose.__call__\u001b[1;34m(self, img)\u001b[0m\n\u001b[0;32m     93\u001b[0m \u001b[39mdef\u001b[39;00m \u001b[39m__call__\u001b[39m(\u001b[39mself\u001b[39m, img):\n\u001b[0;32m     94\u001b[0m     \u001b[39mfor\u001b[39;00m t \u001b[39min\u001b[39;00m \u001b[39mself\u001b[39m\u001b[39m.\u001b[39mtransforms:\n\u001b[1;32m---> 95\u001b[0m         img \u001b[39m=\u001b[39m t(img)\n\u001b[0;32m     96\u001b[0m     \u001b[39mreturn\u001b[39;00m img\n",
            "File \u001b[1;32mc:\\Users\\William Hazen\\anaconda3\\envs\\speech_recon_venv\\lib\\site-packages\\torch\\nn\\modules\\module.py:1190\u001b[0m, in \u001b[0;36mModule._call_impl\u001b[1;34m(self, *input, **kwargs)\u001b[0m\n\u001b[0;32m   1186\u001b[0m \u001b[39m# If we don't have any hooks, we want to skip the rest of the logic in\u001b[39;00m\n\u001b[0;32m   1187\u001b[0m \u001b[39m# this function, and just call forward.\u001b[39;00m\n\u001b[0;32m   1188\u001b[0m \u001b[39mif\u001b[39;00m \u001b[39mnot\u001b[39;00m (\u001b[39mself\u001b[39m\u001b[39m.\u001b[39m_backward_hooks \u001b[39mor\u001b[39;00m \u001b[39mself\u001b[39m\u001b[39m.\u001b[39m_forward_hooks \u001b[39mor\u001b[39;00m \u001b[39mself\u001b[39m\u001b[39m.\u001b[39m_forward_pre_hooks \u001b[39mor\u001b[39;00m _global_backward_hooks\n\u001b[0;32m   1189\u001b[0m         \u001b[39mor\u001b[39;00m _global_forward_hooks \u001b[39mor\u001b[39;00m _global_forward_pre_hooks):\n\u001b[1;32m-> 1190\u001b[0m     \u001b[39mreturn\u001b[39;00m forward_call(\u001b[39m*\u001b[39m\u001b[39minput\u001b[39m, \u001b[39m*\u001b[39m\u001b[39m*\u001b[39mkwargs)\n\u001b[0;32m   1191\u001b[0m \u001b[39m# Do not call functions when jit is used\u001b[39;00m\n\u001b[0;32m   1192\u001b[0m full_backward_hooks, non_full_backward_hooks \u001b[39m=\u001b[39m [], []\n",
            "File \u001b[1;32mc:\\Users\\William Hazen\\anaconda3\\envs\\speech_recon_venv\\lib\\site-packages\\torchvision\\transforms\\transforms.py:346\u001b[0m, in \u001b[0;36mResize.forward\u001b[1;34m(self, img)\u001b[0m\n\u001b[0;32m    338\u001b[0m \u001b[39mdef\u001b[39;00m \u001b[39mforward\u001b[39m(\u001b[39mself\u001b[39m, img):\n\u001b[0;32m    339\u001b[0m     \u001b[39m\"\"\"\u001b[39;00m\n\u001b[0;32m    340\u001b[0m \u001b[39m    Args:\u001b[39;00m\n\u001b[0;32m    341\u001b[0m \u001b[39m        img (PIL Image or Tensor): Image to be scaled.\u001b[39;00m\n\u001b[1;32m   (...)\u001b[0m\n\u001b[0;32m    344\u001b[0m \u001b[39m        PIL Image or Tensor: Rescaled image.\u001b[39;00m\n\u001b[0;32m    345\u001b[0m \u001b[39m    \"\"\"\u001b[39;00m\n\u001b[1;32m--> 346\u001b[0m     \u001b[39mreturn\u001b[39;00m F\u001b[39m.\u001b[39;49mresize(img, \u001b[39mself\u001b[39;49m\u001b[39m.\u001b[39;49msize, \u001b[39mself\u001b[39;49m\u001b[39m.\u001b[39;49minterpolation, \u001b[39mself\u001b[39;49m\u001b[39m.\u001b[39;49mmax_size, \u001b[39mself\u001b[39;49m\u001b[39m.\u001b[39;49mantialias)\n",
            "File \u001b[1;32mc:\\Users\\William Hazen\\anaconda3\\envs\\speech_recon_venv\\lib\\site-packages\\torchvision\\transforms\\functional.py:476\u001b[0m, in \u001b[0;36mresize\u001b[1;34m(img, size, interpolation, max_size, antialias)\u001b[0m\n\u001b[0;32m    473\u001b[0m     pil_interpolation \u001b[39m=\u001b[39m pil_modes_mapping[interpolation]\n\u001b[0;32m    474\u001b[0m     \u001b[39mreturn\u001b[39;00m F_pil\u001b[39m.\u001b[39mresize(img, size\u001b[39m=\u001b[39moutput_size, interpolation\u001b[39m=\u001b[39mpil_interpolation)\n\u001b[1;32m--> 476\u001b[0m \u001b[39mreturn\u001b[39;00m F_t\u001b[39m.\u001b[39;49mresize(img, size\u001b[39m=\u001b[39;49moutput_size, interpolation\u001b[39m=\u001b[39;49minterpolation\u001b[39m.\u001b[39;49mvalue, antialias\u001b[39m=\u001b[39;49mantialias)\n",
            "File \u001b[1;32mc:\\Users\\William Hazen\\anaconda3\\envs\\speech_recon_venv\\lib\\site-packages\\torchvision\\transforms\\functional_tensor.py:469\u001b[0m, in \u001b[0;36mresize\u001b[1;34m(img, size, interpolation, antialias)\u001b[0m\n\u001b[0;32m    466\u001b[0m \u001b[39m# Define align_corners to avoid warnings\u001b[39;00m\n\u001b[0;32m    467\u001b[0m align_corners \u001b[39m=\u001b[39m \u001b[39mFalse\u001b[39;00m \u001b[39mif\u001b[39;00m interpolation \u001b[39min\u001b[39;00m [\u001b[39m\"\u001b[39m\u001b[39mbilinear\u001b[39m\u001b[39m\"\u001b[39m, \u001b[39m\"\u001b[39m\u001b[39mbicubic\u001b[39m\u001b[39m\"\u001b[39m] \u001b[39melse\u001b[39;00m \u001b[39mNone\u001b[39;00m\n\u001b[1;32m--> 469\u001b[0m img \u001b[39m=\u001b[39m interpolate(img, size\u001b[39m=\u001b[39;49msize, mode\u001b[39m=\u001b[39;49minterpolation, align_corners\u001b[39m=\u001b[39;49malign_corners, antialias\u001b[39m=\u001b[39;49mantialias)\n\u001b[0;32m    471\u001b[0m \u001b[39mif\u001b[39;00m interpolation \u001b[39m==\u001b[39m \u001b[39m\"\u001b[39m\u001b[39mbicubic\u001b[39m\u001b[39m\"\u001b[39m \u001b[39mand\u001b[39;00m out_dtype \u001b[39m==\u001b[39m torch\u001b[39m.\u001b[39muint8:\n\u001b[0;32m    472\u001b[0m     img \u001b[39m=\u001b[39m img\u001b[39m.\u001b[39mclamp(\u001b[39mmin\u001b[39m\u001b[39m=\u001b[39m\u001b[39m0\u001b[39m, \u001b[39mmax\u001b[39m\u001b[39m=\u001b[39m\u001b[39m255\u001b[39m)\n",
            "File \u001b[1;32mc:\\Users\\William Hazen\\anaconda3\\envs\\speech_recon_venv\\lib\\site-packages\\torch\\nn\\functional.py:3950\u001b[0m, in \u001b[0;36minterpolate\u001b[1;34m(input, size, scale_factor, mode, align_corners, recompute_scale_factor, antialias)\u001b[0m\n\u001b[0;32m   3948\u001b[0m     \u001b[39mif\u001b[39;00m antialias:\n\u001b[0;32m   3949\u001b[0m         \u001b[39mreturn\u001b[39;00m torch\u001b[39m.\u001b[39m_C\u001b[39m.\u001b[39m_nn\u001b[39m.\u001b[39m_upsample_bilinear2d_aa(\u001b[39minput\u001b[39m, output_size, align_corners, scale_factors)\n\u001b[1;32m-> 3950\u001b[0m     \u001b[39mreturn\u001b[39;00m torch\u001b[39m.\u001b[39;49m_C\u001b[39m.\u001b[39;49m_nn\u001b[39m.\u001b[39;49mupsample_bilinear2d(\u001b[39minput\u001b[39;49m, output_size, align_corners, scale_factors)\n\u001b[0;32m   3951\u001b[0m \u001b[39mif\u001b[39;00m \u001b[39minput\u001b[39m\u001b[39m.\u001b[39mdim() \u001b[39m==\u001b[39m \u001b[39m5\u001b[39m \u001b[39mand\u001b[39;00m mode \u001b[39m==\u001b[39m \u001b[39m\"\u001b[39m\u001b[39mtrilinear\u001b[39m\u001b[39m\"\u001b[39m:\n\u001b[0;32m   3952\u001b[0m     \u001b[39massert\u001b[39;00m align_corners \u001b[39mis\u001b[39;00m \u001b[39mnot\u001b[39;00m \u001b[39mNone\u001b[39;00m\n",
            "\u001b[1;31mKeyboardInterrupt\u001b[0m: "
          ]
        }
      ],
      "source": [
        "device = torch.device(\"cuda:0\" if torch.cuda.is_available() else \"cpu\")\n",
        "\n",
        "\n",
        "trained_model, history = train_and_validate(alexnet, epochs=25, batch_size = 64, lr=1e-3)"
      ]
    },
    {
      "cell_type": "code",
      "execution_count": null,
      "id": "6b468ff5-7f0d-423e-a993-768e18bbb063",
      "metadata": {
        "id": "6b468ff5-7f0d-423e-a993-768e18bbb063"
      },
      "outputs": [
        {
          "data": {
            "text/plain": [
              "<matplotlib.legend.Legend at 0x2336d86c940>"
            ]
          },
          "execution_count": 57,
          "metadata": {},
          "output_type": "execute_result"
        },
        {
          "data": {
            "image/png": "[encoded data removed]",
            "text/plain": [
              "<Figure size 640x480 with 1 Axes>"
            ]
          },
          "metadata": {},
          "output_type": "display_data"
        },
        {
          "data": {
            "image/png": "[encoded data removed]",
            "text/plain": [
              "<Figure size 640x480 with 1 Axes>"
            ]
          },
          "metadata": {},
          "output_type": "display_data"
        }
      ],
      "source": [
        "train_acc = []\n",
        "val_acc = []\n",
        "train_loss = []\n",
        "val_loss = []\n",
        "ep = []\n",
        "i = 0\n",
        "for tloss,vloss, tacc, vacc in history:\n",
        "    train_acc.append(tacc)\n",
        "    val_acc.append(vacc)\n",
        "    train_loss.append(tloss)\n",
        "    val_loss.append(vloss)\n",
        "    ep.append(i)\n",
        "    i += 1\n",
        "\n",
        "\n",
        "n = len(train_loss) # number of epochs\n",
        "plt.figure()\n",
        "plt.title(\"Train vs Validation Loss\")\n",
        "plt.plot(range(1,n+1), train_loss, label=\"Train\")\n",
        "plt.plot(range(1,n+1), val_loss, label=\"Validation\")\n",
        "plt.xlabel(\"Epoch\")\n",
        "plt.ylabel(\"Loss\")\n",
        "plt.legend(loc='best')\n",
        "# plt.show()\n",
        "\n",
        "plt.figure()\n",
        "plt.title(\"Train vs Validation Accuracy\")\n",
        "plt.plot(range(1,n+1), train_acc, label=\"Train\")\n",
        "plt.plot(range(1,n+1), val_acc, label=\"Validation\")\n",
        "plt.xlabel(\"Epoch\")\n",
        "plt.ylabel(\"Accuracy\")\n",
        "plt.legend(loc='best')"
      ]
    },
    {
      "cell_type": "code",
      "execution_count": null,
      "id": "38dd4648-8242-4f7c-8bb5-986a3fb23032",
      "metadata": {
        "id": "38dd4648-8242-4f7c-8bb5-986a3fb23032"
      },
      "outputs": [],
      "source": [
        "#TODO: Ran alexnet 3 times for the report [WILL]"
      ]
    },
    {
      "cell_type": "markdown",
      "id": "f8e7fd1f",
      "metadata": {},
      "source": [
        "AlexNet #2:\n",
        "Single FC output layer with Softmax activation function"
      ]
    },
    {
      "cell_type": "code",
      "execution_count": 26,
      "id": "2ad1d8e8",
      "metadata": {},
      "outputs": [
        {
          "data": {
            "text/plain": [
              "AlexNet(\n",
              "  (features): Sequential(\n",
              "    (0): Conv2d(1, 64, kernel_size=(1, 1), stride=(1, 1))\n",
              "    (1): ReLU(inplace=True)\n",
              "    (2): MaxPool2d(kernel_size=3, stride=2, padding=0, dilation=1, ceil_mode=False)\n",
              "    (3): Conv2d(64, 192, kernel_size=(5, 5), stride=(1, 1), padding=(2, 2))\n",
              "    (4): ReLU(inplace=True)\n",
              "    (5): MaxPool2d(kernel_size=3, stride=2, padding=0, dilation=1, ceil_mode=False)\n",
              "    (6): Conv2d(192, 384, kernel_size=(3, 3), stride=(1, 1), padding=(1, 1))\n",
              "    (7): ReLU(inplace=True)\n",
              "    (8): Conv2d(384, 256, kernel_size=(3, 3), stride=(1, 1), padding=(1, 1))\n",
              "    (9): ReLU(inplace=True)\n",
              "    (10): Conv2d(256, 256, kernel_size=(3, 3), stride=(1, 1), padding=(1, 1))\n",
              "    (11): ReLU(inplace=True)\n",
              "    (12): MaxPool2d(kernel_size=3, stride=2, padding=0, dilation=1, ceil_mode=False)\n",
              "  )\n",
              "  (avgpool): AdaptiveAvgPool2d(output_size=(6, 6))\n",
              "  (classifier): Sequential(\n",
              "    (0): Dropout(p=0.5, inplace=False)\n",
              "    (1): Linear(in_features=9216, out_features=4096, bias=True)\n",
              "    (2): ReLU(inplace=True)\n",
              "    (3): Dropout(p=0.5, inplace=False)\n",
              "    (4): Linear(in_features=4096, out_features=4096, bias=True)\n",
              "    (5): ReLU(inplace=True)\n",
              "    (6): Linear(in_features=4096, out_features=251, bias=True)\n",
              "    (7): LogSoftmax(dim=1)\n",
              "  )\n",
              ")"
            ]
          },
          "execution_count": 26,
          "metadata": {},
          "output_type": "execute_result"
        }
      ],
      "source": [
        "alexnet2 = models.alexnet(pretrained=False)\n",
        "# Freeze model parameters\n",
        "#for param in alexnet2.parameters():\n",
        "#    param.requires_grad = False\n",
        "#Modify the model structure\n",
        "# Input layer to 1 channel for one channel img    \n",
        "alexnet2.features[0] = nn.Conv2d(1, 64, kernel_size=(1,1))\n",
        "#Modify the final output layer\n",
        "alexnet2.classifier.add_module(\"6\",nn.Linear(4096, len(np.unique(df_spkr['speaker_id']))))\n",
        "alexnet2.classifier.add_module(\"7\", nn.LogSoftmax(dim = 1))\n",
        "alexnet2"
      ]
    },
    {
      "cell_type": "code",
      "execution_count": 29,
      "id": "1454527c",
      "metadata": {},
      "outputs": [
        {
          "name": "stdout",
          "output_type": "stream",
          "text": [
            "Epoch: 1/55\n"
          ]
        },
        {
          "name": "stderr",
          "output_type": "stream",
          "text": [
            "C:\\Users\\David\\AppData\\Local\\Temp\\ipykernel_8320\\1364449930.py:45: UserWarning: To copy construct from a tensor, it is recommended to use sourceTensor.clone().detach() or sourceTensor.clone().detach().requires_grad_(True), rather than torch.tensor(sourceTensor).\n",
            "  mfcc = torch.tensor(mfcc)\n"
          ]
        },
        {
          "name": "stdout",
          "output_type": "stream",
          "text": [
            "Epoch : 001, Training: Loss: 5.5273, Accuracy: 0.2911%, \n",
            "\t\tValidation : Loss : 5.5231, Accuracy: 0.7373%, Time: 26.7232s\n",
            "Epoch: 2/55\n"
          ]
        },
        {
          "ename": "KeyboardInterrupt",
          "evalue": "",
          "output_type": "error",
          "traceback": [
            "\u001b[1;31m---------------------------------------------------------------------------\u001b[0m",
            "\u001b[1;31mKeyboardInterrupt\u001b[0m                         Traceback (most recent call last)",
            "Cell \u001b[1;32mIn [29], line 5\u001b[0m\n\u001b[0;32m      1\u001b[0m alexnet2 \u001b[39m=\u001b[39m alexnet2\u001b[39m.\u001b[39mto(\u001b[39m'\u001b[39m\u001b[39mcuda\u001b[39m\u001b[39m'\u001b[39m)\n\u001b[0;32m      2\u001b[0m device \u001b[39m=\u001b[39m torch\u001b[39m.\u001b[39mdevice(\u001b[39m\"\u001b[39m\u001b[39mcuda:0\u001b[39m\u001b[39m\"\u001b[39m \u001b[39mif\u001b[39;00m torch\u001b[39m.\u001b[39mcuda\u001b[39m.\u001b[39mis_available() \u001b[39melse\u001b[39;00m \u001b[39m\"\u001b[39m\u001b[39mcpu\u001b[39m\u001b[39m\"\u001b[39m)\n\u001b[1;32m----> 5\u001b[0m trained_model, history \u001b[39m=\u001b[39m train_and_validate(alexnet2, epochs\u001b[39m=\u001b[39;49m\u001b[39m55\u001b[39;49m, batch_size \u001b[39m=\u001b[39;49m \u001b[39m64\u001b[39;49m, lr\u001b[39m=\u001b[39;49m\u001b[39m1e-4\u001b[39;49m)\n",
            "Cell \u001b[1;32mIn [21], line 61\u001b[0m, in \u001b[0;36mtrain_and_validate\u001b[1;34m(model, epochs, batch_size, lr)\u001b[0m\n\u001b[0;32m     58\u001b[0m optimizer\u001b[39m.\u001b[39mstep()\n\u001b[0;32m     60\u001b[0m \u001b[39m# Compute the total loss for the batch and add it to train_loss\u001b[39;00m\n\u001b[1;32m---> 61\u001b[0m train_loss \u001b[39m+\u001b[39m\u001b[39m=\u001b[39m loss\u001b[39m.\u001b[39;49mitem() \u001b[39m*\u001b[39m inputs\u001b[39m.\u001b[39msize(\u001b[39m0\u001b[39m)\n\u001b[0;32m     63\u001b[0m \u001b[39m# Compute the accuracy\u001b[39;00m\n\u001b[0;32m     64\u001b[0m ret, predictions \u001b[39m=\u001b[39m torch\u001b[39m.\u001b[39mmax(outputs\u001b[39m.\u001b[39mdata, \u001b[39m1\u001b[39m)\n",
            "\u001b[1;31mKeyboardInterrupt\u001b[0m: "
          ]
        }
      ],
      "source": [
        "alexnet2 = alexnet2.to('cuda')\n",
        "device = torch.device(\"cuda:0\" if torch.cuda.is_available() else \"cpu\")\n",
        "\n",
        "\n",
        "trained_model, history = train_and_validate(alexnet2, epochs=55, batch_size = 64, lr=1e-4)"
      ]
    },
    {
      "cell_type": "code",
      "execution_count": null,
      "id": "371f14d2",
      "metadata": {},
      "outputs": [
        {
          "data": {
            "text/plain": [
              "<matplotlib.legend.Legend at 0x139eb87dff0>"
            ]
          },
          "execution_count": 49,
          "metadata": {},
          "output_type": "execute_result"
        },
        {
          "data": {
            "image/png": "[encoded data removed]",
            "text/plain": [
              "<Figure size 640x480 with 1 Axes>"
            ]
          },
          "metadata": {},
          "output_type": "display_data"
        },
        {
          "data": {
            "image/png": "[encoded data removed]",
            "text/plain": [
              "<Figure size 640x480 with 1 Axes>"
            ]
          },
          "metadata": {},
          "output_type": "display_data"
        }
      ],
      "source": [
        "train_acc = []\n",
        "val_acc = []\n",
        "train_loss = []\n",
        "val_loss = []\n",
        "ep = []\n",
        "i = 0\n",
        "for tloss,vloss, tacc, vacc in history:\n",
        "    train_acc.append(tacc)\n",
        "    val_acc.append(vacc)\n",
        "    train_loss.append(tloss)\n",
        "    val_loss.append(vloss)\n",
        "    ep.append(i)\n",
        "    i += 1\n",
        "\n",
        "\n",
        "n = len(train_loss) # number of epochs\n",
        "plt.figure()\n",
        "plt.title(\"Train vs Validation Loss\")\n",
        "plt.plot(range(1,n+1), train_loss, label=\"Train\")\n",
        "plt.plot(range(1,n+1), val_loss, label=\"Validation\")\n",
        "plt.xlabel(\"Epoch\")\n",
        "plt.ylabel(\"Loss\")\n",
        "plt.legend(loc='best')\n",
        "# plt.show()\n",
        "\n",
        "plt.figure()\n",
        "plt.title(\"Train vs Validation Accuracy\")\n",
        "plt.plot(range(1,n+1), train_acc, label=\"Train\")\n",
        "plt.plot(range(1,n+1), val_acc, label=\"Validation\")\n",
        "plt.xlabel(\"Epoch\")\n",
        "plt.ylabel(\"Accuracy\")\n",
        "plt.legend(loc='best')"
      ]
    },
    {
      "cell_type": "code",
      "execution_count": null,
      "id": "f8f0ab7e",
      "metadata": {},
      "outputs": [],
      "source": []
    },
    {
      "cell_type": "code",
      "execution_count": null,
      "id": "cad9a342",
      "metadata": {},
      "outputs": [],
      "source": []
    },
    {
      "cell_type": "markdown",
      "id": "39b388d2",
      "metadata": {},
      "source": [
        "AlexNet #3: ReLU activation function between last two FC layers and Softmax at end"
      ]
    },
    {
      "cell_type": "code",
      "execution_count": 19,
      "id": "6a3e7d38",
      "metadata": {},
      "outputs": [
        {
          "data": {
            "text/plain": [
              "AlexNet(\n",
              "  (features): Sequential(\n",
              "    (0): Conv2d(1, 64, kernel_size=(1, 1), stride=(1, 1))\n",
              "    (1): ReLU(inplace=True)\n",
              "    (2): MaxPool2d(kernel_size=3, stride=2, padding=0, dilation=1, ceil_mode=False)\n",
              "    (3): Conv2d(64, 192, kernel_size=(5, 5), stride=(1, 1), padding=(2, 2))\n",
              "    (4): ReLU(inplace=True)\n",
              "    (5): MaxPool2d(kernel_size=3, stride=2, padding=0, dilation=1, ceil_mode=False)\n",
              "    (6): Conv2d(192, 384, kernel_size=(3, 3), stride=(1, 1), padding=(1, 1))\n",
              "    (7): ReLU(inplace=True)\n",
              "    (8): Conv2d(384, 256, kernel_size=(3, 3), stride=(1, 1), padding=(1, 1))\n",
              "    (9): ReLU(inplace=True)\n",
              "    (10): Conv2d(256, 256, kernel_size=(3, 3), stride=(1, 1), padding=(1, 1))\n",
              "    (11): ReLU(inplace=True)\n",
              "    (12): MaxPool2d(kernel_size=3, stride=2, padding=0, dilation=1, ceil_mode=False)\n",
              "  )\n",
              "  (avgpool): AdaptiveAvgPool2d(output_size=(6, 6))\n",
              "  (classifier): Sequential(\n",
              "    (0): Dropout(p=0.5, inplace=False)\n",
              "    (1): Linear(in_features=9216, out_features=4096, bias=True)\n",
              "    (2): ReLU(inplace=True)\n",
              "    (3): Dropout(p=0.5, inplace=False)\n",
              "    (4): Linear(in_features=4096, out_features=4096, bias=True)\n",
              "    (5): ReLU(inplace=True)\n",
              "    (6): Linear(in_features=4096, out_features=2048, bias=True)\n",
              "    (7): ReLU()\n",
              "    (8): Linear(in_features=2048, out_features=251, bias=True)\n",
              "    (9): LogSoftmax(dim=1)\n",
              "  )\n",
              ")"
            ]
          },
          "execution_count": 19,
          "metadata": {},
          "output_type": "execute_result"
        }
      ],
      "source": [
        "alexnet3 = models.alexnet(pretrained=False)\n",
        "# Freeze model parameters\n",
        "#for param in alexnet3.parameters():\n",
        "#    param.requires_grad = False\n",
        "#Modify the model structure\n",
        "# Input layer to 1 channel for one channel img    \n",
        "alexnet3.features[0] = nn.Conv2d(1, 64, kernel_size=(1,1))\n",
        "\n",
        "#Modify the final output layer\n",
        "alexnet3.classifier.add_module(\"6\",nn.Linear(4096, 2048))\n",
        "alexnet3.classifier.add_module(\"7\",nn.ReLU())\n",
        "alexnet3.classifier.add_module(\"8\",nn.Linear(2048, len(np.unique(df_spkr['speaker_id']))))\n",
        "alexnet3.classifier.add_module(\"9\", nn.LogSoftmax(dim = 1))\n",
        "alexnet3"
      ]
    },
    {
      "cell_type": "code",
      "execution_count": null,
      "id": "f13e597d",
      "metadata": {},
      "outputs": [
        {
          "ename": "RuntimeError",
          "evalue": "CUDA error: device-side assert triggered\nCUDA kernel errors might be asynchronously reported at some other API call,so the stacktrace below might be incorrect.\nFor debugging consider passing CUDA_LAUNCH_BLOCKING=1.",
          "output_type": "error",
          "traceback": [
            "\u001b[1;31m---------------------------------------------------------------------------\u001b[0m",
            "\u001b[1;31mRuntimeError\u001b[0m                              Traceback (most recent call last)",
            "Cell \u001b[1;32mIn [32], line 1\u001b[0m\n\u001b[1;32m----> 1\u001b[0m alexnet3 \u001b[39m=\u001b[39m alexnet3\u001b[39m.\u001b[39;49mto(\u001b[39m'\u001b[39;49m\u001b[39mcuda\u001b[39;49m\u001b[39m'\u001b[39;49m)\n\u001b[0;32m      2\u001b[0m device \u001b[39m=\u001b[39m torch\u001b[39m.\u001b[39mdevice(\u001b[39m\"\u001b[39m\u001b[39mcuda:0\u001b[39m\u001b[39m\"\u001b[39m \u001b[39mif\u001b[39;00m torch\u001b[39m.\u001b[39mcuda\u001b[39m.\u001b[39mis_available() \u001b[39melse\u001b[39;00m \u001b[39m\"\u001b[39m\u001b[39mcpu\u001b[39m\u001b[39m\"\u001b[39m)\n\u001b[0;32m      5\u001b[0m trained_model, history \u001b[39m=\u001b[39m train_and_validate(alexnet3, epochs\u001b[39m=\u001b[39m\u001b[39m35\u001b[39m, batch_size \u001b[39m=\u001b[39m \u001b[39m64\u001b[39m, lr\u001b[39m=\u001b[39m\u001b[39m1e-4\u001b[39m)\n",
            "File \u001b[1;32mc:\\Users\\David\\anaconda3\\envs\\speaker-recon\\lib\\site-packages\\torch\\nn\\modules\\module.py:987\u001b[0m, in \u001b[0;36mModule.to\u001b[1;34m(self, *args, **kwargs)\u001b[0m\n\u001b[0;32m    983\u001b[0m         \u001b[39mreturn\u001b[39;00m t\u001b[39m.\u001b[39mto(device, dtype \u001b[39mif\u001b[39;00m t\u001b[39m.\u001b[39mis_floating_point() \u001b[39mor\u001b[39;00m t\u001b[39m.\u001b[39mis_complex() \u001b[39melse\u001b[39;00m \u001b[39mNone\u001b[39;00m,\n\u001b[0;32m    984\u001b[0m                     non_blocking, memory_format\u001b[39m=\u001b[39mconvert_to_format)\n\u001b[0;32m    985\u001b[0m     \u001b[39mreturn\u001b[39;00m t\u001b[39m.\u001b[39mto(device, dtype \u001b[39mif\u001b[39;00m t\u001b[39m.\u001b[39mis_floating_point() \u001b[39mor\u001b[39;00m t\u001b[39m.\u001b[39mis_complex() \u001b[39melse\u001b[39;00m \u001b[39mNone\u001b[39;00m, non_blocking)\n\u001b[1;32m--> 987\u001b[0m \u001b[39mreturn\u001b[39;00m \u001b[39mself\u001b[39;49m\u001b[39m.\u001b[39;49m_apply(convert)\n",
            "File \u001b[1;32mc:\\Users\\David\\anaconda3\\envs\\speaker-recon\\lib\\site-packages\\torch\\nn\\modules\\module.py:639\u001b[0m, in \u001b[0;36mModule._apply\u001b[1;34m(self, fn)\u001b[0m\n\u001b[0;32m    637\u001b[0m \u001b[39mdef\u001b[39;00m \u001b[39m_apply\u001b[39m(\u001b[39mself\u001b[39m, fn):\n\u001b[0;32m    638\u001b[0m     \u001b[39mfor\u001b[39;00m module \u001b[39min\u001b[39;00m \u001b[39mself\u001b[39m\u001b[39m.\u001b[39mchildren():\n\u001b[1;32m--> 639\u001b[0m         module\u001b[39m.\u001b[39;49m_apply(fn)\n\u001b[0;32m    641\u001b[0m     \u001b[39mdef\u001b[39;00m \u001b[39mcompute_should_use_set_data\u001b[39m(tensor, tensor_applied):\n\u001b[0;32m    642\u001b[0m         \u001b[39mif\u001b[39;00m torch\u001b[39m.\u001b[39m_has_compatible_shallow_copy_type(tensor, tensor_applied):\n\u001b[0;32m    643\u001b[0m             \u001b[39m# If the new tensor has compatible tensor type as the existing tensor,\u001b[39;00m\n\u001b[0;32m    644\u001b[0m             \u001b[39m# the current behavior is to change the tensor in-place using `.data =`,\u001b[39;00m\n\u001b[1;32m   (...)\u001b[0m\n\u001b[0;32m    649\u001b[0m             \u001b[39m# global flag to let the user control whether they want the future\u001b[39;00m\n\u001b[0;32m    650\u001b[0m             \u001b[39m# behavior of overwriting the existing tensor or not.\u001b[39;00m\n",
            "File \u001b[1;32mc:\\Users\\David\\anaconda3\\envs\\speaker-recon\\lib\\site-packages\\torch\\nn\\modules\\module.py:639\u001b[0m, in \u001b[0;36mModule._apply\u001b[1;34m(self, fn)\u001b[0m\n\u001b[0;32m    637\u001b[0m \u001b[39mdef\u001b[39;00m \u001b[39m_apply\u001b[39m(\u001b[39mself\u001b[39m, fn):\n\u001b[0;32m    638\u001b[0m     \u001b[39mfor\u001b[39;00m module \u001b[39min\u001b[39;00m \u001b[39mself\u001b[39m\u001b[39m.\u001b[39mchildren():\n\u001b[1;32m--> 639\u001b[0m         module\u001b[39m.\u001b[39;49m_apply(fn)\n\u001b[0;32m    641\u001b[0m     \u001b[39mdef\u001b[39;00m \u001b[39mcompute_should_use_set_data\u001b[39m(tensor, tensor_applied):\n\u001b[0;32m    642\u001b[0m         \u001b[39mif\u001b[39;00m torch\u001b[39m.\u001b[39m_has_compatible_shallow_copy_type(tensor, tensor_applied):\n\u001b[0;32m    643\u001b[0m             \u001b[39m# If the new tensor has compatible tensor type as the existing tensor,\u001b[39;00m\n\u001b[0;32m    644\u001b[0m             \u001b[39m# the current behavior is to change the tensor in-place using `.data =`,\u001b[39;00m\n\u001b[1;32m   (...)\u001b[0m\n\u001b[0;32m    649\u001b[0m             \u001b[39m# global flag to let the user control whether they want the future\u001b[39;00m\n\u001b[0;32m    650\u001b[0m             \u001b[39m# behavior of overwriting the existing tensor or not.\u001b[39;00m\n",
            "File \u001b[1;32mc:\\Users\\David\\anaconda3\\envs\\speaker-recon\\lib\\site-packages\\torch\\nn\\modules\\module.py:662\u001b[0m, in \u001b[0;36mModule._apply\u001b[1;34m(self, fn)\u001b[0m\n\u001b[0;32m    658\u001b[0m \u001b[39m# Tensors stored in modules are graph leaves, and we don't want to\u001b[39;00m\n\u001b[0;32m    659\u001b[0m \u001b[39m# track autograd history of `param_applied`, so we have to use\u001b[39;00m\n\u001b[0;32m    660\u001b[0m \u001b[39m# `with torch.no_grad():`\u001b[39;00m\n\u001b[0;32m    661\u001b[0m \u001b[39mwith\u001b[39;00m torch\u001b[39m.\u001b[39mno_grad():\n\u001b[1;32m--> 662\u001b[0m     param_applied \u001b[39m=\u001b[39m fn(param)\n\u001b[0;32m    663\u001b[0m should_use_set_data \u001b[39m=\u001b[39m compute_should_use_set_data(param, param_applied)\n\u001b[0;32m    664\u001b[0m \u001b[39mif\u001b[39;00m should_use_set_data:\n",
            "File \u001b[1;32mc:\\Users\\David\\anaconda3\\envs\\speaker-recon\\lib\\site-packages\\torch\\nn\\modules\\module.py:985\u001b[0m, in \u001b[0;36mModule.to.<locals>.convert\u001b[1;34m(t)\u001b[0m\n\u001b[0;32m    982\u001b[0m \u001b[39mif\u001b[39;00m convert_to_format \u001b[39mis\u001b[39;00m \u001b[39mnot\u001b[39;00m \u001b[39mNone\u001b[39;00m \u001b[39mand\u001b[39;00m t\u001b[39m.\u001b[39mdim() \u001b[39min\u001b[39;00m (\u001b[39m4\u001b[39m, \u001b[39m5\u001b[39m):\n\u001b[0;32m    983\u001b[0m     \u001b[39mreturn\u001b[39;00m t\u001b[39m.\u001b[39mto(device, dtype \u001b[39mif\u001b[39;00m t\u001b[39m.\u001b[39mis_floating_point() \u001b[39mor\u001b[39;00m t\u001b[39m.\u001b[39mis_complex() \u001b[39melse\u001b[39;00m \u001b[39mNone\u001b[39;00m,\n\u001b[0;32m    984\u001b[0m                 non_blocking, memory_format\u001b[39m=\u001b[39mconvert_to_format)\n\u001b[1;32m--> 985\u001b[0m \u001b[39mreturn\u001b[39;00m t\u001b[39m.\u001b[39;49mto(device, dtype \u001b[39mif\u001b[39;49;00m t\u001b[39m.\u001b[39;49mis_floating_point() \u001b[39mor\u001b[39;49;00m t\u001b[39m.\u001b[39;49mis_complex() \u001b[39melse\u001b[39;49;00m \u001b[39mNone\u001b[39;49;00m, non_blocking)\n",
            "\u001b[1;31mRuntimeError\u001b[0m: CUDA error: device-side assert triggered\nCUDA kernel errors might be asynchronously reported at some other API call,so the stacktrace below might be incorrect.\nFor debugging consider passing CUDA_LAUNCH_BLOCKING=1."
          ]
        }
      ],
      "source": [
        "alexnet3 = alexnet3.to('cuda')\n",
        "device = torch.device(\"cuda:0\" if torch.cuda.is_available() else \"cpu\")\n",
        "\n",
        "\n",
        "trained_model, history = train_and_validate(alexnet3, epochs=35, batch_size = 64, lr=1e-4)"
      ]
    },
    {
      "cell_type": "code",
      "execution_count": null,
      "id": "58ac74ea",
      "metadata": {},
      "outputs": [
        {
          "data": {
            "text/plain": [
              "<matplotlib.legend.Legend at 0x139ebefd900>"
            ]
          },
          "execution_count": 52,
          "metadata": {},
          "output_type": "execute_result"
        },
        {
          "data": {
            "image/png": "[encoded data removed]",
            "text/plain": [
              "<Figure size 640x480 with 1 Axes>"
            ]
          },
          "metadata": {},
          "output_type": "display_data"
        },
        {
          "data": {
            "image/png": "[encoded data removed]",
            "text/plain": [
              "<Figure size 640x480 with 1 Axes>"
            ]
          },
          "metadata": {},
          "output_type": "display_data"
        }
      ],
      "source": [
        "train_acc = []\n",
        "val_acc = []\n",
        "train_loss = []\n",
        "val_loss = []\n",
        "ep = []\n",
        "i = 0\n",
        "for tloss,vloss, tacc, vacc in history:\n",
        "    train_acc.append(tacc)\n",
        "    val_acc.append(vacc)\n",
        "    train_loss.append(tloss)\n",
        "    val_loss.append(vloss)\n",
        "    ep.append(i)\n",
        "    i += 1\n",
        "\n",
        "\n",
        "n = len(train_loss) # number of epochs\n",
        "plt.figure()\n",
        "plt.title(\"Train vs Validation Loss\")\n",
        "plt.plot(range(1,n+1), train_loss, label=\"Train\")\n",
        "plt.plot(range(1,n+1), val_loss, label=\"Validation\")\n",
        "plt.xlabel(\"Epoch\")\n",
        "plt.ylabel(\"Loss\")\n",
        "plt.legend(loc='best')\n",
        "# plt.show()\n",
        "\n",
        "plt.figure()\n",
        "plt.title(\"Train vs Validation Accuracy\")\n",
        "plt.plot(range(1,n+1), train_acc, label=\"Train\")\n",
        "plt.plot(range(1,n+1), val_acc, label=\"Validation\")\n",
        "plt.xlabel(\"Epoch\")\n",
        "plt.ylabel(\"Accuracy\")\n",
        "plt.legend(loc='best')"
      ]
    },
    {
      "cell_type": "markdown",
      "id": "63610d22",
      "metadata": {},
      "source": [
        "## Hyperparameter Tuning\n",
        "\n",
        "Create a function that given a model (YeNet) and a configuration space (LR, batchsize, etc) it will return the configuration that optimizes validation loss or accuracy"
      ]
    },
    {
      "cell_type": "markdown",
      "id": "e4417718",
      "metadata": {},
      "source": [
        "#### Training function"
      ]
    },
    {
      "cell_type": "code",
      "execution_count": 23,
      "id": "59c5abd2",
      "metadata": {},
      "outputs": [],
      "source": [
        "# Define Optimizer and Loss Function\n",
        "\n",
        "def HP_training(model, params):\n",
        "    '''\n",
        "    Function to train and validate\n",
        "    Parameters\n",
        "        :param model: Model to train and validate\n",
        "        :param loss_criterion: Loss Criterion to minimize\n",
        "        :param optimizer: Optimizer for computing gradients\n",
        "        :param epochs: Number of epochs (default=25)\n",
        "  \n",
        "    Returns\n",
        "        model: Trained Model with best validation accuracy\n",
        "        history: (dict object): Having training loss, accuracy and validation loss, accuracy\n",
        "    '''\n",
        "    \n",
        "    start = time.time()\n",
        "    \n",
        "    lr = params[\"learning_rate\"]\n",
        "    batch_size = params[\"batch_size\"]\n",
        "    epochs = 30\n",
        "    \n",
        "    history = []\n",
        "    best_acc = 0.0\n",
        "    loss_criterion = nn.CrossEntropyLoss()\n",
        "    optimizer = torch.optim.Adam(model.parameters(), lr=lr)\n",
        "    \n",
        "    train_loader = DataLoader(mfcc_dataset_train, batch_size=batch_size, shuffle=True)\n",
        "    val_loader = DataLoader(mfcc_dataset_val, batch_size=batch_size, shuffle=True)\n",
        "    \n",
        "    for epoch in range(epochs):\n",
        "        epoch_start = time.time()\n",
        "        print(\"Epoch: {}/{}\".format(epoch+1, epochs))\n",
        "        \n",
        "        # Set to training mode\n",
        "        model.train()\n",
        "        \n",
        "        # Loss and Accuracy within the epoch\n",
        "        train_loss = 0.0\n",
        "        train_acc = 0.0\n",
        "        \n",
        "        valid_loss = 0.0\n",
        "        valid_acc = 0.0\n",
        "        best_loss = np.inf\n",
        "        \n",
        "        for i, (inputs, labels) in enumerate(train_loader):\n",
        "\n",
        "            inputs = inputs.to(device)\n",
        "            labels = labels.to(device)\n",
        "            \n",
        "            # Clean existing gradients\n",
        "            optimizer.zero_grad()\n",
        "            \n",
        "            # Forward pass - compute outputs on input data using the model\n",
        "            outputs = model(inputs)\n",
        "            \n",
        "            # Compute loss\n",
        "            loss = loss_criterion(outputs, labels)\n",
        "            \n",
        "            # Backpropagate the gradients\n",
        "            loss.backward()\n",
        "            \n",
        "            # Update the parameters\n",
        "            optimizer.step()\n",
        "            \n",
        "            # Compute the total loss for the batch and add it to train_loss\n",
        "            train_loss += loss.item() * inputs.size(0)\n",
        "            \n",
        "            # Compute the accuracy\n",
        "            ret, predictions = torch.max(outputs.data, 1)\n",
        "            correct_counts = predictions.eq(labels.data.view_as(predictions))\n",
        "            \n",
        "            # Convert correct_counts to float and then compute the mean\n",
        "            acc = torch.mean(correct_counts.type(torch.FloatTensor))\n",
        "            \n",
        "            # Compute total accuracy in the whole batch and add to train_acc\n",
        "            train_acc += acc.item() * inputs.size(0)\n",
        "            \n",
        "            #print(\"Batch number: {:03d}, Training: Loss: {:.4f}, Accuracy: {:.4f}\".format(i, loss.item(), acc.item()))\n",
        "\n",
        "            \n",
        "        # Validation - No gradient tracking needed\n",
        "        with torch.no_grad():\n",
        "\n",
        "            # Set to evaluation mode\n",
        "            model.eval()\n",
        "\n",
        "            # Validation loop\n",
        "            for j, (inputs, labels) in enumerate(val_loader):\n",
        "                inputs = inputs.to(device)\n",
        "                labels = labels.to(device)\n",
        "\n",
        "                # Forward pass - compute outputs on input data using the model\n",
        "                outputs = model(inputs)\n",
        "                \n",
        "                # Compute loss\n",
        "                loss = loss_criterion(outputs, labels)\n",
        "\n",
        "                # Compute the total loss for the batch and add it to valid_loss\n",
        "                valid_loss += loss.item() * inputs.size(0)\n",
        "\n",
        "                # Calculate validation accuracy\n",
        "                ret, predictions = torch.max(outputs.data, 1)\n",
        "                correct_counts = predictions.eq(labels.data.view_as(predictions))\n",
        "\n",
        "                # Convert correct_counts to float and then compute the mean\n",
        "                acc = torch.mean(correct_counts.type(torch.FloatTensor))\n",
        "\n",
        "                # Compute total accuracy in the whole batch and add to valid_acc\n",
        "                valid_acc += acc.item() * inputs.size(0)\n",
        "                \n",
        "                if valid_loss < best_loss:\n",
        "                    best_loss = valid_loss\n",
        "                #print(\"Validation Batch number: {:03d}, Validation: Loss: {:.4f}, Accuracy: {:.4f}\".format(j, loss.item(), acc.item()))\n",
        "            \n",
        "        # Find average training loss and training accuracy\n",
        "        avg_train_loss = train_loss/subset_train_size \n",
        "        avg_train_acc = train_acc/subset_train_size\n",
        "\n",
        "        # Find average training loss and training accuracy\n",
        "        avg_valid_loss = valid_loss/subset_val_size \n",
        "        avg_valid_acc = valid_acc/subset_val_size\n",
        "\n",
        "        history.append([avg_train_loss, avg_valid_loss, avg_train_acc, avg_valid_acc])\n",
        "                \n",
        "        epoch_end = time.time()\n",
        "    \n",
        "        print(\"Epoch : {:03d}, Validation Loss: {:.4f}, Train Loss: {:.4f}%, \\n\\t \\Val Accuracy: {:.4f}, Training Accuracy: {:.4f}%, Time: {:.4f}s\"\n",
        "              .format(epoch+1, avg_valid_loss, avg_train_loss, avg_valid_acc*100, avg_train_acc*100, epoch_end-epoch_start))\n",
        "        \n",
        "        # Save if the model has best accuracy till now\n",
        "        #torch.save(model, dataset+'_model_'+str(epoch)+'.pt')\n",
        "            \n",
        "    return best_loss"
      ]
    },
    {
      "cell_type": "markdown",
      "id": "09abb85c",
      "metadata": {},
      "source": [
        "#### Hyperparameter Tuning\n",
        "\n",
        "Create a function that given a model (YeNet) and a configuration space (LR, batchsize, etc) it will return the configuration that optimizes validation loss or accuracy"
      ]
    },
    {
      "cell_type": "code",
      "execution_count": 24,
      "id": "4981faa0",
      "metadata": {},
      "outputs": [],
      "source": [
        "import optuna"
      ]
    },
    {
      "cell_type": "code",
      "execution_count": 31,
      "id": "4cb7841a",
      "metadata": {},
      "outputs": [
        {
          "name": "stderr",
          "output_type": "stream",
          "text": [
            "c:\\Users\\David\\anaconda3\\envs\\speaker-recon\\lib\\site-packages\\torchvision\\models\\_utils.py:208: UserWarning: The parameter 'pretrained' is deprecated since 0.13 and may be removed in the future, please use 'weights' instead.\n",
            "  warnings.warn(\n",
            "c:\\Users\\David\\anaconda3\\envs\\speaker-recon\\lib\\site-packages\\torchvision\\models\\_utils.py:223: UserWarning: Arguments other than a weight enum or `None` for 'weights' are deprecated since 0.13 and may be removed in the future. The current behavior is equivalent to passing `weights=None`.\n",
            "  warnings.warn(msg)\n"
          ]
        }
      ],
      "source": [
        "alexnet4 = models.alexnet(pretrained=False)\n",
        "# Freeze model parameters\n",
        "#for param in alexnet3.parameters():\n",
        "#    param.requires_grad = False\n",
        "#Modify the model structure\n",
        "# Input layer to 1 channel for one channel img    \n",
        "alexnet4.features[0] = nn.Conv2d(1, 64, kernel_size=(1,1))\n",
        "\n",
        "#Modify the final output layer\n",
        "alexnet4.classifier.add_module(\"6\",nn.Linear(4096, 2048))\n",
        "alexnet4.classifier.add_module(\"7\",nn.ReLU())\n",
        "alexnet4.classifier.add_module(\"8\",nn.Linear(2048, len(np.unique(df_spkr['speaker_id']))))\n",
        "alexnet4.classifier.add_module(\"9\", nn.LogSoftmax(dim = 1))"
      ]
    },
    {
      "cell_type": "code",
      "execution_count": 30,
      "id": "bf821001",
      "metadata": {},
      "outputs": [],
      "source": [
        "def HP_Tune(trial):\n",
        "    #trained_model, history = train_and_validate(alexnet3, epochs=35, batch_size = 64, lr=1e-4)\n",
        "    params = {\n",
        "        \"learning_rate\": trial.suggest_loguniform(\"learning_rate\", 1e-5, 1e-3),\n",
        "        \"batch_size\": trial.suggest_int(\"batch_size\", 10, 64)\n",
        "    }\n",
        "    all_losses = []\n",
        "    temp_loss = HP_training(alexnet4, params)\n",
        "    #_,_, temp_loss = HP_training(model, params)\n",
        "\n",
        "    all_losses.append(temp_loss)\n",
        "    \n",
        "    return np.mean(all_losses)"
      ]
    },
    {
      "cell_type": "code",
      "execution_count": 33,
      "id": "2aa630fb",
      "metadata": {},
      "outputs": [
        {
          "name": "stderr",
          "output_type": "stream",
          "text": [
            "\u001b[32m[I 2022-11-27 10:23:20,913]\u001b[0m A new study created in memory with name: no-name-098b10fb-00d0-4e57-9df3-f572b14fd0d8\u001b[0m\n",
            "C:\\Users\\David\\AppData\\Local\\Temp\\ipykernel_8320\\3463528286.py:4: FutureWarning: suggest_loguniform has been deprecated in v3.0.0. This feature will be removed in v6.0.0. See https://github.com/optuna/optuna/releases/tag/v3.0.0. Use :func:`~optuna.trial.Trial.suggest_float` instead.\n",
            "  \"learning_rate\": trial.suggest_loguniform(\"learning_rate\", 1e-5, 1e-3),\n",
            "C:\\Users\\David\\AppData\\Local\\Temp\\ipykernel_8320\\1364449930.py:45: UserWarning: To copy construct from a tensor, it is recommended to use sourceTensor.clone().detach() or sourceTensor.clone().detach().requires_grad_(True), rather than torch.tensor(sourceTensor).\n",
            "  mfcc = torch.tensor(mfcc)\n"
          ]
        },
        {
          "name": "stdout",
          "output_type": "stream",
          "text": [
            "Epoch: 1/30\n",
            "Epoch : 001, Validation Loss: 22.6161, Train Loss: 34.4874%, \n",
            "\t \\Val Accuracy: 384.5845, Training Accuracy: 154.3215%, Time: 238.0217s\n",
            "Epoch: 2/30\n"
          ]
        },
        {
          "name": "stderr",
          "output_type": "stream",
          "text": [
            "\u001b[33m[W 2022-11-27 10:27:36,019]\u001b[0m Trial 0 failed because of the following error: KeyboardInterrupt()\u001b[0m\n",
            "Traceback (most recent call last):\n",
            "  File \"C:\\Users\\David\\AppData\\Roaming\\Python\\Python310\\site-packages\\optuna\\study\\_optimize.py\", line 196, in _run_trial\n",
            "    value_or_values = func(trial)\n",
            "  File \"C:\\Users\\David\\AppData\\Local\\Temp\\ipykernel_8320\\3463528286.py\", line 8, in HP_Tune\n",
            "    temp_loss = HP_training(alexnet4, params)\n",
            "  File \"C:\\Users\\David\\AppData\\Local\\Temp\\ipykernel_8320\\3691409089.py\", line 67, in HP_training\n",
            "    train_loss += loss.item() * inputs.size(0)\n",
            "KeyboardInterrupt\n"
          ]
        },
        {
          "ename": "KeyboardInterrupt",
          "evalue": "",
          "output_type": "error",
          "traceback": [
            "\u001b[1;31m---------------------------------------------------------------------------\u001b[0m",
            "\u001b[1;31mKeyboardInterrupt\u001b[0m                         Traceback (most recent call last)",
            "Cell \u001b[1;32mIn [33], line 6\u001b[0m\n\u001b[0;32m      4\u001b[0m alexnet4 \u001b[39m=\u001b[39m alexnet4\u001b[39m.\u001b[39mto(\u001b[39m'\u001b[39m\u001b[39mcuda\u001b[39m\u001b[39m'\u001b[39m)\n\u001b[0;32m      5\u001b[0m study \u001b[39m=\u001b[39m optuna\u001b[39m.\u001b[39mcreate_study(direction\u001b[39m=\u001b[39m\u001b[39m\"\u001b[39m\u001b[39mminimize\u001b[39m\u001b[39m\"\u001b[39m)\n\u001b[1;32m----> 6\u001b[0m study\u001b[39m.\u001b[39;49moptimize(HP_Tune, n_trials \u001b[39m=\u001b[39;49m \u001b[39m10\u001b[39;49m)\n\u001b[0;32m      8\u001b[0m \u001b[39mprint\u001b[39m(\u001b[39m\"\u001b[39m\u001b[39mBest Trial:\u001b[39m\u001b[39m\"\u001b[39m)\n\u001b[0;32m      9\u001b[0m trial_ \u001b[39m=\u001b[39m study\u001b[39m.\u001b[39mbest_trial\n",
            "File \u001b[1;32m~\\AppData\\Roaming\\Python\\Python310\\site-packages\\optuna\\study\\study.py:419\u001b[0m, in \u001b[0;36mStudy.optimize\u001b[1;34m(self, func, n_trials, timeout, n_jobs, catch, callbacks, gc_after_trial, show_progress_bar)\u001b[0m\n\u001b[0;32m    315\u001b[0m \u001b[39mdef\u001b[39;00m \u001b[39moptimize\u001b[39m(\n\u001b[0;32m    316\u001b[0m     \u001b[39mself\u001b[39m,\n\u001b[0;32m    317\u001b[0m     func: ObjectiveFuncType,\n\u001b[1;32m   (...)\u001b[0m\n\u001b[0;32m    324\u001b[0m     show_progress_bar: \u001b[39mbool\u001b[39m \u001b[39m=\u001b[39m \u001b[39mFalse\u001b[39;00m,\n\u001b[0;32m    325\u001b[0m ) \u001b[39m-\u001b[39m\u001b[39m>\u001b[39m \u001b[39mNone\u001b[39;00m:\n\u001b[0;32m    326\u001b[0m     \u001b[39m\"\"\"Optimize an objective function.\u001b[39;00m\n\u001b[0;32m    327\u001b[0m \n\u001b[0;32m    328\u001b[0m \u001b[39m    Optimization is done by choosing a suitable set of hyperparameter values from a given\u001b[39;00m\n\u001b[1;32m   (...)\u001b[0m\n\u001b[0;32m    416\u001b[0m \u001b[39m            If nested invocation of this method occurs.\u001b[39;00m\n\u001b[0;32m    417\u001b[0m \u001b[39m    \"\"\"\u001b[39;00m\n\u001b[1;32m--> 419\u001b[0m     _optimize(\n\u001b[0;32m    420\u001b[0m         study\u001b[39m=\u001b[39;49m\u001b[39mself\u001b[39;49m,\n\u001b[0;32m    421\u001b[0m         func\u001b[39m=\u001b[39;49mfunc,\n\u001b[0;32m    422\u001b[0m         n_trials\u001b[39m=\u001b[39;49mn_trials,\n\u001b[0;32m    423\u001b[0m         timeout\u001b[39m=\u001b[39;49mtimeout,\n\u001b[0;32m    424\u001b[0m         n_jobs\u001b[39m=\u001b[39;49mn_jobs,\n\u001b[0;32m    425\u001b[0m         catch\u001b[39m=\u001b[39;49mcatch,\n\u001b[0;32m    426\u001b[0m         callbacks\u001b[39m=\u001b[39;49mcallbacks,\n\u001b[0;32m    427\u001b[0m         gc_after_trial\u001b[39m=\u001b[39;49mgc_after_trial,\n\u001b[0;32m    428\u001b[0m         show_progress_bar\u001b[39m=\u001b[39;49mshow_progress_bar,\n\u001b[0;32m    429\u001b[0m     )\n",
            "File \u001b[1;32m~\\AppData\\Roaming\\Python\\Python310\\site-packages\\optuna\\study\\_optimize.py:66\u001b[0m, in \u001b[0;36m_optimize\u001b[1;34m(study, func, n_trials, timeout, n_jobs, catch, callbacks, gc_after_trial, show_progress_bar)\u001b[0m\n\u001b[0;32m     64\u001b[0m \u001b[39mtry\u001b[39;00m:\n\u001b[0;32m     65\u001b[0m     \u001b[39mif\u001b[39;00m n_jobs \u001b[39m==\u001b[39m \u001b[39m1\u001b[39m:\n\u001b[1;32m---> 66\u001b[0m         _optimize_sequential(\n\u001b[0;32m     67\u001b[0m             study,\n\u001b[0;32m     68\u001b[0m             func,\n\u001b[0;32m     69\u001b[0m             n_trials,\n\u001b[0;32m     70\u001b[0m             timeout,\n\u001b[0;32m     71\u001b[0m             catch,\n\u001b[0;32m     72\u001b[0m             callbacks,\n\u001b[0;32m     73\u001b[0m             gc_after_trial,\n\u001b[0;32m     74\u001b[0m             reseed_sampler_rng\u001b[39m=\u001b[39;49m\u001b[39mFalse\u001b[39;49;00m,\n\u001b[0;32m     75\u001b[0m             time_start\u001b[39m=\u001b[39;49m\u001b[39mNone\u001b[39;49;00m,\n\u001b[0;32m     76\u001b[0m             progress_bar\u001b[39m=\u001b[39;49mprogress_bar,\n\u001b[0;32m     77\u001b[0m         )\n\u001b[0;32m     78\u001b[0m     \u001b[39melse\u001b[39;00m:\n\u001b[0;32m     79\u001b[0m         \u001b[39mif\u001b[39;00m n_jobs \u001b[39m==\u001b[39m \u001b[39m-\u001b[39m\u001b[39m1\u001b[39m:\n",
            "File \u001b[1;32m~\\AppData\\Roaming\\Python\\Python310\\site-packages\\optuna\\study\\_optimize.py:160\u001b[0m, in \u001b[0;36m_optimize_sequential\u001b[1;34m(study, func, n_trials, timeout, catch, callbacks, gc_after_trial, reseed_sampler_rng, time_start, progress_bar)\u001b[0m\n\u001b[0;32m    157\u001b[0m         \u001b[39mbreak\u001b[39;00m\n\u001b[0;32m    159\u001b[0m \u001b[39mtry\u001b[39;00m:\n\u001b[1;32m--> 160\u001b[0m     frozen_trial \u001b[39m=\u001b[39m _run_trial(study, func, catch)\n\u001b[0;32m    161\u001b[0m \u001b[39mfinally\u001b[39;00m:\n\u001b[0;32m    162\u001b[0m     \u001b[39m# The following line mitigates memory problems that can be occurred in some\u001b[39;00m\n\u001b[0;32m    163\u001b[0m     \u001b[39m# environments (e.g., services that use computing containers such as CircleCI).\u001b[39;00m\n\u001b[0;32m    164\u001b[0m     \u001b[39m# Please refer to the following PR for further details:\u001b[39;00m\n\u001b[0;32m    165\u001b[0m     \u001b[39m# https://github.com/optuna/optuna/pull/325.\u001b[39;00m\n\u001b[0;32m    166\u001b[0m     \u001b[39mif\u001b[39;00m gc_after_trial:\n",
            "File \u001b[1;32m~\\AppData\\Roaming\\Python\\Python310\\site-packages\\optuna\\study\\_optimize.py:234\u001b[0m, in \u001b[0;36m_run_trial\u001b[1;34m(study, func, catch)\u001b[0m\n\u001b[0;32m    227\u001b[0m         \u001b[39massert\u001b[39;00m \u001b[39mFalse\u001b[39;00m, \u001b[39m\"\u001b[39m\u001b[39mShould not reach.\u001b[39m\u001b[39m\"\u001b[39m\n\u001b[0;32m    229\u001b[0m \u001b[39mif\u001b[39;00m (\n\u001b[0;32m    230\u001b[0m     frozen_trial\u001b[39m.\u001b[39mstate \u001b[39m==\u001b[39m TrialState\u001b[39m.\u001b[39mFAIL\n\u001b[0;32m    231\u001b[0m     \u001b[39mand\u001b[39;00m func_err \u001b[39mis\u001b[39;00m \u001b[39mnot\u001b[39;00m \u001b[39mNone\u001b[39;00m\n\u001b[0;32m    232\u001b[0m     \u001b[39mand\u001b[39;00m \u001b[39mnot\u001b[39;00m \u001b[39misinstance\u001b[39m(func_err, catch)\n\u001b[0;32m    233\u001b[0m ):\n\u001b[1;32m--> 234\u001b[0m     \u001b[39mraise\u001b[39;00m func_err\n\u001b[0;32m    235\u001b[0m \u001b[39mreturn\u001b[39;00m frozen_trial\n",
            "File \u001b[1;32m~\\AppData\\Roaming\\Python\\Python310\\site-packages\\optuna\\study\\_optimize.py:196\u001b[0m, in \u001b[0;36m_run_trial\u001b[1;34m(study, func, catch)\u001b[0m\n\u001b[0;32m    194\u001b[0m \u001b[39mwith\u001b[39;00m get_heartbeat_thread(trial\u001b[39m.\u001b[39m_trial_id, study\u001b[39m.\u001b[39m_storage):\n\u001b[0;32m    195\u001b[0m     \u001b[39mtry\u001b[39;00m:\n\u001b[1;32m--> 196\u001b[0m         value_or_values \u001b[39m=\u001b[39m func(trial)\n\u001b[0;32m    197\u001b[0m     \u001b[39mexcept\u001b[39;00m exceptions\u001b[39m.\u001b[39mTrialPruned \u001b[39mas\u001b[39;00m e:\n\u001b[0;32m    198\u001b[0m         \u001b[39m# TODO(mamu): Handle multi-objective cases.\u001b[39;00m\n\u001b[0;32m    199\u001b[0m         state \u001b[39m=\u001b[39m TrialState\u001b[39m.\u001b[39mPRUNED\n",
            "Cell \u001b[1;32mIn [30], line 8\u001b[0m, in \u001b[0;36mHP_Tune\u001b[1;34m(trial)\u001b[0m\n\u001b[0;32m      3\u001b[0m params \u001b[39m=\u001b[39m {\n\u001b[0;32m      4\u001b[0m     \u001b[39m\"\u001b[39m\u001b[39mlearning_rate\u001b[39m\u001b[39m\"\u001b[39m: trial\u001b[39m.\u001b[39msuggest_loguniform(\u001b[39m\"\u001b[39m\u001b[39mlearning_rate\u001b[39m\u001b[39m\"\u001b[39m, \u001b[39m1e-5\u001b[39m, \u001b[39m1e-3\u001b[39m),\n\u001b[0;32m      5\u001b[0m     \u001b[39m\"\u001b[39m\u001b[39mbatch_size\u001b[39m\u001b[39m\"\u001b[39m: trial\u001b[39m.\u001b[39msuggest_int(\u001b[39m\"\u001b[39m\u001b[39mbatch_size\u001b[39m\u001b[39m\"\u001b[39m, \u001b[39m10\u001b[39m, \u001b[39m64\u001b[39m)\n\u001b[0;32m      6\u001b[0m }\n\u001b[0;32m      7\u001b[0m all_losses \u001b[39m=\u001b[39m []\n\u001b[1;32m----> 8\u001b[0m temp_loss \u001b[39m=\u001b[39m HP_training(alexnet4, params)\n\u001b[0;32m      9\u001b[0m \u001b[39m#_,_, temp_loss = HP_training(model, params)\u001b[39;00m\n\u001b[0;32m     11\u001b[0m all_losses\u001b[39m.\u001b[39mappend(temp_loss)\n",
            "Cell \u001b[1;32mIn [23], line 67\u001b[0m, in \u001b[0;36mHP_training\u001b[1;34m(model, params)\u001b[0m\n\u001b[0;32m     64\u001b[0m optimizer\u001b[39m.\u001b[39mstep()\n\u001b[0;32m     66\u001b[0m \u001b[39m# Compute the total loss for the batch and add it to train_loss\u001b[39;00m\n\u001b[1;32m---> 67\u001b[0m train_loss \u001b[39m+\u001b[39m\u001b[39m=\u001b[39m loss\u001b[39m.\u001b[39;49mitem() \u001b[39m*\u001b[39m inputs\u001b[39m.\u001b[39msize(\u001b[39m0\u001b[39m)\n\u001b[0;32m     69\u001b[0m \u001b[39m# Compute the accuracy\u001b[39;00m\n\u001b[0;32m     70\u001b[0m ret, predictions \u001b[39m=\u001b[39m torch\u001b[39m.\u001b[39mmax(outputs\u001b[39m.\u001b[39mdata, \u001b[39m1\u001b[39m)\n",
            "\u001b[1;31mKeyboardInterrupt\u001b[0m: "
          ]
        }
      ],
      "source": [
        "scr_list = []\n",
        "#alexnet_list = [ alexnet2, alexnet3]\n",
        "device = torch.device(\"cuda:0\" if torch.cuda.is_available() else \"cpu\")\n",
        "alexnet4 = alexnet4.to('cuda')\n",
        "study = optuna.create_study(direction=\"minimize\")\n",
        "study.optimize(HP_Tune, n_trials = 10)\n",
        "\n",
        "print(\"Best Trial:\")\n",
        "trial_ = study.best_trial\n",
        "print(trial_.values)\n",
        "print(trial_.params)\n",
        "\n",
        "\n",
        "print(\"Currently training on:\", alexnet4)\n",
        "SCR = HP_training(alexnet4, trial_.params)\n",
        "scr_list.append(SCR)\n",
        "print(SCR)"
      ]
    },
    {
      "cell_type": "markdown",
      "id": "c1683070-141a-4f6f-9658-81edc905586a",
      "metadata": {
        "id": "c1683070-141a-4f6f-9658-81edc905586a"
      },
      "source": [
        "# FUTURE WORK\n",
        "- Based on the current best accuracy, the team will re-validate the models with more datasets (other than librispeech)\n",
        "- The team will implement automated hyper prameter tuning on the current best model to see if the accuracy will be acceptable. \n",
        "- If the accuracy is low, the team will try other architectures\n",
        "- The team will set up a meeting with the professor or the TAs to get some feedback. "
      ]
    }
  ],
  "metadata": {
    "colab": {
      "collapsed_sections": [
        "czsFW4P890us",
        "O85UbzGv91O1",
        "SdjUDCCV91Ag"
      ],
      "provenance": []
    },
    "kernelspec": {
      "display_name": "Python 3.10.8 ('speaker-recon')",
      "language": "python",
      "name": "python3"
    },
    "language_info": {
      "codemirror_mode": {
        "name": "ipython",
        "version": 3
      },
      "file_extension": ".py",
      "mimetype": "text/x-python",
      "name": "python",
      "nbconvert_exporter": "python",
      "pygments_lexer": "ipython3",
      "version": "3.10.8"
    },
    "vscode": {
      "interpreter": {
        "hash": "3a0b0ec5f1c8c5fb2a6d7757551a64b4803f5c0856f76dd5515171711c617806"
      }
    }
  },
  "nbformat": 4,
  "nbformat_minor": 5
}
