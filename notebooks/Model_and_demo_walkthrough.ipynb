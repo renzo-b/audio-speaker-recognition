{
 "cells": [
  {
   "cell_type": "code",
   "execution_count": null,
   "metadata": {},
   "outputs": [],
   "source": [
    "#Assuming all necessary libraries and datasets are loaded\n",
    "\n",
    "#Dataloaders with librispeech dataset\n",
    "train_loader = DataLoader(mfcc_dataset_train, batch_size=batch_size, shuffle=True)\n",
    "val_loader = DataLoader(mfcc_dataset_val, batch_size=batch_size, shuffle=True)\n",
    "test_loader = DataLoader(mfcc_dataset_test, batch_size=batch_size, shuffle=False)"
   ]
  },
  {
   "cell_type": "markdown",
   "metadata": {},
   "source": [
    "Define AudioNet Base structure"
   ]
  },
  {
   "cell_type": "code",
   "execution_count": null,
   "metadata": {},
   "outputs": [],
   "source": [
    "#Custom Net Class\n",
    "class CustomNet(nn.Module):\n",
    "    def __init__(self, num_classes: int = 1152, dropout: float = 0.5) -> None:\n",
    "        super().__init__()\n",
    "        self.features = nn.Sequential(\n",
    "            #Input size: 1 * 224 * 224 (C x H x W)\n",
    "            nn.Conv2d(1, 64, kernel_size=3, stride=4, padding=2),\n",
    "            #Size after: 64 * 56 * 56 \n",
    "            nn.RReLU(inplace=True),\n",
    "            nn.MaxPool2d(kernel_size=3, stride=2),\n",
    "            #Size after: 64 * 28 * 28\n",
    "            nn.Conv2d(64, 384, kernel_size=5, padding=2),\n",
    "            #Size after: 384 * 28 * 28\n",
    "            nn.RReLU(inplace=True),\n",
    "            nn.MaxPool2d(kernel_size=3, stride=2),\n",
    "            #Size after: 384 * 14 * 14\n",
    "            nn.Conv2d(384, 128, kernel_size=3, padding=1),\n",
    "            #Size after: 128 *16 * 16\n",
    "            nn.RReLU(inplace=True),\n",
    "            nn.MaxPool2d(kernel_size=3, stride=2),\n",
    "            #Size after: 128 * 6 * 6\n",
    "        )\n",
    "        self.avgpool = nn.AdaptiveAvgPool2d((6, 6))\n",
    "        self.classifier = nn.Sequential(\n",
    "            nn.Dropout(p=dropout),\n",
    "            nn.Linear(128 * 6 * 6, 4096),\n",
    "            nn.ReLU(inplace=True),\n",
    "            nn.Dropout(p=dropout),\n",
    "            nn.Linear(4096, 2048),\n",
    "            nn.ReLU(inplace=True),\n",
    "            nn.Linear(2048, num_classes),\n",
    "            nn.LogSoftmax(dim = 1),\n",
    "        )\n",
    "\n",
    "    def forward(self, x: torch.Tensor) -> torch.Tensor:\n",
    "        x = self.features(x)\n",
    "        x = self.avgpool(x)\n",
    "        x = torch.flatten(x, 1)\n",
    "        x = self.classifier(x)\n",
    "        return x"
   ]
  },
  {
   "cell_type": "markdown",
   "metadata": {},
   "source": [
    "Training function and training commands"
   ]
  },
  {
   "cell_type": "code",
   "execution_count": null,
   "metadata": {},
   "outputs": [],
   "source": [
    "\n",
    "subset_train_size, subset_val_size = mfcc_dataset_train.__len__(), mfcc_dataset_val.__len__()\n",
    "# Define Optimizer and Loss Function\n",
    "\n",
    "def train_and_validate(model, epochs=25, batch_size = 10, lr=1e-3):\n",
    "    '''\n",
    "    Function to train and validate\n",
    "    Parameters\n",
    "        :param model: Model to train and validate\n",
    "        :param loss_criterion: Loss Criterion to minimize\n",
    "        :param optimizer: Optimizer for computing gradients\n",
    "        :param epochs: Number of epochs (default=25)\n",
    "  \n",
    "    Returns\n",
    "        model: Trained Model with best validation accuracy\n",
    "        history: (dict object): Having training loss, accuracy and validation loss, accuracy\n",
    "    '''\n",
    "    \n",
    "    start = time.time()\n",
    "    history = []\n",
    "    best_acc = 0.0\n",
    "    loss_criterion = nn.CrossEntropyLoss()\n",
    "    optimizer = torch.optim.Adam(model.parameters(), lr=lr)\n",
    "    \n",
    "    train_loader = DataLoader(mfcc_dataset_train, batch_size=batch_size, shuffle=True)\n",
    "    val_loader = DataLoader(mfcc_dataset_val, batch_size=batch_size, shuffle=True)\n",
    "    \n",
    "    for epoch in range(epochs):\n",
    "        epoch_start = time.time()\n",
    "        print(\"Epoch: {}/{}\".format(epoch+1, epochs))\n",
    "        \n",
    "        # Set to training mode\n",
    "        model.train()\n",
    "        \n",
    "        # Loss and Accuracy within the epoch\n",
    "        train_loss = 0.0\n",
    "        train_acc = 0.0\n",
    "        \n",
    "        valid_loss = 0.0\n",
    "        valid_acc = 0.0\n",
    "        \n",
    "        for i, (inputs, labels) in enumerate(train_loader):\n",
    "\n",
    "            inputs = inputs.to(device)\n",
    "            labels = labels.to(device)\n",
    "            \n",
    "            # Clean existing gradients\n",
    "            optimizer.zero_grad()\n",
    "            \n",
    "            # Forward pass - compute outputs on input data using the model\n",
    "            outputs = model(inputs)\n",
    "            \n",
    "            # Compute loss\n",
    "            loss = loss_criterion(outputs, labels)\n",
    "            \n",
    "            # Backpropagate the gradients\n",
    "            loss.backward()\n",
    "            \n",
    "            # Update the parameters\n",
    "            optimizer.step()\n",
    "            \n",
    "            # Compute the total loss for the batch and add it to train_loss\n",
    "            train_loss += loss.item() * inputs.size(0)\n",
    "            \n",
    "            # Compute the accuracy\n",
    "            ret, predictions = torch.max(outputs.data, 1)\n",
    "            correct_counts = predictions.eq(labels.data.view_as(predictions))\n",
    "            \n",
    "            # Convert correct_counts to float and then compute the mean\n",
    "            acc = torch.mean(correct_counts.type(torch.FloatTensor))\n",
    "            \n",
    "            # Compute total accuracy in the whole batch and add to train_acc\n",
    "            train_acc += acc.item() * inputs.size(0)\n",
    "            \n",
    "            #print(\"Batch number: {:03d}, Training: Loss: {:.4f}, Accuracy: {:.4f}\".format(i, loss.item(), acc.item()))\n",
    "\n",
    "            \n",
    "        # Validation - No gradient tracking needed\n",
    "        with torch.no_grad():\n",
    "\n",
    "            # Set to evaluation mode\n",
    "            model.eval()\n",
    "\n",
    "            # Validation loop\n",
    "            for j, (inputs, labels) in enumerate(val_loader):\n",
    "                inputs = inputs.to(device)\n",
    "                labels = labels.to(device)\n",
    "\n",
    "                # Forward pass - compute outputs on input data using the model\n",
    "                outputs = model(inputs)\n",
    "                \n",
    "                # Compute loss\n",
    "                loss = loss_criterion(outputs, labels)\n",
    "\n",
    "                # Compute the total loss for the batch and add it to valid_loss\n",
    "                valid_loss += loss.item() * inputs.size(0)\n",
    "\n",
    "                # Calculate validation accuracy\n",
    "                ret, predictions = torch.max(outputs.data, 1)\n",
    "                correct_counts = predictions.eq(labels.data.view_as(predictions))\n",
    "\n",
    "                # Convert correct_counts to float and then compute the mean\n",
    "                acc = torch.mean(correct_counts.type(torch.FloatTensor))\n",
    "\n",
    "                # Compute total accuracy in the whole batch and add to valid_acc\n",
    "                valid_acc += acc.item() * inputs.size(0)\n",
    "\n",
    "                #print(\"Validation Batch number: {:03d}, Validation: Loss: {:.4f}, Accuracy: {:.4f}\".format(j, loss.item(), acc.item()))\n",
    "            \n",
    "        # Find average training loss and training accuracy\n",
    "        avg_train_loss = train_loss/subset_train_size \n",
    "        avg_train_acc = train_acc/subset_train_size\n",
    "\n",
    "        # Find average training loss and training accuracy\n",
    "        avg_valid_loss = valid_loss/subset_val_size \n",
    "        avg_valid_acc = valid_acc/subset_val_size\n",
    "\n",
    "        history.append([avg_train_loss, avg_valid_loss, avg_train_acc, avg_valid_acc])\n",
    "                \n",
    "        epoch_end = time.time()\n",
    "    \n",
    "        print(\"Epoch : {:03d}, Training: Loss: {:.4f}, Accuracy: {:.4f}%, \\n\\t\\tValidation : Loss : {:.4f}, Accuracy: {:.4f}%, Time: {:.4f}s\".format(epoch+1, avg_train_loss, avg_train_acc*100, avg_valid_loss, avg_valid_acc*100, epoch_end-epoch_start))\n",
    "        \n",
    "        # Save if the model has best accuracy till now\n",
    "        #torch.save(model, dataset+'_model_'+str(epoch)+'.pt')\n",
    "            \n",
    "    return model, history"
   ]
  },
  {
   "cell_type": "code",
   "execution_count": null,
   "id": "bf192ae7-2559-4fa4-974b-127d5d232324",
   "metadata": {},
   "outputs": [
    {
     "name": "stdout",
     "output_type": "stream",
     "text": [
      "Epoch: 1/10\n"
     ]
    },
    {
     "name": "stderr",
     "output_type": "stream",
     "text": [
      "C:\\Users\\David\\AppData\\Local\\Temp\\ipykernel_5776\\1364449930.py:45: UserWarning: To copy construct from a tensor, it is recommended to use sourceTensor.clone().detach() or sourceTensor.clone().detach().requires_grad_(True), rather than torch.tensor(sourceTensor).\n",
      "  mfcc = torch.tensor(mfcc)\n"
     ]
    },
    {
     "name": "stdout",
     "output_type": "stream",
     "text": [
      "Epoch : 001, Training: Loss: 2.7241, Accuracy: 43.5812%, \n",
      "\t\tValidation : Loss : 0.7397, Accuracy: 80.0093%, Time: 440.8508s\n",
      "Epoch: 2/10\n",
      "Epoch : 002, Training: Loss: 0.6044, Accuracy: 82.9548%, \n",
      "\t\tValidation : Loss : 0.4025, Accuracy: 88.8361%, Time: 441.8106s\n",
      "Epoch: 3/10\n",
      "Epoch : 003, Training: Loss: 0.3399, Accuracy: 89.9637%, \n",
      "\t\tValidation : Loss : 0.4047, Accuracy: 89.0672%, Time: 444.2392s\n",
      "Epoch: 4/10\n",
      "Epoch : 004, Training: Loss: 0.2364, Accuracy: 92.7554%, \n",
      "\t\tValidation : Loss : 0.2605, Accuracy: 92.9149%, Time: 446.9260s\n",
      "Epoch: 5/10\n",
      "Epoch : 005, Training: Loss: 0.1812, Accuracy: 94.3254%, \n",
      "\t\tValidation : Loss : 0.1961, Accuracy: 94.6224%, Time: 440.2298s\n",
      "Epoch: 6/10\n",
      "Epoch : 006, Training: Loss: 0.1451, Accuracy: 95.3719%, \n",
      "\t\tValidation : Loss : 0.2367, Accuracy: 93.9599%, Time: 443.3254s\n",
      "Epoch: 7/10\n",
      "Epoch : 007, Training: Loss: 0.1225, Accuracy: 96.0975%, \n",
      "\t\tValidation : Loss : 0.2150, Accuracy: 94.7066%, Time: 443.3344s\n",
      "Epoch: 8/10\n",
      "Epoch : 008, Training: Loss: 0.1055, Accuracy: 96.6301%, \n",
      "\t\tValidation : Loss : 0.1915, Accuracy: 95.3066%, Time: 439.8935s\n",
      "Epoch: 9/10\n",
      "Epoch : 009, Training: Loss: 0.0930, Accuracy: 96.9764%, \n",
      "\t\tValidation : Loss : 0.2017, Accuracy: 95.2531%, Time: 443.0062s\n",
      "Epoch: 10/10\n",
      "Epoch : 010, Training: Loss: 0.0847, Accuracy: 97.2710%, \n",
      "\t\tValidation : Loss : 0.1901, Accuracy: 95.5616%, Time: 438.3907s\n"
     ]
    }
   ],
   "source": [
    "output_size = len(np.unique(speaker_mfcc_db['speaker_id']))\n",
    "\n",
    "net =  CustomNet(num_classes=output_size)\n",
    "\n",
    "device = torch.device(\"cuda:0\" if torch.cuda.is_available() else \"cpu\")\n",
    "net = net.to(device)\n",
    "#Train\n",
    "trained_model, history = train_and_validate(net, epochs=10, batch_size = 64, lr=1e-4)"
   ]
  },
  {
   "cell_type": "markdown",
   "metadata": {},
   "source": [
    "Plot Train/Loss Curve"
   ]
  },
  {
   "cell_type": "code",
   "execution_count": null,
   "id": "6bf4ca2f-08d2-474d-998e-eba34dd310da",
   "metadata": {},
   "outputs": [
    {
     "data": {
      "text/plain": [
       "<matplotlib.legend.Legend at 0x2cab1429b40>"
      ]
     },
     "metadata": {},
     "output_type": "display_data"
    },
    {
     "data": {
      "image/png": "[encoded data removed]",
      "text/plain": [
       "<Figure size 640x480 with 1 Axes>"
      ]
     },
     "metadata": {},
     "output_type": "display_data"
    },
    {
     "data": {
      "image/png": "[encoded data removed]",
      "text/plain": [
       "<Figure size 640x480 with 1 Axes>"
      ]
     },
     "metadata": {},
     "output_type": "display_data"
    }
   ],
   "source": [
    "train_acc = []\n",
    "val_acc = []\n",
    "train_loss = []\n",
    "val_loss = []\n",
    "ep = []\n",
    "i = 0\n",
    "for tloss,vloss, tacc, vacc in history:\n",
    "    train_acc.append(tacc)\n",
    "    val_acc.append(vacc)\n",
    "    train_loss.append(tloss)\n",
    "    val_loss.append(vloss)\n",
    "    ep.append(i)\n",
    "    i += 1\n",
    "\n",
    "\n",
    "n = len(train_loss) # number of epochs\n",
    "plt.figure()\n",
    "plt.title(\"Train vs Validation Loss\")\n",
    "plt.plot(range(1,n+1), train_loss, label=\"Train\")\n",
    "plt.plot(range(1,n+1), val_loss, label=\"Validation\")\n",
    "plt.xlabel(\"Epoch\")\n",
    "plt.ylabel(\"Loss\")\n",
    "plt.legend(loc='best')\n",
    "# plt.show()\n",
    "\n",
    "plt.figure()\n",
    "plt.title(\"Train vs Validation Accuracy\")\n",
    "plt.plot(range(1,n+1), train_acc, label=\"Train\")\n",
    "plt.plot(range(1,n+1), val_acc, label=\"Validation\")\n",
    "plt.xlabel(\"Epoch\")\n",
    "plt.ylabel(\"Accuracy\")\n",
    "plt.legend(loc='best')"
   ]
  },
  {
   "cell_type": "markdown",
   "metadata": {},
   "source": [
    "Testing function and accuracy for AudioNet on Librispeech test dataset"
   ]
  },
  {
   "cell_type": "code",
   "execution_count": null,
   "metadata": {},
   "outputs": [],
   "source": [
    "def test_model(model, test_loader):\n",
    "    correct = 0\n",
    "    total = 0\n",
    "    with torch.no_grad():\n",
    "        for data in test_loader:\n",
    "            mfcc, speakers = data\n",
    "            outputs = model(mfcc)\n",
    "            _, predicted = torch.max(outputs.data, 1)\n",
    "            total += speakers.size(0)\n",
    "            correct += (predicted == speakers).sum().item()\n",
    "\n",
    "    print(f'Accuracy: {100 * correct // total} %')\n",
    "\n"
   ]
  },
  {
   "cell_type": "code",
   "execution_count": null,
   "id": "51f13d78-b9b4-4d57-a813-f33fed2b8e84",
   "metadata": {},
   "outputs": [
    {
     "name": "stderr",
     "output_type": "stream",
     "text": [
      "C:\\Users\\David\\AppData\\Local\\Temp\\ipykernel_5776\\1364449930.py:45: UserWarning: To copy construct from a tensor, it is recommended to use sourceTensor.clone().detach() or sourceTensor.clone().detach().requires_grad_(True), rather than torch.tensor(sourceTensor).\n",
      "  mfcc = torch.tensor(mfcc)\n"
     ]
    },
    {
     "name": "stdout",
     "output_type": "stream",
     "text": [
      "Accuracy: 95 %\n"
     ]
    }
   ],
   "source": [
    "test_model(net, test_loader)"
   ]
  },
  {
   "cell_type": "code",
   "execution_count": null,
   "metadata": {},
   "outputs": [],
   "source": [
    "#Saving the trained model\n",
    "\n",
    "path = r\"F:\\speaker_project\\audio-speaker-recognition\\notebooks\\net.pth\"\n",
    "torch.save(net, path)"
   ]
  },
  {
   "cell_type": "markdown",
   "metadata": {},
   "source": [
    "Transfer Learning with VoxCeleb dataset"
   ]
  },
  {
   "cell_type": "code",
   "execution_count": null,
   "metadata": {},
   "outputs": [],
   "source": [
    "#Re-call empty AudioNet Structure\n",
    "class CustomNet(nn.Module):\n",
    "    def __init__(self, num_classes: int = 1152, dropout: float = 0.5) -> None:\n",
    "        super().__init__()\n",
    "        self.features = nn.Sequential(\n",
    "            #Input size: 1 * 224 * 224 (C x H x W)\n",
    "            nn.Conv2d(1, 64, kernel_size=3, stride=4, padding=2),\n",
    "            #Size after: 64 * 56 * 56 \n",
    "            nn.RReLU(inplace=True),\n",
    "            nn.MaxPool2d(kernel_size=3, stride=2),\n",
    "            #Size after: 64 * 28 * 28\n",
    "            nn.Conv2d(64, 384, kernel_size=5, padding=2),\n",
    "            #Size after: 384 * 28 * 28\n",
    "            nn.RReLU(inplace=True),\n",
    "            nn.MaxPool2d(kernel_size=3, stride=2),\n",
    "            #Size after: 384 * 14 * 14\n",
    "            nn.Conv2d(384, 128, kernel_size=3, padding=1),\n",
    "            #Size after: 128 *16 * 16\n",
    "            nn.RReLU(inplace=True),\n",
    "            nn.MaxPool2d(kernel_size=3, stride=2),\n",
    "            #Size after: 128 * 6 * 6\n",
    "        )\n",
    "        self.avgpool = nn.AdaptiveAvgPool2d((6, 6))\n",
    "        self.classifier = nn.Sequential(\n",
    "            nn.Dropout(p=dropout),\n",
    "            nn.Linear(128 * 6 * 6, 4096),\n",
    "            nn.ReLU(inplace=True),\n",
    "            nn.Dropout(p=dropout),\n",
    "            nn.Linear(4096, 2048),\n",
    "            nn.ReLU(inplace=True),\n",
    "            nn.Linear(2048, num_classes),\n",
    "            nn.LogSoftmax(dim = 1),\n",
    "        )\n",
    "\n",
    "    def forward(self, x: torch.Tensor) -> torch.Tensor:\n",
    "        x = self.features(x)\n",
    "        x = self.avgpool(x)\n",
    "        x = torch.flatten(x, 1)\n",
    "        x = self.classifier(x)\n",
    "        return x"
   ]
  },
  {
   "cell_type": "code",
   "execution_count": null,
   "metadata": {},
   "outputs": [],
   "source": [
    "'''\n",
    "Load the pretrained  Model\n",
    "'''\n",
    "#Copy the full path of net.pth file\n",
    "model = torch.load(r'F:\\speaker_project\\audio-speaker-recognition\\notebooks\\net.pth')"
   ]
  },
  {
   "cell_type": "code",
   "execution_count": null,
   "id": "a8aa727b",
   "metadata": {},
   "outputs": [
    {
     "data": {
      "text/plain": [
       "CustomNet(\n",
       "  (features): Sequential(\n",
       "    (0): Conv2d(1, 64, kernel_size=(3, 3), stride=(4, 4), padding=(2, 2))\n",
       "    (1): RReLU(lower=0.125, upper=0.3333333333333333, inplace=True)\n",
       "    (2): MaxPool2d(kernel_size=3, stride=2, padding=0, dilation=1, ceil_mode=False)\n",
       "    (3): Conv2d(64, 384, kernel_size=(5, 5), stride=(1, 1), padding=(2, 2))\n",
       "    (4): RReLU(lower=0.125, upper=0.3333333333333333, inplace=True)\n",
       "    (5): MaxPool2d(kernel_size=3, stride=2, padding=0, dilation=1, ceil_mode=False)\n",
       "    (6): Conv2d(384, 128, kernel_size=(3, 3), stride=(1, 1), padding=(1, 1))\n",
       "    (7): RReLU(lower=0.125, upper=0.3333333333333333, inplace=True)\n",
       "    (8): MaxPool2d(kernel_size=3, stride=2, padding=0, dilation=1, ceil_mode=False)\n",
       "  )\n",
       "  (avgpool): AdaptiveAvgPool2d(output_size=(6, 6))\n",
       "  (classifier): Sequential(\n",
       "    (0): Dropout(p=0.5, inplace=False)\n",
       "    (1): Linear(in_features=4608, out_features=4096, bias=True)\n",
       "    (2): ReLU(inplace=True)\n",
       "    (3): Dropout(p=0.5, inplace=False)\n",
       "    (4): Linear(in_features=4096, out_features=2048, bias=True)\n",
       "    (5): ReLU(inplace=True)\n",
       "    (6): Linear(in_features=2048, out_features=1252, bias=True)\n",
       "    (7): LogSoftmax(dim=1)\n",
       "  )\n",
       ")"
      ]
     },
     "metadata": {},
     "output_type": "display_data"
    }
   ],
   "source": [
    "#Modify the last layer to number of celebs (classes) in new dataset\n",
    "for param in model.parameters():\n",
    "    param.requires_grad = False\n",
    "model.classifier[6] = nn.Linear(2048, 1252)\n",
    "\n",
    "model"
   ]
  },
  {
   "cell_type": "markdown",
   "metadata": {},
   "source": [
    "Train the transfer learnt model"
   ]
  },
  {
   "cell_type": "code",
   "execution_count": null,
   "id": "0541eac2",
   "metadata": {},
   "outputs": [
    {
     "name": "stdout",
     "output_type": "stream",
     "text": [
      "Epoch: 1/12\n"
     ]
    },
    {
     "name": "stderr",
     "output_type": "stream",
     "text": [
      "C:\\Users\\David\\AppData\\Local\\Temp\\ipykernel_5824\\1364449930.py:45: UserWarning: To copy construct from a tensor, it is recommended to use sourceTensor.clone().detach() or sourceTensor.clone().detach().requires_grad_(True), rather than torch.tensor(sourceTensor).\n",
      "  mfcc = torch.tensor(mfcc)\n"
     ]
    },
    {
     "name": "stdout",
     "output_type": "stream",
     "text": [
      "Epoch : 001, Training: Loss: 3.8310, Accuracy: 36.2377%, \n",
      "\t\tValidation : Loss : 2.6017, Accuracy: 52.3708%, Time: 222.7289s\n",
      "Epoch: 2/12\n",
      "Epoch : 002, Training: Loss: 2.1073, Accuracy: 55.1573%, \n",
      "\t\tValidation : Loss : 2.2174, Accuracy: 59.0938%, Time: 221.2566s\n",
      "Epoch: 3/12\n",
      "Epoch : 003, Training: Loss: 1.6570, Accuracy: 62.1181%, \n",
      "\t\tValidation : Loss : 2.0948, Accuracy: 61.9908%, Time: 221.5474s\n",
      "Epoch: 4/12\n",
      "Epoch : 004, Training: Loss: 1.4098, Accuracy: 66.4072%, \n",
      "\t\tValidation : Loss : 2.0570, Accuracy: 63.4448%, Time: 209.7317s\n",
      "Epoch: 5/12\n",
      "Epoch : 005, Training: Loss: 1.2361, Accuracy: 69.3367%, \n",
      "\t\tValidation : Loss : 2.0319, Accuracy: 64.5667%, Time: 209.1147s\n",
      "Epoch: 6/12\n",
      "Epoch : 006, Training: Loss: 1.1082, Accuracy: 71.7863%, \n",
      "\t\tValidation : Loss : 2.0411, Accuracy: 65.1462%, Time: 213.6651s\n",
      "Epoch: 7/12\n",
      "Epoch : 007, Training: Loss: 1.0218, Accuracy: 73.4094%, \n",
      "\t\tValidation : Loss : 2.0495, Accuracy: 65.8623%, Time: 226.2184s\n",
      "Epoch: 8/12\n",
      "Epoch : 008, Training: Loss: 0.9448, Accuracy: 74.9737%, \n",
      "\t\tValidation : Loss : 2.0738, Accuracy: 66.3223%, Time: 222.4622s\n",
      "Epoch: 9/12\n",
      "Epoch : 009, Training: Loss: 0.8798, Accuracy: 76.2322%, \n",
      "\t\tValidation : Loss : 2.1058, Accuracy: 66.7065%, Time: 225.1269s\n",
      "Epoch: 10/12\n",
      "Epoch : 010, Training: Loss: 0.8323, Accuracy: 77.2235%, \n",
      "\t\tValidation : Loss : 2.1075, Accuracy: 67.0255%, Time: 216.6697s\n",
      "Epoch: 11/12\n",
      "Epoch : 011, Training: Loss: 0.7910, Accuracy: 78.0071%, \n",
      "\t\tValidation : Loss : 2.1444, Accuracy: 67.1687%, Time: 227.0096s\n",
      "Epoch: 12/12\n",
      "Epoch : 012, Training: Loss: 0.7563, Accuracy: 78.9243%, \n",
      "\t\tValidation : Loss : 2.1703, Accuracy: 67.5094%, Time: 216.4460s\n"
     ]
    }
   ],
   "source": [
    "net =  model\n",
    "device = torch.device(\"cuda:0\" if torch.cuda.is_available() else \"cpu\")\n",
    "net = net.to(device)\n",
    "\n",
    "trained_model, history = train_and_validate(net, epochs=12, batch_size = 32, lr=1e-4)"
   ]
  },
  {
   "cell_type": "markdown",
   "metadata": {},
   "source": [
    "Plot Train/Loss Curve"
   ]
  },
  {
   "cell_type": "code",
   "execution_count": null,
   "id": "b3bd49d9",
   "metadata": {},
   "outputs": [
    {
     "data": {
      "text/plain": [
       "<matplotlib.legend.Legend at 0x2137325b040>"
      ]
     },
     "metadata": {},
     "output_type": "display_data"
    },
    {
     "data": {
      "image/png": "[encoded data removed]",
      "text/plain": [
       "<Figure size 640x480 with 1 Axes>"
      ]
     },
     "metadata": {},
     "output_type": "display_data"
    },
    {
     "data": {
      "image/png": "[encoded data removed]",
      "text/plain": [
       "<Figure size 640x480 with 1 Axes>"
      ]
     },
     "metadata": {},
     "output_type": "display_data"
    }
   ],
   "source": [
    "train_acc = []\n",
    "val_acc = []\n",
    "train_loss = []\n",
    "val_loss = []\n",
    "ep = []\n",
    "i = 0\n",
    "for tloss,vloss, tacc, vacc in history:\n",
    "    train_acc.append(tacc)\n",
    "    val_acc.append(vacc)\n",
    "    train_loss.append(tloss)\n",
    "    val_loss.append(vloss)\n",
    "    ep.append(i)\n",
    "    i += 1\n",
    "\n",
    "\n",
    "n = len(train_loss) # number of epochs\n",
    "plt.figure()\n",
    "plt.title(\"Train vs Validation Loss\")\n",
    "plt.plot(range(1,n+1), train_loss, label=\"Train\")\n",
    "plt.plot(range(1,n+1), val_loss, label=\"Validation\")\n",
    "plt.xlabel(\"Epoch\")\n",
    "plt.ylabel(\"Loss\")\n",
    "plt.legend(loc='best')\n",
    "# plt.show()\n",
    "\n",
    "plt.figure()\n",
    "plt.title(\"Train vs Validation Accuracy\")\n",
    "plt.plot(range(1,n+1), train_acc, label=\"Train\")\n",
    "plt.plot(range(1,n+1), val_acc, label=\"Validation\")\n",
    "plt.xlabel(\"Epoch\")\n",
    "plt.ylabel(\"Accuracy\")\n",
    "plt.legend(loc='best')"
   ]
  },
  {
   "cell_type": "code",
   "execution_count": null,
   "id": "84bea2f9",
   "metadata": {},
   "outputs": [
    {
     "name": "stderr",
     "output_type": "stream",
     "text": [
      "C:\\Users\\David\\AppData\\Local\\Temp\\ipykernel_5824\\1364449930.py:45: UserWarning: To copy construct from a tensor, it is recommended to use sourceTensor.clone().detach() or sourceTensor.clone().detach().requires_grad_(True), rather than torch.tensor(sourceTensor).\n",
      "  mfcc = torch.tensor(mfcc)\n"
     ]
    },
    {
     "name": "stdout",
     "output_type": "stream",
     "text": [
      "Accuracy: 67 %\n"
     ]
    }
   ],
   "source": [
    "#Test the transfer learning model on vox celeb test dataset\n",
    "test_model(model, test_loader)"
   ]
  },
  {
   "cell_type": "code",
   "execution_count": null,
   "metadata": {},
   "outputs": [],
   "source": [
    "#Saving the transfer learning model on celeb+Sinisa dataset\n",
    "\n",
    "path = r\"F:\\speaker_project\\audio-speaker-recognition\\notebooks\\transferred_model.pth\"\n",
    "torch.save(model, path)"
   ]
  },
  {
   "cell_type": "markdown",
   "metadata": {},
   "source": [
    "Demo"
   ]
  },
  {
   "cell_type": "code",
   "execution_count": null,
   "metadata": {},
   "outputs": [],
   "source": [
    "'''\n",
    "Load the pretrained Trasfer Learnt AudioNet Model\n",
    "'''\n",
    "#Copy the full path of net.pth file\n",
    "model = torch.load(r'F:\\speaker_project\\audio-speaker-recognition\\notebooks\\transferred_model.pth')"
   ]
  },
  {
   "cell_type": "code",
   "execution_count": null,
   "metadata": {},
   "outputs": [],
   "source": [
    "#Load the index-name file for voxceleb model\n",
    "voxfile = r\"F:\\speaker_project\\audio-speaker-recognition\\notebooks\\vox1_meta.csv\"\n",
    "vox_df = pd.read_csv(voxfile)"
   ]
  },
  {
   "cell_type": "code",
   "execution_count": null,
   "id": "2e0cd33d",
   "metadata": {},
   "outputs": [
    {
     "data": {
      "text/plain": [
       "'Zulay_Henao'"
      ]
     },
     "metadata": {},
     "output_type": "display_data"
    }
   ],
   "source": [
    "#Creating a name list with its index and test run\n",
    "name = []\n",
    "for i in range(1251):\n",
    "\n",
    "    name.append(str(vox_df.iloc[i])[64:].split('\\\\')[0])\n",
    "name[1250]"
   ]
  },
  {
   "cell_type": "code",
   "execution_count": null,
   "metadata": {},
   "outputs": [],
   "source": [
    "#Demo helper functions\n",
    "def print_name(speakers, predicted):\n",
    "    actual = []\n",
    "    model_output = []\n",
    "    speakers.tolist()\n",
    "    predicted.tolist()\n",
    "    for spk in speakers:\n",
    "        actual.append(name[spk-1])\n",
    "    for pred in predicted:\n",
    "        model_output.append(name[pred-1])\n",
    "\n",
    "\n",
    "    dict = {\"Actual\":actual,\"Predicted\":model_output}\n",
    "    return pd.DataFrame(dict)\n",
    "    #print(\"Actual Celeberity in this demo batch are:\", actual)\n",
    "    #print(\"Model predictions are:\", model_output)\n",
    "\n",
    "def get_ith_batch_result(num):\n",
    "    with torch.no_grad():\n",
    "        cnt = 0\n",
    "        for data in test_loader:\n",
    "            mfcc, speakers = data\n",
    "            outputs = model(mfcc)\n",
    "            _, predicted = torch.max(outputs.data, 1)\n",
    "            df = print_name(speakers, predicted)\n",
    "            cnt += 1\n",
    "            if cnt == num:\n",
    "                break\n",
    "    return df"
   ]
  },
  {
   "cell_type": "code",
   "execution_count": null,
   "id": "0d8ebaa1",
   "metadata": {},
   "outputs": [
    {
     "name": "stderr",
     "output_type": "stream",
     "text": [
      "C:\\Users\\David\\AppData\\Local\\Temp\\ipykernel_2308\\1364449930.py:45: UserWarning: To copy construct from a tensor, it is recommended to use sourceTensor.clone().detach() or sourceTensor.clone().detach().requires_grad_(True), rather than torch.tensor(sourceTensor).\n",
      "  mfcc = torch.tensor(mfcc)\n"
     ]
    },
    {
     "data": {
      "text/html": [
       "<div>\n",
       "<style scoped>\n",
       "    .dataframe tbody tr th:only-of-type {\n",
       "        vertical-align: middle;\n",
       "    }\n",
       "\n",
       "    .dataframe tbody tr th {\n",
       "        vertical-align: top;\n",
       "    }\n",
       "\n",
       "    .dataframe thead th {\n",
       "        text-align: right;\n",
       "    }\n",
       "</style>\n",
       "<table border=\"1\" class=\"dataframe\">\n",
       "  <thead>\n",
       "    <tr style=\"text-align: right;\">\n",
       "      <th></th>\n",
       "      <th>Actual</th>\n",
       "      <th>Predicted</th>\n",
       "    </tr>\n",
       "  </thead>\n",
       "  <tbody>\n",
       "    <tr>\n",
       "      <th>0</th>\n",
       "      <td>Eli_Wallach</td>\n",
       "      <td>Leslie_Mann</td>\n",
       "    </tr>\n",
       "    <tr>\n",
       "      <th>1</th>\n",
       "      <td>Izabella_Scorupco</td>\n",
       "      <td>Izabella_Scorupco</td>\n",
       "    </tr>\n",
       "    <tr>\n",
       "      <th>2</th>\n",
       "      <td>Cher</td>\n",
       "      <td>Cher</td>\n",
       "    </tr>\n",
       "    <tr>\n",
       "      <th>3</th>\n",
       "      <td>Brendan_Gleeson</td>\n",
       "      <td>Brendan_Gleeson</td>\n",
       "    </tr>\n",
       "    <tr>\n",
       "      <th>4</th>\n",
       "      <td>Mark_Sheppard</td>\n",
       "      <td>Mark_Sheppard</td>\n",
       "    </tr>\n",
       "    <tr>\n",
       "      <th>5</th>\n",
       "      <td>Rhys_Darby</td>\n",
       "      <td>Rhys_Darby</td>\n",
       "    </tr>\n",
       "    <tr>\n",
       "      <th>6</th>\n",
       "      <td>Michaela_Conlin</td>\n",
       "      <td>Michaela_Conlin</td>\n",
       "    </tr>\n",
       "    <tr>\n",
       "      <th>7</th>\n",
       "      <td>Monica_Raymund</td>\n",
       "      <td>Monica_Raymund</td>\n",
       "    </tr>\n",
       "    <tr>\n",
       "      <th>8</th>\n",
       "      <td>Hill_Harper</td>\n",
       "      <td>Sharlto_Copley</td>\n",
       "    </tr>\n",
       "    <tr>\n",
       "      <th>9</th>\n",
       "      <td>Brian_Cox</td>\n",
       "      <td>Brian_Cox</td>\n",
       "    </tr>\n",
       "  </tbody>\n",
       "</table>\n",
       "</div>"
      ],
      "text/plain": [
       "              Actual          Predicted\n",
       "0        Eli_Wallach        Leslie_Mann\n",
       "1  Izabella_Scorupco  Izabella_Scorupco\n",
       "2               Cher               Cher\n",
       "3    Brendan_Gleeson    Brendan_Gleeson\n",
       "4      Mark_Sheppard      Mark_Sheppard\n",
       "5         Rhys_Darby         Rhys_Darby\n",
       "6    Michaela_Conlin    Michaela_Conlin\n",
       "7     Monica_Raymund     Monica_Raymund\n",
       "8        Hill_Harper     Sharlto_Copley\n",
       "9          Brian_Cox          Brian_Cox"
      ]
     },
     "metadata": {},
     "output_type": "display_data"
    }
   ],
   "source": [
    "#Get the ith batch test_loader result comparision\n",
    "result = get_ith_batch_result(240)\n",
    "result"
   ]
  }
 ],
 "metadata": {
  "kernelspec": {
   "display_name": "Python 3.10.8 64-bit (microsoft store)",
   "language": "python",
   "name": "python3"
  },
  "language_info": {
   "name": "python",
   "version": "3.10.8"
  },
  "orig_nbformat": 4,
  "vscode": {
   "interpreter": {
    "hash": "c40c2e94b44540d55f16bcb7a9e45ade0708cf295825c98f3d38101cabba3f32"
   }
  }
 },
 "nbformat": 4,
 "nbformat_minor": 2
}
