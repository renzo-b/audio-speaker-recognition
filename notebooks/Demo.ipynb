{
 "cells": [
  {
   "cell_type": "code",
   "execution_count": 1,
   "id": "0eefe583-6b5e-4255-a1a6-4985375d00ac",
   "metadata": {},
   "outputs": [
    {
     "name": "stderr",
     "output_type": "stream",
     "text": [
      "c:\\Users\\David\\anaconda3\\envs\\speaker-recon\\lib\\site-packages\\tqdm\\auto.py:22: TqdmWarning: IProgress not found. Please update jupyter and ipywidgets. See https://ipywidgets.readthedocs.io/en/stable/user_install.html\n",
      "  from .autonotebook import tqdm as notebook_tqdm\n"
     ]
    }
   ],
   "source": [
    "import copy\n",
    "import time\n",
    "import os\n",
    "sys.path.append(os.pardir)\n",
    "sys.path.append(os.path.join(os.pardir, os.pardir))\n",
    "import librosa\n",
    "import matplotlib.pyplot as plt\n",
    "import numpy as np\n",
    "import pandas as pd\n",
    "\n",
    "import matplotlib.pyplot as plt\n",
    "import torch\n",
    "import torch.nn as nn\n",
    "import torch.nn.functional as F\n",
    "\n",
    "from math import floor\n",
    "\n",
    "from torchsummary import summary\n",
    "from typing import Union\n",
    "from torch.utils.data import Subset\n",
    "from tqdm import tqdm\n",
    "from torchvision import transforms, models\n",
    "from PIL import Image\n",
    "\n",
    "from sklearn.model_selection import train_test_split\n",
    "from torch.utils.data import DataLoader, Dataset\n",
    "\n",
    "from src.datasets import read_pickled_dataset\n",
    "from src.visualization import (calculate_statistics, play_audio, plot_mfccs,\n",
    "                               plot_specgram, plot_waveform,\n",
    "                               visualize_random_sample)\n",
    "from src.audio_utils import split_waveform, CepstralNormalization"
   ]
  },
  {
   "cell_type": "markdown",
   "id": "a17d3a88-70ff-4097-ac6e-eb945af657c4",
   "metadata": {},
   "source": [
    "## Load Dataset for Demo"
   ]
  },
  {
   "cell_type": "code",
   "execution_count": 5,
   "id": "17a541d8-0578-4a9c-9e84-f15877d4ff74",
   "metadata": {},
   "outputs": [
    {
     "name": "stdout",
     "output_type": "stream",
     "text": [
      "Unexpected exception formatting exception. Falling back to standard exception\n"
     ]
    },
    {
     "name": "stderr",
     "output_type": "stream",
     "text": [
      "Traceback (most recent call last):\n",
      "  File \"c:\\Users\\David\\anaconda3\\envs\\speaker-recon\\lib\\site-packages\\IPython\\core\\interactiveshell.py\", line 3433, in run_code\n",
      "    exec(code_obj, self.user_global_ns, self.user_ns)\n",
      "  File \"C:\\Users\\David\\AppData\\Local\\Temp\\ipykernel_19096\\835006883.py\", line 1, in <module>\n",
      "    speaker_mfcc_db, mfcc_channel_db = read_pickled_dataset(\"celeb_demo\")\n",
      "  File \"f:\\speaker_project\\audio-speaker-recognition\\notebooks\\..\\src\\datasets.py\", line 98, in read_pickled_dataset\n",
      "ValueError: The dataset you passed 'celeb_demo' is not in the list of datasets\n",
      "\n",
      "During handling of the above exception, another exception occurred:\n",
      "\n",
      "Traceback (most recent call last):\n",
      "  File \"c:\\Users\\David\\anaconda3\\envs\\speaker-recon\\lib\\site-packages\\IPython\\core\\interactiveshell.py\", line 2052, in showtraceback\n",
      "    stb = self.InteractiveTB.structured_traceback(\n",
      "  File \"c:\\Users\\David\\anaconda3\\envs\\speaker-recon\\lib\\site-packages\\IPython\\core\\ultratb.py\", line 1112, in structured_traceback\n",
      "    return FormattedTB.structured_traceback(\n",
      "  File \"c:\\Users\\David\\anaconda3\\envs\\speaker-recon\\lib\\site-packages\\IPython\\core\\ultratb.py\", line 1006, in structured_traceback\n",
      "    return VerboseTB.structured_traceback(\n",
      "  File \"c:\\Users\\David\\anaconda3\\envs\\speaker-recon\\lib\\site-packages\\IPython\\core\\ultratb.py\", line 859, in structured_traceback\n",
      "    formatted_exception = self.format_exception_as_a_whole(etype, evalue, etb, number_of_lines_of_context,\n",
      "  File \"c:\\Users\\David\\anaconda3\\envs\\speaker-recon\\lib\\site-packages\\IPython\\core\\ultratb.py\", line 812, in format_exception_as_a_whole\n",
      "    frames.append(self.format_record(r))\n",
      "  File \"c:\\Users\\David\\anaconda3\\envs\\speaker-recon\\lib\\site-packages\\IPython\\core\\ultratb.py\", line 730, in format_record\n",
      "    result += ''.join(_format_traceback_lines(frame_info.lines, Colors, self.has_colors, lvals))\n",
      "  File \"c:\\Users\\David\\anaconda3\\envs\\speaker-recon\\lib\\site-packages\\stack_data\\utils.py\", line 144, in cached_property_wrapper\n",
      "    value = obj.__dict__[self.func.__name__] = self.func(obj)\n",
      "  File \"c:\\Users\\David\\anaconda3\\envs\\speaker-recon\\lib\\site-packages\\stack_data\\core.py\", line 720, in lines\n",
      "    pieces = self.included_pieces\n",
      "  File \"c:\\Users\\David\\anaconda3\\envs\\speaker-recon\\lib\\site-packages\\stack_data\\utils.py\", line 144, in cached_property_wrapper\n",
      "    value = obj.__dict__[self.func.__name__] = self.func(obj)\n",
      "  File \"c:\\Users\\David\\anaconda3\\envs\\speaker-recon\\lib\\site-packages\\stack_data\\core.py\", line 667, in included_pieces\n",
      "    pos = scope_pieces.index(self.executing_piece)\n",
      "  File \"c:\\Users\\David\\anaconda3\\envs\\speaker-recon\\lib\\site-packages\\stack_data\\utils.py\", line 144, in cached_property_wrapper\n",
      "    value = obj.__dict__[self.func.__name__] = self.func(obj)\n",
      "  File \"c:\\Users\\David\\anaconda3\\envs\\speaker-recon\\lib\\site-packages\\stack_data\\core.py\", line 646, in executing_piece\n",
      "    return only(\n",
      "  File \"c:\\Users\\David\\anaconda3\\envs\\speaker-recon\\lib\\site-packages\\executing\\executing.py\", line 190, in only\n",
      "    raise NotOneValueFound('Expected one value, found 0')\n",
      "executing.executing.NotOneValueFound: Expected one value, found 0\n"
     ]
    }
   ],
   "source": [
    "speaker_mfcc_db, mfcc_channel_db = read_pickled_dataset(\"celeb_demo\") \n",
    "speaker_mfcc_db = speaker_mfcc_db.reset_index(drop=True)\n",
    "# options: \"librispeech-train-clean-100\", \"librispeech-train-other-500\", \"librispeech-mixed\", \"voxceleb1identification-4s\""
   ]
  },
  {
   "cell_type": "markdown",
   "id": "8b54e134-a890-4e2f-bbb9-c62816868d03",
   "metadata": {},
   "source": [
    "Count number of unique speakers"
   ]
  },
  {
   "cell_type": "code",
   "execution_count": 4,
   "id": "a7413203-02e2-4a72-83b9-d2379e3d829d",
   "metadata": {},
   "outputs": [
    {
     "data": {
      "text/plain": [
       "1252"
      ]
     },
     "execution_count": 4,
     "metadata": {},
     "output_type": "execute_result"
    }
   ],
   "source": [
    "len(np.unique(speaker_mfcc_db[\"speaker_id\"]))"
   ]
  },
  {
   "cell_type": "markdown",
   "id": "801c0cda-8fa6-4f19-b616-bf990190464b",
   "metadata": {},
   "source": [
    "Count the number of samples for each speaker_id"
   ]
  },
  {
   "cell_type": "code",
   "execution_count": 4,
   "id": "6e5b6ca7-fa4c-41be-8de6-110765038c36",
   "metadata": {},
   "outputs": [
    {
     "data": {
      "text/plain": [
       "speaker_id\n",
       "449     33\n",
       "421     42\n",
       "680     50\n",
       "689     61\n",
       "974     66\n",
       "      ... \n",
       "173    691\n",
       "114    693\n",
       "70     693\n",
       "21     695\n",
       "237    695\n",
       "Length: 1166, dtype: int64"
      ]
     },
     "execution_count": 4,
     "metadata": {},
     "output_type": "execute_result"
    }
   ],
   "source": [
    "speaker_mfcc_db.groupby('speaker_id').size().sort_values()"
   ]
  },
  {
   "cell_type": "markdown",
   "id": "77a98d97-51a1-4e6e-a936-afa2761c2c5a",
   "metadata": {
    "id": "89f20275-84b6-443b-b502-49132582cd5f"
   },
   "source": [
    "## Preprocessing"
   ]
  },
  {
   "cell_type": "code",
   "execution_count": 2,
   "id": "693973e9-8f98-4030-9e87-5795b021e3e5",
   "metadata": {},
   "outputs": [],
   "source": [
    "def speaker_encoder(speaker_ids):\n",
    "    \"\"\"\n",
    "    Creates a dictionary of (speaker_id, encoded_id) pairs\n",
    "    \"\"\"\n",
    "    speaker_dict = {}\n",
    "    for i, speaker_id in enumerate(speaker_ids):\n",
    "        speaker_dict[speaker_id] = i\n",
    "    return speaker_dict"
   ]
  },
  {
   "cell_type": "code",
   "execution_count": 3,
   "id": "59dfb20b-737d-4aae-b7e3-35c3c749fef5",
   "metadata": {
    "id": "LxAyDkgAkGYG"
   },
   "outputs": [],
   "source": [
    "class MFCCData(Dataset):\n",
    "    def __init__(self, speaker_mfcc_db, mfcc_channel_db, transform=None):\n",
    "        \"\"\"\n",
    "        Creates a dataset of spectrograms from a dataset of waveforms\n",
    "        \n",
    "        Inputs\n",
    "        ------\n",
    "        speaker_mfcc_db : pd.DataFrame\n",
    "            dataframe of (index, speaker_id, mfcc_id)\n",
    "            \n",
    "        mfcc_channel_db : pd.DataFrame\n",
    "            dataframe of (mfcc_id, channel_1, channel_2, ...)\n",
    "            \n",
    "        transform : optional \n",
    "            transformations to perform on the MFCCs\n",
    "        \"\"\"\n",
    "        self.speaker_mfcc_db = speaker_mfcc_db\n",
    "        self.mfcc_channel_db = mfcc_channel_db        \n",
    "        self.transform = transform\n",
    "            \n",
    "    def __len__(self):\n",
    "        return len(self.speaker_mfcc_db)\n",
    "\n",
    "    def __getitem__(self, idx):\n",
    "        speaker_id = self.speaker_mfcc_db.iloc[idx]['speaker_id']\n",
    "        mfcc_id = self.speaker_mfcc_db.iloc[idx]['mfcc_id']\n",
    "        \n",
    "        mfcc = []\n",
    "        for i, col in enumerate(self.mfcc_channel_db.columns):\n",
    "            mfcc_channel_i = self.mfcc_channel_db.loc[mfcc_id, f'channel_{i}']\n",
    "            mfcc.append(mfcc_channel_i)\n",
    "            \n",
    "        mfcc = np.asarray(mfcc)\n",
    "        mfcc = mfcc.reshape(len(self.mfcc_channel_db.columns), -1)\n",
    "        \n",
    "        if self.transform:\n",
    "            mfcc = mfcc.reshape(1, mfcc.shape[0], mfcc.shape[1])\n",
    "            mfcc = np.transpose(mfcc, [1, 2, 0])\n",
    "            mfcc = self.transform(mfcc)\n",
    "            \n",
    "        else:\n",
    "            mfcc = mfcc.reshape(1, mfcc.shape[0], mfcc.shape[1])\n",
    "            \n",
    "        speaker_id = torch.tensor(speaker_id) \n",
    "        mfcc = torch.tensor(mfcc) \n",
    "            \n",
    "        if torch.cuda.is_available():\n",
    "            speaker_id = speaker_id.to('cuda')\n",
    "            mfcc = mfcc.to('cuda')\n",
    "            \n",
    "        return mfcc, speaker_id"
   ]
  },
  {
   "cell_type": "code",
   "execution_count": 4,
   "id": "ef67cddf-a9b4-4d1d-a745-8c086cf6d06b",
   "metadata": {
    "id": "c1935d22-d922-4834-a2d5-3b9c3c41ba9c"
   },
   "outputs": [],
   "source": [
    "def split_train_test_val(speaker_mfcc_db, train_pct, val_pct, \n",
    "                         test_pct):\n",
    "    \"\"\"\n",
    "    Splits the dataset into train, validation, and test. This function returns the indices of the dataframe corresponding\n",
    "    to each set\n",
    "    \"\"\"\n",
    "    train_ids = []\n",
    "    val_ids = []\n",
    "    test_ids = []\n",
    "    \n",
    "    for speaker_id in np.unique(speaker_mfcc_db[\"speaker_id\"].values):\n",
    "        mfcc_ids = speaker_mfcc_db[speaker_mfcc_db[\"speaker_id\"]==speaker_id][\"mfcc_id\"].sample(frac=1).tolist()\n",
    "        len_ids = len(mfcc_ids)\n",
    "        \n",
    "        train_ids.extend(mfcc_ids[:floor(len_ids * train_pct)])\n",
    "        val_ids.extend(mfcc_ids[floor(len_ids * train_pct):floor(len_ids * (train_pct + val_pct))])\n",
    "        test_ids.extend(mfcc_ids[floor(len_ids * (train_pct + val_pct)):])\n",
    "    \n",
    "    return train_ids, val_ids, test_ids"
   ]
  },
  {
   "cell_type": "code",
   "execution_count": 5,
   "id": "c9f2aa99-8012-430e-8cce-9f500170f95f",
   "metadata": {
    "id": "c4a64272-d461-413c-81ac-ec7485fe353b"
   },
   "outputs": [],
   "source": [
    "def get_datasets(speaker_mfcc_db, mfcc_channel_db, speaker_dict, window_size, sample_rate , train_pct , \n",
    "                 val_pct , test_pct , number_spectral_coefficients , cepstral_normalize , \n",
    "                 transform=None):\n",
    "    \"\"\"\n",
    "    Wrapper around other functions to create datasets\n",
    "    \n",
    "    Inputs\n",
    "    -----\n",
    "    \n",
    "    speaker_dict : dict\n",
    "        dictionary of {'speaker_id':encoded_id} pairs          \n",
    "\n",
    "    window_size : int\n",
    "        window size to be used to consistently split waveforms\n",
    "\n",
    "    sample_rate : int\n",
    "        sample rate in kHz\n",
    "\n",
    "    train_pct : float\n",
    "        train percentage\n",
    "    \n",
    "    val_pct : float\n",
    "        validation percentage\n",
    "\n",
    "    test_pct : float\n",
    "        Test percentage\n",
    "\n",
    "    number_spectral_coefficients : int\n",
    "        number of spectral coefficients to keep for the MFCC calculation\n",
    "        \n",
    "    normalize : bool\n",
    "        whether to apply cepstral normalization\n",
    "        \n",
    "    transform : \n",
    "        a custom transformation to apply to the dataset\n",
    "        \n",
    "    Returns\n",
    "    -------\n",
    "    \n",
    "    mfcc_dataset_train, mfcc_dataset_val, mfcc_dataset_test\n",
    "    \n",
    "    \"\"\"\n",
    "    speaker_mfcc_db[\"speaker_id\"] = speaker_mfcc_db[\"speaker_id\"].replace(speaker_dict)\n",
    "    \n",
    "    # mfcc_channel_db = mfcc_channel_db.reset_index(names=\"speaker_id\")\n",
    "    # mfcc_channel_db[\"speaker_id\"] = mfcc_channel_db[\"speaker_id\"].replace(speaker_dict)\n",
    "    # mfcc_channel_db.set_index('speaker_id', inplace=True)\n",
    "    \n",
    "    train_ids, val_ids, test_ids = split_train_test_val(speaker_mfcc_db, train_pct, val_pct, test_pct)\n",
    "    \n",
    "    # speaker_mfcc_db_train = speaker_mfcc_db.loc[train_ids]\n",
    "    # speaker_mfcc_db_val = speaker_mfcc_db.loc[val_ids]\n",
    "    # speaker_mfcc_db_test = speaker_mfcc_db.loc[test_ids]\n",
    "    \n",
    "    speaker_mfcc_db_train = speaker_mfcc_db[speaker_mfcc_db[\"mfcc_id\"].isin(train_ids)]\n",
    "    speaker_mfcc_db_val = speaker_mfcc_db[speaker_mfcc_db[\"mfcc_id\"].isin(val_ids)]\n",
    "    speaker_mfcc_db_test = speaker_mfcc_db[speaker_mfcc_db[\"mfcc_id\"].isin(test_ids)]\n",
    "    \n",
    "    mfcc_channel_db_train = mfcc_channel_db.loc[speaker_mfcc_db_train[\"mfcc_id\"].values]\n",
    "    mfcc_channel_db_val = mfcc_channel_db.loc[speaker_mfcc_db_val[\"mfcc_id\"].values]\n",
    "    mfcc_channel_db_test = mfcc_channel_db.loc[speaker_mfcc_db_test[\"mfcc_id\"].values]\n",
    "    \n",
    "    if cepstral_normalize:\n",
    "        cepstral_normalization = CepstralNormalization(number_spectral_coefficients)\n",
    "        cepstral_normalization.fit(speaker_mfcc_db_train['mfcc_id'].values, mfcc_channel_db)\n",
    "        normalized_mfcc_channel_db_train = cepstral_normalization.transform(speaker_mfcc_db_train['mfcc_id'].values, mfcc_channel_db)\n",
    "        normalized_mfcc_channel_db_val = cepstral_normalization.transform(speaker_mfcc_db_val['mfcc_id'].values, mfcc_channel_db)\n",
    "        normalized_mfcc_channel_db_test = cepstral_normalization.transform(speaker_mfcc_db_test['mfcc_id'].values, mfcc_channel_db)\n",
    "        mfcc_channel_db = pd.concat([normalized_mfcc_channel_db_train, normalized_mfcc_channel_db_val, normalized_mfcc_channel_db_test])\n",
    "        \n",
    "    mfcc_channel_db_train = mfcc_channel_db.loc[speaker_mfcc_db_train['mfcc_id'].values]\n",
    "    mfcc_channel_db_val = mfcc_channel_db.loc[speaker_mfcc_db_val['mfcc_id'].values]\n",
    "    mfcc_channel_db_test = mfcc_channel_db.loc[speaker_mfcc_db_test['mfcc_id'].values]\n",
    "    \n",
    "    mfcc_dataset_train = MFCCData(speaker_mfcc_db_train, mfcc_channel_db_train, transform=transform)\n",
    "    mfcc_dataset_val = MFCCData(speaker_mfcc_db_val, mfcc_channel_db_val, transform=transform)\n",
    "    mfcc_dataset_test = MFCCData(speaker_mfcc_db_test, mfcc_channel_db_test, transform=transform)\n",
    "\n",
    "    return mfcc_dataset_train, mfcc_dataset_val, mfcc_dataset_test"
   ]
  },
  {
   "cell_type": "code",
   "execution_count": 13,
   "id": "dece5783-453d-49df-9830-5aeec1793007",
   "metadata": {
    "id": "402724bf-ba8a-49a4-b9fe-9369a0c0db5f"
   },
   "outputs": [],
   "source": [
    "# preprocessing parameters\n",
    "sample_rate = 16000 # 16kHz\n",
    "window_size = 4 * sample_rate # 1 second has 16000 samples, window_size is 4 seconds\n",
    "\n",
    "batch_size = 1\n",
    "\n",
    "train_pct = 0.60\n",
    "val_pct = 0.20\n",
    "test_pct = 0.20\n",
    "number_spectral_coefficients = 13\n",
    "cepstral_normalize = True\n",
    "\n",
    "transform = transforms.Compose([transforms.ToTensor(), transforms.Resize(size=(224, 224))]) \n",
    "\n",
    "speaker_dict = speaker_encoder(np.unique(speaker_mfcc_db['speaker_id']))\n"
   ]
  },
  {
   "cell_type": "code",
   "execution_count": 14,
   "id": "9064359c-75a2-483b-83ab-854260d0beb5",
   "metadata": {},
   "outputs": [
    {
     "data": {
      "text/plain": [
       "((438170, 2), (438170, 13))"
      ]
     },
     "execution_count": 14,
     "metadata": {},
     "output_type": "execute_result"
    }
   ],
   "source": [
    "speaker_mfcc_db_subset.shape, mfcc_channel_db_subset.shape"
   ]
  },
  {
   "cell_type": "code",
   "execution_count": 16,
   "id": "8f95d460-f4a6-422c-8185-dbd3423e21ad",
   "metadata": {
    "colab": {
     "base_uri": "https://localhost:8080/",
     "height": 363
    },
    "id": "a9b3bf8b-81aa-48fd-a117-65c414aa0bac",
    "outputId": "377e084e-0154-4e9c-e396-0e3fd9b32de2"
   },
   "outputs": [
    {
     "name": "stdout",
     "output_type": "stream",
     "text": [
      "Normalizing...\n"
     ]
    },
    {
     "name": "stderr",
     "output_type": "stream",
     "text": [
      "100%|██████████| 13/13 [00:45<00:00,  3.53s/it]\n"
     ]
    }
   ],
   "source": [
    "mfcc_dataset_train, mfcc_dataset_val, mfcc_dataset_test = get_datasets(speaker_mfcc_db.copy(), mfcc_channel_db.copy(),\n",
    "                                                speaker_dict=speaker_dict,\n",
    "                                                window_size=window_size, \n",
    "                                                sample_rate=sample_rate, \n",
    "                                                train_pct=train_pct,\n",
    "                                                val_pct=val_pct,\n",
    "                                                test_pct=test_pct,\n",
    "                                                number_spectral_coefficients=number_spectral_coefficients,\n",
    "                                                cepstral_normalize=cepstral_normalize,\n",
    "                                                transform=transform,\n",
    "                                                )"
   ]
  },
  {
   "cell_type": "code",
   "execution_count": 17,
   "id": "1720f632-9099-4cd2-84a2-57491e55414f",
   "metadata": {
    "colab": {
     "base_uri": "https://localhost:8080/",
     "height": 200
    },
    "id": "8a550cd0-2ec1-4f8b-82f4-5b726ac174d1",
    "outputId": "0e29dc3e-5beb-4c34-b919-78af4bee7b75"
   },
   "outputs": [],
   "source": [
    "train_loader = DataLoader(mfcc_dataset_train, batch_size=batch_size, shuffle=True)\n",
    "val_loader = DataLoader(mfcc_dataset_val, batch_size=batch_size, shuffle=True)\n",
    "test_loader = DataLoader(mfcc_dataset_test, batch_size=batch_size, shuffle=False)"
   ]
  },
  {
   "cell_type": "code",
   "execution_count": 19,
   "id": "1d7af1f9",
   "metadata": {},
   "outputs": [
    {
     "data": {
      "text/plain": [
       "5262"
      ]
     },
     "execution_count": 19,
     "metadata": {},
     "output_type": "execute_result"
    }
   ],
   "source": [
    "train_subset.__len__()"
   ]
  },
  {
   "cell_type": "code",
   "execution_count": 20,
   "id": "b5486433-ee2a-4b85-8a2f-353624429ebe",
   "metadata": {},
   "outputs": [],
   "source": [
    "train_loader = DataLoader(train_subset, batch_size=batch_size, shuffle=True)\n",
    "val_loader = DataLoader(val_subset, batch_size=batch_size, shuffle=True)"
   ]
  },
  {
   "cell_type": "markdown",
   "id": "a13712b9",
   "metadata": {},
   "source": [
    "## Demo Part"
   ]
  },
  {
   "cell_type": "code",
   "execution_count": 2,
   "id": "a973cf03-e5dc-4837-b6e9-3617b326e9b5",
   "metadata": {},
   "outputs": [],
   "source": [
    "#Custom Net Class\n",
    "class CustomNet(nn.Module):\n",
    "    def __init__(self, num_classes: int = 1152, dropout: float = 0.5) -> None:\n",
    "        super().__init__()\n",
    "        self.features = nn.Sequential(\n",
    "            #Input size: 1 * 224 * 224 (C x H x W)\n",
    "            nn.Conv2d(1, 64, kernel_size=3, stride=4, padding=2),\n",
    "            #Size after: 64 * 56 * 56 \n",
    "            nn.RReLU(inplace=True),\n",
    "            nn.MaxPool2d(kernel_size=3, stride=2),\n",
    "            #Size after: 64 * 28 * 28\n",
    "            nn.Conv2d(64, 384, kernel_size=5, padding=2),\n",
    "            #Size after: 384 * 28 * 28\n",
    "            nn.RReLU(inplace=True),\n",
    "            nn.MaxPool2d(kernel_size=3, stride=2),\n",
    "            #Size after: 384 * 14 * 14\n",
    "            nn.Conv2d(384, 128, kernel_size=3, padding=1),\n",
    "            #Size after: 128 *16 * 16\n",
    "            nn.RReLU(inplace=True),\n",
    "            nn.MaxPool2d(kernel_size=3, stride=2),\n",
    "            #Size after: 128 * 6 * 6\n",
    "        )\n",
    "        self.avgpool = nn.AdaptiveAvgPool2d((6, 6))\n",
    "        self.classifier = nn.Sequential(\n",
    "            nn.Dropout(p=dropout),\n",
    "            nn.Linear(128 * 6 * 6, 4096),\n",
    "            nn.ReLU(inplace=True),\n",
    "            nn.Dropout(p=dropout),\n",
    "            nn.Linear(4096, 2048),\n",
    "            nn.ReLU(inplace=True),\n",
    "            nn.Linear(2048, num_classes),\n",
    "            nn.LogSoftmax(dim = 1),\n",
    "        )\n",
    "\n",
    "    def forward(self, x: torch.Tensor) -> torch.Tensor:\n",
    "        x = self.features(x)\n",
    "        x = self.avgpool(x)\n",
    "        x = torch.flatten(x, 1)\n",
    "        x = self.classifier(x)\n",
    "        return x"
   ]
  },
  {
   "cell_type": "code",
   "execution_count": 3,
   "id": "d2216d1d",
   "metadata": {},
   "outputs": [],
   "source": [
    "'''\n",
    "Load the pretrained CustomNet Model\n",
    "'''\n",
    "#Copy the full path of net.pth file\n",
    "model = torch.load(r'F:\\speaker_project\\audio-speaker-recognition\\notebooks\\net.pth')"
   ]
  },
  {
   "cell_type": "code",
   "execution_count": 4,
   "id": "8827fd13",
   "metadata": {},
   "outputs": [
    {
     "data": {
      "text/plain": [
       "CustomNet(\n",
       "  (features): Sequential(\n",
       "    (0): Conv2d(1, 64, kernel_size=(3, 3), stride=(4, 4), padding=(2, 2))\n",
       "    (1): RReLU(lower=0.125, upper=0.3333333333333333, inplace=True)\n",
       "    (2): MaxPool2d(kernel_size=3, stride=2, padding=0, dilation=1, ceil_mode=False)\n",
       "    (3): Conv2d(64, 384, kernel_size=(5, 5), stride=(1, 1), padding=(2, 2))\n",
       "    (4): RReLU(lower=0.125, upper=0.3333333333333333, inplace=True)\n",
       "    (5): MaxPool2d(kernel_size=3, stride=2, padding=0, dilation=1, ceil_mode=False)\n",
       "    (6): Conv2d(384, 128, kernel_size=(3, 3), stride=(1, 1), padding=(1, 1))\n",
       "    (7): RReLU(lower=0.125, upper=0.3333333333333333, inplace=True)\n",
       "    (8): MaxPool2d(kernel_size=3, stride=2, padding=0, dilation=1, ceil_mode=False)\n",
       "  )\n",
       "  (avgpool): AdaptiveAvgPool2d(output_size=(6, 6))\n",
       "  (classifier): Sequential(\n",
       "    (0): Dropout(p=0.5, inplace=False)\n",
       "    (1): Linear(in_features=4608, out_features=4096, bias=True)\n",
       "    (2): ReLU(inplace=True)\n",
       "    (3): Dropout(p=0.5, inplace=False)\n",
       "    (4): Linear(in_features=4096, out_features=2048, bias=True)\n",
       "    (5): ReLU(inplace=True)\n",
       "    (6): Linear(in_features=2048, out_features=1166, bias=True)\n",
       "    (7): LogSoftmax(dim=1)\n",
       "  )\n",
       ")"
      ]
     },
     "execution_count": 4,
     "metadata": {},
     "output_type": "execute_result"
    }
   ],
   "source": [
    "model"
   ]
  },
  {
   "cell_type": "code",
   "execution_count": 27,
   "id": "65384c57",
   "metadata": {},
   "outputs": [],
   "source": [
    "output_size = len(np.unique(speaker_mfcc_db['speaker_id']))\n",
    "\n",
    "net =  CustomNet(num_classes=output_size)"
   ]
  },
  {
   "cell_type": "code",
   "execution_count": 28,
   "id": "bf192ae7-2559-4fa4-974b-127d5d232324",
   "metadata": {},
   "outputs": [
    {
     "name": "stdout",
     "output_type": "stream",
     "text": [
      "Epoch: 1/10\n"
     ]
    },
    {
     "name": "stderr",
     "output_type": "stream",
     "text": [
      "C:\\Users\\David\\AppData\\Local\\Temp\\ipykernel_5776\\1364449930.py:45: UserWarning: To copy construct from a tensor, it is recommended to use sourceTensor.clone().detach() or sourceTensor.clone().detach().requires_grad_(True), rather than torch.tensor(sourceTensor).\n",
      "  mfcc = torch.tensor(mfcc)\n"
     ]
    },
    {
     "name": "stdout",
     "output_type": "stream",
     "text": [
      "Epoch : 001, Training: Loss: 2.7241, Accuracy: 43.5812%, \n",
      "\t\tValidation : Loss : 0.7397, Accuracy: 80.0093%, Time: 440.8508s\n",
      "Epoch: 2/10\n",
      "Epoch : 002, Training: Loss: 0.6044, Accuracy: 82.9548%, \n",
      "\t\tValidation : Loss : 0.4025, Accuracy: 88.8361%, Time: 441.8106s\n",
      "Epoch: 3/10\n",
      "Epoch : 003, Training: Loss: 0.3399, Accuracy: 89.9637%, \n",
      "\t\tValidation : Loss : 0.4047, Accuracy: 89.0672%, Time: 444.2392s\n",
      "Epoch: 4/10\n",
      "Epoch : 004, Training: Loss: 0.2364, Accuracy: 92.7554%, \n",
      "\t\tValidation : Loss : 0.2605, Accuracy: 92.9149%, Time: 446.9260s\n",
      "Epoch: 5/10\n",
      "Epoch : 005, Training: Loss: 0.1812, Accuracy: 94.3254%, \n",
      "\t\tValidation : Loss : 0.1961, Accuracy: 94.6224%, Time: 440.2298s\n",
      "Epoch: 6/10\n",
      "Epoch : 006, Training: Loss: 0.1451, Accuracy: 95.3719%, \n",
      "\t\tValidation : Loss : 0.2367, Accuracy: 93.9599%, Time: 443.3254s\n",
      "Epoch: 7/10\n",
      "Epoch : 007, Training: Loss: 0.1225, Accuracy: 96.0975%, \n",
      "\t\tValidation : Loss : 0.2150, Accuracy: 94.7066%, Time: 443.3344s\n",
      "Epoch: 8/10\n",
      "Epoch : 008, Training: Loss: 0.1055, Accuracy: 96.6301%, \n",
      "\t\tValidation : Loss : 0.1915, Accuracy: 95.3066%, Time: 439.8935s\n",
      "Epoch: 9/10\n",
      "Epoch : 009, Training: Loss: 0.0930, Accuracy: 96.9764%, \n",
      "\t\tValidation : Loss : 0.2017, Accuracy: 95.2531%, Time: 443.0062s\n",
      "Epoch: 10/10\n",
      "Epoch : 010, Training: Loss: 0.0847, Accuracy: 97.2710%, \n",
      "\t\tValidation : Loss : 0.1901, Accuracy: 95.5616%, Time: 438.3907s\n"
     ]
    }
   ],
   "source": [
    "\n",
    "\n",
    "device = torch.device(\"cuda:0\" if torch.cuda.is_available() else \"cpu\")\n",
    "net = net.to(device)\n",
    "\n",
    "trained_model, history = train_and_validate(net, epochs=10, batch_size = 64, lr=1e-4)"
   ]
  },
  {
   "cell_type": "code",
   "execution_count": 29,
   "id": "6bf4ca2f-08d2-474d-998e-eba34dd310da",
   "metadata": {},
   "outputs": [
    {
     "data": {
      "text/plain": [
       "<matplotlib.legend.Legend at 0x2cab1429b40>"
      ]
     },
     "execution_count": 29,
     "metadata": {},
     "output_type": "execute_result"
    },
    {
     "data": {
      "image/png": "[encoded data removed]",
      "text/plain": [
       "<Figure size 640x480 with 1 Axes>"
      ]
     },
     "metadata": {},
     "output_type": "display_data"
    },
    {
     "data": {
      "image/png": "[encoded data removed]",
      "text/plain": [
       "<Figure size 640x480 with 1 Axes>"
      ]
     },
     "metadata": {},
     "output_type": "display_data"
    }
   ],
   "source": [
    "train_acc = []\n",
    "val_acc = []\n",
    "train_loss = []\n",
    "val_loss = []\n",
    "ep = []\n",
    "i = 0\n",
    "for tloss,vloss, tacc, vacc in history:\n",
    "    train_acc.append(tacc)\n",
    "    val_acc.append(vacc)\n",
    "    train_loss.append(tloss)\n",
    "    val_loss.append(vloss)\n",
    "    ep.append(i)\n",
    "    i += 1\n",
    "\n",
    "\n",
    "n = len(train_loss) # number of epochs\n",
    "plt.figure()\n",
    "plt.title(\"Train vs Validation Loss\")\n",
    "plt.plot(range(1,n+1), train_loss, label=\"Train\")\n",
    "plt.plot(range(1,n+1), val_loss, label=\"Validation\")\n",
    "plt.xlabel(\"Epoch\")\n",
    "plt.ylabel(\"Loss\")\n",
    "plt.legend(loc='best')\n",
    "# plt.show()\n",
    "\n",
    "plt.figure()\n",
    "plt.title(\"Train vs Validation Accuracy\")\n",
    "plt.plot(range(1,n+1), train_acc, label=\"Train\")\n",
    "plt.plot(range(1,n+1), val_acc, label=\"Validation\")\n",
    "plt.xlabel(\"Epoch\")\n",
    "plt.ylabel(\"Accuracy\")\n",
    "plt.legend(loc='best')"
   ]
  },
  {
   "cell_type": "code",
   "execution_count": 47,
   "id": "8b860a9b-671a-49b7-8a18-59384b125dde",
   "metadata": {},
   "outputs": [],
   "source": [
    "def test_model(model, test_loader):\n",
    "    correct = 0\n",
    "    total = 0\n",
    "    with torch.no_grad():\n",
    "        for data in test_loader:\n",
    "            mfcc, speakers = data\n",
    "            outputs = model(mfcc)\n",
    "            _, predicted = torch.max(outputs.data, 1)\n",
    "            total += speakers.size(0)\n",
    "            correct += (predicted == speakers).sum().item()\n",
    "\n",
    "    print(f'Accuracy: {100 * correct // total} %')"
   ]
  },
  {
   "cell_type": "code",
   "execution_count": 31,
   "id": "51f13d78-b9b4-4d57-a813-f33fed2b8e84",
   "metadata": {},
   "outputs": [
    {
     "name": "stderr",
     "output_type": "stream",
     "text": [
      "C:\\Users\\David\\AppData\\Local\\Temp\\ipykernel_5776\\1364449930.py:45: UserWarning: To copy construct from a tensor, it is recommended to use sourceTensor.clone().detach() or sourceTensor.clone().detach().requires_grad_(True), rather than torch.tensor(sourceTensor).\n",
      "  mfcc = torch.tensor(mfcc)\n"
     ]
    },
    {
     "name": "stdout",
     "output_type": "stream",
     "text": [
      "Accuracy: 95 %\n"
     ]
    }
   ],
   "source": [
    "test_model(net, test_loader)"
   ]
  },
  {
   "cell_type": "code",
   "execution_count": 10,
   "id": "f258b6be",
   "metadata": {},
   "outputs": [
    {
     "ename": "NameError",
     "evalue": "name 'net' is not defined",
     "output_type": "error",
     "traceback": [
      "\u001b[1;31m---------------------------------------------------------------------------\u001b[0m",
      "\u001b[1;31mNameError\u001b[0m                                 Traceback (most recent call last)",
      "Cell \u001b[1;32mIn [10], line 4\u001b[0m\n\u001b[0;32m      1\u001b[0m \u001b[39m#Saving the trained model\u001b[39;00m\n\u001b[0;32m      3\u001b[0m path \u001b[39m=\u001b[39m \u001b[39mr\u001b[39m\u001b[39m\"\u001b[39m\u001b[39mF:\u001b[39m\u001b[39m\\\u001b[39m\u001b[39mspeaker_project\u001b[39m\u001b[39m\\\u001b[39m\u001b[39maudio-speaker-recognition\u001b[39m\u001b[39m\\\u001b[39m\u001b[39mnotebooks\u001b[39m\u001b[39m\\\u001b[39m\u001b[39mnet.pth\u001b[39m\u001b[39m\"\u001b[39m\n\u001b[1;32m----> 4\u001b[0m torch\u001b[39m.\u001b[39msave(net, path)\n",
      "\u001b[1;31mNameError\u001b[0m: name 'net' is not defined"
     ]
    }
   ],
   "source": [
    "#Saving the trained model\n",
    "\n",
    "path = r\"F:\\speaker_project\\audio-speaker-recognition\\notebooks\\net.pth\"\n",
    "torch.save(net, path)\n",
    "\n"
   ]
  },
  {
   "cell_type": "code",
   "execution_count": 40,
   "id": "7bdfe564",
   "metadata": {},
   "outputs": [],
   "source": [
    "#Custom Net Class\n",
    "class CustomNet(nn.Module):\n",
    "    def __init__(self, num_classes: int = 1152, dropout: float = 0.5) -> None:\n",
    "        super().__init__()\n",
    "        self.features = nn.Sequential(\n",
    "            #Input size: 1 * 224 * 224 (C x H x W)\n",
    "            nn.Conv2d(1, 64, kernel_size=3, stride=4, padding=2),\n",
    "            #Size after: 64 * 56 * 56 \n",
    "            nn.RReLU(inplace=True),\n",
    "            nn.MaxPool2d(kernel_size=3, stride=2),\n",
    "            #Size after: 64 * 28 * 28\n",
    "            nn.Conv2d(64, 384, kernel_size=5, padding=2),\n",
    "            #Size after: 384 * 28 * 28\n",
    "            nn.RReLU(inplace=True),\n",
    "            nn.MaxPool2d(kernel_size=3, stride=2),\n",
    "            #Size after: 384 * 14 * 14\n",
    "            nn.Conv2d(384, 128, kernel_size=3, padding=1),\n",
    "            #Size after: 128 *16 * 16\n",
    "            nn.RReLU(inplace=True),\n",
    "            nn.MaxPool2d(kernel_size=3, stride=2),\n",
    "            #Size after: 128 * 6 * 6\n",
    "        )\n",
    "        self.avgpool = nn.AdaptiveAvgPool2d((6, 6))\n",
    "        self.classifier = nn.Sequential(\n",
    "            nn.Dropout(p=dropout),\n",
    "            nn.Linear(128 * 6 * 6, 4096),\n",
    "            nn.ReLU(inplace=True),\n",
    "            nn.Dropout(p=dropout),\n",
    "            nn.Linear(4096, 2048),\n",
    "            nn.ReLU(inplace=True),\n",
    "            nn.Linear(2048, num_classes),\n",
    "            nn.LogSoftmax(dim = 1),\n",
    "        )\n",
    "\n",
    "    def forward(self, x: torch.Tensor) -> torch.Tensor:\n",
    "        x = self.features(x)\n",
    "        x = self.avgpool(x)\n",
    "        x = torch.flatten(x, 1)\n",
    "        x = self.classifier(x)\n",
    "        return x"
   ]
  },
  {
   "cell_type": "code",
   "execution_count": 74,
   "id": "65322f18",
   "metadata": {},
   "outputs": [],
   "source": [
    "'''\n",
    "Load the pretrained CustomNet Model\n",
    "'''\n",
    "#Copy the full path of net.pth file\n",
    "model = torch.load(r'F:\\speaker_project\\audio-speaker-recognition\\notebooks\\net.pth')"
   ]
  },
  {
   "cell_type": "code",
   "execution_count": 75,
   "id": "ee60ebab",
   "metadata": {},
   "outputs": [
    {
     "data": {
      "text/plain": [
       "CustomNet(\n",
       "  (features): Sequential(\n",
       "    (0): Conv2d(1, 64, kernel_size=(3, 3), stride=(4, 4), padding=(2, 2))\n",
       "    (1): RReLU(lower=0.125, upper=0.3333333333333333, inplace=True)\n",
       "    (2): MaxPool2d(kernel_size=3, stride=2, padding=0, dilation=1, ceil_mode=False)\n",
       "    (3): Conv2d(64, 384, kernel_size=(5, 5), stride=(1, 1), padding=(2, 2))\n",
       "    (4): RReLU(lower=0.125, upper=0.3333333333333333, inplace=True)\n",
       "    (5): MaxPool2d(kernel_size=3, stride=2, padding=0, dilation=1, ceil_mode=False)\n",
       "    (6): Conv2d(384, 128, kernel_size=(3, 3), stride=(1, 1), padding=(1, 1))\n",
       "    (7): RReLU(lower=0.125, upper=0.3333333333333333, inplace=True)\n",
       "    (8): MaxPool2d(kernel_size=3, stride=2, padding=0, dilation=1, ceil_mode=False)\n",
       "  )\n",
       "  (avgpool): AdaptiveAvgPool2d(output_size=(6, 6))\n",
       "  (classifier): Sequential(\n",
       "    (0): Dropout(p=0.5, inplace=False)\n",
       "    (1): Linear(in_features=4608, out_features=4096, bias=True)\n",
       "    (2): ReLU(inplace=True)\n",
       "    (3): Dropout(p=0.5, inplace=False)\n",
       "    (4): Linear(in_features=4096, out_features=2048, bias=True)\n",
       "    (5): ReLU(inplace=True)\n",
       "    (6): Linear(in_features=2048, out_features=1166, bias=True)\n",
       "    (7): LogSoftmax(dim=1)\n",
       "  )\n",
       ")"
      ]
     },
     "execution_count": 75,
     "metadata": {},
     "output_type": "execute_result"
    }
   ],
   "source": [
    "model"
   ]
  },
  {
   "cell_type": "code",
   "execution_count": 76,
   "id": "a8aa727b",
   "metadata": {},
   "outputs": [
    {
     "data": {
      "text/plain": [
       "CustomNet(\n",
       "  (features): Sequential(\n",
       "    (0): Conv2d(1, 64, kernel_size=(3, 3), stride=(4, 4), padding=(2, 2))\n",
       "    (1): RReLU(lower=0.125, upper=0.3333333333333333, inplace=True)\n",
       "    (2): MaxPool2d(kernel_size=3, stride=2, padding=0, dilation=1, ceil_mode=False)\n",
       "    (3): Conv2d(64, 384, kernel_size=(5, 5), stride=(1, 1), padding=(2, 2))\n",
       "    (4): RReLU(lower=0.125, upper=0.3333333333333333, inplace=True)\n",
       "    (5): MaxPool2d(kernel_size=3, stride=2, padding=0, dilation=1, ceil_mode=False)\n",
       "    (6): Conv2d(384, 128, kernel_size=(3, 3), stride=(1, 1), padding=(1, 1))\n",
       "    (7): RReLU(lower=0.125, upper=0.3333333333333333, inplace=True)\n",
       "    (8): MaxPool2d(kernel_size=3, stride=2, padding=0, dilation=1, ceil_mode=False)\n",
       "  )\n",
       "  (avgpool): AdaptiveAvgPool2d(output_size=(6, 6))\n",
       "  (classifier): Sequential(\n",
       "    (0): Dropout(p=0.5, inplace=False)\n",
       "    (1): Linear(in_features=4608, out_features=4500, bias=True)\n",
       "    (2): ReLU(inplace=True)\n",
       "    (3): Dropout(p=0.5, inplace=False)\n",
       "    (4): Linear(in_features=4500, out_features=3500, bias=True)\n",
       "    (5): ReLU(inplace=True)\n",
       "    (6): Linear(in_features=3500, out_features=2500, bias=True)\n",
       "    (7): ReLU(inplace=True)\n",
       "    (8): Linear(in_features=2500, out_features=1500, bias=True)\n",
       "    (9): ReLU(inplace=True)\n",
       "    (10): Linear(in_features=1500, out_features=1252, bias=True)\n",
       "    (11): LogSoftmax(dim=1)\n",
       "  )\n",
       ")"
      ]
     },
     "execution_count": 76,
     "metadata": {},
     "output_type": "execute_result"
    }
   ],
   "source": [
    "for param in model.parameters():\n",
    "    param.requires_grad = False\n",
    "model.classifier[1] = nn.Linear(4608, 4500)\n",
    "model.classifier[4] = nn.Linear(4500, 3500)\n",
    "model.classifier[6] = nn.Linear(3500, 2500)\n",
    "model.classifier[7] =nn.ReLU(inplace=True)\n",
    "model.classifier.add_module(\"8\",nn.Linear(2500, 1500))\n",
    "model.classifier.add_module(\"9\",nn.ReLU(inplace=True))\n",
    "model.classifier.add_module(\"10\",nn.Linear(1500, 1252))\n",
    "model.classifier.add_module(\"11\",nn.LogSoftmax(dim = 1))\n",
    "model"
   ]
  },
  {
   "cell_type": "code",
   "execution_count": null,
   "id": "2b7c3b0d",
   "metadata": {},
   "outputs": [],
   "source": []
  },
  {
   "cell_type": "code",
   "execution_count": null,
   "id": "e3271682",
   "metadata": {},
   "outputs": [],
   "source": []
  },
  {
   "cell_type": "markdown",
   "id": "583df1cb",
   "metadata": {},
   "source": [
    "Transfer Learning with VoxCeleb dataset"
   ]
  },
  {
   "cell_type": "code",
   "execution_count": 46,
   "id": "bdd94012-bca2-4c04-ad0e-04de347019c9",
   "metadata": {},
   "outputs": [],
   "source": [
    "def read_pickled_dataset(dataset_name : str):\n",
    "    \"\"\"\n",
    "    Inputs\n",
    "    ------\n",
    "    dataset_name : str\n",
    "        Name of the dataset to download. \n",
    "    \n",
    "    Returns\n",
    "    -------\n",
    "    speaker_mfcc_db : pd.DataFrame \n",
    "        df with shape (index_id, speaker_id, mfcc_id)\n",
    "    \n",
    "    mfcc_channel_db : pd.DataFrame\n",
    "        df with shape (mfcc_id, channel_id)\n",
    "\n",
    "    \"\"\"\n",
    "    if dataset_name == \"librispeech-train-clean-100\":\n",
    "        speaker_mfcc_db = pd.read_pickle('speaker_mfcc_db_64000_16000_13_100.pkl')\n",
    "        mfcc_channel_db = pd.read_pickle('mfcc_channel_db_64000_16000_13_100.pkl')\n",
    "    \n",
    "    elif dataset_name == \"librispeech-train-other-500\":\n",
    "        speaker_mfcc_db = pd.read_pickle(f'speaker_mfcc_db_64000_16000_13_500.pkl')\n",
    "        mfcc_channel_db = pd.read_pickle(f'mfcc_channel_db_64000_16000_13_500.pkl')\n",
    "\n",
    "    elif dataset_name == \"voxceleb1identification-4s\":\n",
    "        speaker_mfcc_db = pd.read_pickle(f'speaker_mfcc_db_64000_16000_13_voxceleb_4s.pkl')\n",
    "        mfcc_channel_db = pd.read_pickle(f'mfcc_channel_db_64000_16000_13_voxceleb_4s.pkl')\n",
    "\n",
    "    elif dataset_name == \"voxceleb_with_sinisa\":\n",
    "        speaker_mfcc_db = pd.read_pickle(f'speaker_mfcc_voxceleb_with_sinisa.pkl')\n",
    "        mfcc_channel_db = pd.read_pickle(f'mfcc_channel_db_voxceleb_with_sinisa.pkl')\n",
    "\n",
    "    elif dataset_name == \"librispeech-mixed\":\n",
    "        speaker_mfcc_db_500 = pd.read_pickle(f'speaker_mfcc_db_64000_16000_13_500.pkl')\n",
    "        mfcc_channel_db_500 = pd.read_pickle(f'mfcc_channel_db_64000_16000_13_500.pkl')\n",
    "\n",
    "        speaker_mfcc_db_100 = pd.read_pickle('speaker_mfcc_db_64000_16000_13_100.pkl')\n",
    "        mfcc_channel_db_100= pd.read_pickle('mfcc_channel_db_64000_16000_13_100.pkl')\n",
    "\n",
    "        speaker_mfcc_db_100[\"mfcc_id\"] = speaker_mfcc_db_100[\"mfcc_id\"] + 400000\n",
    "        mfcc_channel_db_100.index = mfcc_channel_db_100.index + 400000\n",
    "\n",
    "        mfcc_channel_db = pd.concat([mfcc_channel_db_500, mfcc_channel_db_100])\n",
    "        speaker_mfcc_db = pd.concat([speaker_mfcc_db_500, speaker_mfcc_db_100])\n",
    "   \n",
    "\n",
    "    else:\n",
    "        raise ValueError(f\"The dataset you passed '{dataset_name}' is not in the list of datasets\")\n",
    "\n",
    "    print(f\"\\n Loaded {dataset_name}\")\n",
    "\n",
    "    return speaker_mfcc_db, mfcc_channel_db"
   ]
  },
  {
   "cell_type": "code",
   "execution_count": 19,
   "id": "2862499c",
   "metadata": {},
   "outputs": [
    {
     "name": "stdout",
     "output_type": "stream",
     "text": [
      "\n",
      " Loaded voxceleb_with_sinisa\n"
     ]
    }
   ],
   "source": [
    "speaker_mfcc_db, mfcc_channel_db = read_pickled_dataset(\"voxceleb_with_sinisa\") \n",
    "speaker_mfcc_db = speaker_mfcc_db.reset_index(drop=True)\n",
    "#mfcc_channel_db = mfcc_channel_db.reset_index(drop=True)\n",
    "# options: \"librispeech-train-clean-100\", \"librispeech-train-other-500\", \"librispeech-mixed\", \"voxceleb1identification-4s\", \"voxceleb_with_sinisa\""
   ]
  },
  {
   "cell_type": "code",
   "execution_count": 26,
   "id": "b90f2422",
   "metadata": {},
   "outputs": [
    {
     "data": {
      "text/plain": [
       "((230362, 2), (230362, 13))"
      ]
     },
     "execution_count": 26,
     "metadata": {},
     "output_type": "execute_result"
    }
   ],
   "source": [
    "speaker_mfcc_db.shape, mfcc_channel_db.shape"
   ]
  },
  {
   "cell_type": "code",
   "execution_count": 49,
   "id": "34d80036",
   "metadata": {},
   "outputs": [],
   "source": [
    "subset_train_size, subset_val_size = mfcc_dataset_train.__len__(), mfcc_dataset_val.__len__()"
   ]
  },
  {
   "cell_type": "code",
   "execution_count": 27,
   "id": "f9651b31",
   "metadata": {},
   "outputs": [],
   "source": [
    "mfcc_channel_db = mfcc_channel_db.reset_index(drop=True)\n",
    "speaker_mfcc_db['mfcc_id'] = mfcc_channel_db.index"
   ]
  },
  {
   "cell_type": "code",
   "execution_count": 28,
   "id": "b415ca28",
   "metadata": {},
   "outputs": [
    {
     "data": {
      "text/plain": [
       "False"
      ]
     },
     "execution_count": 28,
     "metadata": {},
     "output_type": "execute_result"
    }
   ],
   "source": [
    "speaker_mfcc_db[\"mfcc_id\"].duplicated().any()"
   ]
  },
  {
   "cell_type": "code",
   "execution_count": 6,
   "id": "4e425a4f",
   "metadata": {},
   "outputs": [
    {
     "name": "stdout",
     "output_type": "stream",
     "text": [
      "867 speakers in this subset, each with at least 100 samples\n"
     ]
    }
   ],
   "source": [
    "# min_num_samples = 100\n",
    "# speaker_mfcc_db_subset = speaker_mfcc_db[speaker_mfcc_db[\"speaker_id\"].isin(speaker_mfcc_db.groupby('speaker_id').size()[speaker_mfcc_db.groupby('speaker_id').size() >= min_num_samples].index)]\n",
    "# number_speaker_ids = len(np.unique(speaker_mfcc_db_subset[\"speaker_id\"]))\n",
    "\n",
    "# print(f\"{number_speaker_ids} speakers in this subset, each with at least {min_num_samples} samples\")"
   ]
  },
  {
   "cell_type": "code",
   "execution_count": 7,
   "id": "4c017754",
   "metadata": {},
   "outputs": [],
   "source": [
    "# mfcc_ids_subset = speaker_mfcc_db_subset[\"mfcc_id\"].values\n",
    "# mfcc_channel_db_subset = mfcc_channel_db[mfcc_channel_db.index.isin(mfcc_ids_subset)]"
   ]
  },
  {
   "cell_type": "code",
   "execution_count": 8,
   "id": "e45ba39b",
   "metadata": {},
   "outputs": [
    {
     "data": {
      "text/plain": [
       "((203446, 2), (223982, 13))"
      ]
     },
     "execution_count": 8,
     "metadata": {},
     "output_type": "execute_result"
    }
   ],
   "source": [
    "# speaker_mfcc_db_subset.shape, mfcc_channel_db_subset.shape"
   ]
  },
  {
   "cell_type": "code",
   "execution_count": 29,
   "id": "b2e0c933",
   "metadata": {},
   "outputs": [],
   "source": [
    "# preprocessing parameters\n",
    "sample_rate = 16000 # 16kHz\n",
    "window_size = 4 * sample_rate # 1 second has 16000 samples, window_size is 4 seconds\n",
    "\n",
    "batch_size = 10\n",
    "\n",
    "train_pct = 0.60\n",
    "val_pct = 0.20\n",
    "test_pct = 0.20\n",
    "number_spectral_coefficients = 13\n",
    "cepstral_normalize = True\n",
    "\n",
    "transform = transforms.Compose([transforms.ToTensor(), transforms.Resize(size=(224, 224))]) \n",
    "\n",
    "speaker_dict = speaker_encoder(np.unique(speaker_mfcc_db['speaker_id'].values))\n"
   ]
  },
  {
   "cell_type": "code",
   "execution_count": 30,
   "id": "09f58670",
   "metadata": {},
   "outputs": [
    {
     "name": "stdout",
     "output_type": "stream",
     "text": [
      "Normalizing...\n"
     ]
    },
    {
     "name": "stderr",
     "output_type": "stream",
     "text": [
      "100%|██████████| 13/13 [00:23<00:00,  1.80s/it]\n"
     ]
    }
   ],
   "source": [
    "mfcc_dataset_train, mfcc_dataset_val, mfcc_dataset_test = get_datasets(speaker_mfcc_db.copy(), mfcc_channel_db.copy(),\n",
    "                                                speaker_dict=speaker_dict,\n",
    "                                                window_size=window_size, \n",
    "                                                sample_rate=sample_rate, \n",
    "                                                train_pct=train_pct,\n",
    "                                                val_pct=val_pct,\n",
    "                                                test_pct=test_pct,\n",
    "                                                number_spectral_coefficients=number_spectral_coefficients,\n",
    "                                                cepstral_normalize=cepstral_normalize,\n",
    "                                                transform=transform,\n",
    "                                                )"
   ]
  },
  {
   "cell_type": "code",
   "execution_count": 50,
   "id": "e2a777fe",
   "metadata": {},
   "outputs": [],
   "source": [
    "subset_train_size, subset_val_size = mfcc_dataset_train.__len__(), mfcc_dataset_val.__len__()\n",
    "#1252"
   ]
  },
  {
   "cell_type": "code",
   "execution_count": 51,
   "id": "8ee5c398",
   "metadata": {},
   "outputs": [],
   "source": [
    "train_loader = DataLoader(mfcc_dataset_train, batch_size=batch_size, shuffle=True)\n",
    "val_loader = DataLoader(mfcc_dataset_val, batch_size=batch_size, shuffle=True)\n",
    "test_loader = DataLoader(mfcc_dataset_test, batch_size=batch_size, shuffle=False)"
   ]
  },
  {
   "cell_type": "code",
   "execution_count": 37,
   "id": "557107dd",
   "metadata": {},
   "outputs": [
    {
     "data": {
      "text/plain": [
       "1251"
      ]
     },
     "execution_count": 37,
     "metadata": {},
     "output_type": "execute_result"
    }
   ],
   "source": [
    "speaker_dict[8888]"
   ]
  },
  {
   "cell_type": "code",
   "execution_count": 77,
   "id": "8bd7919b",
   "metadata": {},
   "outputs": [],
   "source": [
    "output_size = len(np.unique(speaker_mfcc_db['speaker_id']))\n",
    "\n",
    "net =  model"
   ]
  },
  {
   "cell_type": "code",
   "execution_count": 79,
   "id": "0541eac2",
   "metadata": {},
   "outputs": [
    {
     "name": "stdout",
     "output_type": "stream",
     "text": [
      "Epoch: 1/15\n"
     ]
    },
    {
     "name": "stderr",
     "output_type": "stream",
     "text": [
      "C:\\Users\\David\\AppData\\Local\\Temp\\ipykernel_28876\\1364449930.py:45: UserWarning: To copy construct from a tensor, it is recommended to use sourceTensor.clone().detach() or sourceTensor.clone().detach().requires_grad_(True), rather than torch.tensor(sourceTensor).\n",
      "  mfcc = torch.tensor(mfcc)\n"
     ]
    },
    {
     "name": "stdout",
     "output_type": "stream",
     "text": [
      "Epoch : 001, Training: Loss: 4.8351, Accuracy: 16.3298%, \n",
      "\t\tValidation : Loss : 3.5305, Accuracy: 32.1911%, Time: 226.9215s\n",
      "Epoch: 2/15\n",
      "Epoch : 002, Training: Loss: 2.9412, Accuracy: 40.1158%, \n",
      "\t\tValidation : Loss : 2.6069, Accuracy: 47.9569%, Time: 225.5093s\n",
      "Epoch: 3/15\n",
      "Epoch : 003, Training: Loss: 2.0788, Accuracy: 54.1275%, \n",
      "\t\tValidation : Loss : 2.1886, Accuracy: 56.9193%, Time: 229.5808s\n",
      "Epoch: 4/15\n",
      "Epoch : 004, Training: Loss: 1.5577, Accuracy: 63.5872%, \n",
      "\t\tValidation : Loss : 2.0061, Accuracy: 60.9188%, Time: 224.4704s\n",
      "Epoch: 5/15\n",
      "Epoch : 005, Training: Loss: 1.2024, Accuracy: 70.2293%, \n",
      "\t\tValidation : Loss : 1.9631, Accuracy: 63.7226%, Time: 227.9769s\n",
      "Epoch: 6/15\n",
      "Epoch : 006, Training: Loss: 0.9437, Accuracy: 75.3920%, \n",
      "\t\tValidation : Loss : 1.9610, Accuracy: 65.6843%, Time: 226.7463s\n",
      "Epoch: 7/15\n",
      "Epoch : 007, Training: Loss: 0.7519, Accuracy: 79.5184%, \n",
      "\t\tValidation : Loss : 2.0047, Accuracy: 66.6283%, Time: 227.9474s\n",
      "Epoch: 8/15\n",
      "Epoch : 008, Training: Loss: 0.6045, Accuracy: 82.8750%, \n",
      "\t\tValidation : Loss : 2.1147, Accuracy: 67.2121%, Time: 230.0327s\n",
      "Epoch: 9/15\n",
      "Epoch : 009, Training: Loss: 0.4965, Accuracy: 85.5358%, \n",
      "\t\tValidation : Loss : 2.2244, Accuracy: 67.7828%, Time: 229.1104s\n",
      "Epoch: 10/15\n",
      "Epoch : 010, Training: Loss: 0.4173, Accuracy: 87.4523%, \n",
      "\t\tValidation : Loss : 2.3708, Accuracy: 67.9651%, Time: 225.8441s\n",
      "Epoch: 11/15\n",
      "Epoch : 011, Training: Loss: 0.3594, Accuracy: 89.1248%, \n",
      "\t\tValidation : Loss : 2.4176, Accuracy: 68.5055%, Time: 220.8573s\n",
      "Epoch: 12/15\n",
      "Epoch : 012, Training: Loss: 0.3205, Accuracy: 90.0951%, \n",
      "\t\tValidation : Loss : 2.5762, Accuracy: 68.6943%, Time: 228.7996s\n",
      "Epoch: 13/15\n",
      "Epoch : 013, Training: Loss: 0.2872, Accuracy: 91.2258%, \n",
      "\t\tValidation : Loss : 2.6864, Accuracy: 68.2125%, Time: 226.8464s\n",
      "Epoch: 14/15\n",
      "Epoch : 014, Training: Loss: 0.2685, Accuracy: 91.8620%, \n",
      "\t\tValidation : Loss : 2.7266, Accuracy: 68.8375%, Time: 226.6603s\n",
      "Epoch: 15/15\n",
      "Epoch : 015, Training: Loss: 0.2443, Accuracy: 92.5112%, \n",
      "\t\tValidation : Loss : 2.9238, Accuracy: 68.4859%, Time: 230.0837s\n"
     ]
    }
   ],
   "source": [
    "device = torch.device(\"cuda:0\" if torch.cuda.is_available() else \"cpu\")\n",
    "net = net.to(device)\n",
    "\n",
    "trained_model, history = train_and_validate(net, epochs=15, batch_size = 32, lr=1e-4)"
   ]
  },
  {
   "cell_type": "code",
   "execution_count": 80,
   "id": "b3bd49d9",
   "metadata": {},
   "outputs": [
    {
     "data": {
      "text/plain": [
       "<matplotlib.legend.Legend at 0x17280f56ad0>"
      ]
     },
     "execution_count": 80,
     "metadata": {},
     "output_type": "execute_result"
    },
    {
     "data": {
      "image/png": "[encoded data removed]",
      "text/plain": [
       "<Figure size 640x480 with 1 Axes>"
      ]
     },
     "metadata": {},
     "output_type": "display_data"
    },
    {
     "data": {
      "image/png": "[encoded data removed]",
      "text/plain": [
       "<Figure size 640x480 with 1 Axes>"
      ]
     },
     "metadata": {},
     "output_type": "display_data"
    }
   ],
   "source": [
    "train_acc = []\n",
    "val_acc = []\n",
    "train_loss = []\n",
    "val_loss = []\n",
    "ep = []\n",
    "i = 0\n",
    "for tloss,vloss, tacc, vacc in history:\n",
    "    train_acc.append(tacc)\n",
    "    val_acc.append(vacc)\n",
    "    train_loss.append(tloss)\n",
    "    val_loss.append(vloss)\n",
    "    ep.append(i)\n",
    "    i += 1\n",
    "\n",
    "\n",
    "n = len(train_loss) # number of epochs\n",
    "plt.figure()\n",
    "plt.title(\"Train vs Validation Loss\")\n",
    "plt.plot(range(1,n+1), train_loss, label=\"Train\")\n",
    "plt.plot(range(1,n+1), val_loss, label=\"Validation\")\n",
    "plt.xlabel(\"Epoch\")\n",
    "plt.ylabel(\"Loss\")\n",
    "plt.legend(loc='best')\n",
    "# plt.show()\n",
    "\n",
    "plt.figure()\n",
    "plt.title(\"Train vs Validation Accuracy\")\n",
    "plt.plot(range(1,n+1), train_acc, label=\"Train\")\n",
    "plt.plot(range(1,n+1), val_acc, label=\"Validation\")\n",
    "plt.xlabel(\"Epoch\")\n",
    "plt.ylabel(\"Accuracy\")\n",
    "plt.legend(loc='best')"
   ]
  },
  {
   "cell_type": "code",
   "execution_count": 81,
   "id": "84bea2f9",
   "metadata": {},
   "outputs": [
    {
     "name": "stderr",
     "output_type": "stream",
     "text": [
      "C:\\Users\\David\\AppData\\Local\\Temp\\ipykernel_28876\\1364449930.py:45: UserWarning: To copy construct from a tensor, it is recommended to use sourceTensor.clone().detach() or sourceTensor.clone().detach().requires_grad_(True), rather than torch.tensor(sourceTensor).\n",
      "  mfcc = torch.tensor(mfcc)\n"
     ]
    },
    {
     "name": "stdout",
     "output_type": "stream",
     "text": [
      "Accuracy: 68 %\n"
     ]
    }
   ],
   "source": [
    "test_model(model, test_loader)"
   ]
  },
  {
   "cell_type": "code",
   "execution_count": 72,
   "id": "93c5aac1",
   "metadata": {},
   "outputs": [
    {
     "name": "stderr",
     "output_type": "stream",
     "text": [
      "C:\\Users\\David\\AppData\\Local\\Temp\\ipykernel_28876\\4196366638.py:3: WavFileWarning: Chunk (non-data) not understood, skipping it.\n",
      "  samplerate, data = wavfile.read(r'F:\\speaker_project\\audio-speaker-recognition\\Celeb Data\\Tests Sinisa\\Sinisa_8.wav')\n"
     ]
    }
   ],
   "source": [
    "import scipy.io\n",
    "from scipy.io import wavfile\n",
    "samplerate, data = wavfile.read(r'F:\\speaker_project\\audio-speaker-recognition\\Celeb Data\\Tests Sinisa\\Sinisa_8.wav')\n",
    "play_audio(data, samplerate)"
   ]
  },
  {
   "cell_type": "code",
   "execution_count": null,
   "id": "3c7d1339",
   "metadata": {},
   "outputs": [],
   "source": [
    "play_audio(waveform, samplerate)"
   ]
  },
  {
   "cell_type": "code",
   "execution_count": 73,
   "id": "84dd33cb",
   "metadata": {},
   "outputs": [
    {
     "data": {
      "text/plain": [
       "array([  0,   0,   1, ..., 570, 536, 473], dtype=int16)"
      ]
     },
     "execution_count": 73,
     "metadata": {},
     "output_type": "execute_result"
    }
   ],
   "source": [
    "data"
   ]
  }
 ],
 "metadata": {
  "kernelspec": {
   "display_name": "Python 3 (ipykernel)",
   "language": "python",
   "name": "python3"
  },
  "language_info": {
   "codemirror_mode": {
    "name": "ipython",
    "version": 3
   },
   "file_extension": ".py",
   "mimetype": "text/x-python",
   "name": "python",
   "nbconvert_exporter": "python",
   "pygments_lexer": "ipython3",
   "version": "3.10.8"
  },
  "vscode": {
   "interpreter": {
    "hash": "3a0b0ec5f1c8c5fb2a6d7757551a64b4803f5c0856f76dd5515171711c617806"
   }
  }
 },
 "nbformat": 4,
 "nbformat_minor": 5
}
