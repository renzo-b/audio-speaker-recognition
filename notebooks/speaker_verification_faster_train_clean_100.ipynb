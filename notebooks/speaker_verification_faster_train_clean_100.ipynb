{
 "cells": [
  {
   "cell_type": "code",
   "execution_count": 1,
   "id": "ec6e5067-2050-4ba3-a4b1-a0d9122bc44c",
   "metadata": {},
   "outputs": [
    {
     "name": "stderr",
     "output_type": "stream",
     "text": [
      "/home/renzo/anaconda3/envs/dl-env/lib/python3.10/site-packages/tqdm/auto.py:22: TqdmWarning: IProgress not found. Please update jupyter and ipywidgets. See https://ipywidgets.readthedocs.io/en/stable/user_install.html\n",
      "  from .autonotebook import tqdm as notebook_tqdm\n"
     ]
    }
   ],
   "source": [
    "import copy\n",
    "\n",
    "import librosa\n",
    "import matplotlib.pyplot as plt\n",
    "import numpy as np\n",
    "import pandas as pd\n",
    "import torch\n",
    "import torch.nn as nn\n",
    "import torch.nn.functional as F\n",
    "from torchsummary import summary\n",
    "from typing import Union\n",
    "from torch.utils.data import Subset\n",
    "import time\n",
    "from tqdm import tqdm\n",
    "from torchvision import transforms, models\n",
    "from PIL import Image\n",
    "\n",
    "from sklearn.model_selection import train_test_split\n",
    "from torch.utils.data import DataLoader, Dataset\n",
    "\n",
    "from src.datasets import get_dataset\n",
    "from src.visualization import (calculate_statistics, play_audio, plot_mfccs,\n",
    "                               plot_specgram, plot_waveform,\n",
    "                               visualize_random_sample)\n",
    "from src.audio_utils import split_waveform, CepstralNormalization"
   ]
  },
  {
   "cell_type": "markdown",
   "id": "c20ea269-4993-4d42-a4b5-9e041fab18da",
   "metadata": {},
   "source": [
    "## Problem Definition: Speaker Classification"
   ]
  },
  {
   "cell_type": "markdown",
   "id": "c405211b-7381-4c6b-8261-64c19a6d522d",
   "metadata": {},
   "source": [
    "Our project consists of identifying a speaker based on recorded audio samples. The model is trained from multiple audio samples for many speakers. Given a new audio sample, the model should identify which of the speakers it belongs to.  "
   ]
  },
  {
   "cell_type": "markdown",
   "id": "39e7d548-240c-460e-8d2f-f83dabc4a55d",
   "metadata": {},
   "source": [
    "<center><img src=\"images/problem_definition.png\" width=\"400\" height=\"400\"></center>"
   ]
  },
  {
   "cell_type": "markdown",
   "id": "d4024e60-7357-430f-87a4-d8430e9f2802",
   "metadata": {},
   "source": [
    "## Dataset\n",
    "There are multiple datasets that include speaker_id and audio samples. Up to this point, we decided to start with Librispeech as it provides hours of recorded audio samples in relatively noise-free environments. \n",
    "\n",
    "LIBRISPEECH\n",
    "LibriSpeech is a corpus of approximately 1000 hours of 16kHz read English speech, prepared by Vassil Panayotov with the assistance of Daniel Povey. The data is derived from read audiobooks from the LibriVox project, and has been carefully segmented and aligned.\n",
    "\n",
    "There are multiple sizes of the dataset. In this notebook we are using **dev-clean** which is the development dataset. In other notebooks, we will use a version with more samples "
   ]
  },
  {
   "cell_type": "code",
   "execution_count": 2,
   "id": "5c8fede5-1e69-493a-9726-81a848a1629a",
   "metadata": {
    "tags": []
   },
   "outputs": [
    {
     "name": "stdout",
     "output_type": "stream",
     "text": [
      "You're about to download librispeech with url train-clean-100\n",
      "\n",
      " Done downloading\n"
     ]
    }
   ],
   "source": [
    "dataset_name = \"librispeech\"\n",
    "url = 'train-clean-100'\n",
    "dataset = get_dataset(dataset_name, url=url)"
   ]
  },
  {
   "cell_type": "markdown",
   "id": "94bbe421-b9bb-43cb-8a74-53c90e137499",
   "metadata": {},
   "source": [
    "# Data Visualization"
   ]
  },
  {
   "cell_type": "markdown",
   "id": "0e9e2c05-5a8d-489c-afa1-05fa636f9b43",
   "metadata": {},
   "source": [
    "The data extract from librispeech includes audio samples recorded as waveforms. In audio processing algorithm, it is standard practice to extract data by transforming the waveforms into a spectrogram or a varation of a spectrogram called a Mel-frequency cepstrum (MFC). This is done to remove unnecessary data from the waveforms and keep important information such as time, frequency, and amplitude.   "
   ]
  },
  {
   "cell_type": "markdown",
   "id": "40f7d76b-aa2e-48ea-b90a-794d4249a39e",
   "metadata": {},
   "source": [
    "Visualizing data in random sample from the dataset"
   ]
  },
  {
   "cell_type": "code",
   "execution_count": 3,
   "id": "96c48bf2-281d-4c6c-9c1c-cb1691c02402",
   "metadata": {},
   "outputs": [],
   "source": [
    "# visualize_random_sample(dataset, plot_wave=True, plot_spectogram=True)"
   ]
  },
  {
   "cell_type": "markdown",
   "id": "3b15b323-e456-4cd8-bc33-314c9d944827",
   "metadata": {},
   "source": [
    "#### Calculate statistics in dataset"
   ]
  },
  {
   "cell_type": "code",
   "execution_count": 4,
   "id": "d2fa38e5-1325-4499-989f-5d8e18bdcef3",
   "metadata": {},
   "outputs": [],
   "source": [
    "# waveform_lengths = []\n",
    "# sample_rates = []\n",
    "# transcript_lengths = []\n",
    "# speaker_ids = []\n",
    "# audio_durations = []\n",
    "# waveforms = []\n",
    "# transcripts = []\n",
    "\n",
    "# for i in tqdm(range(dataset.__len__())):\n",
    "#     (waveform, sample_rate, transcript, speaker_id, chapter_id, utterance_id) = dataset.__getitem__(i)\n",
    "#     speaker_ids.append(speaker_id)\n",
    "\n",
    "#     waveform_lengths.append(waveform[0].shape[0])\n",
    "#     sample_rates.append(sample_rate)\n",
    "#     transcript_lengths.append(len(transcript))\n",
    "#     waveforms.append(waveform[0].numpy())\n",
    "#     transcripts.append(transcript)\n",
    "#     num_channels, num_frames = waveform.shape\n",
    "#     duration = num_frames / sample_rate\n",
    "#     audio_durations.append(duration)\n",
    "\n",
    "# dataset_stats = pd.DataFrame.from_dict(\n",
    "# {\n",
    "#     \"waveform_lengths\" : waveform_lengths,\n",
    "#     \"sample_rates\" : sample_rates,\n",
    "#     \"transcript_lengths\" : transcript_lengths,\n",
    "#     \"audio_durations\" : audio_durations,\n",
    "# }\n",
    "#     )"
   ]
  },
  {
   "cell_type": "code",
   "execution_count": 5,
   "id": "54059c1d-2ca5-4faf-8e82-4e3f7609397e",
   "metadata": {},
   "outputs": [],
   "source": [
    "# df = calculate_statistics(dataset)"
   ]
  },
  {
   "cell_type": "markdown",
   "id": "6a7b4b6b-9471-4965-8ac7-2f0074a2ead1",
   "metadata": {},
   "source": [
    "We can see from the above charts that there is a lot of variance in the audio duration. Our model needs to take consistent sizes of audio."
   ]
  },
  {
   "cell_type": "code",
   "execution_count": 6,
   "id": "120913c7-7f1a-4ce8-bd79-561b11d6a1bd",
   "metadata": {
    "tags": []
   },
   "outputs": [],
   "source": [
    "# df_spkr = pd.DataFrame(columns=['speaker_id', 'duration'])\n",
    "# df_spkr['speaker_id'] = speaker_ids\n",
    "# df_spkr['duration'] = audio_durations"
   ]
  },
  {
   "cell_type": "code",
   "execution_count": 7,
   "id": "a361612f-aa53-4c27-8aae-3e2d05826802",
   "metadata": {},
   "outputs": [],
   "source": [
    "# df_spkr.to_csv('df_speaker_ids.csv')\n",
    "df_spkr = pd.read_csv('df_speaker_ids.csv')"
   ]
  },
  {
   "cell_type": "code",
   "execution_count": 8,
   "id": "1df5bcb5-42a8-49fd-a128-4e420d36d0e6",
   "metadata": {},
   "outputs": [],
   "source": [
    "# df_spkr.groupby('speaker_id').mean().sort_values(by='duration', ascending=True)"
   ]
  },
  {
   "cell_type": "markdown",
   "id": "725378d9-e42c-4aca-9c6d-33ba8fd655ed",
   "metadata": {},
   "source": [
    "Because on average the duration of each speaker is 4.8 or higher, we decided to use a window_size of 4 seconds. Samples shorter than 4 seconds will be removed from the dataset."
   ]
  },
  {
   "cell_type": "markdown",
   "id": "2243e5db-e8c0-47be-9771-308c91fbfdc0",
   "metadata": {},
   "source": [
    "Number of samples for each speaker"
   ]
  },
  {
   "cell_type": "code",
   "execution_count": 9,
   "id": "290a11a7-a729-4914-910d-3fcaadab4d53",
   "metadata": {},
   "outputs": [],
   "source": [
    "# df_spkr.groupby('speaker_id').size().sort_values()"
   ]
  },
  {
   "cell_type": "markdown",
   "id": "ebb033e3-5d86-4bbe-8a65-337d99774b44",
   "metadata": {},
   "source": [
    "We can see than in this dataset, some speakers have 36 samples only. This could potentially be little data to train a model. "
   ]
  },
  {
   "cell_type": "markdown",
   "id": "102617ee-b8f3-4dfa-aba7-9e628739de08",
   "metadata": {},
   "source": [
    "Unique speaker ids"
   ]
  },
  {
   "cell_type": "code",
   "execution_count": 10,
   "id": "a3bdd051-5a4a-4ea9-8f2c-e2b4632bbfbb",
   "metadata": {},
   "outputs": [
    {
     "data": {
      "text/plain": [
       "array([  19,   26,   27,   32,   39,   40,   60,   78,   83,   87,   89,\n",
       "        103,  118,  125,  150,  163,  196,  198,  200,  201,  211,  226,\n",
       "        229,  233,  248,  250,  254,  289,  298,  302,  307,  311,  322,\n",
       "        328,  332,  374,  403,  405,  412,  426,  441,  445,  446,  458,\n",
       "        460,  481,  587,  625,  669,  696,  730,  831,  839,  887,  909,\n",
       "        911, 1034, 1040, 1069, 1081, 1088, 1098, 1116, 1183, 1235, 1246,\n",
       "       1263, 1334, 1355, 1363, 1447, 1455, 1502, 1553, 1578, 1594, 1624,\n",
       "       1723, 1737, 1743, 1841, 1867, 1898, 1926, 1963, 1970, 1992, 2002,\n",
       "       2007, 2092, 2136, 2159, 2182, 2196, 2289, 2384, 2391, 2416, 2436,\n",
       "       2514, 2518, 2691, 2764, 2817, 2836, 2843, 2893, 2910, 2911, 2952,\n",
       "       2989, 3112, 3168, 3214, 3235, 3240, 3242, 3259, 3374, 3436, 3440,\n",
       "       3486, 3526, 3607, 3664, 3699, 3723, 3807, 3830, 3857, 3879, 3947,\n",
       "       3982, 3983, 4014, 4018, 4051, 4088, 4137, 4160, 4195, 4214, 4267,\n",
       "       4297, 4340, 4362, 4397, 4406, 4441, 4481, 4640, 4680, 4788, 4813,\n",
       "       4830, 4853, 4859, 4898, 5022, 5049, 5104, 5163, 5192, 5322, 5339,\n",
       "       5390, 5393, 5456, 5463, 5514, 5561, 5652, 5678, 5688, 5703, 5750,\n",
       "       5778, 5789, 5808, 5867, 6000, 6019, 6064, 6078, 6081, 6147, 6181,\n",
       "       6209, 6272, 6367, 6385, 6415, 6437, 6454, 6476, 6529, 6531, 6563,\n",
       "       6818, 6836, 6848, 6880, 6925, 7059, 7067, 7078, 7113, 7148, 7178,\n",
       "       7190, 7226, 7264, 7278, 7302, 7312, 7367, 7402, 7447, 7505, 7511,\n",
       "       7517, 7635, 7780, 7794, 7800, 7859, 8014, 8051, 8063, 8088, 8095,\n",
       "       8098, 8108, 8123, 8226, 8238, 8312, 8324, 8419, 8425, 8465, 8468,\n",
       "       8580, 8609, 8629, 8630, 8747, 8770, 8797, 8838, 8975])"
      ]
     },
     "execution_count": 10,
     "metadata": {},
     "output_type": "execute_result"
    }
   ],
   "source": [
    "np.unique(df_spkr['speaker_id'])"
   ]
  },
  {
   "cell_type": "markdown",
   "id": "47e13cbb-4888-4b39-b147-bd79a407cbcf",
   "metadata": {},
   "source": [
    "Visualize spectrograms"
   ]
  },
  {
   "cell_type": "code",
   "execution_count": 11,
   "id": "368b4960-7c18-4ac9-b856-2e0fcf2e4be7",
   "metadata": {},
   "outputs": [],
   "source": [
    "# df_speaker_waveform = pd.DataFrame(columns=['speaker_id', 'waveform', 'transcript'])\n",
    "# df_speaker_waveform['speaker_id'] = speaker_ids\n",
    "# df_speaker_waveform['waveform'] = waveforms\n",
    "# df_speaker_waveform['transcript'] = transcripts"
   ]
  },
  {
   "cell_type": "code",
   "execution_count": 12,
   "id": "f1460052-4def-4d19-8cff-15142743e306",
   "metadata": {},
   "outputs": [],
   "source": [
    "# df_speaker_waveform[df_speaker_waveform['speaker_id']==84].head()"
   ]
  },
  {
   "cell_type": "code",
   "execution_count": 13,
   "id": "a747ea29-ed46-4d1c-b66b-ae092e53d8a6",
   "metadata": {},
   "outputs": [],
   "source": [
    "# num_cols = 3\n",
    "# for speaker_id in np.unique(df_speaker_waveform['speaker_id'])[:8]:\n",
    "#     fig, ax = plt.subplots(1, num_cols, figsize=(12, 3))\n",
    "#     waves = df_speaker_waveform[df_speaker_waveform['speaker_id']==speaker_id]['waveform'].values\n",
    "#     idx = df_speaker_waveform[df_speaker_waveform['speaker_id']==speaker_id]['waveform'].index\n",
    "#     for j, wave in enumerate(waves[:num_cols]):\n",
    "#         ax[j].specgram(wave, Fs=sample_rate)\n",
    "#         ax[j].set_title(f'speaker {speaker_id}, df.index: {idx[j]}')\n",
    "\n",
    "#         plt.tight_layout()"
   ]
  },
  {
   "cell_type": "markdown",
   "id": "96f6eaa1-4cc4-41dc-a552-b05a9635e7eb",
   "metadata": {},
   "source": [
    "Visualize MFCC spectrograms"
   ]
  },
  {
   "cell_type": "code",
   "execution_count": 14,
   "id": "384cfced-73d2-4b13-9196-87266d078061",
   "metadata": {},
   "outputs": [],
   "source": [
    "# num_cols = 3\n",
    "# for speaker_id in np.unique(df_speaker_waveform['speaker_id'])[:8]:\n",
    "#     fig, ax = plt.subplots(1, num_cols, figsize=(12, 3))\n",
    "#     waves = df_speaker_waveform[df_speaker_waveform['speaker_id']==speaker_id]['waveform'].values\n",
    "#     idx = df_speaker_waveform[df_speaker_waveform['speaker_id']==speaker_id]['waveform'].index\n",
    "#     for j, wave in enumerate(waves[:num_cols]):\n",
    "#         mfccs = librosa.feature.mfcc(y=wave.flatten(), n_mfcc=13, sr=sample_rate)\n",
    "#         img = librosa.display.specshow(mfccs, x_axis=\"time\", sr=sample_rate, ax=ax[j])\n",
    "#         ax[j].set_title(f'speaker: {speaker_id}, df.index: {idx[j]}')\n",
    "#         fig.colorbar(img, ax=ax[j], format=\"%+2.f dB\")\n",
    "#     plt.tight_layout()"
   ]
  },
  {
   "cell_type": "markdown",
   "id": "7fd8cf23-8f0e-42e2-a1f3-7d97b5efb9ee",
   "metadata": {},
   "source": [
    "Visualization of each channel in MFCC"
   ]
  },
  {
   "cell_type": "code",
   "execution_count": 15,
   "id": "b7f639d2-a5c3-4b77-9263-33dc1a23cb6d",
   "metadata": {},
   "outputs": [],
   "source": [
    "# plt.figure(figsize=(12, 8))\n",
    "# for i in range(mfccs.shape[0]):\n",
    "#     plt.plot(mfccs[i,:], label=f\"channel_{i}\")\n",
    "# plt.legend()"
   ]
  },
  {
   "cell_type": "markdown",
   "id": "89f20275-84b6-443b-b502-49132582cd5f",
   "metadata": {},
   "source": [
    "## Preprocessing"
   ]
  },
  {
   "cell_type": "markdown",
   "id": "0f1a2592-3b1b-43e1-8c42-ffd8824d36ae",
   "metadata": {},
   "source": [
    "<center><img src=\"images/preprocessing.png\" height=\"400\"></center>"
   ]
  },
  {
   "cell_type": "markdown",
   "id": "fa7ee405-979a-4127-abc8-0eb860777612",
   "metadata": {},
   "source": [
    "The preprocessing pipeline consists of the following steps:\n",
    "1. Transform waveforms to MFCC\n",
    "2. (optional) Perform Cepstral Normalization on the MFCC\n",
    "3. Transform MFCC (2D-array) to a greyscale image"
   ]
  },
  {
   "cell_type": "markdown",
   "id": "753b56e4-a9ac-45b2-83b1-61797cda9b22",
   "metadata": {},
   "source": [
    "**Cepstral normalization** is the process of normalizing the MFCCs at every channel. The first channels of the MFCC carry the most important features; therefore, channels should not be mixed during normalization. At every channel, the values are normalized by subtracting the mean and dividing by the standard deviation: \n",
    "$$(X_{channel} - \\mu_{channel})/\\sigma_{channel} $$"
   ]
  },
  {
   "cell_type": "markdown",
   "id": "428faa11-d1ba-4abc-838e-95c38c96b59d",
   "metadata": {},
   "source": [
    "Special consideration had to be taken during splitting of the data into train, validation, and test as well as during normalization. \n",
    "\n",
    "1. To ensure that each speaker_id is represent in each set, before splitting the audio samples were grouped by speaker id. Then the samples in each speaker_id are splitted in x% train, y% validation, z% test\n",
    "\n",
    "2. To ensure there is no data leakage between training and other sets during normalization, **the Cepstral Normalizer only uses MFCCs from the training set during fitting.**"
   ]
  },
  {
   "cell_type": "code",
   "execution_count": 16,
   "id": "17dc9537-d8e0-4e9f-930a-757f8841af94",
   "metadata": {},
   "outputs": [],
   "source": [
    "class MFCCData(Dataset):\n",
    "    def __init__(self, speaker_mfcc_db, mfcc_channel_db, transform=None):\n",
    "        \"\"\"\n",
    "        Creates a dataset of spectrograms from a dataset of waveforms\n",
    "        \n",
    "        Inputs\n",
    "        ------\n",
    "        speaker_mfcc_db : pd.DataFrame\n",
    "            dataframe of (index, speaker_id, mfcc_id)\n",
    "            \n",
    "        mfcc_channel_db : pd.DataFrame\n",
    "            dataframe of (mfcc_id, channel_1, channel_2, ...)\n",
    "            \n",
    "        transform : optional \n",
    "            transformations to perform on the MFCCs\n",
    "        \"\"\"\n",
    "        self.speaker_mfcc_db = speaker_mfcc_db\n",
    "        self.mfcc_channel_db = mfcc_channel_db        \n",
    "        self.transform = transform\n",
    "            \n",
    "    def __len__(self):\n",
    "        return len(self.speaker_mfcc_db)\n",
    "\n",
    "    def __getitem__(self, idx):\n",
    "        speaker_id = self.speaker_mfcc_db.iloc[idx]['speaker_id']\n",
    "        mfcc_id = self.speaker_mfcc_db.iloc[idx]['mfcc_id']\n",
    "        \n",
    "        mfcc = []\n",
    "        for i, col in enumerate(self.mfcc_channel_db.columns):\n",
    "            mfcc_channel_i = self.mfcc_channel_db.loc[mfcc_id, f'channel_{i}']\n",
    "            mfcc.append(mfcc_channel_i)\n",
    "            \n",
    "        mfcc = np.asarray(mfcc)\n",
    "        mfcc = mfcc.reshape(len(self.mfcc_channel_db.columns), -1)\n",
    "        \n",
    "        if self.transform:\n",
    "            mfcc = mfcc.reshape(1, mfcc.shape[0], mfcc.shape[1])\n",
    "            mfcc = np.transpose(mfcc, [1, 2, 0])\n",
    "            mfcc = self.transform(mfcc)\n",
    "            \n",
    "        else:\n",
    "            mfcc = mfcc.reshape(1, mfcc.shape[0], mfcc.shape[1])\n",
    "            \n",
    "        speaker_id = torch.tensor(speaker_id) \n",
    "        mfcc = torch.tensor(mfcc) \n",
    "            \n",
    "        if torch.cuda.is_available():\n",
    "            speaker_id = speaker_id.to('cuda')\n",
    "            mfcc = mfcc.to('cuda')\n",
    "            \n",
    "        return mfcc, speaker_id"
   ]
  },
  {
   "cell_type": "code",
   "execution_count": 17,
   "id": "bdaf1a83-d532-4f75-8292-42b21b582c95",
   "metadata": {},
   "outputs": [],
   "source": [
    "def speaker_encoder(speaker_ids):\n",
    "    \"\"\"\n",
    "    Creates a dictionary of (speaker_id, encoded_id) pairs\n",
    "    \"\"\"\n",
    "    speaker_dict = {}\n",
    "    for i, speaker_id in enumerate(speaker_ids):\n",
    "        speaker_dict[speaker_id] = i\n",
    "    return speaker_dict"
   ]
  },
  {
   "cell_type": "code",
   "execution_count": 18,
   "id": "0fbd8797-35b1-4a7c-abc3-c5d54a977290",
   "metadata": {},
   "outputs": [],
   "source": [
    "def create_mfcc_databases(dataset, window_size : int, sample_rate : int, speaker_dict : dict, number_spectral_coefficients : int):\n",
    "    \"\"\"\n",
    "    Creates two databases from an audio dataset e.g. librispeech\n",
    "    \n",
    "    Inputs\n",
    "    -----\n",
    "    \n",
    "    base_dataset : \n",
    "        A pytorch audio dataset like librispeech\n",
    "    \n",
    "    window_size : int\n",
    "        window size to be used to consistently split waveforms\n",
    "\n",
    "    sample_rate : int\n",
    "        sample rate in kHz    \n",
    "    \n",
    "    speaker_dict : dict\n",
    "        dictionary of {'speaker_id':encoded_id} pairs          \n",
    "\n",
    "    number_spectral_coefficients : int\n",
    "        number of spectral coefficients to keep for the MFCC calculation\n",
    "        \n",
    "    Returns\n",
    "    -------\n",
    "    speaker_mfcc_db : pd.DataFrame \n",
    "        df with shape (index_id, speaker_id, mfcc_id)\n",
    "    \n",
    "    mfcc_channel_db : pd.DataFrame\n",
    "        df with shape (mfcc_id, channel_id)\n",
    "    \n",
    "    \"\"\"\n",
    "    try:\n",
    "        speaker_mfcc_db = pd.read_pickle(f'speaker_mfcc_db_{window_size}_{sample_rate}_{number_spectral_coefficients}.pkl')\n",
    "        mfcc_channel_db = pd.read_pickle(f'mfcc_channel_db_{window_size}_{sample_rate}_{number_spectral_coefficients}.pkl')\n",
    "    \n",
    "    except FileNotFoundError:\n",
    "        speaker_mfcc_db = pd.DataFrame(columns=[\"speaker_id\", \"mfcc_id\"])\n",
    "        mfcc_channel_db = pd.DataFrame(columns=[\"mfcc_id\"]+[f\"channel_{i}\" for i in range(number_spectral_coefficients)]).set_index('mfcc_id')\n",
    "\n",
    "        idx = 0\n",
    "\n",
    "        print('Creating a database. Hold tight...')\n",
    "        for i in tqdm(range(dataset.__len__())):\n",
    "            (waveform, sample_rate, transcript, speaker_id, chapter_id, utterance_id) = dataset.__getitem__(i)\n",
    "            waveform_arr = waveform.numpy().flatten()\n",
    "            splitted_waveform = split_waveform(waveform_arr, window_size) # split waveforms into consistent chunks\n",
    "\n",
    "            for chunk in splitted_waveform: # transform waveforms into MFCC spectrograms\n",
    "                mfccs = librosa.feature.mfcc(y=chunk.flatten(), n_mfcc=13, sr=sample_rate)\n",
    "\n",
    "                speaker_mfcc_db.loc[idx, \"speaker_id\"] = speaker_dict[speaker_id]\n",
    "                speaker_mfcc_db.loc[idx, \"mfcc_id\"] = idx\n",
    "\n",
    "                for j in range(number_spectral_coefficients):\n",
    "                    mfcc_channel_db.loc[idx, f\"channel_{j}\"] = 1\n",
    "                    mfcc_channel_db.at[idx, f\"channel_{j}\"] = mfccs[j, :]\n",
    "                \n",
    "                idx += 1\n",
    "\n",
    "        speaker_mfcc_db.to_pickle(f'speaker_mfcc_db_{window_size}_{sample_rate}_{number_spectral_coefficients}.pkl')\n",
    "        mfcc_channel_db.to_pickle(f'mfcc_channel_db_{window_size}_{sample_rate}_{number_spectral_coefficients}.pkl')\n",
    "\n",
    "    return speaker_mfcc_db, mfcc_channel_db"
   ]
  },
  {
   "cell_type": "code",
   "execution_count": 19,
   "id": "c1935d22-d922-4834-a2d5-3b9c3c41ba9c",
   "metadata": {},
   "outputs": [],
   "source": [
    "def split_train_test_val(speaker_mfcc_db : pd.DataFrame, train_pct : float, val_pct : float, \n",
    "                         test_pct : float) -> Union[list[int], list[int], list[int]]:\n",
    "    \"\"\"\n",
    "    Splits the dataset into train, validation, and test. This function returns the indices of the dataframe corresponding\n",
    "    to each set\n",
    "    \"\"\"\n",
    "    train_ids = []\n",
    "    val_ids = []\n",
    "    test_ids = []\n",
    "    \n",
    "    for speaker_id in np.unique(speaker_mfcc_db[\"speaker_id\"].values):\n",
    "        mfcc_ids = speaker_mfcc_db[speaker_mfcc_db[\"speaker_id\"]==speaker_id][\"mfcc_id\"].sample(frac=1).tolist()\n",
    "        len_ids = len(mfcc_ids)\n",
    "        \n",
    "        train_ids.extend(mfcc_ids[:int(len_ids * train_pct)])\n",
    "        val_ids.extend(mfcc_ids[int(len_ids * train_pct):int(len_ids * (train_pct + val_pct))])\n",
    "        test_ids.extend(mfcc_ids[int(len_ids * (train_pct + val_pct)):])\n",
    "    \n",
    "    return train_ids, val_ids, test_ids"
   ]
  },
  {
   "cell_type": "code",
   "execution_count": 20,
   "id": "c4a64272-d461-413c-81ac-ec7485fe353b",
   "metadata": {},
   "outputs": [],
   "source": [
    "def get_datasets(base_dataset, speaker_dict : dict, window_size : int, sample_rate : int, train_pct : float, \n",
    "                 val_pct : float, test_pct : float, number_spectral_coefficients : int, cepstral_normalize : bool, \n",
    "                 transform=None) -> Union[Dataset, Dataset, Dataset]:\n",
    "    \"\"\"\n",
    "    Wrapper around other functions to create datasets\n",
    "    \n",
    "    Inputs\n",
    "    -----\n",
    "    \n",
    "    base_dataset : \n",
    "        A pytorch audio dataset like librispeech\n",
    "    \n",
    "    speaker_dict : dict\n",
    "        dictionary of {'speaker_id':encoded_id} pairs          \n",
    "\n",
    "    window_size : int\n",
    "        window size to be used to consistently split waveforms\n",
    "\n",
    "    sample_rate : int\n",
    "        sample rate in kHz\n",
    "\n",
    "    train_pct : float\n",
    "        train percentage\n",
    "    \n",
    "    val_pct : float\n",
    "        validation percentage\n",
    "\n",
    "    test_pct : float\n",
    "        Test percentage\n",
    "\n",
    "    number_spectral_coefficients : int\n",
    "        number of spectral coefficients to keep for the MFCC calculation\n",
    "        \n",
    "    normalize : bool\n",
    "        whether to apply cepstral normalization\n",
    "        \n",
    "    transform : \n",
    "        a custom transformation to apply to the dataset\n",
    "        \n",
    "    Returns\n",
    "    -------\n",
    "    \n",
    "    mfcc_dataset_train, mfcc_dataset_val, mfcc_dataset_test\n",
    "    \n",
    "    \"\"\"\n",
    "    speaker_mfcc_db, mfcc_channel_db = create_mfcc_databases(base_dataset, window_size=window_size, sample_rate=sample_rate, speaker_dict=speaker_dict, number_spectral_coefficients=number_spectral_coefficients)\n",
    "\n",
    "    train_ids, val_ids, test_ids = split_train_test_val(speaker_mfcc_db, train_pct, val_pct, test_pct)\n",
    "    \n",
    "    speaker_mfcc_db_train = speaker_mfcc_db.loc[train_ids]\n",
    "    speaker_mfcc_db_val = speaker_mfcc_db.loc[val_ids]\n",
    "    speaker_mfcc_db_test = speaker_mfcc_db.loc[test_ids]\n",
    "    \n",
    "    if cepstral_normalize:\n",
    "        cepstral_normalization = CepstralNormalization(number_spectral_coefficients)\n",
    "        cepstral_normalization.fit(speaker_mfcc_db_train['mfcc_id'].values, mfcc_channel_db)\n",
    "        normalized_mfcc_channel_db_train = cepstral_normalization.transform(speaker_mfcc_db_train['mfcc_id'].values, mfcc_channel_db)\n",
    "        normalized_mfcc_channel_db_val = cepstral_normalization.transform(speaker_mfcc_db_val['mfcc_id'].values, mfcc_channel_db)\n",
    "        normalized_mfcc_channel_db_test = cepstral_normalization.transform(speaker_mfcc_db_test['mfcc_id'].values, mfcc_channel_db)\n",
    "        mfcc_channel_db = pd.concat([normalized_mfcc_channel_db_train, normalized_mfcc_channel_db_val, normalized_mfcc_channel_db_test])\n",
    "        \n",
    "    mfcc_channel_db_train = mfcc_channel_db.loc[speaker_mfcc_db_train['mfcc_id'].values]\n",
    "    mfcc_channel_db_val = mfcc_channel_db.loc[speaker_mfcc_db_val['mfcc_id'].values]\n",
    "    mfcc_channel_db_test = mfcc_channel_db.loc[speaker_mfcc_db_test['mfcc_id'].values]\n",
    "    \n",
    "    mfcc_dataset_train = MFCCData(speaker_mfcc_db_train, mfcc_channel_db_train, transform=transform)\n",
    "    mfcc_dataset_val = MFCCData(speaker_mfcc_db_val, mfcc_channel_db_val, transform=transform)\n",
    "    mfcc_dataset_test = MFCCData(speaker_mfcc_db_test, mfcc_channel_db_test, transform=transform)\n",
    "\n",
    "    return mfcc_dataset_train, mfcc_dataset_val, mfcc_dataset_test"
   ]
  },
  {
   "cell_type": "code",
   "execution_count": 21,
   "id": "402724bf-ba8a-49a4-b9fe-9369a0c0db5f",
   "metadata": {},
   "outputs": [],
   "source": [
    "# preprocessing parameters\n",
    "sample_rate = 16000 # 16kHz\n",
    "window_size = 4 * sample_rate # 1 second has 16000 samples, window_size is 4 seconds\n",
    "\n",
    "batch_size = 10\n",
    "\n",
    "train_pct = 0.60\n",
    "val_pct = 0.20\n",
    "test_pct = 0.20\n",
    "number_spectral_coefficients = 13\n",
    "cepstral_normalize = True\n",
    "\n",
    "transform = transforms.Compose([transforms.ToTensor(), transforms.Resize(size=(224, 224))])"
   ]
  },
  {
   "cell_type": "code",
   "execution_count": 22,
   "id": "a9b3bf8b-81aa-48fd-a117-65c414aa0bac",
   "metadata": {},
   "outputs": [
    {
     "name": "stdout",
     "output_type": "stream",
     "text": [
      "Normalizing...\n"
     ]
    },
    {
     "name": "stderr",
     "output_type": "stream",
     "text": [
      "100%|████████████████████████████████████████████████████████████████| 13/13 [00:09<00:00,  1.42it/s]\n"
     ]
    }
   ],
   "source": [
    "speaker_dict = speaker_encoder(np.unique(df_spkr['speaker_id']))\n",
    "mfcc_dataset_train, mfcc_dataset_val, mfcc_dataset_test = get_datasets(dataset, \n",
    "                                                speaker_dict=speaker_dict,\n",
    "                                                window_size=window_size, \n",
    "                                                sample_rate=sample_rate, \n",
    "                                                train_pct=train_pct,\n",
    "                                                val_pct=val_pct,\n",
    "                                                test_pct=test_pct,\n",
    "                                                number_spectral_coefficients=number_spectral_coefficients,\n",
    "                                                cepstral_normalize=cepstral_normalize,\n",
    "                                                transform=transform,\n",
    "                                                )"
   ]
  },
  {
   "cell_type": "code",
   "execution_count": 23,
   "id": "d391f144-4a2c-4c50-ba19-ebcead2b4b8f",
   "metadata": {},
   "outputs": [],
   "source": [
    "train_set = Subset(mfcc_dataset_train, range(0, mfcc_dataset_train.__len__(), 10))\n",
    "val_set = Subset(mfcc_dataset_val, range(0, mfcc_dataset_val.__len__(), 10))"
   ]
  },
  {
   "cell_type": "code",
   "execution_count": 24,
   "id": "8a550cd0-2ec1-4f8b-82f4-5b726ac174d1",
   "metadata": {},
   "outputs": [],
   "source": [
    "train_loader = DataLoader(train_set, batch_size=batch_size, shuffle=True)\n",
    "val_loader = DataLoader(val_set, batch_size=batch_size, shuffle=True)\n",
    "test_loader = DataLoader(mfcc_dataset_test, batch_size=batch_size, shuffle=False)"
   ]
  },
  {
   "cell_type": "code",
   "execution_count": 25,
   "id": "fe68cbb3-45eb-4a43-9ffb-7ff343d5a759",
   "metadata": {},
   "outputs": [
    {
     "data": {
      "text/plain": [
       "(44653, 14917, 15020)"
      ]
     },
     "execution_count": 25,
     "metadata": {},
     "output_type": "execute_result"
    }
   ],
   "source": [
    "mfcc_dataset_train.__len__(), mfcc_dataset_val.__len__(), mfcc_dataset_test.__len__(), "
   ]
  },
  {
   "cell_type": "code",
   "execution_count": 26,
   "id": "3e3b7508-dff7-4475-a4f2-fd3fd1617aa9",
   "metadata": {},
   "outputs": [
    {
     "data": {
      "text/plain": [
       "(447, 150)"
      ]
     },
     "execution_count": 26,
     "metadata": {},
     "output_type": "execute_result"
    }
   ],
   "source": [
    "train_loader.__len__(), val_loader.__len__()"
   ]
  },
  {
   "cell_type": "code",
   "execution_count": 27,
   "id": "f038081d-e1c9-4090-8bc2-fdd5d94aaa88",
   "metadata": {},
   "outputs": [
    {
     "name": "stderr",
     "output_type": "stream",
     "text": [
      "/tmp/ipykernel_131229/1364449930.py:45: UserWarning: To copy construct from a tensor, it is recommended to use sourceTensor.clone().detach() or sourceTensor.clone().detach().requires_grad_(True), rather than torch.tensor(sourceTensor).\n",
      "  mfcc = torch.tensor(mfcc)\n"
     ]
    },
    {
     "name": "stdout",
     "output_type": "stream",
     "text": [
      "torch.Size([10, 1, 224, 224])\n"
     ]
    }
   ],
   "source": [
    "for a, b in train_loader:\n",
    "    break\n",
    "print(a.shape)"
   ]
  },
  {
   "cell_type": "code",
   "execution_count": 28,
   "id": "dd5bc548-2473-4786-8ae1-f675ee014be1",
   "metadata": {},
   "outputs": [
    {
     "data": {
      "text/plain": [
       "<matplotlib.image.AxesImage at 0x7f433c77c490>"
      ]
     },
     "execution_count": 28,
     "metadata": {},
     "output_type": "execute_result"
    },
    {
     "data": {
      "image/png": "[encoded data removed]",
      "text/plain": [
       "<Figure size 640x480 with 1 Axes>"
      ]
     },
     "metadata": {},
     "output_type": "display_data"
    }
   ],
   "source": [
    "plt.imshow(np.transpose(a[0].to('cpu').numpy(), [1, 2, 0]))"
   ]
  },
  {
   "cell_type": "markdown",
   "id": "2844ee30-2e7e-497c-8ff6-027601e5ac1a",
   "metadata": {},
   "source": [
    "Visualize a random sample from the dataloader to verify it looks as expected"
   ]
  },
  {
   "cell_type": "code",
   "execution_count": 30,
   "id": "34fccb02-5bf8-47db-868f-95a73feb0c66",
   "metadata": {},
   "outputs": [],
   "source": [
    "# random_sample = np.random.randint(0, 2300)\n",
    "# sample_mfcc, sample_speaker = mfcc_dataset_train.__getitem__(random_sample)\n",
    "\n",
    "# print(sample_mfcc.shape, sample_speaker.shape)\n",
    "\n",
    "# mfcc_arr = sample_mfcc.to('cpu').numpy().reshape(13, 126)\n",
    "# plt.figure()\n",
    "# plt.imshow(mfcc_arr)\n",
    "# plt.figure(figsize=(12, 8))\n",
    "# for i in range(mfcc_arr.shape[0]):\n",
    "#     plt.plot(mfcc_arr[i,:], label=f\"channel_{i}\")\n",
    "# plt.legend()"
   ]
  },
  {
   "cell_type": "markdown",
   "id": "6955efff-b90a-40d9-9187-9f7577752e1c",
   "metadata": {},
   "source": [
    "## Model Training"
   ]
  },
  {
   "cell_type": "code",
   "execution_count": 31,
   "id": "5c9bd128-f7db-4644-b0bc-ea4d8d735a31",
   "metadata": {},
   "outputs": [],
   "source": [
    "def evaluate(model, loader, criterion):\n",
    "    \"\"\" Evaluate the network on the validation set.\n",
    "\n",
    "     Args:\n",
    "         net: PyTorch neural network object\n",
    "         loader: PyTorch data loader for the validation set\n",
    "         criterion: The loss function\n",
    "     Returns:\n",
    "         err: A scalar for the avg classification error over the validation set\n",
    "         loss: A scalar for the average loss function over the validation set\n",
    "     \"\"\"\n",
    "    total_loss = 0.0\n",
    "    total_epoch = 0\n",
    "    val_acc = []\n",
    "\n",
    "    model.eval()\n",
    "    with torch.no_grad():\n",
    "        for i, data in enumerate(loader, 0):\n",
    "            mfcc, speakers = data\n",
    "            outputs = model(mfcc)\n",
    "\n",
    "            loss = criterion(outputs, speakers)\n",
    "            total_loss += loss.item()\n",
    "            total_epoch += len(speakers)\n",
    "            val_acc.append(get_accuracy(model, loader))\n",
    "\n",
    "        loss = float(total_loss) / (i + 1)\n",
    "        val_acc = np.mean(val_acc)\n",
    "    return loss, val_acc\n",
    "\n",
    "def get_accuracy(model, dataloader):\n",
    "    #select index with maximum prediction score\n",
    "    correct = 0\n",
    "    total = 0\n",
    "    for data in dataloader:\n",
    "        mfcc, labels = data\n",
    "        output = model(mfcc)\n",
    "        pred = output.max(1, keepdim=True)[1]\n",
    "        correct += pred.eq(labels.view_as(pred)).sum().item()\n",
    "        total += labels.shape[0]\n",
    "    return correct / total\n",
    "\n",
    "def train_model(model, train_loader, val_loader, batch_size, num_epochs, criterion, optimizer, print_every=2, plot_loss=True):\n",
    "    train_loss = np.zeros(num_epochs)\n",
    "    val_loss = np.zeros(num_epochs)\n",
    "    train_acc = np.zeros(num_epochs)\n",
    "    val_acc = np.zeros(num_epochs)\n",
    "        \n",
    "    if torch.cuda.is_available():\n",
    "        model = model.to(torch.device('cuda:0'))\n",
    "    \n",
    "    for epoch in tqdm(range(num_epochs)): \n",
    "        total_train_loss = 0.0\n",
    "        total_epoch = 0\n",
    "        total_train_acc = []\n",
    "        correct = 0.0\n",
    "        total = 0.0\n",
    "        \n",
    "        model.train()\n",
    "        \n",
    "        for i, data in enumerate(train_loader):\n",
    "            mfcc, speakers = data\n",
    "                        \n",
    "            # zero the parameter gradients\n",
    "            optimizer.zero_grad()\n",
    "            \n",
    "            # Forward pass, backward pass, and optimize\n",
    "            outputs = model(mfcc)\n",
    "            loss = criterion(outputs, speakers)\n",
    "            loss.backward()\n",
    "            optimizer.step()\n",
    "            \n",
    "            # Calculate the statistics\n",
    "            total_train_loss += loss.item()\n",
    "            total_epoch += len(speakers)\n",
    "            total_train_acc.append(get_accuracy(model, train_loader))\n",
    "            \n",
    "        model.eval()\n",
    "        train_loss[epoch] = float(total_train_loss) / (i+1)\n",
    "        train_acc[epoch] = np.mean(total_train_acc)        \n",
    "        val_loss[epoch], val_acc[epoch] = evaluate(model, val_loader, criterion)\n",
    "        \n",
    "        if epoch % print_every == 0:    \n",
    "            print(f\"Epoch {epoch}: \\n \\\n",
    "            Train loss {train_loss[epoch]:.3f} | Val loss {val_loss[epoch]:.3f} \\n \\\n",
    "            Train acc {train_acc[epoch]:.3f} | Val acc {val_acc[epoch]:.3f} \\n\")\n",
    "            \n",
    "            \n",
    "    if plot_loss:\n",
    "        n = len(train_loss) # number of epochs\n",
    "        plt.figure()\n",
    "        plt.title(\"Train vs Validation Loss\")\n",
    "        plt.plot(range(1,n+1), train_loss, label=\"Train\")\n",
    "        plt.plot(range(1,n+1), val_loss, label=\"Validation\")\n",
    "        plt.xlabel(\"Epoch\")\n",
    "        plt.ylabel(\"Loss\")\n",
    "        plt.legend(loc='best')\n",
    "\n",
    "        plt.figure()\n",
    "        plt.title(\"Train vs Validation Accuracy\")\n",
    "        plt.plot(range(1,n+1), train_acc, label=\"Train\")\n",
    "        plt.plot(range(1,n+1), val_acc, label=\"Validation\")\n",
    "        plt.xlabel(\"Epoch\")\n",
    "        plt.ylabel(\"Accuracy\")\n",
    "        plt.legend(loc='best')   "
   ]
  },
  {
   "cell_type": "code",
   "execution_count": 32,
   "id": "735bfed3-71b5-444b-94e6-8cb2f8c68be7",
   "metadata": {},
   "outputs": [],
   "source": [
    "class FCN(nn.Module):\n",
    "    def __init__(self, input_layers, hidden_layers, output_size):\n",
    "        super(FCN, self).__init__()\n",
    "\n",
    "        self.fc1 = nn.Linear(3 * 11 * 124, hidden_layers)\n",
    "        self.fc2 = nn.Linear(hidden_layers, output_size)\n",
    "\n",
    "    def forward(self, x):\n",
    "        x = x.float()\n",
    "        x = x.view(-1, 13 * 126)\n",
    "        x = F.relu(self.fc1(x))\n",
    "        x = self.fc2(x)\n",
    "        return x"
   ]
  },
  {
   "cell_type": "code",
   "execution_count": 33,
   "id": "c2955d4c-317d-4f04-a91e-653456210aa4",
   "metadata": {},
   "outputs": [],
   "source": [
    "class CNN(nn.Module):\n",
    "    def __init__(self, hidden_layers, output_size):\n",
    "        super(CNN, self).__init__()\n",
    "\n",
    "        self.conv1 = nn.Conv2d(in_channels=1, out_channels=1, kernel_size=1, padding=0)\n",
    "        self.conv2 = nn.Conv2d(in_channels=1, out_channels=1, kernel_size=1, padding=0)\n",
    "        self.conv3 = nn.Conv2d(in_channels=1, out_channels=1, kernel_size=3, padding=1)\n",
    "        self.fc1 = nn.Linear(1 * 13 * 126, hidden_layers)\n",
    "        self.fc2 = nn.Linear(hidden_layers, output_size)\n",
    "\n",
    "    def forward(self, x):\n",
    "        x = x.float()\n",
    "        x = F.leaky_relu(self.conv1(x))\n",
    "        x = F.leaky_relu(self.conv2(x))\n",
    "        x = F.leaky_relu(self.conv3(x))\n",
    "        x = x.view(-1, 1 * 13 * 126)\n",
    "        x = F.relu(self.fc1(x))\n",
    "        x = self.fc2(x)\n",
    "        return x"
   ]
  },
  {
   "cell_type": "code",
   "execution_count": 34,
   "id": "461aa166-0a56-4ef4-b121-36e3d14812b3",
   "metadata": {},
   "outputs": [],
   "source": [
    "# model hyperparameters\n",
    "hidden_layers = 300\n",
    "output_size = len(np.unique(df_spkr['speaker_id']))\n",
    "lr = 0.01\n",
    "momentum = 0.9\n",
    "num_epochs = 30\n",
    "\n",
    "model = CNN(hidden_layers=hidden_layers, output_size=output_size)\n",
    "criterion = nn.CrossEntropyLoss()\n",
    "optimizer = torch.optim.Adam(model.parameters(), lr=lr)#, momentum=momentum)\n",
    "num_epochs = num_epochs"
   ]
  },
  {
   "cell_type": "code",
   "execution_count": 35,
   "id": "6d3cdaee-66f7-46fe-81e9-bc6a3c8d87c6",
   "metadata": {},
   "outputs": [
    {
     "name": "stderr",
     "output_type": "stream",
     "text": [
      "  0%|                                                                         | 0/30 [00:00<?, ?it/s]/tmp/ipykernel_131229/1364449930.py:45: UserWarning: To copy construct from a tensor, it is recommended to use sourceTensor.clone().detach() or sourceTensor.clone().detach().requires_grad_(True), rather than torch.tensor(sourceTensor).\n",
      "  mfcc = torch.tensor(mfcc)\n",
      "  0%|                                                                         | 0/30 [00:01<?, ?it/s]\n"
     ]
    },
    {
     "ename": "RuntimeError",
     "evalue": "shape '[-1, 1638]' is invalid for input of size 501760",
     "output_type": "error",
     "traceback": [
      "\u001b[0;31m---------------------------------------------------------------------------\u001b[0m",
      "\u001b[0;31mRuntimeError\u001b[0m                              Traceback (most recent call last)",
      "Cell \u001b[0;32mIn [35], line 1\u001b[0m\n\u001b[0;32m----> 1\u001b[0m train_model(model, train_loader, val_loader, batch_size, num_epochs, criterion, optimizer, print_every\u001b[38;5;241m=\u001b[39m\u001b[38;5;241m1\u001b[39m)\n",
      "Cell \u001b[0;32mIn [31], line 68\u001b[0m, in \u001b[0;36mtrain_model\u001b[0;34m(model, train_loader, val_loader, batch_size, num_epochs, criterion, optimizer, print_every, plot_loss)\u001b[0m\n\u001b[1;32m     65\u001b[0m optimizer\u001b[38;5;241m.\u001b[39mzero_grad()\n\u001b[1;32m     67\u001b[0m \u001b[38;5;66;03m# Forward pass, backward pass, and optimize\u001b[39;00m\n\u001b[0;32m---> 68\u001b[0m outputs \u001b[38;5;241m=\u001b[39m \u001b[43mmodel\u001b[49m\u001b[43m(\u001b[49m\u001b[43mmfcc\u001b[49m\u001b[43m)\u001b[49m\n\u001b[1;32m     69\u001b[0m loss \u001b[38;5;241m=\u001b[39m criterion(outputs, speakers)\n\u001b[1;32m     70\u001b[0m loss\u001b[38;5;241m.\u001b[39mbackward()\n",
      "File \u001b[0;32m~/anaconda3/envs/dl-env/lib/python3.10/site-packages/torch/nn/modules/module.py:1190\u001b[0m, in \u001b[0;36mModule._call_impl\u001b[0;34m(self, *input, **kwargs)\u001b[0m\n\u001b[1;32m   1186\u001b[0m \u001b[38;5;66;03m# If we don't have any hooks, we want to skip the rest of the logic in\u001b[39;00m\n\u001b[1;32m   1187\u001b[0m \u001b[38;5;66;03m# this function, and just call forward.\u001b[39;00m\n\u001b[1;32m   1188\u001b[0m \u001b[38;5;28;01mif\u001b[39;00m \u001b[38;5;129;01mnot\u001b[39;00m (\u001b[38;5;28mself\u001b[39m\u001b[38;5;241m.\u001b[39m_backward_hooks \u001b[38;5;129;01mor\u001b[39;00m \u001b[38;5;28mself\u001b[39m\u001b[38;5;241m.\u001b[39m_forward_hooks \u001b[38;5;129;01mor\u001b[39;00m \u001b[38;5;28mself\u001b[39m\u001b[38;5;241m.\u001b[39m_forward_pre_hooks \u001b[38;5;129;01mor\u001b[39;00m _global_backward_hooks\n\u001b[1;32m   1189\u001b[0m         \u001b[38;5;129;01mor\u001b[39;00m _global_forward_hooks \u001b[38;5;129;01mor\u001b[39;00m _global_forward_pre_hooks):\n\u001b[0;32m-> 1190\u001b[0m     \u001b[38;5;28;01mreturn\u001b[39;00m \u001b[43mforward_call\u001b[49m\u001b[43m(\u001b[49m\u001b[38;5;241;43m*\u001b[39;49m\u001b[38;5;28;43minput\u001b[39;49m\u001b[43m,\u001b[49m\u001b[43m \u001b[49m\u001b[38;5;241;43m*\u001b[39;49m\u001b[38;5;241;43m*\u001b[39;49m\u001b[43mkwargs\u001b[49m\u001b[43m)\u001b[49m\n\u001b[1;32m   1191\u001b[0m \u001b[38;5;66;03m# Do not call functions when jit is used\u001b[39;00m\n\u001b[1;32m   1192\u001b[0m full_backward_hooks, non_full_backward_hooks \u001b[38;5;241m=\u001b[39m [], []\n",
      "Cell \u001b[0;32mIn [33], line 16\u001b[0m, in \u001b[0;36mCNN.forward\u001b[0;34m(self, x)\u001b[0m\n\u001b[1;32m     14\u001b[0m x \u001b[38;5;241m=\u001b[39m F\u001b[38;5;241m.\u001b[39mleaky_relu(\u001b[38;5;28mself\u001b[39m\u001b[38;5;241m.\u001b[39mconv2(x))\n\u001b[1;32m     15\u001b[0m x \u001b[38;5;241m=\u001b[39m F\u001b[38;5;241m.\u001b[39mleaky_relu(\u001b[38;5;28mself\u001b[39m\u001b[38;5;241m.\u001b[39mconv3(x))\n\u001b[0;32m---> 16\u001b[0m x \u001b[38;5;241m=\u001b[39m \u001b[43mx\u001b[49m\u001b[38;5;241;43m.\u001b[39;49m\u001b[43mview\u001b[49m\u001b[43m(\u001b[49m\u001b[38;5;241;43m-\u001b[39;49m\u001b[38;5;241;43m1\u001b[39;49m\u001b[43m,\u001b[49m\u001b[43m \u001b[49m\u001b[38;5;241;43m1\u001b[39;49m\u001b[43m \u001b[49m\u001b[38;5;241;43m*\u001b[39;49m\u001b[43m \u001b[49m\u001b[38;5;241;43m13\u001b[39;49m\u001b[43m \u001b[49m\u001b[38;5;241;43m*\u001b[39;49m\u001b[43m \u001b[49m\u001b[38;5;241;43m126\u001b[39;49m\u001b[43m)\u001b[49m\n\u001b[1;32m     17\u001b[0m x \u001b[38;5;241m=\u001b[39m F\u001b[38;5;241m.\u001b[39mrelu(\u001b[38;5;28mself\u001b[39m\u001b[38;5;241m.\u001b[39mfc1(x))\n\u001b[1;32m     18\u001b[0m x \u001b[38;5;241m=\u001b[39m \u001b[38;5;28mself\u001b[39m\u001b[38;5;241m.\u001b[39mfc2(x)\n",
      "\u001b[0;31mRuntimeError\u001b[0m: shape '[-1, 1638]' is invalid for input of size 501760"
     ]
    }
   ],
   "source": [
    "train_model(model, train_loader, val_loader, batch_size, num_epochs, criterion, optimizer, print_every=1)"
   ]
  },
  {
   "cell_type": "code",
   "execution_count": null,
   "id": "3c570212-d5e6-43be-aad7-db8fbc580e0d",
   "metadata": {},
   "outputs": [],
   "source": [
    "#TODO: Run 3 CNN for the report [PEARL]"
   ]
  },
  {
   "cell_type": "code",
   "execution_count": null,
   "id": "2cae1056-6aae-453f-b3ed-8d94ca2e7ea5",
   "metadata": {},
   "outputs": [],
   "source": [
    "#TODO: Explain we will leave testing to the end of the proejct [PEARL]"
   ]
  },
  {
   "cell_type": "code",
   "execution_count": 36,
   "id": "6cc1b155-3e22-4653-a275-d448e73e0048",
   "metadata": {},
   "outputs": [],
   "source": [
    "def test_model(model, test_loader):\n",
    "    correct = 0\n",
    "    total = 0\n",
    "    with torch.no_grad():\n",
    "        for data in test_loader:\n",
    "            mfcc, speakers = data\n",
    "            outputs = model(mfcc)\n",
    "            _, predicted = torch.max(outputs.data, 1)\n",
    "            total += speakers.size(0)\n",
    "            correct += (predicted == speakers).sum().item()\n",
    "\n",
    "    print(f'Accuracy: {100 * correct // total} %')"
   ]
  },
  {
   "cell_type": "code",
   "execution_count": null,
   "id": "7aac5c23-631a-446b-aadb-33205fe653bd",
   "metadata": {},
   "outputs": [],
   "source": [
    "test_model(model, test_loader)"
   ]
  },
  {
   "cell_type": "code",
   "execution_count": null,
   "id": "0a256a07-1eec-4835-9384-bf2c52580736",
   "metadata": {},
   "outputs": [],
   "source": [
    "speaker_dict # {original_speaker_id, encoded_speaker_id}"
   ]
  },
  {
   "cell_type": "code",
   "execution_count": null,
   "id": "aaf007c7-2f74-48cd-af33-c4d9eeaf67c8",
   "metadata": {},
   "outputs": [],
   "source": [
    "classes = [str(speaker_id) for speaker_id in range(len(np.unique(df_spkr['speaker_id'])))]\n",
    "correct_pred = {classname: 0 for classname in classes}\n",
    "total_pred = {classname: 0 for classname in classes}\n",
    "\n",
    "for mfcc, speakers in test_loader:\n",
    "    outputs = model(mfcc)\n",
    "    _, predicted = torch.max(outputs.data, 1)\n",
    "    # print(f\"predicted: {predicted}, actual: {speakers}\")\n",
    "    for label, prediction in zip(speakers, predicted):\n",
    "            if label == prediction:\n",
    "                correct_pred[classes[label]] += 1\n",
    "            total_pred[classes[label]] += 1\n",
    "    \n",
    "for classname, correct_count in correct_pred.items():\n",
    "    accuracy = 100 * float(correct_count) / total_pred[classname]\n",
    "    print(f'Accuracy for class: {classname:5s} is {accuracy:.1f} %')"
   ]
  },
  {
   "cell_type": "markdown",
   "id": "02e2eb77-8e8a-43cd-803e-7720e7d0a2df",
   "metadata": {},
   "source": [
    "## AlexNet"
   ]
  },
  {
   "cell_type": "code",
   "execution_count": 37,
   "id": "7c848ac6-a207-49da-9f3a-b1c555b4191c",
   "metadata": {
    "tags": []
   },
   "outputs": [
    {
     "name": "stderr",
     "output_type": "stream",
     "text": [
      "/home/renzo/anaconda3/envs/dl-env/lib/python3.10/site-packages/torchvision/models/_utils.py:208: UserWarning: The parameter 'pretrained' is deprecated since 0.13 and may be removed in the future, please use 'weights' instead.\n",
      "  warnings.warn(\n",
      "/home/renzo/anaconda3/envs/dl-env/lib/python3.10/site-packages/torchvision/models/_utils.py:223: UserWarning: Arguments other than a weight enum or `None` for 'weights' are deprecated since 0.13 and may be removed in the future. The current behavior is equivalent to passing `weights=AlexNet_Weights.IMAGENET1K_V1`. You can also use `weights=AlexNet_Weights.DEFAULT` to get the most up-to-date weights.\n",
      "  warnings.warn(msg)\n"
     ]
    }
   ],
   "source": [
    "alexnet = models.alexnet(pretrained=True)"
   ]
  },
  {
   "cell_type": "code",
   "execution_count": 38,
   "id": "94ca0fa3-0aac-4824-88aa-8128c5d5d9aa",
   "metadata": {},
   "outputs": [],
   "source": [
    "# Freeze model parameters\n",
    "for param in alexnet.parameters():\n",
    "    param.requires_grad = False"
   ]
  },
  {
   "cell_type": "code",
   "execution_count": 39,
   "id": "9985aa36-5cce-4931-9666-993e928ac94d",
   "metadata": {},
   "outputs": [],
   "source": [
    "alexnet.features[0] = nn.Conv2d(1, 64, kernel_size=(1,1))"
   ]
  },
  {
   "cell_type": "code",
   "execution_count": 40,
   "id": "5cb0118b-aeda-4b33-9587-f27fcae31d38",
   "metadata": {},
   "outputs": [
    {
     "data": {
      "text/plain": [
       "AlexNet(\n",
       "  (features): Sequential(\n",
       "    (0): Conv2d(1, 64, kernel_size=(1, 1), stride=(1, 1))\n",
       "    (1): ReLU(inplace=True)\n",
       "    (2): MaxPool2d(kernel_size=3, stride=2, padding=0, dilation=1, ceil_mode=False)\n",
       "    (3): Conv2d(64, 192, kernel_size=(5, 5), stride=(1, 1), padding=(2, 2))\n",
       "    (4): ReLU(inplace=True)\n",
       "    (5): MaxPool2d(kernel_size=3, stride=2, padding=0, dilation=1, ceil_mode=False)\n",
       "    (6): Conv2d(192, 384, kernel_size=(3, 3), stride=(1, 1), padding=(1, 1))\n",
       "    (7): ReLU(inplace=True)\n",
       "    (8): Conv2d(384, 256, kernel_size=(3, 3), stride=(1, 1), padding=(1, 1))\n",
       "    (9): ReLU(inplace=True)\n",
       "    (10): Conv2d(256, 256, kernel_size=(3, 3), stride=(1, 1), padding=(1, 1))\n",
       "    (11): ReLU(inplace=True)\n",
       "    (12): MaxPool2d(kernel_size=3, stride=2, padding=0, dilation=1, ceil_mode=False)\n",
       "  )\n",
       "  (avgpool): AdaptiveAvgPool2d(output_size=(6, 6))\n",
       "  (classifier): Sequential(\n",
       "    (0): Dropout(p=0.5, inplace=False)\n",
       "    (1): Linear(in_features=9216, out_features=4096, bias=True)\n",
       "    (2): ReLU(inplace=True)\n",
       "    (3): Dropout(p=0.5, inplace=False)\n",
       "    (4): Linear(in_features=4096, out_features=4096, bias=True)\n",
       "    (5): ReLU(inplace=True)\n",
       "    (6): Linear(in_features=4096, out_features=500, bias=True)\n",
       "    (7): LeakyReLU(negative_slope=0.01)\n",
       "    (8): Linear(in_features=500, out_features=251, bias=True)\n",
       "  )\n",
       ")"
      ]
     },
     "execution_count": 40,
     "metadata": {},
     "output_type": "execute_result"
    }
   ],
   "source": [
    "#Modify the final output layer\n",
    "alexnet.classifier.add_module(\"6\",nn.Linear(4096, 500))\n",
    "alexnet.classifier.add_module(\"7\",nn.LeakyReLU())\n",
    "alexnet.classifier.add_module(\"8\",nn.Linear(500, len(np.unique(df_spkr['speaker_id']))))\n",
    "# alexnet.classifier.add_module(\"9\", nn.LogSoftmax(dim = 1))\n",
    "alexnet"
   ]
  },
  {
   "cell_type": "code",
   "execution_count": 41,
   "id": "29c0dfff-9061-4636-90df-0c04c8bb2a57",
   "metadata": {},
   "outputs": [],
   "source": [
    "# Define Optimizer and Loss Function\n",
    "loss_func = nn.CrossEntropyLoss()\n",
    "optimizer = torch.optim.Adam(alexnet.parameters())\n",
    "\n",
    "\n",
    "def train_and_validate(model, loss_criterion, optimizer,train_loader, val_loader, epochs=25):\n",
    "    '''\n",
    "    Function to train and validate\n",
    "    Parameters\n",
    "        :param model: Model to train and validate\n",
    "        :param loss_criterion: Loss Criterion to minimize\n",
    "        :param optimizer: Optimizer for computing gradients\n",
    "        :param epochs: Number of epochs (default=25)\n",
    "  \n",
    "    Returns\n",
    "        model: Trained Model with best validation accuracy\n",
    "        history: (dict object): Having training loss, accuracy and validation loss, accuracy\n",
    "    '''\n",
    "    \n",
    "    start = time.time()\n",
    "    history = []\n",
    "    best_acc = 0.0\n",
    "\n",
    "    for epoch in range(epochs):\n",
    "        epoch_start = time.time()\n",
    "        print(\"Epoch: {}/{}\".format(epoch+1, epochs))\n",
    "        \n",
    "        # Set to training mode\n",
    "        model.train()\n",
    "        \n",
    "        # Loss and Accuracy within the epoch\n",
    "        train_loss = 0.0\n",
    "        train_acc = 0.0\n",
    "        \n",
    "        valid_loss = 0.0\n",
    "        valid_acc = 0.0\n",
    "        \n",
    "        for i, (inputs, labels) in enumerate(train_loader):\n",
    "\n",
    "            inputs = inputs.to(device)\n",
    "            labels = labels.to(device)\n",
    "            \n",
    "            # Clean existing gradients\n",
    "            optimizer.zero_grad()\n",
    "            \n",
    "            # Forward pass - compute outputs on input data using the model\n",
    "            outputs = model(inputs)\n",
    "            \n",
    "            # Compute loss\n",
    "            loss = loss_criterion(outputs, labels)\n",
    "            \n",
    "            # Backpropagate the gradients\n",
    "            loss.backward()\n",
    "            \n",
    "            # Update the parameters\n",
    "            optimizer.step()\n",
    "            \n",
    "            # Compute the total loss for the batch and add it to train_loss\n",
    "            train_loss += loss.item() * inputs.size(0)\n",
    "            \n",
    "            # Compute the accuracy\n",
    "            ret, predictions = torch.max(outputs.data, 1)\n",
    "            correct_counts = predictions.eq(labels.data.view_as(predictions))\n",
    "            \n",
    "            # Convert correct_counts to float and then compute the mean\n",
    "            acc = torch.mean(correct_counts.type(torch.FloatTensor))\n",
    "            \n",
    "            # Compute total accuracy in the whole batch and add to train_acc\n",
    "            train_acc += acc.item() * inputs.size(0)\n",
    "            \n",
    "            #print(\"Batch number: {:03d}, Training: Loss: {:.4f}, Accuracy: {:.4f}\".format(i, loss.item(), acc.item()))\n",
    "\n",
    "            \n",
    "        # Validation - No gradient tracking needed\n",
    "        with torch.no_grad():\n",
    "\n",
    "            # Set to evaluation mode\n",
    "            model.eval()\n",
    "\n",
    "            # Validation loop\n",
    "            for j, (inputs, labels) in enumerate(val_loader):\n",
    "                inputs = inputs.to(device)\n",
    "                labels = labels.to(device)\n",
    "\n",
    "                # Forward pass - compute outputs on input data using the model\n",
    "                outputs = model(inputs)\n",
    "                \n",
    "                # Compute loss\n",
    "                loss = loss_criterion(outputs, labels)\n",
    "\n",
    "                # Compute the total loss for the batch and add it to valid_loss\n",
    "                valid_loss += loss.item() * inputs.size(0)\n",
    "\n",
    "                # Calculate validation accuracy\n",
    "                ret, predictions = torch.max(outputs.data, 1)\n",
    "                correct_counts = predictions.eq(labels.data.view_as(predictions))\n",
    "\n",
    "                # Convert correct_counts to float and then compute the mean\n",
    "                acc = torch.mean(correct_counts.type(torch.FloatTensor))\n",
    "\n",
    "                # Compute total accuracy in the whole batch and add to valid_acc\n",
    "                valid_acc += acc.item() * inputs.size(0)\n",
    "\n",
    "                #print(\"Validation Batch number: {:03d}, Validation: Loss: {:.4f}, Accuracy: {:.4f}\".format(j, loss.item(), acc.item()))\n",
    "            \n",
    "        # Find average training loss and training accuracy\n",
    "        avg_train_loss = train_loss/2399 \n",
    "        avg_train_acc = train_acc/2399\n",
    "\n",
    "        # Find average training loss and training accuracy\n",
    "        avg_valid_loss = valid_loss/686 \n",
    "        avg_valid_acc = valid_acc/686\n",
    "\n",
    "        history.append([avg_train_loss, avg_valid_loss, avg_train_acc, avg_valid_acc])\n",
    "                \n",
    "        epoch_end = time.time()\n",
    "    \n",
    "        print(\"Epoch : {:03d}, Training: Loss: {:.4f}, Accuracy: {:.4f}%, \\n\\t\\tValidation : Loss : {:.4f}, Accuracy: {:.4f}%, Time: {:.4f}s\".format(epoch+1, avg_train_loss, avg_train_acc*100, avg_valid_loss, avg_valid_acc*100, epoch_end-epoch_start))\n",
    "        \n",
    "        # Save if the model has best accuracy till now\n",
    "        #torch.save(model, dataset+'_model_'+str(epoch)+'.pt')\n",
    "            \n",
    "    return model, history"
   ]
  },
  {
   "cell_type": "code",
   "execution_count": 43,
   "id": "86f5df8a-9e0b-4bc8-b2ed-1f7f9504ffe1",
   "metadata": {},
   "outputs": [],
   "source": [
    "alexnet = alexnet.to('cuda')"
   ]
  },
  {
   "cell_type": "code",
   "execution_count": 44,
   "id": "d9a110df-5646-41b6-87af-b341e5a5c117",
   "metadata": {},
   "outputs": [],
   "source": [
    "train_loader = DataLoader(train_set, batch_size=batch_size, shuffle=True)\n",
    "val_loader = DataLoader(val_set, batch_size=batch_size, shuffle=True)\n",
    "test_loader = DataLoader(mfcc_dataset_test, batch_size=batch_size, shuffle=False)"
   ]
  },
  {
   "cell_type": "code",
   "execution_count": null,
   "id": "d127a545-4726-41ab-9b0e-c700842cadd9",
   "metadata": {},
   "outputs": [
    {
     "name": "stdout",
     "output_type": "stream",
     "text": [
      "Epoch: 1/20\n"
     ]
    },
    {
     "name": "stderr",
     "output_type": "stream",
     "text": [
      "/tmp/ipykernel_131229/1364449930.py:45: UserWarning: To copy construct from a tensor, it is recommended to use sourceTensor.clone().detach() or sourceTensor.clone().detach().requires_grad_(True), rather than torch.tensor(sourceTensor).\n",
      "  mfcc = torch.tensor(mfcc)\n"
     ]
    },
    {
     "name": "stdout",
     "output_type": "stream",
     "text": [
      "Epoch : 001, Training: Loss: 10.1650, Accuracy: 1.6257%, \n",
      "\t\tValidation : Loss : 11.2281, Accuracy: 1.7493%, Time: 50.0622s\n",
      "Epoch: 2/20\n",
      "Epoch : 002, Training: Loss: 9.3007, Accuracy: 3.5848%, \n",
      "\t\tValidation : Loss : 10.3766, Accuracy: 5.1020%, Time: 50.6518s\n",
      "Epoch: 3/20\n",
      "Epoch : 003, Training: Loss: 8.6912, Accuracy: 6.5027%, \n",
      "\t\tValidation : Loss : 9.5035, Accuracy: 13.8484%, Time: 51.4666s\n",
      "Epoch: 4/20\n",
      "Epoch : 004, Training: Loss: 7.9428, Accuracy: 10.5044%, \n",
      "\t\tValidation : Loss : 8.5832, Accuracy: 17.0554%, Time: 51.5479s\n",
      "Epoch: 5/20\n",
      "Epoch : 005, Training: Loss: 7.3778, Accuracy: 14.7978%, \n",
      "\t\tValidation : Loss : 7.8902, Accuracy: 25.0729%, Time: 51.7835s\n",
      "Epoch: 6/20\n",
      "Epoch : 006, Training: Loss: 7.0852, Accuracy: 18.0492%, \n",
      "\t\tValidation : Loss : 7.7689, Accuracy: 27.8426%, Time: 58.7883s\n",
      "Epoch: 7/20\n",
      "Epoch : 007, Training: Loss: 6.8214, Accuracy: 21.0504%, \n",
      "\t\tValidation : Loss : 7.5452, Accuracy: 31.3411%, Time: 52.8209s\n",
      "Epoch: 8/20\n",
      "Epoch : 008, Training: Loss: 6.6239, Accuracy: 24.3435%, \n",
      "\t\tValidation : Loss : 7.4453, Accuracy: 33.8192%, Time: 52.1358s\n",
      "Epoch: 9/20\n",
      "Epoch : 009, Training: Loss: 6.4487, Accuracy: 26.8028%, \n",
      "\t\tValidation : Loss : 7.2174, Accuracy: 42.4198%, Time: 51.9355s\n",
      "Epoch: 10/20\n",
      "Epoch : 010, Training: Loss: 6.3294, Accuracy: 27.9283%, \n",
      "\t\tValidation : Loss : 6.9279, Accuracy: 44.7522%, Time: 51.9735s\n",
      "Epoch: 11/20\n",
      "Epoch : 011, Training: Loss: 6.1498, Accuracy: 31.3881%, \n",
      "\t\tValidation : Loss : 6.8539, Accuracy: 47.5219%, Time: 31.4027s\n",
      "Epoch: 12/20\n"
     ]
    }
   ],
   "source": [
    "device = torch.device(\"cuda:0\" if torch.cuda.is_available() else \"cpu\")\n",
    "\n",
    "num_epochs = 20\n",
    "trained_model, history = train_and_validate(alexnet, loss_func, optimizer, train_loader, val_loader, num_epochs)"
   ]
  },
  {
   "cell_type": "code",
   "execution_count": null,
   "id": "38dd4648-8242-4f7c-8bb5-986a3fb23032",
   "metadata": {},
   "outputs": [],
   "source": [
    "#TODO: Ran alexnet 3 times for the report [WILL]"
   ]
  },
  {
   "cell_type": "code",
   "execution_count": null,
   "id": "e34566aa-8b75-4042-aff7-903df75b97dc",
   "metadata": {},
   "outputs": [],
   "source": [
    "train_acc = []\n",
    "val_acc = []\n",
    "train_loss = []\n",
    "val_loss = []\n",
    "ep = []\n",
    "i = 0\n",
    "for tacc, vacc, tloss, vloss in history:\n",
    "    train_acc.append(tacc)\n",
    "    val_acc.append(vacc)\n",
    "    train_loss.append(tloss)\n",
    "    val_loss.append(vloss)\n",
    "    ep.append(i)\n",
    "    i += 1\n"
   ]
  },
  {
   "cell_type": "code",
   "execution_count": null,
   "id": "6b468ff5-7f0d-423e-a993-768e18bbb063",
   "metadata": {},
   "outputs": [],
   "source": [
    "n = len(train_loss) # number of epochs\n",
    "plt.figure()\n",
    "plt.title(\"Train vs Validation Loss\")\n",
    "plt.plot(range(1,n+1), train_loss, label=\"Train\")\n",
    "plt.plot(range(1,n+1), val_loss, label=\"Validation\")\n",
    "plt.xlabel(\"Epoch\")\n",
    "plt.ylabel(\"Loss\")\n",
    "plt.legend(loc='best')\n",
    "# plt.show()\n",
    "\n",
    "plt.figure()\n",
    "plt.title(\"Train vs Validation Accuracy\")\n",
    "plt.plot(range(1,n+1), train_acc, label=\"Train\")\n",
    "plt.plot(range(1,n+1), val_acc, label=\"Validation\")\n",
    "plt.xlabel(\"Epoch\")\n",
    "plt.ylabel(\"Accuracy\")\n",
    "plt.legend(loc='best')"
   ]
  },
  {
   "cell_type": "code",
   "execution_count": null,
   "id": "7de85610-13b3-4e2b-ac33-0ff43aceb6fd",
   "metadata": {},
   "outputs": [],
   "source": [
    "for mfcc, speakers in train_loader:\n",
    "    break"
   ]
  },
  {
   "cell_type": "code",
   "execution_count": null,
   "id": "06957a55-4718-45e3-8068-3ae10a213ad0",
   "metadata": {},
   "outputs": [],
   "source": [
    "plt.imshow(np.transpose(mfcc[0].to('cpu').numpy(), [1, 2, 0]))"
   ]
  }
 ],
 "metadata": {
  "kernelspec": {
   "display_name": "Python 3 (ipykernel)",
   "language": "python",
   "name": "python3"
  },
  "language_info": {
   "codemirror_mode": {
    "name": "ipython",
    "version": 3
   },
   "file_extension": ".py",
   "mimetype": "text/x-python",
   "name": "python",
   "nbconvert_exporter": "python",
   "pygments_lexer": "ipython3",
   "version": "3.10.6"
  }
 },
 "nbformat": 4,
 "nbformat_minor": 5
}
