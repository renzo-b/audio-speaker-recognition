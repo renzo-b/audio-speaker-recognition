{
 "cells": [
  {
   "cell_type": "code",
   "execution_count": 1,
   "id": "ec6e5067-2050-4ba3-a4b1-a0d9122bc44c",
   "metadata": {},
   "outputs": [
    {
     "name": "stderr",
     "output_type": "stream",
     "text": [
      "/home/renzo/anaconda3/envs/dl-env/lib/python3.10/site-packages/tqdm/auto.py:22: TqdmWarning: IProgress not found. Please update jupyter and ipywidgets. See https://ipywidgets.readthedocs.io/en/stable/user_install.html\n",
      "  from .autonotebook import tqdm as notebook_tqdm\n"
     ]
    }
   ],
   "source": [
    "import copy\n",
    "\n",
    "import librosa\n",
    "import matplotlib.pyplot as plt\n",
    "import numpy as np\n",
    "import pandas as pd\n",
    "import torch\n",
    "import torch.nn as nn\n",
    "import torch.nn.functional as F\n",
    "from torchsummary import summary\n",
    "\n",
    "from tqdm import tqdm\n",
    "from torchvision import transforms, models\n",
    "from PIL import Image\n",
    "\n",
    "from sklearn.model_selection import train_test_split\n",
    "from torch.utils.data import DataLoader, Dataset\n",
    "\n",
    "from src.datasets import get_dataset\n",
    "from src.visualization import (calculate_statistics, play_audio, plot_mfccs,\n",
    "                               plot_specgram, plot_waveform,\n",
    "                               visualize_random_sample)"
   ]
  },
  {
   "cell_type": "markdown",
   "id": "c20ea269-4993-4d42-a4b5-9e041fab18da",
   "metadata": {},
   "source": [
    "## Problem Definition"
   ]
  },
  {
   "cell_type": "markdown",
   "id": "d4024e60-7357-430f-87a4-d8430e9f2802",
   "metadata": {},
   "source": [
    "## Dataset\n",
    "LIBRISPEECH\n",
    "LibriSpeech is a corpus of approximately 1000 hours of 16kHz read English speech, prepared by Vassil Panayotov with the assistance of Daniel Povey. The data is derived from read audiobooks from the LibriVox project, and has been carefully segmented and aligned.\n",
    "\n",
    "Section contents:\n",
    "- Visualize random sample\n",
    "- Calculate dataset statistics"
   ]
  },
  {
   "cell_type": "code",
   "execution_count": 2,
   "id": "5c8fede5-1e69-493a-9726-81a848a1629a",
   "metadata": {
    "tags": []
   },
   "outputs": [
    {
     "name": "stdout",
     "output_type": "stream",
     "text": [
      "You're about to download librispeech with url train-clean-100\n",
      "\n",
      " Done downloading\n"
     ]
    }
   ],
   "source": [
    "dataset_name = \"librispeech\"\n",
    "url = 'train-clean-100'\n",
    "dataset = get_dataset(dataset_name, url=url)"
   ]
  },
  {
   "cell_type": "markdown",
   "id": "40f7d76b-aa2e-48ea-b90a-794d4249a39e",
   "metadata": {},
   "source": [
    "#### Visualizing data in random sample"
   ]
  },
  {
   "cell_type": "code",
   "execution_count": 3,
   "id": "96c48bf2-281d-4c6c-9c1c-cb1691c02402",
   "metadata": {},
   "outputs": [],
   "source": [
    "# visualize_random_sample(dataset, plot_wave=True, plot_spectogram=True)"
   ]
  },
  {
   "cell_type": "markdown",
   "id": "3b15b323-e456-4cd8-bc33-314c9d944827",
   "metadata": {},
   "source": [
    "#### Calculate statistics in dataset"
   ]
  },
  {
   "cell_type": "code",
   "execution_count": 4,
   "id": "d2fa38e5-1325-4499-989f-5d8e18bdcef3",
   "metadata": {},
   "outputs": [],
   "source": [
    "# waveform_lengths = []\n",
    "# sample_rates = []\n",
    "# transcript_lengths = []\n",
    "# speaker_ids = []\n",
    "# audio_durations = []\n",
    "# waveforms = []\n",
    "# transcripts = []\n",
    "\n",
    "# for i in tqdm(range(dataset.__len__())):\n",
    "#     (waveform, sample_rate, transcript, speaker_id, chapter_id, utterance_id) = dataset.__getitem__(i)\n",
    "#     speaker_ids.append(speaker_id)\n",
    "\n",
    "    # waveform_lengths.append(waveform[0].shape[0])\n",
    "    # sample_rates.append(sample_rate)\n",
    "    # transcript_lengths.append(len(transcript))\n",
    "    # waveforms.append(waveform[0].numpy())\n",
    "    # transcripts.append(transcript)\n",
    "\n",
    "    # num_channels, num_frames = waveform.shape\n",
    "    # duration = num_frames / sample_rate\n",
    "    # audio_durations.append(duration)\n",
    "\n",
    "# dataset_stats = pd.DataFrame.from_dict(\n",
    "# {\n",
    "#     \"waveform_lengths\" : waveform_lengths,\n",
    "#     \"sample_rates\" : sample_rates,\n",
    "#     \"transcript_lengths\" : transcript_lengths,\n",
    "#     \"audio_durations\" : audio_durations,\n",
    "# }\n",
    "#     )"
   ]
  },
  {
   "cell_type": "code",
   "execution_count": 5,
   "id": "120913c7-7f1a-4ce8-bd79-561b11d6a1bd",
   "metadata": {
    "tags": []
   },
   "outputs": [],
   "source": [
    "# df_spkr = pd.DataFrame(columns=['speaker_id', 'duration'])\n",
    "# df_spkr['speaker_id'] = speaker_ids\n",
    "# # df_spkr['duration'] = audio_durations"
   ]
  },
  {
   "cell_type": "code",
   "execution_count": 6,
   "id": "a361612f-aa53-4c27-8aae-3e2d05826802",
   "metadata": {},
   "outputs": [],
   "source": [
    "# df_spkr.to_csv('df_speaker_ids.csv')"
   ]
  },
  {
   "cell_type": "code",
   "execution_count": 3,
   "id": "e4f2d8e5-0d58-4b78-9590-76ed77cbbf8a",
   "metadata": {},
   "outputs": [],
   "source": [
    "df_spkr = pd.read_csv('df_speaker_ids.csv')"
   ]
  },
  {
   "cell_type": "markdown",
   "id": "93744c44-df17-449b-939b-e8f3be7e1abf",
   "metadata": {},
   "source": [
    "Because on average the duration of each speaker is 4.8 or higher, we decided to use a window_size of 4 seconds. Samples shorter than 4 seconds will be removed from the dataset"
   ]
  },
  {
   "cell_type": "code",
   "execution_count": 8,
   "id": "1df5bcb5-42a8-49fd-a128-4e420d36d0e6",
   "metadata": {},
   "outputs": [],
   "source": [
    "# df_spkr.groupby('speaker_id').mean().sort_values(by='duration', ascending=True)"
   ]
  },
  {
   "cell_type": "markdown",
   "id": "2243e5db-e8c0-47be-9771-308c91fbfdc0",
   "metadata": {},
   "source": [
    "Number of samples for each speaker"
   ]
  },
  {
   "cell_type": "code",
   "execution_count": 9,
   "id": "290a11a7-a729-4914-910d-3fcaadab4d53",
   "metadata": {},
   "outputs": [],
   "source": [
    "# df_spkr.groupby('speaker_id').size().sort_values()"
   ]
  },
  {
   "cell_type": "code",
   "execution_count": 10,
   "id": "54059c1d-2ca5-4faf-8e82-4e3f7609397e",
   "metadata": {},
   "outputs": [],
   "source": [
    "# df = calculate_statistics(dataset)"
   ]
  },
  {
   "cell_type": "markdown",
   "id": "102617ee-b8f3-4dfa-aba7-9e628739de08",
   "metadata": {},
   "source": [
    "Unique speaker ids"
   ]
  },
  {
   "cell_type": "code",
   "execution_count": 12,
   "id": "a3bdd051-5a4a-4ea9-8f2c-e2b4632bbfbb",
   "metadata": {},
   "outputs": [],
   "source": [
    "# np.unique(df_spkr['speaker_id'])"
   ]
  },
  {
   "cell_type": "markdown",
   "id": "47e13cbb-4888-4b39-b147-bd79a407cbcf",
   "metadata": {},
   "source": [
    "Visualize spectrograms"
   ]
  },
  {
   "cell_type": "code",
   "execution_count": null,
   "id": "368b4960-7c18-4ac9-b856-2e0fcf2e4be7",
   "metadata": {},
   "outputs": [],
   "source": [
    "# df_speaker_waveform = pd.DataFrame(columns=['speaker_id', 'waveform', 'transcript'])\n",
    "# df_speaker_waveform['speaker_id'] = speaker_ids\n",
    "# df_speaker_waveform['waveform'] = waveforms\n",
    "# df_speaker_waveform['transcript'] = transcripts"
   ]
  },
  {
   "cell_type": "code",
   "execution_count": null,
   "id": "f1460052-4def-4d19-8cff-15142743e306",
   "metadata": {},
   "outputs": [],
   "source": [
    "# df_speaker_waveform[df_speaker_waveform['speaker_id']==84].head()"
   ]
  },
  {
   "cell_type": "code",
   "execution_count": null,
   "id": "a747ea29-ed46-4d1c-b66b-ae092e53d8a6",
   "metadata": {},
   "outputs": [],
   "source": [
    "# num_cols = 3\n",
    "# for speaker_id in np.unique(df_speaker_waveform['speaker_id'])[:8]:\n",
    "#     fig, ax = plt.subplots(1, num_cols, figsize=(12, 3))\n",
    "#     waves = df_speaker_waveform[df_speaker_waveform['speaker_id']==speaker_id]['waveform'].values\n",
    "#     idx = df_speaker_waveform[df_speaker_waveform['speaker_id']==speaker_id]['waveform'].index\n",
    "#     for j, wave in enumerate(waves[:num_cols]):\n",
    "#         ax[j].specgram(wave, Fs=sample_rate)\n",
    "#         ax[j].set_title(f'speaker {speaker_id}, df.index: {idx[j]}')\n",
    "\n",
    "#         plt.tight_layout()"
   ]
  },
  {
   "cell_type": "markdown",
   "id": "96f6eaa1-4cc4-41dc-a552-b05a9635e7eb",
   "metadata": {},
   "source": [
    "Visualize MFCC spectrograms"
   ]
  },
  {
   "cell_type": "code",
   "execution_count": null,
   "id": "384cfced-73d2-4b13-9196-87266d078061",
   "metadata": {},
   "outputs": [],
   "source": [
    "# num_cols = 3\n",
    "# for speaker_id in np.unique(df_speaker_waveform['speaker_id'])[:8]:\n",
    "#     fig, ax = plt.subplots(1, num_cols, figsize=(12, 3))\n",
    "#     waves = df_speaker_waveform[df_speaker_waveform['speaker_id']==speaker_id]['waveform'].values\n",
    "#     idx = df_speaker_waveform[df_speaker_waveform['speaker_id']==speaker_id]['waveform'].index\n",
    "#     for j, wave in enumerate(waves[:num_cols]):\n",
    "#         mfccs = librosa.feature.mfcc(y=wave.flatten(), n_mfcc=13, sr=sample_rate)\n",
    "#         img = librosa.display.specshow(mfccs, x_axis=\"time\", sr=sample_rate, ax=ax[j])\n",
    "#         ax[j].set_title(f'speaker: {speaker_id}, df.index: {idx[j]}')\n",
    "#         fig.colorbar(img, ax=ax[j], format=\"%+2.f dB\")\n",
    "#     plt.tight_layout()"
   ]
  },
  {
   "cell_type": "markdown",
   "id": "89f20275-84b6-443b-b502-49132582cd5f",
   "metadata": {},
   "source": [
    "## Preprocessing"
   ]
  },
  {
   "cell_type": "markdown",
   "id": "85505199-318a-4da0-96fe-cb20aa02bb61",
   "metadata": {},
   "source": [
    "We decided to normalize our data by using the mean and variance of the amplitude. The normalizer is fitted on the whole training set, not for each speaker. The reasoning for this is that in our problem, we do not know ahead of time who the speaker is."
   ]
  },
  {
   "cell_type": "code",
   "execution_count": 4,
   "id": "bdaf1a83-d532-4f75-8292-42b21b582c95",
   "metadata": {},
   "outputs": [],
   "source": [
    "def speaker_encoder(speaker_ids):\n",
    "    speaker_dict = {}\n",
    "    for i, speaker_id in enumerate(speaker_ids):\n",
    "        speaker_dict[speaker_id] = i\n",
    "        \n",
    "    return speaker_dict"
   ]
  },
  {
   "cell_type": "code",
   "execution_count": 5,
   "id": "0fbd8797-35b1-4a7c-abc3-c5d54a977290",
   "metadata": {},
   "outputs": [],
   "source": [
    "def create_mfcc_databases(dataset, window_size : int, sample_rate : int, speaker_dict : dict, number_spectral_coefficients : int):\n",
    "    \"\"\"\n",
    "    Creates two databases from an audio dataset e.g. librispeech\n",
    "    \n",
    "    Returns\n",
    "    -------\n",
    "    speaker_mfcc_db : pd.DataFrame \n",
    "        df with shape (index_id, speaker_id, mfcc_id)\n",
    "    \n",
    "    mfcc_channel_db : pd.DataFrame\n",
    "        df with shape (mfcc_id, channel_id)\n",
    "    \n",
    "    \"\"\"\n",
    "    try:\n",
    "        speaker_mfcc_db = pd.read_pickle(f'speaker_mfcc_db_{window_size}_{sample_rate}_{number_spectral_coefficients}.pkl')\n",
    "        mfcc_channel_db = pd.read_pickle(f'mfcc_channel_db_{window_size}_{sample_rate}_{number_spectral_coefficients}.pkl')\n",
    "    \n",
    "    except FileNotFoundError:\n",
    "        speaker_mfcc_db = pd.DataFrame(columns=[\"speaker_id\", \"mfcc_id\"])\n",
    "        mfcc_channel_db = pd.DataFrame(columns=[\"mfcc_id\"]+[f\"channel_{i}\" for i in range(number_spectral_coefficients)]).set_index('mfcc_id')\n",
    "\n",
    "        idx = 0\n",
    "\n",
    "        print('Creating a database. Hold tight...')\n",
    "        for i in tqdm(range(dataset.__len__())):\n",
    "            (waveform, sample_rate, transcript, speaker_id, chapter_id, utterance_id) = dataset.__getitem__(i)\n",
    "            waveform_arr = waveform.numpy().flatten()\n",
    "            splitted_waveform = split_waveform(waveform_arr, window_size) # split waveforms into consistent chunks\n",
    "\n",
    "            for chunk in splitted_waveform: # transform waveforms into MFCC spectrograms\n",
    "                mfccs = librosa.feature.mfcc(y=chunk.flatten(), n_mfcc=13, sr=sample_rate)\n",
    "\n",
    "                speaker_mfcc_db.loc[idx, \"speaker_id\"] = speaker_dict[speaker_id]\n",
    "                speaker_mfcc_db.loc[idx, \"mfcc_id\"] = idx\n",
    "\n",
    "                for j in range(number_spectral_coefficients):\n",
    "                    mfcc_channel_db.loc[idx, f\"channel_{j}\"] = 1\n",
    "                    mfcc_channel_db.at[idx, f\"channel_{j}\"] = mfccs[j, :]\n",
    "                \n",
    "                idx += 1\n",
    "\n",
    "        speaker_mfcc_db.to_pickle(f'speaker_mfcc_db_{window_size}_{sample_rate}_{number_spectral_coefficients}.pkl')\n",
    "        mfcc_channel_db.to_pickle(f'mfcc_channel_db_{window_size}_{sample_rate}_{number_spectral_coefficients}.pkl')\n",
    "\n",
    "    return speaker_mfcc_db, mfcc_channel_db"
   ]
  },
  {
   "cell_type": "code",
   "execution_count": 6,
   "id": "c4a64272-d461-413c-81ac-ec7485fe353b",
   "metadata": {},
   "outputs": [],
   "source": [
    "def get_datasets(base_dataset, speaker_dict : dict, window_size : int, sample_rate : int, train_pct : float, \n",
    "                 val_pct : float, test_pct : float, number_spectral_coefficients : int, cepstral_normalize : bool, transform=None):\n",
    "    \"\"\"\n",
    "    Wrapper around other functions to create datasets\n",
    "    \n",
    "    Inputs\n",
    "    -----\n",
    "    \n",
    "    base_dataset : \n",
    "        A pytorch audio dataset like librispeech\n",
    "    \n",
    "    speaker_dict : dict\n",
    "        dictionary of {'speaker_id':encoded_id} pairs          \n",
    "\n",
    "    window_size : int\n",
    "        window size to be used to consistently split waveforms\n",
    "\n",
    "    sample_rate : int\n",
    "        sample rate in kHz\n",
    "\n",
    "    train_pct : float\n",
    "        train percentage\n",
    "    \n",
    "    val_pct : float\n",
    "        validation percentage\n",
    "\n",
    "    test_pct : float\n",
    "        Test percentage\n",
    "\n",
    "    number_spectral_coefficients : int\n",
    "        number of spectral coefficients to keep for the MFCC calculation\n",
    "        \n",
    "    normalize : bool\n",
    "        whether to apply cepstral normalization\n",
    "        \n",
    "    transform : \n",
    "        a custom transformation to apply to the dataset\n",
    "\n",
    "    \"\"\"\n",
    "    speaker_mfcc_db, mfcc_channel_db = create_mfcc_databases(base_dataset, window_size=window_size, sample_rate=sample_rate, speaker_dict=speaker_dict, number_spectral_coefficients=number_spectral_coefficients)\n",
    "\n",
    "    train_ids, val_ids, test_ids = split_train_test_val(speaker_mfcc_db, train_pct, val_pct, test_pct)\n",
    "    \n",
    "    speaker_mfcc_db_train = speaker_mfcc_db.loc[train_ids]\n",
    "    speaker_mfcc_db_val = speaker_mfcc_db.loc[val_ids]\n",
    "    speaker_mfcc_db_test = speaker_mfcc_db.loc[test_ids]\n",
    "    \n",
    "    if cepstral_normalize:\n",
    "        cepstral_normalization = CepstralNormalization(number_spectral_coefficients)\n",
    "        cepstral_normalization.fit(speaker_mfcc_db_train['mfcc_id'].values, mfcc_channel_db)\n",
    "        mfcc_channel_db = cepstral_normalization.transform(speaker_mfcc_db_train['mfcc_id'].values, mfcc_channel_db)\n",
    "        mfcc_channel_db = cepstral_normalization.transform(speaker_mfcc_db_val['mfcc_id'].values, mfcc_channel_db)\n",
    "        mfcc_channel_db = cepstral_normalization.transform(speaker_mfcc_db_test['mfcc_id'].values, mfcc_channel_db)\n",
    "        \n",
    "    mfcc_channel_db_train = mfcc_channel_db.loc[speaker_mfcc_db_train['mfcc_id'].values]\n",
    "    mfcc_channel_db_val = mfcc_channel_db.loc[speaker_mfcc_db_val['mfcc_id'].values]\n",
    "    mfcc_channel_db_test = mfcc_channel_db.loc[speaker_mfcc_db_test['mfcc_id'].values]\n",
    "    \n",
    "    mfcc_dataset_train = MFCCData(speaker_mfcc_db_train, mfcc_channel_db_train, transform=transform)\n",
    "    mfcc_dataset_val = MFCCData(speaker_mfcc_db_val, mfcc_channel_db_val, transform=transform)\n",
    "    mfcc_dataset_test = MFCCData(speaker_mfcc_db_test, mfcc_channel_db_test, transform=transform)\n",
    "    \n",
    "    torch.save(mfcc_dataset_train, 'mfcc_dataset_train.pt')\n",
    "    torch.save(mfcc_dataset_val, 'mfcc_dataset_val.pt')\n",
    "    torch.save(mfcc_dataset_test, 'mfcc_dataset_test.pt')\n",
    "\n",
    "    return mfcc_dataset_train, mfcc_dataset_val, mfcc_dataset_test"
   ]
  },
  {
   "cell_type": "code",
   "execution_count": 7,
   "id": "3146596f-9d8c-457e-9e2e-13fe3df92d76",
   "metadata": {},
   "outputs": [],
   "source": [
    "def split_waveform(waveform : np.array, window_size : int) -> list[np.array]:\n",
    "    \"\"\"\n",
    "    Takes an original waveform and reduce to chunks of smaller intervals using a sliding window\n",
    "    \n",
    "    waveform : nd.array\n",
    "    \n",
    "    window_size : int\n",
    "        window size in seconds\n",
    "    \n",
    "    Returns\n",
    "    -------\n",
    "    splitted_waveform : list[nd.array]\n",
    "        list of waverforms\n",
    "    \n",
    "    \"\"\"\n",
    "    splitted_waveform = []\n",
    "    \n",
    "    for i in range(0, len(waveform), window_size):\n",
    "        split = waveform[i:i+window_size]\n",
    "        if len(split) == window_size:\n",
    "            splitted_waveform.append(split)\n",
    "\n",
    "    return splitted_waveform\n",
    "\n",
    "\n",
    "class CepstralNormalization:\n",
    "    def __init__(self, number_spectral_coefficients : int):\n",
    "        \"\"\"\n",
    "        \"\"\"\n",
    "        self.number_spectral_coefficients = number_spectral_coefficients\n",
    "        self.mfcc_mean : list[float] | None = None\n",
    "        self.mfcc_std : list[float] | None = None\n",
    "    \n",
    "    def fit(self, mfcc_ids, mfcc_channel_db):\n",
    "        \"\"\"\n",
    "        \"\"\"\n",
    "        mfcc_mean = []\n",
    "        mfcc_std = []\n",
    "        \n",
    "        print('Normalizing...')\n",
    "        for channel in tqdm(range(self.number_spectral_coefficients)):\n",
    "            channel_data = mfcc_channel_db.loc[mfcc_ids][f\"channel_{channel}\"].values\n",
    "            channel_data_list = []\n",
    "            for x in channel_data:\n",
    "                channel_data_list.extend(x.flatten().tolist())\n",
    "            \n",
    "            mfcc_mean.append(np.mean(channel_data_list))\n",
    "            mfcc_std.append(np.std(channel_data_list))\n",
    "\n",
    "        self.mfcc_mean, self.mfcc_std = mfcc_mean, mfcc_std\n",
    "        \n",
    "        return self.mfcc_mean, self.mfcc_std\n",
    "    \n",
    "    def transform(self, mfcc_ids, mfcc_channel_db):\n",
    "        \"\"\"\n",
    "        \"\"\"                \n",
    "        for channel in range(self.number_spectral_coefficients):\n",
    "            channel_data = mfcc_channel_db.loc[mfcc_ids][f\"channel_{channel}\"].values\n",
    "            channel_data = (channel_data - self.mfcc_mean[channel]) / self.mfcc_std[channel]\n",
    "            \n",
    "            mfcc_channel_db.loc[mfcc_ids][f\"channel_{channel}\"] = channel_data\n",
    "                \n",
    "        return mfcc_channel_db\n",
    "\n",
    "def array_to_image_transform(mfcc_arr):\n",
    "    mfcc_img = Image.fromarray(mfcc_arr, mode='L')\n",
    "    mfcc_img = np.array(mfcc_img)\n",
    "    return mfcc_img"
   ]
  },
  {
   "cell_type": "code",
   "execution_count": 8,
   "id": "17dc9537-d8e0-4e9f-930a-757f8841af94",
   "metadata": {},
   "outputs": [],
   "source": [
    "class MFCCData(Dataset):\n",
    "    def __init__(self, speaker_mfcc_db, mfcc_channel_db, transform=None):\n",
    "        \"\"\"\n",
    "        Creates a dataset of spectrograms from a dataset of waveforms\n",
    "        \n",
    "        train_test_val : str\n",
    "            one of 'train', 'validation', or 'test'\n",
    "        \"\"\"\n",
    "        self.speaker_mfcc_db = speaker_mfcc_db\n",
    "        self.mfcc_channel_db = mfcc_channel_db        \n",
    "        self.transform = transform\n",
    "            \n",
    "    def __len__(self):\n",
    "        return len(self.speaker_mfcc_db)\n",
    "\n",
    "    def __getitem__(self, idx):\n",
    "        speaker_id = self.speaker_mfcc_db.iloc[idx]['speaker_id']\n",
    "        mfcc_id = self.speaker_mfcc_db.iloc[idx]['mfcc_id']\n",
    "        \n",
    "        mfcc = []\n",
    "        for i, col in enumerate(self.mfcc_channel_db.columns):\n",
    "            mfcc_channel_i = self.mfcc_channel_db.loc[mfcc_id, f'channel_{i}']\n",
    "            mfcc.append(mfcc_channel_i)\n",
    "            \n",
    "        mfcc = np.asarray(mfcc)\n",
    "        mfcc = mfcc.reshape(len(self.mfcc_channel_db.columns), -1)\n",
    "        \n",
    "        if self.transform:\n",
    "            mfcc = array_to_image_transform(mfcc)\n",
    "            mfcc = self.transform(mfcc)\n",
    "            \n",
    "        speaker_id = torch.tensor(speaker_id) \n",
    "        mfcc = torch.tensor(mfcc) \n",
    "            \n",
    "        if torch.cuda.is_available():\n",
    "            speaker_id = speaker_id.to('cuda')\n",
    "            mfcc = mfcc.to('cuda')\n",
    "            \n",
    "        return mfcc, speaker_id"
   ]
  },
  {
   "cell_type": "code",
   "execution_count": 9,
   "id": "c1935d22-d922-4834-a2d5-3b9c3c41ba9c",
   "metadata": {},
   "outputs": [],
   "source": [
    "def split_train_test_val(speaker_mfcc_db, train_pct, val_pct, test_pct):\n",
    "    \"\"\"\n",
    "    Samples from each speaker_id must be included in each: train, val, test\n",
    "    \n",
    "    \"\"\"\n",
    "    train_ids = []\n",
    "    val_ids = []\n",
    "    test_ids = []\n",
    "    \n",
    "    for speaker_id in np.unique(speaker_mfcc_db[\"speaker_id\"].values):\n",
    "        mfcc_ids = speaker_mfcc_db[speaker_mfcc_db[\"speaker_id\"]==speaker_id][\"mfcc_id\"].sample(frac=1).tolist()\n",
    "        len_ids = len(mfcc_ids)\n",
    "        \n",
    "        train_ids.extend(mfcc_ids[:int(len_ids * train_pct)])\n",
    "        val_ids.extend(mfcc_ids[int(len_ids * train_pct):int(len_ids * (train_pct + val_pct))])\n",
    "        test_ids.extend(mfcc_ids[int(len_ids * (train_pct + val_pct)):])\n",
    "    \n",
    "    return train_ids, val_ids, test_ids"
   ]
  },
  {
   "cell_type": "code",
   "execution_count": 22,
   "id": "402724bf-ba8a-49a4-b9fe-9369a0c0db5f",
   "metadata": {},
   "outputs": [],
   "source": [
    "# preprocessing parameters\n",
    "sample_rate = 16000 # 16kHz\n",
    "window_size = 4 * sample_rate # 1 second has 16000 samples, window_size is 4 seconds\n",
    "\n",
    "batch_size = 50\n",
    "\n",
    "train_pct = 0.70\n",
    "val_pct = 0.20\n",
    "test_pct = 0.10\n",
    "number_spectral_coefficients = 13\n",
    "cepstral_normalize = True\n",
    "\n",
    "custom_transform = transforms.Compose([transforms.ToTensor()])"
   ]
  },
  {
   "cell_type": "code",
   "execution_count": null,
   "id": "a9b3bf8b-81aa-48fd-a117-65c414aa0bac",
   "metadata": {},
   "outputs": [],
   "source": [
    "speaker_dict = speaker_encoder(np.unique(df_spkr['speaker_id']))\n",
    "# mfcc_dataset_train, mfcc_dataset_val, mfcc_dataset_test = get_datasets(dataset, \n",
    "#                                                 speaker_dict=speaker_dict,\n",
    "#                                                 window_size=window_size, \n",
    "#                                                 sample_rate=sample_rate, \n",
    "#                                                 train_pct=train_pct,\n",
    "#                                                 val_pct=val_pct,\n",
    "#                                                 test_pct=test_pct,\n",
    "#                                                 number_spectral_coefficients=number_spectral_coefficients,\n",
    "#                                                 cepstral_normalize=cepstral_normalize,\n",
    "#                                                 transform=custom_transform,\n",
    "#                                                 )"
   ]
  },
  {
   "cell_type": "code",
   "execution_count": 23,
   "id": "8a109eee-793b-4d39-998e-51dd568abb28",
   "metadata": {},
   "outputs": [],
   "source": [
    "mfcc_dataset_train = torch.load('mfcc_dataset_train.pt')\n",
    "mfcc_dataset_val = torch.load('mfcc_dataset_val.pt')\n",
    "mfcc_dataset_test = torch.load('mfcc_dataset_test.pt')"
   ]
  },
  {
   "cell_type": "code",
   "execution_count": null,
   "id": "043e949d-a113-41a5-a534-5c0667068f3c",
   "metadata": {},
   "outputs": [],
   "source": []
  },
  {
   "cell_type": "code",
   "execution_count": 24,
   "id": "8a550cd0-2ec1-4f8b-82f4-5b726ac174d1",
   "metadata": {},
   "outputs": [],
   "source": [
    "train_loader = DataLoader(mfcc_dataset_train, batch_size=batch_size, shuffle=True)\n",
    "val_loader = DataLoader(mfcc_dataset_val, batch_size=batch_size, shuffle=True)\n",
    "test_loader = DataLoader(mfcc_dataset_test, batch_size=batch_size, shuffle=False)"
   ]
  },
  {
   "cell_type": "code",
   "execution_count": 13,
   "id": "fe68cbb3-45eb-4a43-9ffb-7ff343d5a759",
   "metadata": {},
   "outputs": [
    {
     "data": {
      "text/plain": [
       "(52097, 14909, 7584)"
      ]
     },
     "execution_count": 13,
     "metadata": {},
     "output_type": "execute_result"
    }
   ],
   "source": [
    "mfcc_dataset_train.__len__(), mfcc_dataset_val.__len__(), mfcc_dataset_test.__len__(), "
   ]
  },
  {
   "cell_type": "code",
   "execution_count": 14,
   "id": "34fccb02-5bf8-47db-868f-95a73feb0c66",
   "metadata": {},
   "outputs": [
    {
     "name": "stderr",
     "output_type": "stream",
     "text": [
      "/tmp/ipykernel_12883/3454332804.py:33: UserWarning: To copy construct from a tensor, it is recommended to use sourceTensor.clone().detach() or sourceTensor.clone().detach().requires_grad_(True), rather than torch.tensor(sourceTensor).\n",
      "  mfcc = torch.tensor(mfcc)\n"
     ]
    },
    {
     "data": {
      "text/plain": [
       "(torch.Size([1, 13, 126]), torch.Size([]))"
      ]
     },
     "execution_count": 14,
     "metadata": {},
     "output_type": "execute_result"
    }
   ],
   "source": [
    "sample_mfcc, sample_speaker = mfcc_dataset_train.__getitem__(0)\n",
    "sample_mfcc.shape, sample_speaker.shape"
   ]
  },
  {
   "cell_type": "code",
   "execution_count": 15,
   "id": "f58937ba-1840-4675-a419-46fb4cd2bcf0",
   "metadata": {},
   "outputs": [
    {
     "data": {
      "text/plain": [
       "<matplotlib.image.AxesImage at 0x7f510f6ac970>"
      ]
     },
     "execution_count": 15,
     "metadata": {},
     "output_type": "execute_result"
    },
    {
     "data": {
      "image/png": "[encoded data removed]",
      "text/plain": [
       "<Figure size 640x480 with 1 Axes>"
      ]
     },
     "metadata": {},
     "output_type": "display_data"
    }
   ],
   "source": [
    "plt.imshow(np.transpose(sample_mfcc.to('cpu').numpy(), [1, 2, 0]))"
   ]
  },
  {
   "cell_type": "markdown",
   "id": "6955efff-b90a-40d9-9187-9f7577752e1c",
   "metadata": {},
   "source": [
    "## Model Training"
   ]
  },
  {
   "cell_type": "code",
   "execution_count": 16,
   "id": "5c9bd128-f7db-4644-b0bc-ea4d8d735a31",
   "metadata": {},
   "outputs": [],
   "source": [
    "def evaluate(model, loader, criterion):\n",
    "    \"\"\" Evaluate the network on the validation set.\n",
    "\n",
    "     Args:\n",
    "         net: PyTorch neural network object\n",
    "         loader: PyTorch data loader for the validation set\n",
    "         criterion: The loss function\n",
    "     Returns:\n",
    "         err: A scalar for the avg classification error over the validation set\n",
    "         loss: A scalar for the average loss function over the validation set\n",
    "     \"\"\"\n",
    "    total_loss = 0.0\n",
    "    total_epoch = 0\n",
    "    val_acc = []\n",
    "\n",
    "    for i, data in enumerate(loader, 0):\n",
    "        mfcc, speakers = data\n",
    "        outputs = model(mfcc)\n",
    "        \n",
    "        loss = criterion(outputs, speakers)\n",
    "        total_loss += loss.item()\n",
    "        total_epoch += len(speakers)\n",
    "        val_acc.append(get_accuracy(output=outputs, mfcc=mfcc, speakers=speakers))\n",
    "        \n",
    "    loss = float(total_loss) / (i + 1)\n",
    "    val_acc = np.mean(val_acc)\n",
    "    return loss, val_acc\n",
    "\n",
    "def get_accuracy(output, mfcc, speakers):\n",
    "    #select index with maximum prediction score\n",
    "    correct = 0\n",
    "    total = 0\n",
    "    pred = output.max(1, keepdim=True)[1]\n",
    "    correct += pred.eq(speakers.view_as(pred)).sum().item()\n",
    "    total += mfcc.shape[0]\n",
    "    return correct / total\n",
    "\n",
    "def train_model(model, train_loader, val_loader, batch_size, num_epochs, criterion, optimizer, print_every=2, plot_loss=True):\n",
    "    train_loss = np.zeros(num_epochs)\n",
    "    val_loss = np.zeros(num_epochs)\n",
    "    train_acc = np.zeros(num_epochs)\n",
    "    val_acc = np.zeros(num_epochs)\n",
    "        \n",
    "    if torch.cuda.is_available():\n",
    "        model = model.to(torch.device('cuda:0'))\n",
    "    \n",
    "    for epoch in range(num_epochs): \n",
    "        total_train_loss = 0.0\n",
    "        total_epoch = 0\n",
    "        total_train_acc = []\n",
    "        correct = 0.0\n",
    "        total = 0.0\n",
    "        \n",
    "        for i, data in enumerate(train_loader):\n",
    "            mfcc, speakers = data\n",
    "            \n",
    "            # zero the parameter gradients\n",
    "            optimizer.zero_grad()\n",
    "            \n",
    "            # Forward pass, backward pass, and optimize\n",
    "            outputs = model(mfcc)\n",
    "            loss = criterion(outputs, speakers)\n",
    "            loss.backward()\n",
    "            optimizer.step()\n",
    "            \n",
    "            # Calculate the statistics\n",
    "            total_train_loss += loss.item()\n",
    "            total_epoch += len(speakers)\n",
    "            total_train_acc.append(get_accuracy(output=outputs, mfcc=mfcc, speakers=speakers))\n",
    "            \n",
    "        train_loss[epoch] = float(total_train_loss) / (i+1)\n",
    "        train_acc[epoch] = np.mean(total_train_acc)        \n",
    "        val_loss[epoch], val_acc[epoch] = evaluate(model, val_loader, criterion)\n",
    "        \n",
    "        if epoch % print_every == 0:    \n",
    "            print(f\"Epoch {epoch}: \\n \\\n",
    "            Train loss {train_loss[epoch]:.3f} | Val loss {val_loss[epoch]:.3f} \\n \\\n",
    "            Train acc {train_acc[epoch]:.3f} | Val acc {val_acc[epoch]:.3f} \\n\")\n",
    "            \n",
    "            \n",
    "    if plot_loss:\n",
    "        n = len(train_loss) # number of epochs\n",
    "        plt.figure()\n",
    "        plt.title(\"Train vs Validation Loss\")\n",
    "        plt.plot(range(1,n+1), train_loss, label=\"Train\")\n",
    "        plt.plot(range(1,n+1), val_loss, label=\"Validation\")\n",
    "        plt.xlabel(\"Epoch\")\n",
    "        plt.ylabel(\"Loss\")\n",
    "        plt.legend(loc='best')\n",
    "        # plt.show()\n",
    "\n",
    "        plt.figure()\n",
    "        plt.title(\"Train vs Validation Accuracy\")\n",
    "        plt.plot(range(1,n+1), train_acc, label=\"Train\")\n",
    "        plt.plot(range(1,n+1), val_acc, label=\"Validation\")\n",
    "        plt.xlabel(\"Epoch\")\n",
    "        plt.ylabel(\"Accuracy\")\n",
    "        plt.legend(loc='best')   "
   ]
  },
  {
   "cell_type": "code",
   "execution_count": 17,
   "id": "735bfed3-71b5-444b-94e6-8cb2f8c68be7",
   "metadata": {},
   "outputs": [],
   "source": [
    "class FCN(nn.Module):\n",
    "    def __init__(self, input_layers, hidden_layers, output_size):\n",
    "        super(FCN, self).__init__()\n",
    "\n",
    "        self.fc1 = nn.Linear(3 * 11 * 124, hidden_layers)\n",
    "        self.fc2 = nn.Linear(hidden_layers, output_size)\n",
    "\n",
    "    def forward(self, x):\n",
    "        x = x.float()\n",
    "        x = x.view(-1, 13 * 126)\n",
    "        x = F.relu(self.fc1(x))\n",
    "        x = self.fc2(x)\n",
    "        return x"
   ]
  },
  {
   "cell_type": "code",
   "execution_count": 18,
   "id": "c2955d4c-317d-4f04-a91e-653456210aa4",
   "metadata": {},
   "outputs": [],
   "source": [
    "class CNN(nn.Module):\n",
    "    def __init__(self, hidden_layers, output_size):\n",
    "        super(CNN, self).__init__()\n",
    "\n",
    "        self.conv1 = nn.Conv2d(in_channels=1, out_channels=1, kernel_size=1, padding=0)\n",
    "        self.conv2 = nn.Conv2d(in_channels=1, out_channels=1, kernel_size=3, padding=1)\n",
    "        self.fc1 = nn.Linear(1 * 13 * 126, hidden_layers)\n",
    "        self.fc2 = nn.Linear(hidden_layers, output_size)\n",
    "\n",
    "    def forward(self, x):\n",
    "        x = x.float()\n",
    "        x = self.conv1(x)\n",
    "        x = F.relu(x)\n",
    "        x = self.conv2(x)\n",
    "        x = F.relu(x)\n",
    "        x = x.view(-1, 1 * 13 * 126)\n",
    "        x = F.relu(self.fc1(x))\n",
    "        x = self.fc2(x)\n",
    "        return x"
   ]
  },
  {
   "cell_type": "code",
   "execution_count": 25,
   "id": "461aa166-0a56-4ef4-b121-36e3d14812b3",
   "metadata": {},
   "outputs": [],
   "source": [
    "# model hyperparameters\n",
    "hidden_layers = 100\n",
    "output_size = 40\n",
    "lr = 0.01\n",
    "momentum = 0.9\n",
    "num_epochs = 30\n",
    "\n",
    "model = CNN(hidden_layers=hidden_layers, output_size=output_size)\n",
    "criterion = nn.CrossEntropyLoss()\n",
    "optimizer = torch.optim.SGD(model.parameters(), lr=lr, momentum=momentum)\n",
    "num_epochs = num_epochs"
   ]
  },
  {
   "cell_type": "code",
   "execution_count": 26,
   "id": "6d3cdaee-66f7-46fe-81e9-bc6a3c8d87c6",
   "metadata": {},
   "outputs": [
    {
     "ename": "RuntimeError",
     "evalue": "CUDA error: device-side assert triggered\nCUDA kernel errors might be asynchronously reported at some other API call,so the stacktrace below might be incorrect.\nFor debugging consider passing CUDA_LAUNCH_BLOCKING=1.",
     "output_type": "error",
     "traceback": [
      "\u001b[0;31m---------------------------------------------------------------------------\u001b[0m",
      "\u001b[0;31mRuntimeError\u001b[0m                              Traceback (most recent call last)",
      "Cell \u001b[0;32mIn [26], line 1\u001b[0m\n\u001b[0;32m----> 1\u001b[0m train_model(model, train_loader, val_loader, batch_size, num_epochs, criterion, optimizer, print_every\u001b[38;5;241m=\u001b[39m\u001b[38;5;241m2\u001b[39m)\n",
      "Cell \u001b[0;32mIn [16], line 45\u001b[0m, in \u001b[0;36mtrain_model\u001b[0;34m(model, train_loader, val_loader, batch_size, num_epochs, criterion, optimizer, print_every, plot_loss)\u001b[0m\n\u001b[1;32m     42\u001b[0m val_acc \u001b[38;5;241m=\u001b[39m np\u001b[38;5;241m.\u001b[39mzeros(num_epochs)\n\u001b[1;32m     44\u001b[0m \u001b[38;5;28;01mif\u001b[39;00m torch\u001b[38;5;241m.\u001b[39mcuda\u001b[38;5;241m.\u001b[39mis_available():\n\u001b[0;32m---> 45\u001b[0m     model \u001b[38;5;241m=\u001b[39m \u001b[43mmodel\u001b[49m\u001b[38;5;241;43m.\u001b[39;49m\u001b[43mto\u001b[49m\u001b[43m(\u001b[49m\u001b[43mtorch\u001b[49m\u001b[38;5;241;43m.\u001b[39;49m\u001b[43mdevice\u001b[49m\u001b[43m(\u001b[49m\u001b[38;5;124;43m'\u001b[39;49m\u001b[38;5;124;43mcuda:0\u001b[39;49m\u001b[38;5;124;43m'\u001b[39;49m\u001b[43m)\u001b[49m\u001b[43m)\u001b[49m\n\u001b[1;32m     47\u001b[0m \u001b[38;5;28;01mfor\u001b[39;00m epoch \u001b[38;5;129;01min\u001b[39;00m \u001b[38;5;28mrange\u001b[39m(num_epochs): \n\u001b[1;32m     48\u001b[0m     total_train_loss \u001b[38;5;241m=\u001b[39m \u001b[38;5;241m0.0\u001b[39m\n",
      "File \u001b[0;32m~/anaconda3/envs/dl-env/lib/python3.10/site-packages/torch/nn/modules/module.py:987\u001b[0m, in \u001b[0;36mModule.to\u001b[0;34m(self, *args, **kwargs)\u001b[0m\n\u001b[1;32m    983\u001b[0m         \u001b[38;5;28;01mreturn\u001b[39;00m t\u001b[38;5;241m.\u001b[39mto(device, dtype \u001b[38;5;28;01mif\u001b[39;00m t\u001b[38;5;241m.\u001b[39mis_floating_point() \u001b[38;5;129;01mor\u001b[39;00m t\u001b[38;5;241m.\u001b[39mis_complex() \u001b[38;5;28;01melse\u001b[39;00m \u001b[38;5;28;01mNone\u001b[39;00m,\n\u001b[1;32m    984\u001b[0m                     non_blocking, memory_format\u001b[38;5;241m=\u001b[39mconvert_to_format)\n\u001b[1;32m    985\u001b[0m     \u001b[38;5;28;01mreturn\u001b[39;00m t\u001b[38;5;241m.\u001b[39mto(device, dtype \u001b[38;5;28;01mif\u001b[39;00m t\u001b[38;5;241m.\u001b[39mis_floating_point() \u001b[38;5;129;01mor\u001b[39;00m t\u001b[38;5;241m.\u001b[39mis_complex() \u001b[38;5;28;01melse\u001b[39;00m \u001b[38;5;28;01mNone\u001b[39;00m, non_blocking)\n\u001b[0;32m--> 987\u001b[0m \u001b[38;5;28;01mreturn\u001b[39;00m \u001b[38;5;28;43mself\u001b[39;49m\u001b[38;5;241;43m.\u001b[39;49m\u001b[43m_apply\u001b[49m\u001b[43m(\u001b[49m\u001b[43mconvert\u001b[49m\u001b[43m)\u001b[49m\n",
      "File \u001b[0;32m~/anaconda3/envs/dl-env/lib/python3.10/site-packages/torch/nn/modules/module.py:639\u001b[0m, in \u001b[0;36mModule._apply\u001b[0;34m(self, fn)\u001b[0m\n\u001b[1;32m    637\u001b[0m \u001b[38;5;28;01mdef\u001b[39;00m \u001b[38;5;21m_apply\u001b[39m(\u001b[38;5;28mself\u001b[39m, fn):\n\u001b[1;32m    638\u001b[0m     \u001b[38;5;28;01mfor\u001b[39;00m module \u001b[38;5;129;01min\u001b[39;00m \u001b[38;5;28mself\u001b[39m\u001b[38;5;241m.\u001b[39mchildren():\n\u001b[0;32m--> 639\u001b[0m         \u001b[43mmodule\u001b[49m\u001b[38;5;241;43m.\u001b[39;49m\u001b[43m_apply\u001b[49m\u001b[43m(\u001b[49m\u001b[43mfn\u001b[49m\u001b[43m)\u001b[49m\n\u001b[1;32m    641\u001b[0m     \u001b[38;5;28;01mdef\u001b[39;00m \u001b[38;5;21mcompute_should_use_set_data\u001b[39m(tensor, tensor_applied):\n\u001b[1;32m    642\u001b[0m         \u001b[38;5;28;01mif\u001b[39;00m torch\u001b[38;5;241m.\u001b[39m_has_compatible_shallow_copy_type(tensor, tensor_applied):\n\u001b[1;32m    643\u001b[0m             \u001b[38;5;66;03m# If the new tensor has compatible tensor type as the existing tensor,\u001b[39;00m\n\u001b[1;32m    644\u001b[0m             \u001b[38;5;66;03m# the current behavior is to change the tensor in-place using `.data =`,\u001b[39;00m\n\u001b[0;32m   (...)\u001b[0m\n\u001b[1;32m    649\u001b[0m             \u001b[38;5;66;03m# global flag to let the user control whether they want the future\u001b[39;00m\n\u001b[1;32m    650\u001b[0m             \u001b[38;5;66;03m# behavior of overwriting the existing tensor or not.\u001b[39;00m\n",
      "File \u001b[0;32m~/anaconda3/envs/dl-env/lib/python3.10/site-packages/torch/nn/modules/module.py:662\u001b[0m, in \u001b[0;36mModule._apply\u001b[0;34m(self, fn)\u001b[0m\n\u001b[1;32m    658\u001b[0m \u001b[38;5;66;03m# Tensors stored in modules are graph leaves, and we don't want to\u001b[39;00m\n\u001b[1;32m    659\u001b[0m \u001b[38;5;66;03m# track autograd history of `param_applied`, so we have to use\u001b[39;00m\n\u001b[1;32m    660\u001b[0m \u001b[38;5;66;03m# `with torch.no_grad():`\u001b[39;00m\n\u001b[1;32m    661\u001b[0m \u001b[38;5;28;01mwith\u001b[39;00m torch\u001b[38;5;241m.\u001b[39mno_grad():\n\u001b[0;32m--> 662\u001b[0m     param_applied \u001b[38;5;241m=\u001b[39m \u001b[43mfn\u001b[49m\u001b[43m(\u001b[49m\u001b[43mparam\u001b[49m\u001b[43m)\u001b[49m\n\u001b[1;32m    663\u001b[0m should_use_set_data \u001b[38;5;241m=\u001b[39m compute_should_use_set_data(param, param_applied)\n\u001b[1;32m    664\u001b[0m \u001b[38;5;28;01mif\u001b[39;00m should_use_set_data:\n",
      "File \u001b[0;32m~/anaconda3/envs/dl-env/lib/python3.10/site-packages/torch/nn/modules/module.py:985\u001b[0m, in \u001b[0;36mModule.to.<locals>.convert\u001b[0;34m(t)\u001b[0m\n\u001b[1;32m    982\u001b[0m \u001b[38;5;28;01mif\u001b[39;00m convert_to_format \u001b[38;5;129;01mis\u001b[39;00m \u001b[38;5;129;01mnot\u001b[39;00m \u001b[38;5;28;01mNone\u001b[39;00m \u001b[38;5;129;01mand\u001b[39;00m t\u001b[38;5;241m.\u001b[39mdim() \u001b[38;5;129;01min\u001b[39;00m (\u001b[38;5;241m4\u001b[39m, \u001b[38;5;241m5\u001b[39m):\n\u001b[1;32m    983\u001b[0m     \u001b[38;5;28;01mreturn\u001b[39;00m t\u001b[38;5;241m.\u001b[39mto(device, dtype \u001b[38;5;28;01mif\u001b[39;00m t\u001b[38;5;241m.\u001b[39mis_floating_point() \u001b[38;5;129;01mor\u001b[39;00m t\u001b[38;5;241m.\u001b[39mis_complex() \u001b[38;5;28;01melse\u001b[39;00m \u001b[38;5;28;01mNone\u001b[39;00m,\n\u001b[1;32m    984\u001b[0m                 non_blocking, memory_format\u001b[38;5;241m=\u001b[39mconvert_to_format)\n\u001b[0;32m--> 985\u001b[0m \u001b[38;5;28;01mreturn\u001b[39;00m \u001b[43mt\u001b[49m\u001b[38;5;241;43m.\u001b[39;49m\u001b[43mto\u001b[49m\u001b[43m(\u001b[49m\u001b[43mdevice\u001b[49m\u001b[43m,\u001b[49m\u001b[43m \u001b[49m\u001b[43mdtype\u001b[49m\u001b[43m \u001b[49m\u001b[38;5;28;43;01mif\u001b[39;49;00m\u001b[43m \u001b[49m\u001b[43mt\u001b[49m\u001b[38;5;241;43m.\u001b[39;49m\u001b[43mis_floating_point\u001b[49m\u001b[43m(\u001b[49m\u001b[43m)\u001b[49m\u001b[43m \u001b[49m\u001b[38;5;129;43;01mor\u001b[39;49;00m\u001b[43m \u001b[49m\u001b[43mt\u001b[49m\u001b[38;5;241;43m.\u001b[39;49m\u001b[43mis_complex\u001b[49m\u001b[43m(\u001b[49m\u001b[43m)\u001b[49m\u001b[43m \u001b[49m\u001b[38;5;28;43;01melse\u001b[39;49;00m\u001b[43m \u001b[49m\u001b[38;5;28;43;01mNone\u001b[39;49;00m\u001b[43m,\u001b[49m\u001b[43m \u001b[49m\u001b[43mnon_blocking\u001b[49m\u001b[43m)\u001b[49m\n",
      "\u001b[0;31mRuntimeError\u001b[0m: CUDA error: device-side assert triggered\nCUDA kernel errors might be asynchronously reported at some other API call,so the stacktrace below might be incorrect.\nFor debugging consider passing CUDA_LAUNCH_BLOCKING=1."
     ]
    }
   ],
   "source": [
    "train_model(model, train_loader, val_loader, batch_size, num_epochs, criterion, optimizer, print_every=2)"
   ]
  },
  {
   "cell_type": "code",
   "execution_count": null,
   "id": "6cc1b155-3e22-4653-a275-d448e73e0048",
   "metadata": {},
   "outputs": [],
   "source": [
    "def test_model(model, test_loader):\n",
    "    correct = 0\n",
    "    total = 0\n",
    "    with torch.no_grad():\n",
    "        for data in test_loader:\n",
    "            mfcc, speakers = data\n",
    "            outputs = model(mfcc)\n",
    "            _, predicted = torch.max(outputs.data, 1)\n",
    "            total += speakers.size(0)\n",
    "            correct += (predicted == speakers).sum().item()\n",
    "\n",
    "    print(f'Accuracy: {100 * correct // total} %')"
   ]
  },
  {
   "cell_type": "code",
   "execution_count": null,
   "id": "7aac5c23-631a-446b-aadb-33205fe653bd",
   "metadata": {},
   "outputs": [],
   "source": [
    "test_model(model, test_loader)"
   ]
  },
  {
   "cell_type": "code",
   "execution_count": null,
   "id": "aaf007c7-2f74-48cd-af33-c4d9eeaf67c8",
   "metadata": {},
   "outputs": [],
   "source": [
    "for mfcc, speakers in test_loader:\n",
    "    outputs = model(mfcc)\n",
    "    _, predicted = torch.max(outputs.data, 1)\n",
    "    print(f\"predicted: {predicted}, actual: {speakers}\")"
   ]
  },
  {
   "cell_type": "markdown",
   "id": "02e2eb77-8e8a-43cd-803e-7720e7d0a2df",
   "metadata": {},
   "source": [
    "## AlexNet"
   ]
  },
  {
   "cell_type": "code",
   "execution_count": null,
   "id": "7c848ac6-a207-49da-9f3a-b1c555b4191c",
   "metadata": {
    "tags": []
   },
   "outputs": [],
   "source": [
    "alexnet = models.alexnet(pretrained=True)\n",
    "alexnet.features[0] = nn.Conv2d(1, 64, kernel_size=(11,11), stride=(4,4), padding=(2,2))"
   ]
  },
  {
   "cell_type": "code",
   "execution_count": null,
   "id": "94ca0fa3-0aac-4824-88aa-8128c5d5d9aa",
   "metadata": {},
   "outputs": [],
   "source": [
    "# Freeze model parameters\n",
    "for param in alexnet.parameters():\n",
    "    param.requires_grad = False"
   ]
  },
  {
   "cell_type": "code",
   "execution_count": null,
   "id": "5cb0118b-aeda-4b33-9587-f27fcae31d38",
   "metadata": {},
   "outputs": [],
   "source": [
    "#Modify the final output layer\n",
    "\n",
    "alexnet.classifier[6] = nn.Linear(4096, 500)\n",
    "alexnet.classifier[7] = nn.LeakyReLU()\n",
    "alexnet.classifier[8] = nn.Linear(500, 40)\n",
    "alexnet.classifier.add_module(\"9\", nn.LogSoftmax(dim = 1))\n",
    "alexnet"
   ]
  },
  {
   "cell_type": "code",
   "execution_count": null,
   "id": "29c0dfff-9061-4636-90df-0c04c8bb2a57",
   "metadata": {},
   "outputs": [],
   "source": [
    "# Define Optimizer and Loss Function\n",
    "loss_func = nn.NLLLoss()\n",
    "optimizer = torch.optim.Adam(alexnet.parameters())\n",
    "\n",
    "\n",
    "def train_and_validate(model, loss_criterion, optimizer, epochs=25):\n",
    "    '''\n",
    "    Function to train and validate\n",
    "    Parameters\n",
    "        :param model: Model to train and validate\n",
    "        :param loss_criterion: Loss Criterion to minimize\n",
    "        :param optimizer: Optimizer for computing gradients\n",
    "        :param epochs: Number of epochs (default=25)\n",
    "  \n",
    "    Returns\n",
    "        model: Trained Model with best validation accuracy\n",
    "        history: (dict object): Having training loss, accuracy and validation loss, accuracy\n",
    "    '''\n",
    "    \n",
    "    start = time.time()\n",
    "    history = []\n",
    "    best_acc = 0.0\n",
    "\n",
    "    for epoch in range(epochs):\n",
    "        epoch_start = time.time()\n",
    "        print(\"Epoch: {}/{}\".format(epoch+1, epochs))\n",
    "        \n",
    "        # Set to training mode\n",
    "        model.train()\n",
    "        \n",
    "        # Loss and Accuracy within the epoch\n",
    "        train_loss = 0.0\n",
    "        train_acc = 0.0\n",
    "        \n",
    "        valid_loss = 0.0\n",
    "        valid_acc = 0.0\n",
    "        \n",
    "        for i, (inputs, labels) in enumerate(train_loader):\n",
    "\n",
    "            inputs = inputs.to(device)\n",
    "            labels = labels.to(device)\n",
    "            \n",
    "            # Clean existing gradients\n",
    "            optimizer.zero_grad()\n",
    "            \n",
    "            # Forward pass - compute outputs on input data using the model\n",
    "            outputs = model(inputs)\n",
    "            \n",
    "            # Compute loss\n",
    "            loss = loss_criterion(outputs, labels)\n",
    "            \n",
    "            # Backpropagate the gradients\n",
    "            loss.backward()\n",
    "            \n",
    "            # Update the parameters\n",
    "            optimizer.step()\n",
    "            \n",
    "            # Compute the total loss for the batch and add it to train_loss\n",
    "            train_loss += loss.item() * inputs.size(0)\n",
    "            \n",
    "            # Compute the accuracy\n",
    "            ret, predictions = torch.max(outputs.data, 1)\n",
    "            correct_counts = predictions.eq(labels.data.view_as(predictions))\n",
    "            \n",
    "            # Convert correct_counts to float and then compute the mean\n",
    "            acc = torch.mean(correct_counts.type(torch.FloatTensor))\n",
    "            \n",
    "            # Compute total accuracy in the whole batch and add to train_acc\n",
    "            train_acc += acc.item() * inputs.size(0)\n",
    "            \n",
    "            #print(\"Batch number: {:03d}, Training: Loss: {:.4f}, Accuracy: {:.4f}\".format(i, loss.item(), acc.item()))\n",
    "\n",
    "            \n",
    "        # Validation - No gradient tracking needed\n",
    "        with torch.no_grad():\n",
    "\n",
    "            # Set to evaluation mode\n",
    "            model.eval()\n",
    "\n",
    "            # Validation loop\n",
    "            for j, (inputs, labels) in enumerate(val_loader):\n",
    "                inputs = inputs.to(device)\n",
    "                labels = labels.to(device)\n",
    "\n",
    "                # Forward pass - compute outputs on input data using the model\n",
    "                outputs = model(inputs)\n",
    "\n",
    "                # Compute loss\n",
    "                loss = loss_criterion(outputs, labels)\n",
    "\n",
    "                # Compute the total loss for the batch and add it to valid_loss\n",
    "                valid_loss += loss.item() * inputs.size(0)\n",
    "\n",
    "                # Calculate validation accuracy\n",
    "                ret, predictions = torch.max(outputs.data, 1)\n",
    "                correct_counts = predictions.eq(labels.data.view_as(predictions))\n",
    "\n",
    "                # Convert correct_counts to float and then compute the mean\n",
    "                acc = torch.mean(correct_counts.type(torch.FloatTensor))\n",
    "\n",
    "                # Compute total accuracy in the whole batch and add to valid_acc\n",
    "                valid_acc += acc.item() * inputs.size(0)\n",
    "\n",
    "                #print(\"Validation Batch number: {:03d}, Validation: Loss: {:.4f}, Accuracy: {:.4f}\".format(j, loss.item(), acc.item()))\n",
    "            \n",
    "        # Find average training loss and training accuracy\n",
    "        avg_train_loss = train_loss/2399 \n",
    "        avg_train_acc = train_acc/2399\n",
    "\n",
    "        # Find average training loss and training accuracy\n",
    "        avg_valid_loss = valid_loss/686 \n",
    "        avg_valid_acc = valid_acc/686\n",
    "\n",
    "        history.append([avg_train_loss, avg_valid_loss, avg_train_acc, avg_valid_acc])\n",
    "                \n",
    "        epoch_end = time.time()\n",
    "    \n",
    "        print(\"Epoch : {:03d}, Training: Loss: {:.4f}, Accuracy: {:.4f}%, \\n\\t\\tValidation : Loss : {:.4f}, Accuracy: {:.4f}%, Time: {:.4f}s\".format(epoch+1, avg_train_loss, avg_train_acc*100, avg_valid_loss, avg_valid_acc*100, epoch_end-epoch_start))\n",
    "        \n",
    "        # Save if the model has best accuracy till now\n",
    "        #torch.save(model, dataset+'_model_'+str(epoch)+'.pt')\n",
    "            \n",
    "    return model, history"
   ]
  },
  {
   "cell_type": "code",
   "execution_count": null,
   "id": "6f73dc03-bf89-49eb-a066-198be5a06cd3",
   "metadata": {},
   "outputs": [],
   "source": [
    "import time"
   ]
  },
  {
   "cell_type": "code",
   "execution_count": null,
   "id": "86f5df8a-9e0b-4bc8-b2ed-1f7f9504ffe1",
   "metadata": {},
   "outputs": [],
   "source": [
    "alexnet = alexnet.to('cuda')"
   ]
  },
  {
   "cell_type": "code",
   "execution_count": null,
   "id": "d127a545-4726-41ab-9b0e-c700842cadd9",
   "metadata": {},
   "outputs": [],
   "source": [
    "device = torch.device(\"cuda:0\" if torch.cuda.is_available() else \"cpu\")\n",
    "\n",
    "num_epochs = 20\n",
    "trained_model, history = train_and_validate(alexnet, loss_func, optimizer, num_epochs)"
   ]
  },
  {
   "cell_type": "code",
   "execution_count": null,
   "id": "e34566aa-8b75-4042-aff7-903df75b97dc",
   "metadata": {},
   "outputs": [],
   "source": [
    "train_acc = []\n",
    "val_acc = []\n",
    "train_loss = []\n",
    "val_loss = []\n",
    "ep = []\n",
    "i = 0\n",
    "for tacc, vacc, tloss, vloss in history:\n",
    "    train_acc.append(tacc)\n",
    "    val_acc.append(vacc)\n",
    "    train_loss.append(tloss)\n",
    "    val_loss.append(vloss)\n",
    "    ep.append(i)\n",
    "    i += 1\n"
   ]
  },
  {
   "cell_type": "code",
   "execution_count": null,
   "id": "6b468ff5-7f0d-423e-a993-768e18bbb063",
   "metadata": {},
   "outputs": [],
   "source": [
    "n = len(train_loss) # number of epochs\n",
    "plt.figure()\n",
    "plt.title(\"Train vs Validation Loss\")\n",
    "plt.plot(range(1,n+1), train_loss, label=\"Train\")\n",
    "plt.plot(range(1,n+1), val_loss, label=\"Validation\")\n",
    "plt.xlabel(\"Epoch\")\n",
    "plt.ylabel(\"Loss\")\n",
    "plt.legend(loc='best')\n",
    "# plt.show()\n",
    "\n",
    "plt.figure()\n",
    "plt.title(\"Train vs Validation Accuracy\")\n",
    "plt.plot(range(1,n+1), train_acc, label=\"Train\")\n",
    "plt.plot(range(1,n+1), val_acc, label=\"Validation\")\n",
    "plt.xlabel(\"Epoch\")\n",
    "plt.ylabel(\"Accuracy\")\n",
    "plt.legend(loc='best')"
   ]
  },
  {
   "cell_type": "code",
   "execution_count": null,
   "id": "7de85610-13b3-4e2b-ac33-0ff43aceb6fd",
   "metadata": {},
   "outputs": [],
   "source": [
    "for mfcc, speakers in train_loader:\n",
    "    break"
   ]
  },
  {
   "cell_type": "code",
   "execution_count": null,
   "id": "06957a55-4718-45e3-8068-3ae10a213ad0",
   "metadata": {},
   "outputs": [],
   "source": [
    "plt.imshow(np.transpose(mfcc[0].to('cpu').numpy(), [1, 2, 0]))"
   ]
  }
 ],
 "metadata": {
  "kernelspec": {
   "display_name": "Python 3 (ipykernel)",
   "language": "python",
   "name": "python3"
  },
  "language_info": {
   "codemirror_mode": {
    "name": "ipython",
    "version": 3
   },
   "file_extension": ".py",
   "mimetype": "text/x-python",
   "name": "python",
   "nbconvert_exporter": "python",
   "pygments_lexer": "ipython3",
   "version": "3.10.6"
  }
 },
 "nbformat": 4,
 "nbformat_minor": 5
}
